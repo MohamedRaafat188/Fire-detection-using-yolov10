{
 "cells": [
  {
   "cell_type": "markdown",
   "metadata": {},
   "source": [
    "# Fire Detection Project\n",
    "In this project we will train YOLOv10 model to detect fire and smoke in images and videos\n",
    "A question that anyone will ask himself is why we need this project. As you can notice that quite all public and private facilities have security cameras, so we can integrate this model with these cameras so we can detect fires quickly and automatically send a signal to the fire department with the degree of danger and the location of the fire either that is inside a building, in the streets, etc.\n",
    "We will follow these steps to train the model: <br>\n",
    "1- Download the dataset from roboflow <br>\n",
    "2- Explore and analyze the dataset <br>\n",
    "3- Train the model <br>\n",
    "4- Test the model <br>"
   ]
  },
  {
   "cell_type": "code",
   "execution_count": 2,
   "metadata": {},
   "outputs": [],
   "source": [
    "#Important imports\n",
    "\n",
    "from ultralytics import YOLOv10\n",
    "from roboflow import Roboflow\n",
    "import supervision as sv\n",
    "import cv2\n",
    "import os\n",
    "import shutil\n",
    "from random import shuffle"
   ]
  },
  {
   "cell_type": "markdown",
   "metadata": {},
   "source": [
    "### Download the dataset"
   ]
  },
  {
   "cell_type": "code",
   "execution_count": 3,
   "metadata": {},
   "outputs": [
    {
     "name": "stdout",
     "output_type": "stream",
     "text": [
      "loading Roboflow workspace...\n",
      "loading Roboflow project...\n",
      "Dependency ultralytics==8.0.196 is required but found version=8.1.34, to fix: `pip install ultralytics==8.0.196`\n"
     ]
    },
    {
     "name": "stderr",
     "output_type": "stream",
     "text": [
      "Downloading Dataset Version Zip in Fire-Detection-1 to yolov8:: 100%|██████████| 210487/210487 [01:49<00:00, 1925.54it/s]"
     ]
    },
    {
     "name": "stdout",
     "output_type": "stream",
     "text": [
      "\n"
     ]
    },
    {
     "name": "stderr",
     "output_type": "stream",
     "text": [
      "\n",
      "Extracting Dataset Version Zip to Fire-Detection-1 in yolov8:: 100%|██████████| 17884/17884 [00:14<00:00, 1213.91it/s]"
     ]
    },
    {
     "name": "stdout",
     "output_type": "stream",
     "text": [
      "c:\\Users\\user\\Downloads\\yolov10-main\\Fire-Detection-1\n"
     ]
    },
    {
     "name": "stderr",
     "output_type": "stream",
     "text": [
      "\n"
     ]
    }
   ],
   "source": [
    "rf = Roboflow(api_key=\"G94TrvQsmmDIdcV86fkT\")\n",
    "project = rf.workspace(\"fire-dataset-tp9jt\").project(\"fire-detection-sejra\")\n",
    "version = project.version(1)\n",
    "dataset = version.download(\"yolov8\")\n",
    "print(dataset.location)"
   ]
  },
  {
   "cell_type": "markdown",
   "metadata": {},
   "source": [
    "### Explore the dataset\n",
    "All the images have  the size of 416*416 and I think the data doesn't need any preprocessing. <br>\n",
    "The ground truth has 3 classes, fire, smoke and other. This class \"other\" will just confuse the model because anything but fire and smoke should be considered as background so we will remove any \"other\" class in the ground truth. <br>\n",
    "Modify the data.yaml file"
   ]
  },
  {
   "cell_type": "code",
   "execution_count": 4,
   "metadata": {},
   "outputs": [],
   "source": [
    "# Removing class \"other\" from the ground truth\n",
    "# Changing the class \"smoke\" from 2 to 1\n",
    "all_labels_dir = \"Fire-Detection-1/train/labels\"\n",
    "\n",
    "for file in os.listdir(all_labels_dir):\n",
    "    with open(os.path.join(all_labels_dir, file), \"r\") as f:\n",
    "        lines = f.readlines()\n",
    "\n",
    "    with open(os.path.join(all_labels_dir, file), \"w\") as f:\n",
    "        for line in lines:\n",
    "            if not line.startswith(\"1\"):\n",
    "                if line.startswith(\"2\"):\n",
    "                    line = \"1\" + line[1:]\n",
    "                f.write(line)"
   ]
  },
  {
   "cell_type": "code",
   "execution_count": 5,
   "metadata": {},
   "outputs": [],
   "source": [
    "# Make the validation and test sets\n",
    "# We will take 15% of the data for validation and 15% for the test set.\n",
    "\n",
    "all_images_dir = \"Fire-Detection-1/train/images\"\n",
    "img_names = os.listdir(all_images_dir)\n",
    "shuffle(img_names)\n",
    "start_point = 0\n",
    "end_point = int(0.15 * len(img_names))\n",
    "\n",
    "for folder in [\"valid\", \"test\"]:\n",
    "    # Create the validation and test folders and two folders for images and labels\n",
    "    os.makedirs(f\"Fire-Detection-1/{folder}/images\")\n",
    "    os.makedirs(f\"Fire-Detection-1/{folder}/labels\")\n",
    "\n",
    "    images = img_names[start_point:end_point]\n",
    "\n",
    "    for image in images:\n",
    "        shutil.move(f\"{all_images_dir}/{image}\", f\"Fire-Detection-1/{folder}/images/{image}\")\n",
    "        label = image.replace(\".jpg\", \".txt\")\n",
    "        shutil.move(f\"{all_labels_dir}/{label}\", f\"Fire-Detection-1/{folder}/labels/{label}\")\n",
    "\n",
    "    start_point = end_point\n",
    "    end_point += int(0.15 * len(img_names))"
   ]
  },
  {
   "cell_type": "markdown",
   "metadata": {},
   "source": [
    "### Train the YOLOv10 model"
   ]
  },
  {
   "cell_type": "code",
   "execution_count": 2,
   "metadata": {},
   "outputs": [
    {
     "name": "stdout",
     "output_type": "stream",
     "text": [
      "Ultralytics YOLOv8.1.34 🚀 Python-3.9.19 torch-2.0.1 CUDA:0 (NVIDIA GeForce RTX 3060 Ti, 8191MiB)\n",
      "\u001b[34m\u001b[1mengine\\trainer: \u001b[0mtask=detect, mode=train, model=yolov10b.pt, data=../Fire-Detection-1/data.yaml, epochs=100, time=None, patience=100, batch=16, imgsz=416, save=True, save_period=-1, val_period=1, cache=False, device=None, workers=8, project=None, name=train2, exist_ok=False, pretrained=True, optimizer=auto, verbose=True, seed=0, deterministic=True, single_cls=False, rect=False, cos_lr=False, close_mosaic=10, resume=False, amp=True, fraction=1.0, profile=False, freeze=None, multi_scale=False, overlap_mask=True, mask_ratio=4, dropout=0.0, val=True, split=val, save_json=False, save_hybrid=False, conf=None, iou=0.7, max_det=300, half=False, dnn=False, plots=True, source=None, vid_stride=1, stream_buffer=False, visualize=False, augment=False, agnostic_nms=False, classes=None, retina_masks=False, embed=None, show=False, save_frames=False, save_txt=False, save_conf=False, save_crop=False, show_labels=True, show_conf=True, show_boxes=True, line_width=None, format=torchscript, keras=False, optimize=False, int8=False, dynamic=False, simplify=False, opset=None, workspace=4, nms=False, lr0=0.01, lrf=0.01, momentum=0.937, weight_decay=0.0005, warmup_epochs=3.0, warmup_momentum=0.8, warmup_bias_lr=0.1, box=7.5, cls=0.5, dfl=1.5, pose=12.0, kobj=1.0, label_smoothing=0.0, nbs=64, hsv_h=0.015, hsv_s=0.7, hsv_v=0.4, degrees=0.0, translate=0.1, scale=0.5, shear=0.0, perspective=0.0, flipud=0.0, fliplr=0.5, bgr=0.0, mosaic=1.0, mixup=0.0, copy_paste=0.0, auto_augment=randaugment, erasing=0.4, crop_fraction=1.0, cfg=None, tracker=botsort.yaml, save_dir=runs\\detect\\train2\n",
      "Overriding model.yaml nc=80 with nc=2\n",
      "\n",
      "                   from  n    params  module                                       arguments                     \n",
      "  0                  -1  1      1856  ultralytics.nn.modules.conv.Conv             [3, 64, 3, 2]                 \n",
      "  1                  -1  1     73984  ultralytics.nn.modules.conv.Conv             [64, 128, 3, 2]               \n",
      "  2                  -1  2    197632  ultralytics.nn.modules.block.C2f             [128, 128, 2, True]           \n",
      "  3                  -1  1    295424  ultralytics.nn.modules.conv.Conv             [128, 256, 3, 2]              \n",
      "  4                  -1  4   1444864  ultralytics.nn.modules.block.C2f             [256, 256, 4, True]           \n",
      "  5                  -1  1    137728  ultralytics.nn.modules.block.SCDown          [256, 512, 3, 2]              \n",
      "  6                  -1  4   5773312  ultralytics.nn.modules.block.C2f             [512, 512, 4, True]           \n",
      "  7                  -1  1    268800  ultralytics.nn.modules.block.SCDown          [512, 512, 3, 2]              \n",
      "  8                  -1  2   1338368  ultralytics.nn.modules.block.C2fCIB          [512, 512, 2, True]           \n",
      "  9                  -1  1    656896  ultralytics.nn.modules.block.SPPF            [512, 512, 5]                 \n",
      " 10                  -1  1    990976  ultralytics.nn.modules.block.PSA             [512, 512]                    \n",
      " 11                  -1  1         0  torch.nn.modules.upsampling.Upsample         [None, 2, 'nearest']          \n",
      " 12             [-1, 6]  1         0  ultralytics.nn.modules.conv.Concat           [1]                           \n",
      " 13                  -1  2   1600512  ultralytics.nn.modules.block.C2fCIB          [1024, 512, 2, True]          \n",
      " 14                  -1  1         0  torch.nn.modules.upsampling.Upsample         [None, 2, 'nearest']          \n",
      " 15             [-1, 4]  1         0  ultralytics.nn.modules.conv.Concat           [1]                           \n",
      " 16                  -1  2    919552  ultralytics.nn.modules.block.C2f             [768, 256, 2]                 \n",
      " 17                  -1  1    590336  ultralytics.nn.modules.conv.Conv             [256, 256, 3, 2]              \n",
      " 18            [-1, 13]  1         0  ultralytics.nn.modules.conv.Concat           [1]                           \n",
      " 19                  -1  2   1469440  ultralytics.nn.modules.block.C2fCIB          [768, 512, 2, True]           \n",
      " 20                  -1  1    268800  ultralytics.nn.modules.block.SCDown          [512, 512, 3, 2]              \n",
      " 21            [-1, 10]  1         0  ultralytics.nn.modules.conv.Concat           [1]                           \n",
      " 22                  -1  2   1600512  ultralytics.nn.modules.block.C2fCIB          [1024, 512, 2, True]          \n",
      " 23        [16, 19, 22]  1   2825116  ultralytics.nn.modules.head.v10Detect        [2, [256, 512, 512]]          \n",
      "YOLOv10b summary: 518 layers, 20454108 parameters, 20454092 gradients, 98.7 GFLOPs\n",
      "\n",
      "Transferred 823/835 items from pretrained weights\n",
      "\u001b[34m\u001b[1mTensorBoard: \u001b[0mStart with 'tensorboard --logdir runs\\detect\\train2', view at http://localhost:6006/\n",
      "Freezing layer 'model.23.dfl.conv.weight'\n",
      "\u001b[34m\u001b[1mAMP: \u001b[0mrunning Automatic Mixed Precision (AMP) checks with YOLOv8n...\n",
      "\u001b[34m\u001b[1mAMP: \u001b[0mchecks passed ✅\n"
     ]
    },
    {
     "name": "stderr",
     "output_type": "stream",
     "text": [
      "\u001b[34m\u001b[1mtrain: \u001b[0mScanning C:\\Users\\user\\Downloads\\yolov10-main\\Fire-Detection-1\\train\\labels.cache... 6259 images, 732 backgrounds, 0 corrupt: 100%|██████████| 6259/6259 [00:00<?, ?it/s]\n",
      "\u001b[34m\u001b[1mval: \u001b[0mScanning C:\\Users\\user\\Downloads\\yolov10-main\\Fire-Detection-1\\valid\\labels.cache... 1340 images, 150 backgrounds, 0 corrupt: 100%|██████████| 1340/1340 [00:00<?, ?it/s]\n"
     ]
    },
    {
     "name": "stdout",
     "output_type": "stream",
     "text": [
      "Plotting labels to runs\\detect\\train2\\labels.jpg... \n",
      "\u001b[34m\u001b[1moptimizer:\u001b[0m 'optimizer=auto' found, ignoring 'lr0=0.01' and 'momentum=0.937' and determining best 'optimizer', 'lr0' and 'momentum' automatically... \n",
      "\u001b[34m\u001b[1moptimizer:\u001b[0m AdamW(lr=0.001667, momentum=0.9) with parameter groups 135 weight(decay=0.0), 148 weight(decay=0.0005), 147 bias(decay=0.0)\n",
      "\u001b[34m\u001b[1mTensorBoard: \u001b[0mmodel graph visualization added ✅\n",
      "Image sizes 416 train, 416 val\n",
      "Using 6 dataloader workers\n",
      "Logging results to \u001b[1mruns\\detect\\train2\u001b[0m\n",
      "Starting training for 100 epochs...\n",
      "\n",
      "      Epoch    GPU_mem     box_om     cls_om     dfl_om     box_oo     cls_oo     dfl_oo  Instances       Size\n"
     ]
    },
    {
     "name": "stderr",
     "output_type": "stream",
     "text": [
      "      1/100      6.04G      1.907      2.242      1.954      1.904      2.847      1.843          9        416: 100%|██████████| 392/392 [01:38<00:00,  3.97it/s]\n",
      "                 Class     Images  Instances      Box(P          R      mAP50  mAP50-95): 100%|██████████| 42/42 [00:13<00:00,  3.15it/s]\n"
     ]
    },
    {
     "name": "stdout",
     "output_type": "stream",
     "text": [
      "                   all       1340       2820      0.276       0.24       0.18     0.0625\n",
      "\n",
      "      Epoch    GPU_mem     box_om     cls_om     dfl_om     box_oo     cls_oo     dfl_oo  Instances       Size\n"
     ]
    },
    {
     "name": "stderr",
     "output_type": "stream",
     "text": [
      "      2/100      5.98G      1.929      2.221      1.967       1.94      2.642      1.837         15        416: 100%|██████████| 392/392 [01:30<00:00,  4.32it/s]\n",
      "                 Class     Images  Instances      Box(P          R      mAP50  mAP50-95): 100%|██████████| 42/42 [00:12<00:00,  3.25it/s]\n"
     ]
    },
    {
     "name": "stdout",
     "output_type": "stream",
     "text": [
      "                   all       1340       2820      0.292       0.28      0.198     0.0725\n",
      "\n",
      "      Epoch    GPU_mem     box_om     cls_om     dfl_om     box_oo     cls_oo     dfl_oo  Instances       Size\n"
     ]
    },
    {
     "name": "stderr",
     "output_type": "stream",
     "text": [
      "      3/100      6.02G      1.894      2.169      1.916      1.907       2.57      1.803         11        416: 100%|██████████| 392/392 [01:27<00:00,  4.47it/s]\n",
      "                 Class     Images  Instances      Box(P          R      mAP50  mAP50-95): 100%|██████████| 42/42 [00:12<00:00,  3.27it/s]\n"
     ]
    },
    {
     "name": "stdout",
     "output_type": "stream",
     "text": [
      "                   all       1340       2820       0.29      0.242      0.157     0.0602\n",
      "\n",
      "      Epoch    GPU_mem     box_om     cls_om     dfl_om     box_oo     cls_oo     dfl_oo  Instances       Size\n"
     ]
    },
    {
     "name": "stderr",
     "output_type": "stream",
     "text": [
      "      4/100      6.01G      1.845      2.103       1.88       1.87        2.5      1.784          8        416: 100%|██████████| 392/392 [01:26<00:00,  4.51it/s]\n",
      "                 Class     Images  Instances      Box(P          R      mAP50  mAP50-95): 100%|██████████| 42/42 [00:12<00:00,  3.26it/s]\n"
     ]
    },
    {
     "name": "stdout",
     "output_type": "stream",
     "text": [
      "                   all       1340       2820      0.353      0.302      0.245      0.095\n",
      "\n",
      "      Epoch    GPU_mem     box_om     cls_om     dfl_om     box_oo     cls_oo     dfl_oo  Instances       Size\n"
     ]
    },
    {
     "name": "stderr",
     "output_type": "stream",
     "text": [
      "      5/100      6.01G        1.8       2.02       1.85      1.819       2.41       1.74          4        416: 100%|██████████| 392/392 [01:27<00:00,  4.50it/s]\n",
      "                 Class     Images  Instances      Box(P          R      mAP50  mAP50-95): 100%|██████████| 42/42 [00:12<00:00,  3.27it/s]\n"
     ]
    },
    {
     "name": "stdout",
     "output_type": "stream",
     "text": [
      "                   all       1340       2820      0.377       0.34      0.294      0.129\n",
      "\n",
      "      Epoch    GPU_mem     box_om     cls_om     dfl_om     box_oo     cls_oo     dfl_oo  Instances       Size\n"
     ]
    },
    {
     "name": "stderr",
     "output_type": "stream",
     "text": [
      "      6/100      6.01G      1.759       1.94       1.82      1.775      2.333      1.715          9        416: 100%|██████████| 392/392 [01:27<00:00,  4.51it/s]\n",
      "                 Class     Images  Instances      Box(P          R      mAP50  mAP50-95): 100%|██████████| 42/42 [00:12<00:00,  3.26it/s]\n"
     ]
    },
    {
     "name": "stdout",
     "output_type": "stream",
     "text": [
      "                   all       1340       2820      0.409      0.324      0.302      0.131\n",
      "\n",
      "      Epoch    GPU_mem     box_om     cls_om     dfl_om     box_oo     cls_oo     dfl_oo  Instances       Size\n"
     ]
    },
    {
     "name": "stderr",
     "output_type": "stream",
     "text": [
      "      7/100      6.01G       1.74       1.91      1.793      1.776       2.28      1.695         20        416: 100%|██████████| 392/392 [01:26<00:00,  4.52it/s]\n",
      "                 Class     Images  Instances      Box(P          R      mAP50  mAP50-95): 100%|██████████| 42/42 [00:12<00:00,  3.27it/s]\n"
     ]
    },
    {
     "name": "stdout",
     "output_type": "stream",
     "text": [
      "                   all       1340       2820      0.441      0.357      0.338      0.147\n",
      "\n",
      "      Epoch    GPU_mem     box_om     cls_om     dfl_om     box_oo     cls_oo     dfl_oo  Instances       Size\n"
     ]
    },
    {
     "name": "stderr",
     "output_type": "stream",
     "text": [
      "      8/100      6.01G      1.728       1.88      1.793      1.756      2.241      1.697         11        416: 100%|██████████| 392/392 [01:26<00:00,  4.51it/s]\n",
      "                 Class     Images  Instances      Box(P          R      mAP50  mAP50-95): 100%|██████████| 42/42 [00:12<00:00,  3.28it/s]\n"
     ]
    },
    {
     "name": "stdout",
     "output_type": "stream",
     "text": [
      "                   all       1340       2820      0.459      0.358      0.339      0.154\n",
      "\n",
      "      Epoch    GPU_mem     box_om     cls_om     dfl_om     box_oo     cls_oo     dfl_oo  Instances       Size\n"
     ]
    },
    {
     "name": "stderr",
     "output_type": "stream",
     "text": [
      "      9/100      6.01G      1.713      1.847       1.77      1.738      2.212      1.681         23        416: 100%|██████████| 392/392 [01:26<00:00,  4.52it/s]\n",
      "                 Class     Images  Instances      Box(P          R      mAP50  mAP50-95): 100%|██████████| 42/42 [00:12<00:00,  3.26it/s]\n"
     ]
    },
    {
     "name": "stdout",
     "output_type": "stream",
     "text": [
      "                   all       1340       2820      0.483      0.366      0.351      0.161\n",
      "\n",
      "      Epoch    GPU_mem     box_om     cls_om     dfl_om     box_oo     cls_oo     dfl_oo  Instances       Size\n"
     ]
    },
    {
     "name": "stderr",
     "output_type": "stream",
     "text": [
      "     10/100      6.01G      1.705      1.824      1.765      1.735      2.167      1.679          9        416: 100%|██████████| 392/392 [01:27<00:00,  4.50it/s]\n",
      "                 Class     Images  Instances      Box(P          R      mAP50  mAP50-95): 100%|██████████| 42/42 [00:12<00:00,  3.26it/s]\n"
     ]
    },
    {
     "name": "stdout",
     "output_type": "stream",
     "text": [
      "                   all       1340       2820       0.47      0.374      0.358      0.163\n",
      "\n",
      "      Epoch    GPU_mem     box_om     cls_om     dfl_om     box_oo     cls_oo     dfl_oo  Instances       Size\n"
     ]
    },
    {
     "name": "stderr",
     "output_type": "stream",
     "text": [
      "     11/100      6.01G      1.683      1.809      1.747      1.726      2.157       1.67         11        416: 100%|██████████| 392/392 [01:26<00:00,  4.51it/s]\n",
      "                 Class     Images  Instances      Box(P          R      mAP50  mAP50-95): 100%|██████████| 42/42 [00:12<00:00,  3.25it/s]\n"
     ]
    },
    {
     "name": "stdout",
     "output_type": "stream",
     "text": [
      "                   all       1340       2820      0.455      0.386      0.365      0.171\n",
      "\n",
      "      Epoch    GPU_mem     box_om     cls_om     dfl_om     box_oo     cls_oo     dfl_oo  Instances       Size\n"
     ]
    },
    {
     "name": "stderr",
     "output_type": "stream",
     "text": [
      "     12/100      6.01G      1.674      1.768      1.734      1.725      2.116      1.666         12        416: 100%|██████████| 392/392 [01:27<00:00,  4.50it/s]\n",
      "                 Class     Images  Instances      Box(P          R      mAP50  mAP50-95): 100%|██████████| 42/42 [00:12<00:00,  3.25it/s]\n"
     ]
    },
    {
     "name": "stdout",
     "output_type": "stream",
     "text": [
      "                   all       1340       2820      0.474      0.367      0.371      0.172\n",
      "\n",
      "      Epoch    GPU_mem     box_om     cls_om     dfl_om     box_oo     cls_oo     dfl_oo  Instances       Size\n"
     ]
    },
    {
     "name": "stderr",
     "output_type": "stream",
     "text": [
      "     13/100      6.01G      1.669      1.768      1.736      1.715      2.094       1.67         14        416: 100%|██████████| 392/392 [01:26<00:00,  4.51it/s]\n",
      "                 Class     Images  Instances      Box(P          R      mAP50  mAP50-95): 100%|██████████| 42/42 [00:12<00:00,  3.26it/s]\n"
     ]
    },
    {
     "name": "stdout",
     "output_type": "stream",
     "text": [
      "                   all       1340       2820        0.5      0.374      0.383      0.181\n",
      "\n",
      "      Epoch    GPU_mem     box_om     cls_om     dfl_om     box_oo     cls_oo     dfl_oo  Instances       Size\n"
     ]
    },
    {
     "name": "stderr",
     "output_type": "stream",
     "text": [
      "     14/100      6.01G      1.661      1.766       1.72       1.71      2.091      1.648          8        416: 100%|██████████| 392/392 [01:27<00:00,  4.50it/s]\n",
      "                 Class     Images  Instances      Box(P          R      mAP50  mAP50-95): 100%|██████████| 42/42 [00:12<00:00,  3.25it/s]\n"
     ]
    },
    {
     "name": "stdout",
     "output_type": "stream",
     "text": [
      "                   all       1340       2820      0.466      0.415      0.392       0.18\n",
      "\n",
      "      Epoch    GPU_mem     box_om     cls_om     dfl_om     box_oo     cls_oo     dfl_oo  Instances       Size\n"
     ]
    },
    {
     "name": "stderr",
     "output_type": "stream",
     "text": [
      "     15/100      6.01G      1.655      1.756      1.722      1.695      2.092       1.65         22        416: 100%|██████████| 392/392 [01:27<00:00,  4.50it/s]\n",
      "                 Class     Images  Instances      Box(P          R      mAP50  mAP50-95): 100%|██████████| 42/42 [00:12<00:00,  3.25it/s]\n"
     ]
    },
    {
     "name": "stdout",
     "output_type": "stream",
     "text": [
      "                   all       1340       2820      0.497      0.403      0.403      0.188\n",
      "\n",
      "      Epoch    GPU_mem     box_om     cls_om     dfl_om     box_oo     cls_oo     dfl_oo  Instances       Size\n"
     ]
    },
    {
     "name": "stderr",
     "output_type": "stream",
     "text": [
      "     16/100      6.01G      1.645      1.737      1.715      1.693      2.057       1.65          7        416: 100%|██████████| 392/392 [01:26<00:00,  4.51it/s]\n",
      "                 Class     Images  Instances      Box(P          R      mAP50  mAP50-95): 100%|██████████| 42/42 [00:12<00:00,  3.28it/s]\n"
     ]
    },
    {
     "name": "stdout",
     "output_type": "stream",
     "text": [
      "                   all       1340       2820      0.512      0.414      0.414      0.193\n",
      "\n",
      "      Epoch    GPU_mem     box_om     cls_om     dfl_om     box_oo     cls_oo     dfl_oo  Instances       Size\n"
     ]
    },
    {
     "name": "stderr",
     "output_type": "stream",
     "text": [
      "     17/100      6.01G       1.63      1.714      1.707      1.684      2.039      1.633         12        416: 100%|██████████| 392/392 [01:27<00:00,  4.47it/s]\n",
      "                 Class     Images  Instances      Box(P          R      mAP50  mAP50-95): 100%|██████████| 42/42 [00:12<00:00,  3.26it/s]\n"
     ]
    },
    {
     "name": "stdout",
     "output_type": "stream",
     "text": [
      "                   all       1340       2820      0.477      0.386      0.384      0.189\n",
      "\n",
      "      Epoch    GPU_mem     box_om     cls_om     dfl_om     box_oo     cls_oo     dfl_oo  Instances       Size\n"
     ]
    },
    {
     "name": "stderr",
     "output_type": "stream",
     "text": [
      "     18/100      6.01G      1.636      1.704      1.699      1.679      2.012      1.634         12        416: 100%|██████████| 392/392 [01:26<00:00,  4.52it/s]\n",
      "                 Class     Images  Instances      Box(P          R      mAP50  mAP50-95): 100%|██████████| 42/42 [00:12<00:00,  3.27it/s]\n"
     ]
    },
    {
     "name": "stdout",
     "output_type": "stream",
     "text": [
      "                   all       1340       2820       0.52      0.385      0.405        0.2\n",
      "\n",
      "      Epoch    GPU_mem     box_om     cls_om     dfl_om     box_oo     cls_oo     dfl_oo  Instances       Size\n"
     ]
    },
    {
     "name": "stderr",
     "output_type": "stream",
     "text": [
      "     19/100      6.01G      1.621      1.702      1.689      1.674      2.014      1.625         11        416: 100%|██████████| 392/392 [01:26<00:00,  4.52it/s]\n",
      "                 Class     Images  Instances      Box(P          R      mAP50  mAP50-95): 100%|██████████| 42/42 [00:12<00:00,  3.28it/s]\n"
     ]
    },
    {
     "name": "stdout",
     "output_type": "stream",
     "text": [
      "                   all       1340       2820      0.493      0.408      0.405       0.19\n",
      "\n",
      "      Epoch    GPU_mem     box_om     cls_om     dfl_om     box_oo     cls_oo     dfl_oo  Instances       Size\n"
     ]
    },
    {
     "name": "stderr",
     "output_type": "stream",
     "text": [
      "     20/100      6.01G      1.606      1.685      1.687      1.672       1.99      1.623         13        416: 100%|██████████| 392/392 [01:26<00:00,  4.51it/s]\n",
      "                 Class     Images  Instances      Box(P          R      mAP50  mAP50-95): 100%|██████████| 42/42 [00:12<00:00,  3.26it/s]\n"
     ]
    },
    {
     "name": "stdout",
     "output_type": "stream",
     "text": [
      "                   all       1340       2820      0.532      0.392       0.41      0.199\n",
      "\n",
      "      Epoch    GPU_mem     box_om     cls_om     dfl_om     box_oo     cls_oo     dfl_oo  Instances       Size\n"
     ]
    },
    {
     "name": "stderr",
     "output_type": "stream",
     "text": [
      "     21/100      6.01G      1.607      1.686      1.686      1.657      1.991      1.621         14        416: 100%|██████████| 392/392 [01:26<00:00,  4.51it/s]\n",
      "                 Class     Images  Instances      Box(P          R      mAP50  mAP50-95): 100%|██████████| 42/42 [00:12<00:00,  3.27it/s]\n"
     ]
    },
    {
     "name": "stdout",
     "output_type": "stream",
     "text": [
      "                   all       1340       2820      0.511      0.416       0.42      0.201\n",
      "\n",
      "      Epoch    GPU_mem     box_om     cls_om     dfl_om     box_oo     cls_oo     dfl_oo  Instances       Size\n"
     ]
    },
    {
     "name": "stderr",
     "output_type": "stream",
     "text": [
      "     22/100      6.01G      1.604      1.668      1.685      1.664      1.959       1.62         20        416: 100%|██████████| 392/392 [01:26<00:00,  4.51it/s]\n",
      "                 Class     Images  Instances      Box(P          R      mAP50  mAP50-95): 100%|██████████| 42/42 [00:12<00:00,  3.25it/s]\n"
     ]
    },
    {
     "name": "stdout",
     "output_type": "stream",
     "text": [
      "                   all       1340       2820      0.519      0.418      0.428      0.213\n",
      "\n",
      "      Epoch    GPU_mem     box_om     cls_om     dfl_om     box_oo     cls_oo     dfl_oo  Instances       Size\n"
     ]
    },
    {
     "name": "stderr",
     "output_type": "stream",
     "text": [
      "     23/100      6.01G      1.602      1.659      1.686      1.654      1.976      1.622         14        416: 100%|██████████| 392/392 [01:26<00:00,  4.51it/s]\n",
      "                 Class     Images  Instances      Box(P          R      mAP50  mAP50-95): 100%|██████████| 42/42 [00:12<00:00,  3.28it/s]\n"
     ]
    },
    {
     "name": "stdout",
     "output_type": "stream",
     "text": [
      "                   all       1340       2820      0.532      0.406      0.417      0.197\n",
      "\n",
      "      Epoch    GPU_mem     box_om     cls_om     dfl_om     box_oo     cls_oo     dfl_oo  Instances       Size\n"
     ]
    },
    {
     "name": "stderr",
     "output_type": "stream",
     "text": [
      "     24/100      6.01G      1.583      1.639      1.682      1.644      1.946      1.617         15        416: 100%|██████████| 392/392 [01:27<00:00,  4.50it/s]\n",
      "                 Class     Images  Instances      Box(P          R      mAP50  mAP50-95): 100%|██████████| 42/42 [00:12<00:00,  3.26it/s]\n"
     ]
    },
    {
     "name": "stdout",
     "output_type": "stream",
     "text": [
      "                   all       1340       2820      0.523      0.419      0.425      0.205\n",
      "\n",
      "      Epoch    GPU_mem     box_om     cls_om     dfl_om     box_oo     cls_oo     dfl_oo  Instances       Size\n"
     ]
    },
    {
     "name": "stderr",
     "output_type": "stream",
     "text": [
      "     25/100      6.01G      1.597       1.64      1.684       1.64      1.963      1.615          9        416: 100%|██████████| 392/392 [01:32<00:00,  4.25it/s]\n",
      "                 Class     Images  Instances      Box(P          R      mAP50  mAP50-95): 100%|██████████| 42/42 [00:14<00:00,  2.97it/s]\n"
     ]
    },
    {
     "name": "stdout",
     "output_type": "stream",
     "text": [
      "                   all       1340       2820      0.505      0.419      0.431      0.209\n",
      "\n",
      "      Epoch    GPU_mem     box_om     cls_om     dfl_om     box_oo     cls_oo     dfl_oo  Instances       Size\n"
     ]
    },
    {
     "name": "stderr",
     "output_type": "stream",
     "text": [
      "     26/100      6.01G      1.573      1.624      1.664      1.631      1.927        1.6          3        416: 100%|██████████| 392/392 [01:31<00:00,  4.28it/s]\n",
      "                 Class     Images  Instances      Box(P          R      mAP50  mAP50-95): 100%|██████████| 42/42 [00:13<00:00,  3.05it/s]\n"
     ]
    },
    {
     "name": "stdout",
     "output_type": "stream",
     "text": [
      "                   all       1340       2820      0.546      0.408      0.439      0.215\n",
      "\n",
      "      Epoch    GPU_mem     box_om     cls_om     dfl_om     box_oo     cls_oo     dfl_oo  Instances       Size\n"
     ]
    },
    {
     "name": "stderr",
     "output_type": "stream",
     "text": [
      "     27/100      6.01G      1.576      1.618      1.659      1.638      1.907        1.6         10        416: 100%|██████████| 392/392 [01:31<00:00,  4.30it/s]\n",
      "                 Class     Images  Instances      Box(P          R      mAP50  mAP50-95): 100%|██████████| 42/42 [00:13<00:00,  3.18it/s]\n"
     ]
    },
    {
     "name": "stdout",
     "output_type": "stream",
     "text": [
      "                   all       1340       2820      0.521      0.431      0.453      0.226\n",
      "\n",
      "      Epoch    GPU_mem     box_om     cls_om     dfl_om     box_oo     cls_oo     dfl_oo  Instances       Size\n"
     ]
    },
    {
     "name": "stderr",
     "output_type": "stream",
     "text": [
      "     28/100      6.01G      1.567       1.61      1.659      1.622      1.916      1.596          5        416: 100%|██████████| 392/392 [01:32<00:00,  4.24it/s]\n",
      "                 Class     Images  Instances      Box(P          R      mAP50  mAP50-95): 100%|██████████| 42/42 [00:13<00:00,  3.03it/s]\n"
     ]
    },
    {
     "name": "stdout",
     "output_type": "stream",
     "text": [
      "                   all       1340       2820      0.532      0.418      0.444      0.214\n",
      "\n",
      "      Epoch    GPU_mem     box_om     cls_om     dfl_om     box_oo     cls_oo     dfl_oo  Instances       Size\n"
     ]
    },
    {
     "name": "stderr",
     "output_type": "stream",
     "text": [
      "     29/100      6.01G      1.559      1.608      1.653      1.619      1.903      1.595          8        416: 100%|██████████| 392/392 [01:30<00:00,  4.32it/s]\n",
      "                 Class     Images  Instances      Box(P          R      mAP50  mAP50-95): 100%|██████████| 42/42 [00:13<00:00,  3.12it/s]\n"
     ]
    },
    {
     "name": "stdout",
     "output_type": "stream",
     "text": [
      "                   all       1340       2820      0.546      0.422      0.445      0.217\n",
      "\n",
      "      Epoch    GPU_mem     box_om     cls_om     dfl_om     box_oo     cls_oo     dfl_oo  Instances       Size\n"
     ]
    },
    {
     "name": "stderr",
     "output_type": "stream",
     "text": [
      "     30/100      6.01G      1.552      1.594       1.65      1.613      1.886      1.596          6        416: 100%|██████████| 392/392 [01:30<00:00,  4.34it/s]\n",
      "                 Class     Images  Instances      Box(P          R      mAP50  mAP50-95): 100%|██████████| 42/42 [00:13<00:00,  3.13it/s]\n"
     ]
    },
    {
     "name": "stdout",
     "output_type": "stream",
     "text": [
      "                   all       1340       2820       0.54      0.415      0.444      0.217\n",
      "\n",
      "      Epoch    GPU_mem     box_om     cls_om     dfl_om     box_oo     cls_oo     dfl_oo  Instances       Size\n"
     ]
    },
    {
     "name": "stderr",
     "output_type": "stream",
     "text": [
      "     31/100      6.01G      1.556      1.591      1.645      1.614      1.877      1.589         11        416: 100%|██████████| 392/392 [01:30<00:00,  4.33it/s]\n",
      "                 Class     Images  Instances      Box(P          R      mAP50  mAP50-95): 100%|██████████| 42/42 [00:13<00:00,  3.06it/s]\n"
     ]
    },
    {
     "name": "stdout",
     "output_type": "stream",
     "text": [
      "                   all       1340       2820      0.529      0.441      0.453      0.217\n",
      "\n",
      "      Epoch    GPU_mem     box_om     cls_om     dfl_om     box_oo     cls_oo     dfl_oo  Instances       Size\n"
     ]
    },
    {
     "name": "stderr",
     "output_type": "stream",
     "text": [
      "     32/100      6.01G      1.551      1.565      1.636      1.613      1.844      1.585         18        416: 100%|██████████| 392/392 [01:35<00:00,  4.12it/s]\n",
      "                 Class     Images  Instances      Box(P          R      mAP50  mAP50-95): 100%|██████████| 42/42 [00:13<00:00,  3.07it/s]\n"
     ]
    },
    {
     "name": "stdout",
     "output_type": "stream",
     "text": [
      "                   all       1340       2820      0.549      0.437      0.449      0.224\n",
      "\n",
      "      Epoch    GPU_mem     box_om     cls_om     dfl_om     box_oo     cls_oo     dfl_oo  Instances       Size\n"
     ]
    },
    {
     "name": "stderr",
     "output_type": "stream",
     "text": [
      "     33/100      6.01G      1.539      1.563      1.639      1.597      1.848      1.584         16        416: 100%|██████████| 392/392 [01:32<00:00,  4.25it/s]\n",
      "                 Class     Images  Instances      Box(P          R      mAP50  mAP50-95): 100%|██████████| 42/42 [00:13<00:00,  3.07it/s]\n"
     ]
    },
    {
     "name": "stdout",
     "output_type": "stream",
     "text": [
      "                   all       1340       2820      0.586      0.427      0.463      0.226\n",
      "\n",
      "      Epoch    GPU_mem     box_om     cls_om     dfl_om     box_oo     cls_oo     dfl_oo  Instances       Size\n"
     ]
    },
    {
     "name": "stderr",
     "output_type": "stream",
     "text": [
      "     34/100      6.01G      1.544      1.579      1.639      1.606      1.863      1.585         11        416: 100%|██████████| 392/392 [01:30<00:00,  4.35it/s]\n",
      "                 Class     Images  Instances      Box(P          R      mAP50  mAP50-95): 100%|██████████| 42/42 [00:13<00:00,  3.01it/s]\n"
     ]
    },
    {
     "name": "stdout",
     "output_type": "stream",
     "text": [
      "                   all       1340       2820      0.536      0.431      0.459      0.224\n",
      "\n",
      "      Epoch    GPU_mem     box_om     cls_om     dfl_om     box_oo     cls_oo     dfl_oo  Instances       Size\n"
     ]
    },
    {
     "name": "stderr",
     "output_type": "stream",
     "text": [
      "     35/100      6.01G      1.544      1.552      1.635      1.603      1.828      1.588         12        416: 100%|██████████| 392/392 [01:29<00:00,  4.39it/s]\n",
      "                 Class     Images  Instances      Box(P          R      mAP50  mAP50-95): 100%|██████████| 42/42 [00:13<00:00,  3.15it/s]\n"
     ]
    },
    {
     "name": "stdout",
     "output_type": "stream",
     "text": [
      "                   all       1340       2820      0.548      0.436      0.462      0.228\n",
      "\n",
      "      Epoch    GPU_mem     box_om     cls_om     dfl_om     box_oo     cls_oo     dfl_oo  Instances       Size\n"
     ]
    },
    {
     "name": "stderr",
     "output_type": "stream",
     "text": [
      "     36/100      6.01G      1.535      1.545      1.626      1.606      1.826      1.579         14        416: 100%|██████████| 392/392 [01:30<00:00,  4.35it/s]\n",
      "                 Class     Images  Instances      Box(P          R      mAP50  mAP50-95): 100%|██████████| 42/42 [00:13<00:00,  3.19it/s]\n"
     ]
    },
    {
     "name": "stdout",
     "output_type": "stream",
     "text": [
      "                   all       1340       2820      0.533      0.438      0.453      0.225\n",
      "\n",
      "      Epoch    GPU_mem     box_om     cls_om     dfl_om     box_oo     cls_oo     dfl_oo  Instances       Size\n"
     ]
    },
    {
     "name": "stderr",
     "output_type": "stream",
     "text": [
      "     37/100      6.01G      1.531      1.537      1.624        1.6      1.808      1.576         11        416: 100%|██████████| 392/392 [01:29<00:00,  4.37it/s]\n",
      "                 Class     Images  Instances      Box(P          R      mAP50  mAP50-95): 100%|██████████| 42/42 [00:13<00:00,  3.14it/s]\n"
     ]
    },
    {
     "name": "stdout",
     "output_type": "stream",
     "text": [
      "                   all       1340       2820      0.535      0.447      0.465      0.231\n",
      "\n",
      "      Epoch    GPU_mem     box_om     cls_om     dfl_om     box_oo     cls_oo     dfl_oo  Instances       Size\n"
     ]
    },
    {
     "name": "stderr",
     "output_type": "stream",
     "text": [
      "     38/100      6.01G      1.533      1.528      1.626       1.59      1.804      1.578          8        416: 100%|██████████| 392/392 [01:30<00:00,  4.35it/s]\n",
      "                 Class     Images  Instances      Box(P          R      mAP50  mAP50-95): 100%|██████████| 42/42 [00:13<00:00,  3.18it/s]\n"
     ]
    },
    {
     "name": "stdout",
     "output_type": "stream",
     "text": [
      "                   all       1340       2820      0.549      0.437      0.472      0.234\n",
      "\n",
      "      Epoch    GPU_mem     box_om     cls_om     dfl_om     box_oo     cls_oo     dfl_oo  Instances       Size\n"
     ]
    },
    {
     "name": "stderr",
     "output_type": "stream",
     "text": [
      "     39/100      6.01G      1.516      1.516      1.623      1.586       1.79      1.583         25        416: 100%|██████████| 392/392 [01:27<00:00,  4.47it/s]\n",
      "                 Class     Images  Instances      Box(P          R      mAP50  mAP50-95): 100%|██████████| 42/42 [00:12<00:00,  3.27it/s]\n"
     ]
    },
    {
     "name": "stdout",
     "output_type": "stream",
     "text": [
      "                   all       1340       2820      0.571      0.449      0.481      0.238\n",
      "\n",
      "      Epoch    GPU_mem     box_om     cls_om     dfl_om     box_oo     cls_oo     dfl_oo  Instances       Size\n"
     ]
    },
    {
     "name": "stderr",
     "output_type": "stream",
     "text": [
      "     40/100      6.01G      1.519      1.519      1.621      1.572      1.799       1.57         15        416: 100%|██████████| 392/392 [01:27<00:00,  4.50it/s]\n",
      "                 Class     Images  Instances      Box(P          R      mAP50  mAP50-95): 100%|██████████| 42/42 [00:12<00:00,  3.26it/s]\n"
     ]
    },
    {
     "name": "stdout",
     "output_type": "stream",
     "text": [
      "                   all       1340       2820      0.569      0.434      0.465      0.227\n",
      "\n",
      "      Epoch    GPU_mem     box_om     cls_om     dfl_om     box_oo     cls_oo     dfl_oo  Instances       Size\n"
     ]
    },
    {
     "name": "stderr",
     "output_type": "stream",
     "text": [
      "     41/100      6.01G      1.514      1.507      1.616       1.57      1.786      1.568         15        416: 100%|██████████| 392/392 [01:27<00:00,  4.50it/s]\n",
      "                 Class     Images  Instances      Box(P          R      mAP50  mAP50-95): 100%|██████████| 42/42 [00:12<00:00,  3.26it/s]\n"
     ]
    },
    {
     "name": "stdout",
     "output_type": "stream",
     "text": [
      "                   all       1340       2820      0.569       0.45      0.479      0.236\n",
      "\n",
      "      Epoch    GPU_mem     box_om     cls_om     dfl_om     box_oo     cls_oo     dfl_oo  Instances       Size\n"
     ]
    },
    {
     "name": "stderr",
     "output_type": "stream",
     "text": [
      "     42/100      6.01G      1.508      1.511      1.616      1.573      1.783      1.574         10        416: 100%|██████████| 392/392 [01:27<00:00,  4.50it/s]\n",
      "                 Class     Images  Instances      Box(P          R      mAP50  mAP50-95): 100%|██████████| 42/42 [00:12<00:00,  3.28it/s]\n"
     ]
    },
    {
     "name": "stdout",
     "output_type": "stream",
     "text": [
      "                   all       1340       2820      0.584      0.436       0.48      0.242\n",
      "\n",
      "      Epoch    GPU_mem     box_om     cls_om     dfl_om     box_oo     cls_oo     dfl_oo  Instances       Size\n"
     ]
    },
    {
     "name": "stderr",
     "output_type": "stream",
     "text": [
      "     43/100      6.01G      1.505      1.496      1.604      1.569      1.763      1.563          5        416: 100%|██████████| 392/392 [01:26<00:00,  4.51it/s]\n",
      "                 Class     Images  Instances      Box(P          R      mAP50  mAP50-95): 100%|██████████| 42/42 [00:12<00:00,  3.28it/s]\n"
     ]
    },
    {
     "name": "stdout",
     "output_type": "stream",
     "text": [
      "                   all       1340       2820      0.575       0.45      0.479      0.239\n",
      "\n",
      "      Epoch    GPU_mem     box_om     cls_om     dfl_om     box_oo     cls_oo     dfl_oo  Instances       Size\n"
     ]
    },
    {
     "name": "stderr",
     "output_type": "stream",
     "text": [
      "     44/100      6.01G      1.499      1.483      1.601      1.557       1.75      1.556         16        416: 100%|██████████| 392/392 [01:26<00:00,  4.51it/s]\n",
      "                 Class     Images  Instances      Box(P          R      mAP50  mAP50-95): 100%|██████████| 42/42 [00:12<00:00,  3.29it/s]\n"
     ]
    },
    {
     "name": "stdout",
     "output_type": "stream",
     "text": [
      "                   all       1340       2820      0.568      0.446      0.478       0.24\n",
      "\n",
      "      Epoch    GPU_mem     box_om     cls_om     dfl_om     box_oo     cls_oo     dfl_oo  Instances       Size\n"
     ]
    },
    {
     "name": "stderr",
     "output_type": "stream",
     "text": [
      "     45/100      6.01G      1.495      1.475      1.593      1.559      1.757      1.548         20        416: 100%|██████████| 392/392 [01:26<00:00,  4.52it/s]\n",
      "                 Class     Images  Instances      Box(P          R      mAP50  mAP50-95): 100%|██████████| 42/42 [00:12<00:00,  3.27it/s]\n"
     ]
    },
    {
     "name": "stdout",
     "output_type": "stream",
     "text": [
      "                   all       1340       2820      0.563      0.444      0.471      0.233\n",
      "\n",
      "      Epoch    GPU_mem     box_om     cls_om     dfl_om     box_oo     cls_oo     dfl_oo  Instances       Size\n"
     ]
    },
    {
     "name": "stderr",
     "output_type": "stream",
     "text": [
      "     46/100      6.01G      1.485      1.468      1.592      1.557      1.734      1.553         11        416: 100%|██████████| 392/392 [01:26<00:00,  4.52it/s]\n",
      "                 Class     Images  Instances      Box(P          R      mAP50  mAP50-95): 100%|██████████| 42/42 [00:12<00:00,  3.27it/s]\n"
     ]
    },
    {
     "name": "stdout",
     "output_type": "stream",
     "text": [
      "                   all       1340       2820      0.533      0.452       0.47      0.236\n",
      "\n",
      "      Epoch    GPU_mem     box_om     cls_om     dfl_om     box_oo     cls_oo     dfl_oo  Instances       Size\n"
     ]
    },
    {
     "name": "stderr",
     "output_type": "stream",
     "text": [
      "     47/100      6.01G      1.485      1.452      1.591      1.548       1.72      1.547         17        416: 100%|██████████| 392/392 [01:26<00:00,  4.51it/s]\n",
      "                 Class     Images  Instances      Box(P          R      mAP50  mAP50-95): 100%|██████████| 42/42 [00:12<00:00,  3.26it/s]\n"
     ]
    },
    {
     "name": "stdout",
     "output_type": "stream",
     "text": [
      "                   all       1340       2820      0.569      0.444      0.482      0.243\n",
      "\n",
      "      Epoch    GPU_mem     box_om     cls_om     dfl_om     box_oo     cls_oo     dfl_oo  Instances       Size\n"
     ]
    },
    {
     "name": "stderr",
     "output_type": "stream",
     "text": [
      "     48/100      6.01G      1.478      1.449      1.583      1.548      1.708      1.539         14        416: 100%|██████████| 392/392 [01:26<00:00,  4.52it/s]\n",
      "                 Class     Images  Instances      Box(P          R      mAP50  mAP50-95): 100%|██████████| 42/42 [00:12<00:00,  3.26it/s]\n"
     ]
    },
    {
     "name": "stdout",
     "output_type": "stream",
     "text": [
      "                   all       1340       2820      0.575      0.446      0.486       0.24\n",
      "\n",
      "      Epoch    GPU_mem     box_om     cls_om     dfl_om     box_oo     cls_oo     dfl_oo  Instances       Size\n"
     ]
    },
    {
     "name": "stderr",
     "output_type": "stream",
     "text": [
      "     49/100      6.01G      1.469      1.438      1.578      1.538      1.691      1.542          8        416: 100%|██████████| 392/392 [01:26<00:00,  4.51it/s]\n",
      "                 Class     Images  Instances      Box(P          R      mAP50  mAP50-95): 100%|██████████| 42/42 [00:12<00:00,  3.24it/s]\n"
     ]
    },
    {
     "name": "stdout",
     "output_type": "stream",
     "text": [
      "                   all       1340       2820       0.55      0.466      0.487      0.242\n",
      "\n",
      "      Epoch    GPU_mem     box_om     cls_om     dfl_om     box_oo     cls_oo     dfl_oo  Instances       Size\n"
     ]
    },
    {
     "name": "stderr",
     "output_type": "stream",
     "text": [
      "     50/100      6.01G      1.467      1.442      1.581      1.533      1.696      1.542          5        416: 100%|██████████| 392/392 [01:27<00:00,  4.50it/s]\n",
      "                 Class     Images  Instances      Box(P          R      mAP50  mAP50-95): 100%|██████████| 42/42 [00:12<00:00,  3.25it/s]\n"
     ]
    },
    {
     "name": "stdout",
     "output_type": "stream",
     "text": [
      "                   all       1340       2820      0.587      0.444      0.486      0.242\n",
      "\n",
      "      Epoch    GPU_mem     box_om     cls_om     dfl_om     box_oo     cls_oo     dfl_oo  Instances       Size\n"
     ]
    },
    {
     "name": "stderr",
     "output_type": "stream",
     "text": [
      "     51/100      6.01G      1.469      1.435      1.576      1.542      1.689       1.54         17        416: 100%|██████████| 392/392 [01:26<00:00,  4.52it/s]\n",
      "                 Class     Images  Instances      Box(P          R      mAP50  mAP50-95): 100%|██████████| 42/42 [00:12<00:00,  3.25it/s]\n"
     ]
    },
    {
     "name": "stdout",
     "output_type": "stream",
     "text": [
      "                   all       1340       2820      0.567      0.473      0.497      0.247\n",
      "\n",
      "      Epoch    GPU_mem     box_om     cls_om     dfl_om     box_oo     cls_oo     dfl_oo  Instances       Size\n"
     ]
    },
    {
     "name": "stderr",
     "output_type": "stream",
     "text": [
      "     52/100      6.01G      1.462      1.431      1.571      1.538      1.688      1.537          9        416: 100%|██████████| 392/392 [01:27<00:00,  4.50it/s]\n",
      "                 Class     Images  Instances      Box(P          R      mAP50  mAP50-95): 100%|██████████| 42/42 [00:12<00:00,  3.27it/s]\n"
     ]
    },
    {
     "name": "stdout",
     "output_type": "stream",
     "text": [
      "                   all       1340       2820      0.559      0.455      0.489      0.242\n",
      "\n",
      "      Epoch    GPU_mem     box_om     cls_om     dfl_om     box_oo     cls_oo     dfl_oo  Instances       Size\n"
     ]
    },
    {
     "name": "stderr",
     "output_type": "stream",
     "text": [
      "     53/100      6.01G      1.461      1.419      1.569      1.534      1.669      1.534          9        416: 100%|██████████| 392/392 [01:26<00:00,  4.52it/s]\n",
      "                 Class     Images  Instances      Box(P          R      mAP50  mAP50-95): 100%|██████████| 42/42 [00:12<00:00,  3.26it/s]\n"
     ]
    },
    {
     "name": "stdout",
     "output_type": "stream",
     "text": [
      "                   all       1340       2820       0.55      0.455      0.494      0.244\n",
      "\n",
      "      Epoch    GPU_mem     box_om     cls_om     dfl_om     box_oo     cls_oo     dfl_oo  Instances       Size\n"
     ]
    },
    {
     "name": "stderr",
     "output_type": "stream",
     "text": [
      "     54/100      6.01G      1.458      1.408      1.575      1.525      1.658      1.535         11        416: 100%|██████████| 392/392 [01:26<00:00,  4.51it/s]\n",
      "                 Class     Images  Instances      Box(P          R      mAP50  mAP50-95): 100%|██████████| 42/42 [00:12<00:00,  3.26it/s]\n"
     ]
    },
    {
     "name": "stdout",
     "output_type": "stream",
     "text": [
      "                   all       1340       2820      0.539      0.484      0.495      0.242\n",
      "\n",
      "      Epoch    GPU_mem     box_om     cls_om     dfl_om     box_oo     cls_oo     dfl_oo  Instances       Size\n"
     ]
    },
    {
     "name": "stderr",
     "output_type": "stream",
     "text": [
      "     55/100      6.01G      1.438      1.381      1.566      1.506      1.638      1.529         36        416: 100%|██████████| 392/392 [01:26<00:00,  4.51it/s]\n",
      "                 Class     Images  Instances      Box(P          R      mAP50  mAP50-95): 100%|██████████| 42/42 [00:12<00:00,  3.26it/s]\n"
     ]
    },
    {
     "name": "stdout",
     "output_type": "stream",
     "text": [
      "                   all       1340       2820      0.593       0.45      0.501       0.25\n",
      "\n",
      "      Epoch    GPU_mem     box_om     cls_om     dfl_om     box_oo     cls_oo     dfl_oo  Instances       Size\n"
     ]
    },
    {
     "name": "stderr",
     "output_type": "stream",
     "text": [
      "     56/100      6.01G      1.453      1.392      1.563      1.525      1.647      1.523         15        416: 100%|██████████| 392/392 [01:27<00:00,  4.50it/s]\n",
      "                 Class     Images  Instances      Box(P          R      mAP50  mAP50-95): 100%|██████████| 42/42 [00:12<00:00,  3.26it/s]\n"
     ]
    },
    {
     "name": "stdout",
     "output_type": "stream",
     "text": [
      "                   all       1340       2820      0.591      0.456      0.499      0.249\n",
      "\n",
      "      Epoch    GPU_mem     box_om     cls_om     dfl_om     box_oo     cls_oo     dfl_oo  Instances       Size\n"
     ]
    },
    {
     "name": "stderr",
     "output_type": "stream",
     "text": [
      "     57/100      6.01G      1.427      1.371      1.555      1.494      1.621       1.52         15        416: 100%|██████████| 392/392 [01:27<00:00,  4.50it/s]\n",
      "                 Class     Images  Instances      Box(P          R      mAP50  mAP50-95): 100%|██████████| 42/42 [00:13<00:00,  3.22it/s]\n"
     ]
    },
    {
     "name": "stdout",
     "output_type": "stream",
     "text": [
      "                   all       1340       2820      0.568      0.464      0.493      0.247\n",
      "\n",
      "      Epoch    GPU_mem     box_om     cls_om     dfl_om     box_oo     cls_oo     dfl_oo  Instances       Size\n"
     ]
    },
    {
     "name": "stderr",
     "output_type": "stream",
     "text": [
      "     58/100      6.01G      1.431      1.377      1.555      1.506      1.622      1.523         20        416: 100%|██████████| 392/392 [01:26<00:00,  4.51it/s]\n",
      "                 Class     Images  Instances      Box(P          R      mAP50  mAP50-95): 100%|██████████| 42/42 [00:13<00:00,  3.19it/s]\n"
     ]
    },
    {
     "name": "stdout",
     "output_type": "stream",
     "text": [
      "                   all       1340       2820      0.584      0.456      0.497      0.247\n",
      "\n",
      "      Epoch    GPU_mem     box_om     cls_om     dfl_om     box_oo     cls_oo     dfl_oo  Instances       Size\n"
     ]
    },
    {
     "name": "stderr",
     "output_type": "stream",
     "text": [
      "     59/100      6.01G      1.442       1.37      1.556      1.513      1.621      1.517          9        416: 100%|██████████| 392/392 [01:28<00:00,  4.41it/s]\n",
      "                 Class     Images  Instances      Box(P          R      mAP50  mAP50-95): 100%|██████████| 42/42 [00:13<00:00,  3.07it/s]\n"
     ]
    },
    {
     "name": "stdout",
     "output_type": "stream",
     "text": [
      "                   all       1340       2820      0.578      0.474        0.5      0.248\n",
      "\n",
      "      Epoch    GPU_mem     box_om     cls_om     dfl_om     box_oo     cls_oo     dfl_oo  Instances       Size\n"
     ]
    },
    {
     "name": "stderr",
     "output_type": "stream",
     "text": [
      "     60/100      6.01G      1.428      1.351      1.559      1.497       1.59      1.522          8        416: 100%|██████████| 392/392 [01:30<00:00,  4.32it/s]\n",
      "                 Class     Images  Instances      Box(P          R      mAP50  mAP50-95): 100%|██████████| 42/42 [00:13<00:00,  3.12it/s]\n"
     ]
    },
    {
     "name": "stdout",
     "output_type": "stream",
     "text": [
      "                   all       1340       2820      0.569      0.471      0.501       0.25\n",
      "\n",
      "      Epoch    GPU_mem     box_om     cls_om     dfl_om     box_oo     cls_oo     dfl_oo  Instances       Size\n"
     ]
    },
    {
     "name": "stderr",
     "output_type": "stream",
     "text": [
      "     61/100      6.01G      1.419      1.363      1.552      1.491      1.611      1.515          9        416: 100%|██████████| 392/392 [01:30<00:00,  4.34it/s]\n",
      "                 Class     Images  Instances      Box(P          R      mAP50  mAP50-95): 100%|██████████| 42/42 [00:13<00:00,  3.04it/s]\n"
     ]
    },
    {
     "name": "stdout",
     "output_type": "stream",
     "text": [
      "                   all       1340       2820      0.593      0.454      0.495      0.247\n",
      "\n",
      "      Epoch    GPU_mem     box_om     cls_om     dfl_om     box_oo     cls_oo     dfl_oo  Instances       Size\n"
     ]
    },
    {
     "name": "stderr",
     "output_type": "stream",
     "text": [
      "     62/100      6.01G      1.417      1.335       1.54      1.497      1.575       1.51         10        416: 100%|██████████| 392/392 [01:30<00:00,  4.34it/s]\n",
      "                 Class     Images  Instances      Box(P          R      mAP50  mAP50-95): 100%|██████████| 42/42 [00:13<00:00,  3.11it/s]\n"
     ]
    },
    {
     "name": "stdout",
     "output_type": "stream",
     "text": [
      "                   all       1340       2820      0.604      0.452        0.5      0.248\n",
      "\n",
      "      Epoch    GPU_mem     box_om     cls_om     dfl_om     box_oo     cls_oo     dfl_oo  Instances       Size\n"
     ]
    },
    {
     "name": "stderr",
     "output_type": "stream",
     "text": [
      "     63/100      6.01G      1.412      1.341      1.541      1.488      1.575       1.51          6        416: 100%|██████████| 392/392 [01:31<00:00,  4.26it/s]\n",
      "                 Class     Images  Instances      Box(P          R      mAP50  mAP50-95): 100%|██████████| 42/42 [00:13<00:00,  3.09it/s]\n"
     ]
    },
    {
     "name": "stdout",
     "output_type": "stream",
     "text": [
      "                   all       1340       2820      0.552      0.468      0.495      0.249\n",
      "\n",
      "      Epoch    GPU_mem     box_om     cls_om     dfl_om     box_oo     cls_oo     dfl_oo  Instances       Size\n"
     ]
    },
    {
     "name": "stderr",
     "output_type": "stream",
     "text": [
      "     64/100      6.01G      1.412      1.326      1.542      1.499      1.552      1.516         12        416: 100%|██████████| 392/392 [01:31<00:00,  4.28it/s]\n",
      "                 Class     Images  Instances      Box(P          R      mAP50  mAP50-95): 100%|██████████| 42/42 [00:13<00:00,  3.09it/s]\n"
     ]
    },
    {
     "name": "stdout",
     "output_type": "stream",
     "text": [
      "                   all       1340       2820       0.58      0.464      0.502      0.248\n",
      "\n",
      "      Epoch    GPU_mem     box_om     cls_om     dfl_om     box_oo     cls_oo     dfl_oo  Instances       Size\n"
     ]
    },
    {
     "name": "stderr",
     "output_type": "stream",
     "text": [
      "     65/100      6.01G      1.402      1.308       1.53      1.492      1.535       1.51         10        416: 100%|██████████| 392/392 [01:30<00:00,  4.33it/s]\n",
      "                 Class     Images  Instances      Box(P          R      mAP50  mAP50-95): 100%|██████████| 42/42 [00:13<00:00,  3.14it/s]\n"
     ]
    },
    {
     "name": "stdout",
     "output_type": "stream",
     "text": [
      "                   all       1340       2820      0.566      0.475      0.506       0.25\n",
      "\n",
      "      Epoch    GPU_mem     box_om     cls_om     dfl_om     box_oo     cls_oo     dfl_oo  Instances       Size\n"
     ]
    },
    {
     "name": "stderr",
     "output_type": "stream",
     "text": [
      "     66/100      6.01G      1.392      1.298      1.516      1.468      1.524      1.489          9        416: 100%|██████████| 392/392 [01:30<00:00,  4.35it/s]\n",
      "                 Class     Images  Instances      Box(P          R      mAP50  mAP50-95): 100%|██████████| 42/42 [00:13<00:00,  3.13it/s]\n"
     ]
    },
    {
     "name": "stdout",
     "output_type": "stream",
     "text": [
      "                   all       1340       2820      0.561      0.479      0.505      0.251\n",
      "\n",
      "      Epoch    GPU_mem     box_om     cls_om     dfl_om     box_oo     cls_oo     dfl_oo  Instances       Size\n"
     ]
    },
    {
     "name": "stderr",
     "output_type": "stream",
     "text": [
      "     67/100      6.01G      1.382      1.281       1.52      1.458      1.513      1.493          9        416: 100%|██████████| 392/392 [01:30<00:00,  4.34it/s]\n",
      "                 Class     Images  Instances      Box(P          R      mAP50  mAP50-95): 100%|██████████| 42/42 [00:13<00:00,  3.16it/s]\n"
     ]
    },
    {
     "name": "stdout",
     "output_type": "stream",
     "text": [
      "                   all       1340       2820      0.604      0.448      0.504      0.251\n",
      "\n",
      "      Epoch    GPU_mem     box_om     cls_om     dfl_om     box_oo     cls_oo     dfl_oo  Instances       Size\n"
     ]
    },
    {
     "name": "stderr",
     "output_type": "stream",
     "text": [
      "     68/100      6.01G      1.388      1.287       1.52      1.465      1.524      1.492          9        416: 100%|██████████| 392/392 [01:31<00:00,  4.29it/s]\n",
      "                 Class     Images  Instances      Box(P          R      mAP50  mAP50-95): 100%|██████████| 42/42 [00:13<00:00,  3.08it/s]\n"
     ]
    },
    {
     "name": "stdout",
     "output_type": "stream",
     "text": [
      "                   all       1340       2820      0.592       0.47      0.502      0.249\n",
      "\n",
      "      Epoch    GPU_mem     box_om     cls_om     dfl_om     box_oo     cls_oo     dfl_oo  Instances       Size\n"
     ]
    },
    {
     "name": "stderr",
     "output_type": "stream",
     "text": [
      "     69/100      6.01G      1.379      1.263      1.514      1.458      1.497      1.486         13        416: 100%|██████████| 392/392 [01:31<00:00,  4.29it/s]\n",
      "                 Class     Images  Instances      Box(P          R      mAP50  mAP50-95): 100%|██████████| 42/42 [00:13<00:00,  3.09it/s]\n"
     ]
    },
    {
     "name": "stdout",
     "output_type": "stream",
     "text": [
      "                   all       1340       2820      0.638      0.439      0.507      0.251\n",
      "\n",
      "      Epoch    GPU_mem     box_om     cls_om     dfl_om     box_oo     cls_oo     dfl_oo  Instances       Size\n"
     ]
    },
    {
     "name": "stderr",
     "output_type": "stream",
     "text": [
      "     70/100      6.01G      1.379       1.27      1.513       1.45      1.511      1.484         13        416: 100%|██████████| 392/392 [01:32<00:00,  4.26it/s]\n",
      "                 Class     Images  Instances      Box(P          R      mAP50  mAP50-95): 100%|██████████| 42/42 [00:13<00:00,  3.05it/s]\n"
     ]
    },
    {
     "name": "stdout",
     "output_type": "stream",
     "text": [
      "                   all       1340       2820      0.614      0.459      0.511      0.254\n",
      "\n",
      "      Epoch    GPU_mem     box_om     cls_om     dfl_om     box_oo     cls_oo     dfl_oo  Instances       Size\n"
     ]
    },
    {
     "name": "stderr",
     "output_type": "stream",
     "text": [
      "     71/100      6.01G       1.37       1.25      1.503      1.448      1.481      1.478          5        416: 100%|██████████| 392/392 [01:28<00:00,  4.44it/s]\n",
      "                 Class     Images  Instances      Box(P          R      mAP50  mAP50-95): 100%|██████████| 42/42 [00:13<00:00,  3.21it/s]\n"
     ]
    },
    {
     "name": "stdout",
     "output_type": "stream",
     "text": [
      "                   all       1340       2820      0.557      0.486      0.509       0.25\n",
      "\n",
      "      Epoch    GPU_mem     box_om     cls_om     dfl_om     box_oo     cls_oo     dfl_oo  Instances       Size\n"
     ]
    },
    {
     "name": "stderr",
     "output_type": "stream",
     "text": [
      "     72/100      6.01G       1.36      1.241      1.504      1.447      1.472       1.48         12        416: 100%|██████████| 392/392 [01:27<00:00,  4.46it/s]\n",
      "                 Class     Images  Instances      Box(P          R      mAP50  mAP50-95): 100%|██████████| 42/42 [00:12<00:00,  3.28it/s]\n"
     ]
    },
    {
     "name": "stdout",
     "output_type": "stream",
     "text": [
      "                   all       1340       2820      0.584      0.466        0.5      0.247\n",
      "\n",
      "      Epoch    GPU_mem     box_om     cls_om     dfl_om     box_oo     cls_oo     dfl_oo  Instances       Size\n"
     ]
    },
    {
     "name": "stderr",
     "output_type": "stream",
     "text": [
      "     73/100      6.01G      1.363      1.249        1.5       1.44      1.483      1.474         11        416: 100%|██████████| 392/392 [01:26<00:00,  4.52it/s]\n",
      "                 Class     Images  Instances      Box(P          R      mAP50  mAP50-95): 100%|██████████| 42/42 [00:12<00:00,  3.27it/s]\n"
     ]
    },
    {
     "name": "stdout",
     "output_type": "stream",
     "text": [
      "                   all       1340       2820      0.608       0.46      0.509      0.254\n",
      "\n",
      "      Epoch    GPU_mem     box_om     cls_om     dfl_om     box_oo     cls_oo     dfl_oo  Instances       Size\n"
     ]
    },
    {
     "name": "stderr",
     "output_type": "stream",
     "text": [
      "     74/100      6.01G      1.364      1.244        1.5      1.445       1.48      1.474          6        416: 100%|██████████| 392/392 [01:26<00:00,  4.51it/s]\n",
      "                 Class     Images  Instances      Box(P          R      mAP50  mAP50-95): 100%|██████████| 42/42 [00:12<00:00,  3.27it/s]\n"
     ]
    },
    {
     "name": "stdout",
     "output_type": "stream",
     "text": [
      "                   all       1340       2820      0.577      0.472      0.511      0.253\n",
      "\n",
      "      Epoch    GPU_mem     box_om     cls_om     dfl_om     box_oo     cls_oo     dfl_oo  Instances       Size\n"
     ]
    },
    {
     "name": "stderr",
     "output_type": "stream",
     "text": [
      "     75/100      6.01G      1.344      1.211      1.489      1.427      1.433      1.468          9        416: 100%|██████████| 392/392 [01:26<00:00,  4.51it/s]\n",
      "                 Class     Images  Instances      Box(P          R      mAP50  mAP50-95): 100%|██████████| 42/42 [00:12<00:00,  3.26it/s]\n"
     ]
    },
    {
     "name": "stdout",
     "output_type": "stream",
     "text": [
      "                   all       1340       2820      0.619      0.455      0.507       0.25\n",
      "\n",
      "      Epoch    GPU_mem     box_om     cls_om     dfl_om     box_oo     cls_oo     dfl_oo  Instances       Size\n"
     ]
    },
    {
     "name": "stderr",
     "output_type": "stream",
     "text": [
      "     76/100      6.01G      1.336      1.206      1.484      1.417      1.428      1.462          4        416: 100%|██████████| 392/392 [01:26<00:00,  4.52it/s]\n",
      "                 Class     Images  Instances      Box(P          R      mAP50  mAP50-95): 100%|██████████| 42/42 [00:12<00:00,  3.26it/s]\n"
     ]
    },
    {
     "name": "stdout",
     "output_type": "stream",
     "text": [
      "                   all       1340       2820      0.602       0.47      0.503      0.247\n",
      "\n",
      "      Epoch    GPU_mem     box_om     cls_om     dfl_om     box_oo     cls_oo     dfl_oo  Instances       Size\n"
     ]
    },
    {
     "name": "stderr",
     "output_type": "stream",
     "text": [
      "     77/100      6.01G      1.342      1.216      1.489      1.423      1.442      1.469         34        416: 100%|██████████| 392/392 [01:27<00:00,  4.50it/s]\n",
      "                 Class     Images  Instances      Box(P          R      mAP50  mAP50-95): 100%|██████████| 42/42 [00:12<00:00,  3.27it/s]\n"
     ]
    },
    {
     "name": "stdout",
     "output_type": "stream",
     "text": [
      "                   all       1340       2820      0.595      0.468      0.506      0.247\n",
      "\n",
      "      Epoch    GPU_mem     box_om     cls_om     dfl_om     box_oo     cls_oo     dfl_oo  Instances       Size\n"
     ]
    },
    {
     "name": "stderr",
     "output_type": "stream",
     "text": [
      "     78/100      6.01G      1.336      1.201      1.484      1.422      1.415      1.467         10        416: 100%|██████████| 392/392 [01:27<00:00,  4.48it/s]\n",
      "                 Class     Images  Instances      Box(P          R      mAP50  mAP50-95): 100%|██████████| 42/42 [00:12<00:00,  3.24it/s]\n"
     ]
    },
    {
     "name": "stdout",
     "output_type": "stream",
     "text": [
      "                   all       1340       2820      0.582      0.465        0.5      0.244\n",
      "\n",
      "      Epoch    GPU_mem     box_om     cls_om     dfl_om     box_oo     cls_oo     dfl_oo  Instances       Size\n"
     ]
    },
    {
     "name": "stderr",
     "output_type": "stream",
     "text": [
      "     79/100      6.01G      1.327      1.184      1.471      1.418      1.398      1.454         13        416: 100%|██████████| 392/392 [01:27<00:00,  4.49it/s]\n",
      "                 Class     Images  Instances      Box(P          R      mAP50  mAP50-95): 100%|██████████| 42/42 [00:12<00:00,  3.24it/s]\n"
     ]
    },
    {
     "name": "stdout",
     "output_type": "stream",
     "text": [
      "                   all       1340       2820      0.576      0.473      0.499      0.244\n",
      "\n",
      "      Epoch    GPU_mem     box_om     cls_om     dfl_om     box_oo     cls_oo     dfl_oo  Instances       Size\n"
     ]
    },
    {
     "name": "stderr",
     "output_type": "stream",
     "text": [
      "     80/100      6.01G      1.317       1.18       1.47      1.405       1.39      1.453         12        416: 100%|██████████| 392/392 [01:27<00:00,  4.50it/s]\n",
      "                 Class     Images  Instances      Box(P          R      mAP50  mAP50-95): 100%|██████████| 42/42 [00:12<00:00,  3.25it/s]\n"
     ]
    },
    {
     "name": "stdout",
     "output_type": "stream",
     "text": [
      "                   all       1340       2820      0.564      0.465      0.497      0.243\n",
      "\n",
      "      Epoch    GPU_mem     box_om     cls_om     dfl_om     box_oo     cls_oo     dfl_oo  Instances       Size\n"
     ]
    },
    {
     "name": "stderr",
     "output_type": "stream",
     "text": [
      "     81/100      6.01G      1.315      1.173      1.463      1.409      1.377      1.447         19        416: 100%|██████████| 392/392 [01:27<00:00,  4.49it/s]\n",
      "                 Class     Images  Instances      Box(P          R      mAP50  mAP50-95): 100%|██████████| 42/42 [00:12<00:00,  3.24it/s]\n"
     ]
    },
    {
     "name": "stdout",
     "output_type": "stream",
     "text": [
      "                   all       1340       2820      0.589      0.461      0.501      0.247\n",
      "\n",
      "      Epoch    GPU_mem     box_om     cls_om     dfl_om     box_oo     cls_oo     dfl_oo  Instances       Size\n"
     ]
    },
    {
     "name": "stderr",
     "output_type": "stream",
     "text": [
      "     82/100      6.01G      1.309      1.174      1.464        1.4      1.389      1.446         12        416: 100%|██████████| 392/392 [01:27<00:00,  4.49it/s]\n",
      "                 Class     Images  Instances      Box(P          R      mAP50  mAP50-95): 100%|██████████| 42/42 [00:12<00:00,  3.26it/s]\n"
     ]
    },
    {
     "name": "stdout",
     "output_type": "stream",
     "text": [
      "                   all       1340       2820      0.596      0.454      0.498      0.245\n",
      "\n",
      "      Epoch    GPU_mem     box_om     cls_om     dfl_om     box_oo     cls_oo     dfl_oo  Instances       Size\n"
     ]
    },
    {
     "name": "stderr",
     "output_type": "stream",
     "text": [
      "     83/100      6.01G       1.31      1.165      1.459      1.397      1.376      1.443         22        416: 100%|██████████| 392/392 [01:27<00:00,  4.49it/s]\n",
      "                 Class     Images  Instances      Box(P          R      mAP50  mAP50-95): 100%|██████████| 42/42 [00:12<00:00,  3.26it/s]\n"
     ]
    },
    {
     "name": "stdout",
     "output_type": "stream",
     "text": [
      "                   all       1340       2820      0.587      0.462      0.497      0.244\n",
      "\n",
      "      Epoch    GPU_mem     box_om     cls_om     dfl_om     box_oo     cls_oo     dfl_oo  Instances       Size\n"
     ]
    },
    {
     "name": "stderr",
     "output_type": "stream",
     "text": [
      "     84/100      6.01G      1.297      1.143      1.456      1.384      1.357      1.442         16        416: 100%|██████████| 392/392 [01:27<00:00,  4.48it/s]\n",
      "                 Class     Images  Instances      Box(P          R      mAP50  mAP50-95): 100%|██████████| 42/42 [00:12<00:00,  3.26it/s]\n"
     ]
    },
    {
     "name": "stdout",
     "output_type": "stream",
     "text": [
      "                   all       1340       2820      0.584      0.462      0.499      0.243\n",
      "\n",
      "      Epoch    GPU_mem     box_om     cls_om     dfl_om     box_oo     cls_oo     dfl_oo  Instances       Size\n"
     ]
    },
    {
     "name": "stderr",
     "output_type": "stream",
     "text": [
      "     85/100      6.01G      1.301      1.136      1.454      1.393      1.344      1.439         11        416: 100%|██████████| 392/392 [01:27<00:00,  4.49it/s]\n",
      "                 Class     Images  Instances      Box(P          R      mAP50  mAP50-95): 100%|██████████| 42/42 [00:12<00:00,  3.26it/s]\n"
     ]
    },
    {
     "name": "stdout",
     "output_type": "stream",
     "text": [
      "                   all       1340       2820      0.572      0.466      0.496      0.244\n",
      "\n",
      "      Epoch    GPU_mem     box_om     cls_om     dfl_om     box_oo     cls_oo     dfl_oo  Instances       Size\n"
     ]
    },
    {
     "name": "stderr",
     "output_type": "stream",
     "text": [
      "     86/100      6.01G      1.293      1.122      1.443       1.38      1.332      1.429         10        416: 100%|██████████| 392/392 [01:26<00:00,  4.51it/s]\n",
      "                 Class     Images  Instances      Box(P          R      mAP50  mAP50-95): 100%|██████████| 42/42 [00:12<00:00,  3.25it/s]\n"
     ]
    },
    {
     "name": "stdout",
     "output_type": "stream",
     "text": [
      "                   all       1340       2820      0.573      0.467      0.497      0.244\n",
      "\n",
      "      Epoch    GPU_mem     box_om     cls_om     dfl_om     box_oo     cls_oo     dfl_oo  Instances       Size\n"
     ]
    },
    {
     "name": "stderr",
     "output_type": "stream",
     "text": [
      "     87/100      6.01G      1.285      1.128      1.448      1.372      1.338      1.435          7        416: 100%|██████████| 392/392 [01:27<00:00,  4.50it/s]\n",
      "                 Class     Images  Instances      Box(P          R      mAP50  mAP50-95): 100%|██████████| 42/42 [00:12<00:00,  3.25it/s]\n"
     ]
    },
    {
     "name": "stdout",
     "output_type": "stream",
     "text": [
      "                   all       1340       2820      0.586      0.458        0.5      0.245\n",
      "\n",
      "      Epoch    GPU_mem     box_om     cls_om     dfl_om     box_oo     cls_oo     dfl_oo  Instances       Size\n"
     ]
    },
    {
     "name": "stderr",
     "output_type": "stream",
     "text": [
      "     88/100      6.01G      1.289      1.133      1.449       1.38      1.339      1.432         10        416: 100%|██████████| 392/392 [01:27<00:00,  4.49it/s]\n",
      "                 Class     Images  Instances      Box(P          R      mAP50  mAP50-95): 100%|██████████| 42/42 [00:12<00:00,  3.25it/s]\n"
     ]
    },
    {
     "name": "stdout",
     "output_type": "stream",
     "text": [
      "                   all       1340       2820      0.574      0.461      0.492      0.243\n",
      "\n",
      "      Epoch    GPU_mem     box_om     cls_om     dfl_om     box_oo     cls_oo     dfl_oo  Instances       Size\n"
     ]
    },
    {
     "name": "stderr",
     "output_type": "stream",
     "text": [
      "     89/100      6.01G       1.28      1.101      1.441      1.371      1.298      1.429         11        416: 100%|██████████| 392/392 [01:27<00:00,  4.49it/s]\n",
      "                 Class     Images  Instances      Box(P          R      mAP50  mAP50-95): 100%|██████████| 42/42 [00:12<00:00,  3.26it/s]\n"
     ]
    },
    {
     "name": "stdout",
     "output_type": "stream",
     "text": [
      "                   all       1340       2820      0.581      0.458      0.493      0.242\n",
      "\n",
      "      Epoch    GPU_mem     box_om     cls_om     dfl_om     box_oo     cls_oo     dfl_oo  Instances       Size\n"
     ]
    },
    {
     "name": "stderr",
     "output_type": "stream",
     "text": [
      "     90/100      6.01G      1.277      1.114      1.441       1.37      1.316      1.427         19        416: 100%|██████████| 392/392 [01:27<00:00,  4.50it/s]\n",
      "                 Class     Images  Instances      Box(P          R      mAP50  mAP50-95): 100%|██████████| 42/42 [00:12<00:00,  3.26it/s]\n"
     ]
    },
    {
     "name": "stdout",
     "output_type": "stream",
     "text": [
      "                   all       1340       2820      0.584      0.459      0.494      0.242\n",
      "Closing dataloader mosaic\n",
      "\n",
      "      Epoch    GPU_mem     box_om     cls_om     dfl_om     box_oo     cls_oo     dfl_oo  Instances       Size\n"
     ]
    },
    {
     "name": "stderr",
     "output_type": "stream",
     "text": [
      "     91/100      6.01G      1.259       1.02      1.444      1.352      1.145      1.446          7        416: 100%|██████████| 392/392 [01:26<00:00,  4.52it/s]\n",
      "                 Class     Images  Instances      Box(P          R      mAP50  mAP50-95): 100%|██████████| 42/42 [00:12<00:00,  3.25it/s]\n"
     ]
    },
    {
     "name": "stdout",
     "output_type": "stream",
     "text": [
      "                   all       1340       2820      0.545      0.473      0.492      0.241\n",
      "\n",
      "      Epoch    GPU_mem     box_om     cls_om     dfl_om     box_oo     cls_oo     dfl_oo  Instances       Size\n"
     ]
    },
    {
     "name": "stderr",
     "output_type": "stream",
     "text": [
      "     92/100      6.01G       1.25     0.9888      1.431      1.345      1.113      1.437          4        416: 100%|██████████| 392/392 [01:26<00:00,  4.51it/s]\n",
      "                 Class     Images  Instances      Box(P          R      mAP50  mAP50-95): 100%|██████████| 42/42 [00:12<00:00,  3.25it/s]\n"
     ]
    },
    {
     "name": "stdout",
     "output_type": "stream",
     "text": [
      "                   all       1340       2820       0.52      0.495       0.49      0.241\n",
      "\n",
      "      Epoch    GPU_mem     box_om     cls_om     dfl_om     box_oo     cls_oo     dfl_oo  Instances       Size\n"
     ]
    },
    {
     "name": "stderr",
     "output_type": "stream",
     "text": [
      "     93/100      6.01G      1.234     0.9758      1.428      1.327      1.098      1.434          4        416: 100%|██████████| 392/392 [01:26<00:00,  4.51it/s]\n",
      "                 Class     Images  Instances      Box(P          R      mAP50  mAP50-95): 100%|██████████| 42/42 [00:12<00:00,  3.24it/s]\n"
     ]
    },
    {
     "name": "stdout",
     "output_type": "stream",
     "text": [
      "                   all       1340       2820       0.54      0.481      0.492      0.242\n",
      "\n",
      "      Epoch    GPU_mem     box_om     cls_om     dfl_om     box_oo     cls_oo     dfl_oo  Instances       Size\n"
     ]
    },
    {
     "name": "stderr",
     "output_type": "stream",
     "text": [
      "     94/100      6.01G      1.229      0.966      1.418      1.329      1.088      1.426          5        416: 100%|██████████| 392/392 [01:27<00:00,  4.51it/s]\n",
      "                 Class     Images  Instances      Box(P          R      mAP50  mAP50-95): 100%|██████████| 42/42 [00:12<00:00,  3.25it/s]\n"
     ]
    },
    {
     "name": "stdout",
     "output_type": "stream",
     "text": [
      "                   all       1340       2820      0.522      0.481      0.489      0.241\n",
      "\n",
      "      Epoch    GPU_mem     box_om     cls_om     dfl_om     box_oo     cls_oo     dfl_oo  Instances       Size\n"
     ]
    },
    {
     "name": "stderr",
     "output_type": "stream",
     "text": [
      "     95/100      6.01G       1.21     0.9497       1.41      1.305      1.062      1.419          5        416: 100%|██████████| 392/392 [01:26<00:00,  4.51it/s]\n",
      "                 Class     Images  Instances      Box(P          R      mAP50  mAP50-95): 100%|██████████| 42/42 [00:12<00:00,  3.24it/s]\n"
     ]
    },
    {
     "name": "stdout",
     "output_type": "stream",
     "text": [
      "                   all       1340       2820      0.582      0.446      0.487       0.24\n",
      "\n",
      "      Epoch    GPU_mem     box_om     cls_om     dfl_om     box_oo     cls_oo     dfl_oo  Instances       Size\n"
     ]
    },
    {
     "name": "stderr",
     "output_type": "stream",
     "text": [
      "     96/100      6.01G      1.207     0.9461      1.408      1.302      1.051      1.418          5        416: 100%|██████████| 392/392 [01:26<00:00,  4.52it/s]\n",
      "                 Class     Images  Instances      Box(P          R      mAP50  mAP50-95): 100%|██████████| 42/42 [00:12<00:00,  3.24it/s]\n"
     ]
    },
    {
     "name": "stdout",
     "output_type": "stream",
     "text": [
      "                   all       1340       2820      0.564      0.453      0.482      0.236\n",
      "\n",
      "      Epoch    GPU_mem     box_om     cls_om     dfl_om     box_oo     cls_oo     dfl_oo  Instances       Size\n"
     ]
    },
    {
     "name": "stderr",
     "output_type": "stream",
     "text": [
      "     97/100      6.01G      1.205     0.9338      1.408        1.3      1.043      1.417          8        416: 100%|██████████| 392/392 [01:26<00:00,  4.51it/s]\n",
      "                 Class     Images  Instances      Box(P          R      mAP50  mAP50-95): 100%|██████████| 42/42 [00:12<00:00,  3.26it/s]\n"
     ]
    },
    {
     "name": "stdout",
     "output_type": "stream",
     "text": [
      "                   all       1340       2820      0.553      0.459      0.482      0.237\n",
      "\n",
      "      Epoch    GPU_mem     box_om     cls_om     dfl_om     box_oo     cls_oo     dfl_oo  Instances       Size\n"
     ]
    },
    {
     "name": "stderr",
     "output_type": "stream",
     "text": [
      "     98/100      6.01G      1.202     0.9308      1.408      1.299      1.046      1.416          8        416: 100%|██████████| 392/392 [01:26<00:00,  4.52it/s]\n",
      "                 Class     Images  Instances      Box(P          R      mAP50  mAP50-95): 100%|██████████| 42/42 [00:12<00:00,  3.23it/s]\n"
     ]
    },
    {
     "name": "stdout",
     "output_type": "stream",
     "text": [
      "                   all       1340       2820      0.556      0.461      0.482      0.236\n",
      "\n",
      "      Epoch    GPU_mem     box_om     cls_om     dfl_om     box_oo     cls_oo     dfl_oo  Instances       Size\n"
     ]
    },
    {
     "name": "stderr",
     "output_type": "stream",
     "text": [
      "     99/100      6.01G      1.191     0.9199      1.394       1.29      1.026      1.405          3        416: 100%|██████████| 392/392 [01:26<00:00,  4.52it/s]\n",
      "                 Class     Images  Instances      Box(P          R      mAP50  mAP50-95): 100%|██████████| 42/42 [00:12<00:00,  3.24it/s]\n"
     ]
    },
    {
     "name": "stdout",
     "output_type": "stream",
     "text": [
      "                   all       1340       2820       0.56      0.458      0.478      0.235\n",
      "\n",
      "      Epoch    GPU_mem     box_om     cls_om     dfl_om     box_oo     cls_oo     dfl_oo  Instances       Size\n"
     ]
    },
    {
     "name": "stderr",
     "output_type": "stream",
     "text": [
      "    100/100      6.01G      1.191     0.9143      1.395      1.289       1.02      1.407          2        416: 100%|██████████| 392/392 [01:26<00:00,  4.51it/s]\n",
      "                 Class     Images  Instances      Box(P          R      mAP50  mAP50-95): 100%|██████████| 42/42 [00:12<00:00,  3.25it/s]\n"
     ]
    },
    {
     "name": "stdout",
     "output_type": "stream",
     "text": [
      "                   all       1340       2820      0.562      0.453      0.478      0.235\n",
      "\n",
      "100 epochs completed in 2.872 hours.\n",
      "Optimizer stripped from runs\\detect\\train2\\weights\\last.pt, 41.4MB\n",
      "Optimizer stripped from runs\\detect\\train2\\weights\\best.pt, 41.4MB\n",
      "\n",
      "Validating runs\\detect\\train2\\weights\\best.pt...\n",
      "Ultralytics YOLOv8.1.34 🚀 Python-3.9.19 torch-2.0.1 CUDA:0 (NVIDIA GeForce RTX 3060 Ti, 8191MiB)\n",
      "YOLOv10b summary (fused): 383 layers, 20414236 parameters, 0 gradients, 97.9 GFLOPs\n"
     ]
    },
    {
     "name": "stderr",
     "output_type": "stream",
     "text": [
      "                 Class     Images  Instances      Box(P          R      mAP50  mAP50-95): 100%|██████████| 42/42 [00:12<00:00,  3.34it/s]\n"
     ]
    },
    {
     "name": "stdout",
     "output_type": "stream",
     "text": [
      "                   all       1340       2820      0.601      0.463      0.509      0.254\n",
      "                  fire       1340       1988      0.614      0.576      0.606      0.312\n",
      "                 smoke       1340        832      0.588       0.35      0.412      0.196\n",
      "Speed: 0.1ms preprocess, 6.3ms inference, 0.0ms loss, 0.1ms postprocess per image\n",
      "Results saved to \u001b[1mruns\\detect\\train2\u001b[0m\n"
     ]
    },
    {
     "data": {
      "text/plain": [
       "ultralytics.utils.metrics.DetMetrics object with attributes:\n",
       "\n",
       "ap_class_index: array([0, 1])\n",
       "box: ultralytics.utils.metrics.Metric object\n",
       "confusion_matrix: <ultralytics.utils.metrics.ConfusionMatrix object at 0x000001FE57F86A60>\n",
       "curves: ['Precision-Recall(B)', 'F1-Confidence(B)', 'Precision-Confidence(B)', 'Recall-Confidence(B)']\n",
       "curves_results: [[array([          0,    0.001001,    0.002002,    0.003003,    0.004004,    0.005005,    0.006006,    0.007007,    0.008008,    0.009009,     0.01001,    0.011011,    0.012012,    0.013013,    0.014014,    0.015015,    0.016016,    0.017017,    0.018018,    0.019019,     0.02002,    0.021021,    0.022022,    0.023023,\n",
       "          0.024024,    0.025025,    0.026026,    0.027027,    0.028028,    0.029029,     0.03003,    0.031031,    0.032032,    0.033033,    0.034034,    0.035035,    0.036036,    0.037037,    0.038038,    0.039039,     0.04004,    0.041041,    0.042042,    0.043043,    0.044044,    0.045045,    0.046046,    0.047047,\n",
       "          0.048048,    0.049049,     0.05005,    0.051051,    0.052052,    0.053053,    0.054054,    0.055055,    0.056056,    0.057057,    0.058058,    0.059059,     0.06006,    0.061061,    0.062062,    0.063063,    0.064064,    0.065065,    0.066066,    0.067067,    0.068068,    0.069069,     0.07007,    0.071071,\n",
       "          0.072072,    0.073073,    0.074074,    0.075075,    0.076076,    0.077077,    0.078078,    0.079079,     0.08008,    0.081081,    0.082082,    0.083083,    0.084084,    0.085085,    0.086086,    0.087087,    0.088088,    0.089089,     0.09009,    0.091091,    0.092092,    0.093093,    0.094094,    0.095095,\n",
       "          0.096096,    0.097097,    0.098098,    0.099099,      0.1001,      0.1011,      0.1021,      0.1031,      0.1041,     0.10511,     0.10611,     0.10711,     0.10811,     0.10911,     0.11011,     0.11111,     0.11211,     0.11311,     0.11411,     0.11512,     0.11612,     0.11712,     0.11812,     0.11912,\n",
       "           0.12012,     0.12112,     0.12212,     0.12312,     0.12412,     0.12513,     0.12613,     0.12713,     0.12813,     0.12913,     0.13013,     0.13113,     0.13213,     0.13313,     0.13413,     0.13514,     0.13614,     0.13714,     0.13814,     0.13914,     0.14014,     0.14114,     0.14214,     0.14314,\n",
       "           0.14414,     0.14515,     0.14615,     0.14715,     0.14815,     0.14915,     0.15015,     0.15115,     0.15215,     0.15315,     0.15415,     0.15516,     0.15616,     0.15716,     0.15816,     0.15916,     0.16016,     0.16116,     0.16216,     0.16316,     0.16416,     0.16517,     0.16617,     0.16717,\n",
       "           0.16817,     0.16917,     0.17017,     0.17117,     0.17217,     0.17317,     0.17417,     0.17518,     0.17618,     0.17718,     0.17818,     0.17918,     0.18018,     0.18118,     0.18218,     0.18318,     0.18418,     0.18519,     0.18619,     0.18719,     0.18819,     0.18919,     0.19019,     0.19119,\n",
       "           0.19219,     0.19319,     0.19419,      0.1952,      0.1962,      0.1972,      0.1982,      0.1992,      0.2002,      0.2012,      0.2022,      0.2032,      0.2042,     0.20521,     0.20621,     0.20721,     0.20821,     0.20921,     0.21021,     0.21121,     0.21221,     0.21321,     0.21421,     0.21522,\n",
       "           0.21622,     0.21722,     0.21822,     0.21922,     0.22022,     0.22122,     0.22222,     0.22322,     0.22422,     0.22523,     0.22623,     0.22723,     0.22823,     0.22923,     0.23023,     0.23123,     0.23223,     0.23323,     0.23423,     0.23524,     0.23624,     0.23724,     0.23824,     0.23924,\n",
       "           0.24024,     0.24124,     0.24224,     0.24324,     0.24424,     0.24525,     0.24625,     0.24725,     0.24825,     0.24925,     0.25025,     0.25125,     0.25225,     0.25325,     0.25425,     0.25526,     0.25626,     0.25726,     0.25826,     0.25926,     0.26026,     0.26126,     0.26226,     0.26326,\n",
       "           0.26426,     0.26527,     0.26627,     0.26727,     0.26827,     0.26927,     0.27027,     0.27127,     0.27227,     0.27327,     0.27427,     0.27528,     0.27628,     0.27728,     0.27828,     0.27928,     0.28028,     0.28128,     0.28228,     0.28328,     0.28428,     0.28529,     0.28629,     0.28729,\n",
       "           0.28829,     0.28929,     0.29029,     0.29129,     0.29229,     0.29329,     0.29429,      0.2953,      0.2963,      0.2973,      0.2983,      0.2993,      0.3003,      0.3013,      0.3023,      0.3033,      0.3043,     0.30531,     0.30631,     0.30731,     0.30831,     0.30931,     0.31031,     0.31131,\n",
       "           0.31231,     0.31331,     0.31431,     0.31532,     0.31632,     0.31732,     0.31832,     0.31932,     0.32032,     0.32132,     0.32232,     0.32332,     0.32432,     0.32533,     0.32633,     0.32733,     0.32833,     0.32933,     0.33033,     0.33133,     0.33233,     0.33333,     0.33433,     0.33534,\n",
       "           0.33634,     0.33734,     0.33834,     0.33934,     0.34034,     0.34134,     0.34234,     0.34334,     0.34434,     0.34535,     0.34635,     0.34735,     0.34835,     0.34935,     0.35035,     0.35135,     0.35235,     0.35335,     0.35435,     0.35536,     0.35636,     0.35736,     0.35836,     0.35936,\n",
       "           0.36036,     0.36136,     0.36236,     0.36336,     0.36436,     0.36537,     0.36637,     0.36737,     0.36837,     0.36937,     0.37037,     0.37137,     0.37237,     0.37337,     0.37437,     0.37538,     0.37638,     0.37738,     0.37838,     0.37938,     0.38038,     0.38138,     0.38238,     0.38338,\n",
       "           0.38438,     0.38539,     0.38639,     0.38739,     0.38839,     0.38939,     0.39039,     0.39139,     0.39239,     0.39339,     0.39439,      0.3954,      0.3964,      0.3974,      0.3984,      0.3994,      0.4004,      0.4014,      0.4024,      0.4034,      0.4044,     0.40541,     0.40641,     0.40741,\n",
       "           0.40841,     0.40941,     0.41041,     0.41141,     0.41241,     0.41341,     0.41441,     0.41542,     0.41642,     0.41742,     0.41842,     0.41942,     0.42042,     0.42142,     0.42242,     0.42342,     0.42442,     0.42543,     0.42643,     0.42743,     0.42843,     0.42943,     0.43043,     0.43143,\n",
       "           0.43243,     0.43343,     0.43443,     0.43544,     0.43644,     0.43744,     0.43844,     0.43944,     0.44044,     0.44144,     0.44244,     0.44344,     0.44444,     0.44545,     0.44645,     0.44745,     0.44845,     0.44945,     0.45045,     0.45145,     0.45245,     0.45345,     0.45445,     0.45546,\n",
       "           0.45646,     0.45746,     0.45846,     0.45946,     0.46046,     0.46146,     0.46246,     0.46346,     0.46446,     0.46547,     0.46647,     0.46747,     0.46847,     0.46947,     0.47047,     0.47147,     0.47247,     0.47347,     0.47447,     0.47548,     0.47648,     0.47748,     0.47848,     0.47948,\n",
       "           0.48048,     0.48148,     0.48248,     0.48348,     0.48448,     0.48549,     0.48649,     0.48749,     0.48849,     0.48949,     0.49049,     0.49149,     0.49249,     0.49349,     0.49449,      0.4955,      0.4965,      0.4975,      0.4985,      0.4995,      0.5005,      0.5015,      0.5025,      0.5035,\n",
       "            0.5045,     0.50551,     0.50651,     0.50751,     0.50851,     0.50951,     0.51051,     0.51151,     0.51251,     0.51351,     0.51451,     0.51552,     0.51652,     0.51752,     0.51852,     0.51952,     0.52052,     0.52152,     0.52252,     0.52352,     0.52452,     0.52553,     0.52653,     0.52753,\n",
       "           0.52853,     0.52953,     0.53053,     0.53153,     0.53253,     0.53353,     0.53453,     0.53554,     0.53654,     0.53754,     0.53854,     0.53954,     0.54054,     0.54154,     0.54254,     0.54354,     0.54454,     0.54555,     0.54655,     0.54755,     0.54855,     0.54955,     0.55055,     0.55155,\n",
       "           0.55255,     0.55355,     0.55455,     0.55556,     0.55656,     0.55756,     0.55856,     0.55956,     0.56056,     0.56156,     0.56256,     0.56356,     0.56456,     0.56557,     0.56657,     0.56757,     0.56857,     0.56957,     0.57057,     0.57157,     0.57257,     0.57357,     0.57457,     0.57558,\n",
       "           0.57658,     0.57758,     0.57858,     0.57958,     0.58058,     0.58158,     0.58258,     0.58358,     0.58458,     0.58559,     0.58659,     0.58759,     0.58859,     0.58959,     0.59059,     0.59159,     0.59259,     0.59359,     0.59459,      0.5956,      0.5966,      0.5976,      0.5986,      0.5996,\n",
       "            0.6006,      0.6016,      0.6026,      0.6036,      0.6046,     0.60561,     0.60661,     0.60761,     0.60861,     0.60961,     0.61061,     0.61161,     0.61261,     0.61361,     0.61461,     0.61562,     0.61662,     0.61762,     0.61862,     0.61962,     0.62062,     0.62162,     0.62262,     0.62362,\n",
       "           0.62462,     0.62563,     0.62663,     0.62763,     0.62863,     0.62963,     0.63063,     0.63163,     0.63263,     0.63363,     0.63463,     0.63564,     0.63664,     0.63764,     0.63864,     0.63964,     0.64064,     0.64164,     0.64264,     0.64364,     0.64464,     0.64565,     0.64665,     0.64765,\n",
       "           0.64865,     0.64965,     0.65065,     0.65165,     0.65265,     0.65365,     0.65465,     0.65566,     0.65666,     0.65766,     0.65866,     0.65966,     0.66066,     0.66166,     0.66266,     0.66366,     0.66466,     0.66567,     0.66667,     0.66767,     0.66867,     0.66967,     0.67067,     0.67167,\n",
       "           0.67267,     0.67367,     0.67467,     0.67568,     0.67668,     0.67768,     0.67868,     0.67968,     0.68068,     0.68168,     0.68268,     0.68368,     0.68468,     0.68569,     0.68669,     0.68769,     0.68869,     0.68969,     0.69069,     0.69169,     0.69269,     0.69369,     0.69469,      0.6957,\n",
       "            0.6967,      0.6977,      0.6987,      0.6997,      0.7007,      0.7017,      0.7027,      0.7037,      0.7047,     0.70571,     0.70671,     0.70771,     0.70871,     0.70971,     0.71071,     0.71171,     0.71271,     0.71371,     0.71471,     0.71572,     0.71672,     0.71772,     0.71872,     0.71972,\n",
       "           0.72072,     0.72172,     0.72272,     0.72372,     0.72472,     0.72573,     0.72673,     0.72773,     0.72873,     0.72973,     0.73073,     0.73173,     0.73273,     0.73373,     0.73473,     0.73574,     0.73674,     0.73774,     0.73874,     0.73974,     0.74074,     0.74174,     0.74274,     0.74374,\n",
       "           0.74474,     0.74575,     0.74675,     0.74775,     0.74875,     0.74975,     0.75075,     0.75175,     0.75275,     0.75375,     0.75475,     0.75576,     0.75676,     0.75776,     0.75876,     0.75976,     0.76076,     0.76176,     0.76276,     0.76376,     0.76476,     0.76577,     0.76677,     0.76777,\n",
       "           0.76877,     0.76977,     0.77077,     0.77177,     0.77277,     0.77377,     0.77477,     0.77578,     0.77678,     0.77778,     0.77878,     0.77978,     0.78078,     0.78178,     0.78278,     0.78378,     0.78478,     0.78579,     0.78679,     0.78779,     0.78879,     0.78979,     0.79079,     0.79179,\n",
       "           0.79279,     0.79379,     0.79479,      0.7958,      0.7968,      0.7978,      0.7988,      0.7998,      0.8008,      0.8018,      0.8028,      0.8038,      0.8048,     0.80581,     0.80681,     0.80781,     0.80881,     0.80981,     0.81081,     0.81181,     0.81281,     0.81381,     0.81481,     0.81582,\n",
       "           0.81682,     0.81782,     0.81882,     0.81982,     0.82082,     0.82182,     0.82282,     0.82382,     0.82482,     0.82583,     0.82683,     0.82783,     0.82883,     0.82983,     0.83083,     0.83183,     0.83283,     0.83383,     0.83483,     0.83584,     0.83684,     0.83784,     0.83884,     0.83984,\n",
       "           0.84084,     0.84184,     0.84284,     0.84384,     0.84484,     0.84585,     0.84685,     0.84785,     0.84885,     0.84985,     0.85085,     0.85185,     0.85285,     0.85385,     0.85485,     0.85586,     0.85686,     0.85786,     0.85886,     0.85986,     0.86086,     0.86186,     0.86286,     0.86386,\n",
       "           0.86486,     0.86587,     0.86687,     0.86787,     0.86887,     0.86987,     0.87087,     0.87187,     0.87287,     0.87387,     0.87487,     0.87588,     0.87688,     0.87788,     0.87888,     0.87988,     0.88088,     0.88188,     0.88288,     0.88388,     0.88488,     0.88589,     0.88689,     0.88789,\n",
       "           0.88889,     0.88989,     0.89089,     0.89189,     0.89289,     0.89389,     0.89489,      0.8959,      0.8969,      0.8979,      0.8989,      0.8999,      0.9009,      0.9019,      0.9029,      0.9039,      0.9049,     0.90591,     0.90691,     0.90791,     0.90891,     0.90991,     0.91091,     0.91191,\n",
       "           0.91291,     0.91391,     0.91491,     0.91592,     0.91692,     0.91792,     0.91892,     0.91992,     0.92092,     0.92192,     0.92292,     0.92392,     0.92492,     0.92593,     0.92693,     0.92793,     0.92893,     0.92993,     0.93093,     0.93193,     0.93293,     0.93393,     0.93493,     0.93594,\n",
       "           0.93694,     0.93794,     0.93894,     0.93994,     0.94094,     0.94194,     0.94294,     0.94394,     0.94494,     0.94595,     0.94695,     0.94795,     0.94895,     0.94995,     0.95095,     0.95195,     0.95295,     0.95395,     0.95495,     0.95596,     0.95696,     0.95796,     0.95896,     0.95996,\n",
       "           0.96096,     0.96196,     0.96296,     0.96396,     0.96496,     0.96597,     0.96697,     0.96797,     0.96897,     0.96997,     0.97097,     0.97197,     0.97297,     0.97397,     0.97497,     0.97598,     0.97698,     0.97798,     0.97898,     0.97998,     0.98098,     0.98198,     0.98298,     0.98398,\n",
       "           0.98498,     0.98599,     0.98699,     0.98799,     0.98899,     0.98999,     0.99099,     0.99199,     0.99299,     0.99399,     0.99499,       0.996,       0.997,       0.998,       0.999,           1]), array([[          1,           1,           1, ...,   0.0006259,  0.00031295,           0],\n",
       "       [          1,           1,     0.97297, ...,  0.00011002,  5.5011e-05,           0]]), 'Recall', 'Precision'], [array([          0,    0.001001,    0.002002,    0.003003,    0.004004,    0.005005,    0.006006,    0.007007,    0.008008,    0.009009,     0.01001,    0.011011,    0.012012,    0.013013,    0.014014,    0.015015,    0.016016,    0.017017,    0.018018,    0.019019,     0.02002,    0.021021,    0.022022,    0.023023,\n",
       "          0.024024,    0.025025,    0.026026,    0.027027,    0.028028,    0.029029,     0.03003,    0.031031,    0.032032,    0.033033,    0.034034,    0.035035,    0.036036,    0.037037,    0.038038,    0.039039,     0.04004,    0.041041,    0.042042,    0.043043,    0.044044,    0.045045,    0.046046,    0.047047,\n",
       "          0.048048,    0.049049,     0.05005,    0.051051,    0.052052,    0.053053,    0.054054,    0.055055,    0.056056,    0.057057,    0.058058,    0.059059,     0.06006,    0.061061,    0.062062,    0.063063,    0.064064,    0.065065,    0.066066,    0.067067,    0.068068,    0.069069,     0.07007,    0.071071,\n",
       "          0.072072,    0.073073,    0.074074,    0.075075,    0.076076,    0.077077,    0.078078,    0.079079,     0.08008,    0.081081,    0.082082,    0.083083,    0.084084,    0.085085,    0.086086,    0.087087,    0.088088,    0.089089,     0.09009,    0.091091,    0.092092,    0.093093,    0.094094,    0.095095,\n",
       "          0.096096,    0.097097,    0.098098,    0.099099,      0.1001,      0.1011,      0.1021,      0.1031,      0.1041,     0.10511,     0.10611,     0.10711,     0.10811,     0.10911,     0.11011,     0.11111,     0.11211,     0.11311,     0.11411,     0.11512,     0.11612,     0.11712,     0.11812,     0.11912,\n",
       "           0.12012,     0.12112,     0.12212,     0.12312,     0.12412,     0.12513,     0.12613,     0.12713,     0.12813,     0.12913,     0.13013,     0.13113,     0.13213,     0.13313,     0.13413,     0.13514,     0.13614,     0.13714,     0.13814,     0.13914,     0.14014,     0.14114,     0.14214,     0.14314,\n",
       "           0.14414,     0.14515,     0.14615,     0.14715,     0.14815,     0.14915,     0.15015,     0.15115,     0.15215,     0.15315,     0.15415,     0.15516,     0.15616,     0.15716,     0.15816,     0.15916,     0.16016,     0.16116,     0.16216,     0.16316,     0.16416,     0.16517,     0.16617,     0.16717,\n",
       "           0.16817,     0.16917,     0.17017,     0.17117,     0.17217,     0.17317,     0.17417,     0.17518,     0.17618,     0.17718,     0.17818,     0.17918,     0.18018,     0.18118,     0.18218,     0.18318,     0.18418,     0.18519,     0.18619,     0.18719,     0.18819,     0.18919,     0.19019,     0.19119,\n",
       "           0.19219,     0.19319,     0.19419,      0.1952,      0.1962,      0.1972,      0.1982,      0.1992,      0.2002,      0.2012,      0.2022,      0.2032,      0.2042,     0.20521,     0.20621,     0.20721,     0.20821,     0.20921,     0.21021,     0.21121,     0.21221,     0.21321,     0.21421,     0.21522,\n",
       "           0.21622,     0.21722,     0.21822,     0.21922,     0.22022,     0.22122,     0.22222,     0.22322,     0.22422,     0.22523,     0.22623,     0.22723,     0.22823,     0.22923,     0.23023,     0.23123,     0.23223,     0.23323,     0.23423,     0.23524,     0.23624,     0.23724,     0.23824,     0.23924,\n",
       "           0.24024,     0.24124,     0.24224,     0.24324,     0.24424,     0.24525,     0.24625,     0.24725,     0.24825,     0.24925,     0.25025,     0.25125,     0.25225,     0.25325,     0.25425,     0.25526,     0.25626,     0.25726,     0.25826,     0.25926,     0.26026,     0.26126,     0.26226,     0.26326,\n",
       "           0.26426,     0.26527,     0.26627,     0.26727,     0.26827,     0.26927,     0.27027,     0.27127,     0.27227,     0.27327,     0.27427,     0.27528,     0.27628,     0.27728,     0.27828,     0.27928,     0.28028,     0.28128,     0.28228,     0.28328,     0.28428,     0.28529,     0.28629,     0.28729,\n",
       "           0.28829,     0.28929,     0.29029,     0.29129,     0.29229,     0.29329,     0.29429,      0.2953,      0.2963,      0.2973,      0.2983,      0.2993,      0.3003,      0.3013,      0.3023,      0.3033,      0.3043,     0.30531,     0.30631,     0.30731,     0.30831,     0.30931,     0.31031,     0.31131,\n",
       "           0.31231,     0.31331,     0.31431,     0.31532,     0.31632,     0.31732,     0.31832,     0.31932,     0.32032,     0.32132,     0.32232,     0.32332,     0.32432,     0.32533,     0.32633,     0.32733,     0.32833,     0.32933,     0.33033,     0.33133,     0.33233,     0.33333,     0.33433,     0.33534,\n",
       "           0.33634,     0.33734,     0.33834,     0.33934,     0.34034,     0.34134,     0.34234,     0.34334,     0.34434,     0.34535,     0.34635,     0.34735,     0.34835,     0.34935,     0.35035,     0.35135,     0.35235,     0.35335,     0.35435,     0.35536,     0.35636,     0.35736,     0.35836,     0.35936,\n",
       "           0.36036,     0.36136,     0.36236,     0.36336,     0.36436,     0.36537,     0.36637,     0.36737,     0.36837,     0.36937,     0.37037,     0.37137,     0.37237,     0.37337,     0.37437,     0.37538,     0.37638,     0.37738,     0.37838,     0.37938,     0.38038,     0.38138,     0.38238,     0.38338,\n",
       "           0.38438,     0.38539,     0.38639,     0.38739,     0.38839,     0.38939,     0.39039,     0.39139,     0.39239,     0.39339,     0.39439,      0.3954,      0.3964,      0.3974,      0.3984,      0.3994,      0.4004,      0.4014,      0.4024,      0.4034,      0.4044,     0.40541,     0.40641,     0.40741,\n",
       "           0.40841,     0.40941,     0.41041,     0.41141,     0.41241,     0.41341,     0.41441,     0.41542,     0.41642,     0.41742,     0.41842,     0.41942,     0.42042,     0.42142,     0.42242,     0.42342,     0.42442,     0.42543,     0.42643,     0.42743,     0.42843,     0.42943,     0.43043,     0.43143,\n",
       "           0.43243,     0.43343,     0.43443,     0.43544,     0.43644,     0.43744,     0.43844,     0.43944,     0.44044,     0.44144,     0.44244,     0.44344,     0.44444,     0.44545,     0.44645,     0.44745,     0.44845,     0.44945,     0.45045,     0.45145,     0.45245,     0.45345,     0.45445,     0.45546,\n",
       "           0.45646,     0.45746,     0.45846,     0.45946,     0.46046,     0.46146,     0.46246,     0.46346,     0.46446,     0.46547,     0.46647,     0.46747,     0.46847,     0.46947,     0.47047,     0.47147,     0.47247,     0.47347,     0.47447,     0.47548,     0.47648,     0.47748,     0.47848,     0.47948,\n",
       "           0.48048,     0.48148,     0.48248,     0.48348,     0.48448,     0.48549,     0.48649,     0.48749,     0.48849,     0.48949,     0.49049,     0.49149,     0.49249,     0.49349,     0.49449,      0.4955,      0.4965,      0.4975,      0.4985,      0.4995,      0.5005,      0.5015,      0.5025,      0.5035,\n",
       "            0.5045,     0.50551,     0.50651,     0.50751,     0.50851,     0.50951,     0.51051,     0.51151,     0.51251,     0.51351,     0.51451,     0.51552,     0.51652,     0.51752,     0.51852,     0.51952,     0.52052,     0.52152,     0.52252,     0.52352,     0.52452,     0.52553,     0.52653,     0.52753,\n",
       "           0.52853,     0.52953,     0.53053,     0.53153,     0.53253,     0.53353,     0.53453,     0.53554,     0.53654,     0.53754,     0.53854,     0.53954,     0.54054,     0.54154,     0.54254,     0.54354,     0.54454,     0.54555,     0.54655,     0.54755,     0.54855,     0.54955,     0.55055,     0.55155,\n",
       "           0.55255,     0.55355,     0.55455,     0.55556,     0.55656,     0.55756,     0.55856,     0.55956,     0.56056,     0.56156,     0.56256,     0.56356,     0.56456,     0.56557,     0.56657,     0.56757,     0.56857,     0.56957,     0.57057,     0.57157,     0.57257,     0.57357,     0.57457,     0.57558,\n",
       "           0.57658,     0.57758,     0.57858,     0.57958,     0.58058,     0.58158,     0.58258,     0.58358,     0.58458,     0.58559,     0.58659,     0.58759,     0.58859,     0.58959,     0.59059,     0.59159,     0.59259,     0.59359,     0.59459,      0.5956,      0.5966,      0.5976,      0.5986,      0.5996,\n",
       "            0.6006,      0.6016,      0.6026,      0.6036,      0.6046,     0.60561,     0.60661,     0.60761,     0.60861,     0.60961,     0.61061,     0.61161,     0.61261,     0.61361,     0.61461,     0.61562,     0.61662,     0.61762,     0.61862,     0.61962,     0.62062,     0.62162,     0.62262,     0.62362,\n",
       "           0.62462,     0.62563,     0.62663,     0.62763,     0.62863,     0.62963,     0.63063,     0.63163,     0.63263,     0.63363,     0.63463,     0.63564,     0.63664,     0.63764,     0.63864,     0.63964,     0.64064,     0.64164,     0.64264,     0.64364,     0.64464,     0.64565,     0.64665,     0.64765,\n",
       "           0.64865,     0.64965,     0.65065,     0.65165,     0.65265,     0.65365,     0.65465,     0.65566,     0.65666,     0.65766,     0.65866,     0.65966,     0.66066,     0.66166,     0.66266,     0.66366,     0.66466,     0.66567,     0.66667,     0.66767,     0.66867,     0.66967,     0.67067,     0.67167,\n",
       "           0.67267,     0.67367,     0.67467,     0.67568,     0.67668,     0.67768,     0.67868,     0.67968,     0.68068,     0.68168,     0.68268,     0.68368,     0.68468,     0.68569,     0.68669,     0.68769,     0.68869,     0.68969,     0.69069,     0.69169,     0.69269,     0.69369,     0.69469,      0.6957,\n",
       "            0.6967,      0.6977,      0.6987,      0.6997,      0.7007,      0.7017,      0.7027,      0.7037,      0.7047,     0.70571,     0.70671,     0.70771,     0.70871,     0.70971,     0.71071,     0.71171,     0.71271,     0.71371,     0.71471,     0.71572,     0.71672,     0.71772,     0.71872,     0.71972,\n",
       "           0.72072,     0.72172,     0.72272,     0.72372,     0.72472,     0.72573,     0.72673,     0.72773,     0.72873,     0.72973,     0.73073,     0.73173,     0.73273,     0.73373,     0.73473,     0.73574,     0.73674,     0.73774,     0.73874,     0.73974,     0.74074,     0.74174,     0.74274,     0.74374,\n",
       "           0.74474,     0.74575,     0.74675,     0.74775,     0.74875,     0.74975,     0.75075,     0.75175,     0.75275,     0.75375,     0.75475,     0.75576,     0.75676,     0.75776,     0.75876,     0.75976,     0.76076,     0.76176,     0.76276,     0.76376,     0.76476,     0.76577,     0.76677,     0.76777,\n",
       "           0.76877,     0.76977,     0.77077,     0.77177,     0.77277,     0.77377,     0.77477,     0.77578,     0.77678,     0.77778,     0.77878,     0.77978,     0.78078,     0.78178,     0.78278,     0.78378,     0.78478,     0.78579,     0.78679,     0.78779,     0.78879,     0.78979,     0.79079,     0.79179,\n",
       "           0.79279,     0.79379,     0.79479,      0.7958,      0.7968,      0.7978,      0.7988,      0.7998,      0.8008,      0.8018,      0.8028,      0.8038,      0.8048,     0.80581,     0.80681,     0.80781,     0.80881,     0.80981,     0.81081,     0.81181,     0.81281,     0.81381,     0.81481,     0.81582,\n",
       "           0.81682,     0.81782,     0.81882,     0.81982,     0.82082,     0.82182,     0.82282,     0.82382,     0.82482,     0.82583,     0.82683,     0.82783,     0.82883,     0.82983,     0.83083,     0.83183,     0.83283,     0.83383,     0.83483,     0.83584,     0.83684,     0.83784,     0.83884,     0.83984,\n",
       "           0.84084,     0.84184,     0.84284,     0.84384,     0.84484,     0.84585,     0.84685,     0.84785,     0.84885,     0.84985,     0.85085,     0.85185,     0.85285,     0.85385,     0.85485,     0.85586,     0.85686,     0.85786,     0.85886,     0.85986,     0.86086,     0.86186,     0.86286,     0.86386,\n",
       "           0.86486,     0.86587,     0.86687,     0.86787,     0.86887,     0.86987,     0.87087,     0.87187,     0.87287,     0.87387,     0.87487,     0.87588,     0.87688,     0.87788,     0.87888,     0.87988,     0.88088,     0.88188,     0.88288,     0.88388,     0.88488,     0.88589,     0.88689,     0.88789,\n",
       "           0.88889,     0.88989,     0.89089,     0.89189,     0.89289,     0.89389,     0.89489,      0.8959,      0.8969,      0.8979,      0.8989,      0.8999,      0.9009,      0.9019,      0.9029,      0.9039,      0.9049,     0.90591,     0.90691,     0.90791,     0.90891,     0.90991,     0.91091,     0.91191,\n",
       "           0.91291,     0.91391,     0.91491,     0.91592,     0.91692,     0.91792,     0.91892,     0.91992,     0.92092,     0.92192,     0.92292,     0.92392,     0.92492,     0.92593,     0.92693,     0.92793,     0.92893,     0.92993,     0.93093,     0.93193,     0.93293,     0.93393,     0.93493,     0.93594,\n",
       "           0.93694,     0.93794,     0.93894,     0.93994,     0.94094,     0.94194,     0.94294,     0.94394,     0.94494,     0.94595,     0.94695,     0.94795,     0.94895,     0.94995,     0.95095,     0.95195,     0.95295,     0.95395,     0.95495,     0.95596,     0.95696,     0.95796,     0.95896,     0.95996,\n",
       "           0.96096,     0.96196,     0.96296,     0.96396,     0.96496,     0.96597,     0.96697,     0.96797,     0.96897,     0.96997,     0.97097,     0.97197,     0.97297,     0.97397,     0.97497,     0.97598,     0.97698,     0.97798,     0.97898,     0.97998,     0.98098,     0.98198,     0.98298,     0.98398,\n",
       "           0.98498,     0.98599,     0.98699,     0.98799,     0.98899,     0.98999,     0.99099,     0.99199,     0.99299,     0.99399,     0.99499,       0.996,       0.997,       0.998,       0.999,           1]), array([[    0.02023,    0.083826,     0.11603, ...,           0,           0,           0],\n",
       "       [  0.0072377,    0.042259,    0.065474, ...,           0,           0,           0]]), 'Confidence', 'F1'], [array([          0,    0.001001,    0.002002,    0.003003,    0.004004,    0.005005,    0.006006,    0.007007,    0.008008,    0.009009,     0.01001,    0.011011,    0.012012,    0.013013,    0.014014,    0.015015,    0.016016,    0.017017,    0.018018,    0.019019,     0.02002,    0.021021,    0.022022,    0.023023,\n",
       "          0.024024,    0.025025,    0.026026,    0.027027,    0.028028,    0.029029,     0.03003,    0.031031,    0.032032,    0.033033,    0.034034,    0.035035,    0.036036,    0.037037,    0.038038,    0.039039,     0.04004,    0.041041,    0.042042,    0.043043,    0.044044,    0.045045,    0.046046,    0.047047,\n",
       "          0.048048,    0.049049,     0.05005,    0.051051,    0.052052,    0.053053,    0.054054,    0.055055,    0.056056,    0.057057,    0.058058,    0.059059,     0.06006,    0.061061,    0.062062,    0.063063,    0.064064,    0.065065,    0.066066,    0.067067,    0.068068,    0.069069,     0.07007,    0.071071,\n",
       "          0.072072,    0.073073,    0.074074,    0.075075,    0.076076,    0.077077,    0.078078,    0.079079,     0.08008,    0.081081,    0.082082,    0.083083,    0.084084,    0.085085,    0.086086,    0.087087,    0.088088,    0.089089,     0.09009,    0.091091,    0.092092,    0.093093,    0.094094,    0.095095,\n",
       "          0.096096,    0.097097,    0.098098,    0.099099,      0.1001,      0.1011,      0.1021,      0.1031,      0.1041,     0.10511,     0.10611,     0.10711,     0.10811,     0.10911,     0.11011,     0.11111,     0.11211,     0.11311,     0.11411,     0.11512,     0.11612,     0.11712,     0.11812,     0.11912,\n",
       "           0.12012,     0.12112,     0.12212,     0.12312,     0.12412,     0.12513,     0.12613,     0.12713,     0.12813,     0.12913,     0.13013,     0.13113,     0.13213,     0.13313,     0.13413,     0.13514,     0.13614,     0.13714,     0.13814,     0.13914,     0.14014,     0.14114,     0.14214,     0.14314,\n",
       "           0.14414,     0.14515,     0.14615,     0.14715,     0.14815,     0.14915,     0.15015,     0.15115,     0.15215,     0.15315,     0.15415,     0.15516,     0.15616,     0.15716,     0.15816,     0.15916,     0.16016,     0.16116,     0.16216,     0.16316,     0.16416,     0.16517,     0.16617,     0.16717,\n",
       "           0.16817,     0.16917,     0.17017,     0.17117,     0.17217,     0.17317,     0.17417,     0.17518,     0.17618,     0.17718,     0.17818,     0.17918,     0.18018,     0.18118,     0.18218,     0.18318,     0.18418,     0.18519,     0.18619,     0.18719,     0.18819,     0.18919,     0.19019,     0.19119,\n",
       "           0.19219,     0.19319,     0.19419,      0.1952,      0.1962,      0.1972,      0.1982,      0.1992,      0.2002,      0.2012,      0.2022,      0.2032,      0.2042,     0.20521,     0.20621,     0.20721,     0.20821,     0.20921,     0.21021,     0.21121,     0.21221,     0.21321,     0.21421,     0.21522,\n",
       "           0.21622,     0.21722,     0.21822,     0.21922,     0.22022,     0.22122,     0.22222,     0.22322,     0.22422,     0.22523,     0.22623,     0.22723,     0.22823,     0.22923,     0.23023,     0.23123,     0.23223,     0.23323,     0.23423,     0.23524,     0.23624,     0.23724,     0.23824,     0.23924,\n",
       "           0.24024,     0.24124,     0.24224,     0.24324,     0.24424,     0.24525,     0.24625,     0.24725,     0.24825,     0.24925,     0.25025,     0.25125,     0.25225,     0.25325,     0.25425,     0.25526,     0.25626,     0.25726,     0.25826,     0.25926,     0.26026,     0.26126,     0.26226,     0.26326,\n",
       "           0.26426,     0.26527,     0.26627,     0.26727,     0.26827,     0.26927,     0.27027,     0.27127,     0.27227,     0.27327,     0.27427,     0.27528,     0.27628,     0.27728,     0.27828,     0.27928,     0.28028,     0.28128,     0.28228,     0.28328,     0.28428,     0.28529,     0.28629,     0.28729,\n",
       "           0.28829,     0.28929,     0.29029,     0.29129,     0.29229,     0.29329,     0.29429,      0.2953,      0.2963,      0.2973,      0.2983,      0.2993,      0.3003,      0.3013,      0.3023,      0.3033,      0.3043,     0.30531,     0.30631,     0.30731,     0.30831,     0.30931,     0.31031,     0.31131,\n",
       "           0.31231,     0.31331,     0.31431,     0.31532,     0.31632,     0.31732,     0.31832,     0.31932,     0.32032,     0.32132,     0.32232,     0.32332,     0.32432,     0.32533,     0.32633,     0.32733,     0.32833,     0.32933,     0.33033,     0.33133,     0.33233,     0.33333,     0.33433,     0.33534,\n",
       "           0.33634,     0.33734,     0.33834,     0.33934,     0.34034,     0.34134,     0.34234,     0.34334,     0.34434,     0.34535,     0.34635,     0.34735,     0.34835,     0.34935,     0.35035,     0.35135,     0.35235,     0.35335,     0.35435,     0.35536,     0.35636,     0.35736,     0.35836,     0.35936,\n",
       "           0.36036,     0.36136,     0.36236,     0.36336,     0.36436,     0.36537,     0.36637,     0.36737,     0.36837,     0.36937,     0.37037,     0.37137,     0.37237,     0.37337,     0.37437,     0.37538,     0.37638,     0.37738,     0.37838,     0.37938,     0.38038,     0.38138,     0.38238,     0.38338,\n",
       "           0.38438,     0.38539,     0.38639,     0.38739,     0.38839,     0.38939,     0.39039,     0.39139,     0.39239,     0.39339,     0.39439,      0.3954,      0.3964,      0.3974,      0.3984,      0.3994,      0.4004,      0.4014,      0.4024,      0.4034,      0.4044,     0.40541,     0.40641,     0.40741,\n",
       "           0.40841,     0.40941,     0.41041,     0.41141,     0.41241,     0.41341,     0.41441,     0.41542,     0.41642,     0.41742,     0.41842,     0.41942,     0.42042,     0.42142,     0.42242,     0.42342,     0.42442,     0.42543,     0.42643,     0.42743,     0.42843,     0.42943,     0.43043,     0.43143,\n",
       "           0.43243,     0.43343,     0.43443,     0.43544,     0.43644,     0.43744,     0.43844,     0.43944,     0.44044,     0.44144,     0.44244,     0.44344,     0.44444,     0.44545,     0.44645,     0.44745,     0.44845,     0.44945,     0.45045,     0.45145,     0.45245,     0.45345,     0.45445,     0.45546,\n",
       "           0.45646,     0.45746,     0.45846,     0.45946,     0.46046,     0.46146,     0.46246,     0.46346,     0.46446,     0.46547,     0.46647,     0.46747,     0.46847,     0.46947,     0.47047,     0.47147,     0.47247,     0.47347,     0.47447,     0.47548,     0.47648,     0.47748,     0.47848,     0.47948,\n",
       "           0.48048,     0.48148,     0.48248,     0.48348,     0.48448,     0.48549,     0.48649,     0.48749,     0.48849,     0.48949,     0.49049,     0.49149,     0.49249,     0.49349,     0.49449,      0.4955,      0.4965,      0.4975,      0.4985,      0.4995,      0.5005,      0.5015,      0.5025,      0.5035,\n",
       "            0.5045,     0.50551,     0.50651,     0.50751,     0.50851,     0.50951,     0.51051,     0.51151,     0.51251,     0.51351,     0.51451,     0.51552,     0.51652,     0.51752,     0.51852,     0.51952,     0.52052,     0.52152,     0.52252,     0.52352,     0.52452,     0.52553,     0.52653,     0.52753,\n",
       "           0.52853,     0.52953,     0.53053,     0.53153,     0.53253,     0.53353,     0.53453,     0.53554,     0.53654,     0.53754,     0.53854,     0.53954,     0.54054,     0.54154,     0.54254,     0.54354,     0.54454,     0.54555,     0.54655,     0.54755,     0.54855,     0.54955,     0.55055,     0.55155,\n",
       "           0.55255,     0.55355,     0.55455,     0.55556,     0.55656,     0.55756,     0.55856,     0.55956,     0.56056,     0.56156,     0.56256,     0.56356,     0.56456,     0.56557,     0.56657,     0.56757,     0.56857,     0.56957,     0.57057,     0.57157,     0.57257,     0.57357,     0.57457,     0.57558,\n",
       "           0.57658,     0.57758,     0.57858,     0.57958,     0.58058,     0.58158,     0.58258,     0.58358,     0.58458,     0.58559,     0.58659,     0.58759,     0.58859,     0.58959,     0.59059,     0.59159,     0.59259,     0.59359,     0.59459,      0.5956,      0.5966,      0.5976,      0.5986,      0.5996,\n",
       "            0.6006,      0.6016,      0.6026,      0.6036,      0.6046,     0.60561,     0.60661,     0.60761,     0.60861,     0.60961,     0.61061,     0.61161,     0.61261,     0.61361,     0.61461,     0.61562,     0.61662,     0.61762,     0.61862,     0.61962,     0.62062,     0.62162,     0.62262,     0.62362,\n",
       "           0.62462,     0.62563,     0.62663,     0.62763,     0.62863,     0.62963,     0.63063,     0.63163,     0.63263,     0.63363,     0.63463,     0.63564,     0.63664,     0.63764,     0.63864,     0.63964,     0.64064,     0.64164,     0.64264,     0.64364,     0.64464,     0.64565,     0.64665,     0.64765,\n",
       "           0.64865,     0.64965,     0.65065,     0.65165,     0.65265,     0.65365,     0.65465,     0.65566,     0.65666,     0.65766,     0.65866,     0.65966,     0.66066,     0.66166,     0.66266,     0.66366,     0.66466,     0.66567,     0.66667,     0.66767,     0.66867,     0.66967,     0.67067,     0.67167,\n",
       "           0.67267,     0.67367,     0.67467,     0.67568,     0.67668,     0.67768,     0.67868,     0.67968,     0.68068,     0.68168,     0.68268,     0.68368,     0.68468,     0.68569,     0.68669,     0.68769,     0.68869,     0.68969,     0.69069,     0.69169,     0.69269,     0.69369,     0.69469,      0.6957,\n",
       "            0.6967,      0.6977,      0.6987,      0.6997,      0.7007,      0.7017,      0.7027,      0.7037,      0.7047,     0.70571,     0.70671,     0.70771,     0.70871,     0.70971,     0.71071,     0.71171,     0.71271,     0.71371,     0.71471,     0.71572,     0.71672,     0.71772,     0.71872,     0.71972,\n",
       "           0.72072,     0.72172,     0.72272,     0.72372,     0.72472,     0.72573,     0.72673,     0.72773,     0.72873,     0.72973,     0.73073,     0.73173,     0.73273,     0.73373,     0.73473,     0.73574,     0.73674,     0.73774,     0.73874,     0.73974,     0.74074,     0.74174,     0.74274,     0.74374,\n",
       "           0.74474,     0.74575,     0.74675,     0.74775,     0.74875,     0.74975,     0.75075,     0.75175,     0.75275,     0.75375,     0.75475,     0.75576,     0.75676,     0.75776,     0.75876,     0.75976,     0.76076,     0.76176,     0.76276,     0.76376,     0.76476,     0.76577,     0.76677,     0.76777,\n",
       "           0.76877,     0.76977,     0.77077,     0.77177,     0.77277,     0.77377,     0.77477,     0.77578,     0.77678,     0.77778,     0.77878,     0.77978,     0.78078,     0.78178,     0.78278,     0.78378,     0.78478,     0.78579,     0.78679,     0.78779,     0.78879,     0.78979,     0.79079,     0.79179,\n",
       "           0.79279,     0.79379,     0.79479,      0.7958,      0.7968,      0.7978,      0.7988,      0.7998,      0.8008,      0.8018,      0.8028,      0.8038,      0.8048,     0.80581,     0.80681,     0.80781,     0.80881,     0.80981,     0.81081,     0.81181,     0.81281,     0.81381,     0.81481,     0.81582,\n",
       "           0.81682,     0.81782,     0.81882,     0.81982,     0.82082,     0.82182,     0.82282,     0.82382,     0.82482,     0.82583,     0.82683,     0.82783,     0.82883,     0.82983,     0.83083,     0.83183,     0.83283,     0.83383,     0.83483,     0.83584,     0.83684,     0.83784,     0.83884,     0.83984,\n",
       "           0.84084,     0.84184,     0.84284,     0.84384,     0.84484,     0.84585,     0.84685,     0.84785,     0.84885,     0.84985,     0.85085,     0.85185,     0.85285,     0.85385,     0.85485,     0.85586,     0.85686,     0.85786,     0.85886,     0.85986,     0.86086,     0.86186,     0.86286,     0.86386,\n",
       "           0.86486,     0.86587,     0.86687,     0.86787,     0.86887,     0.86987,     0.87087,     0.87187,     0.87287,     0.87387,     0.87487,     0.87588,     0.87688,     0.87788,     0.87888,     0.87988,     0.88088,     0.88188,     0.88288,     0.88388,     0.88488,     0.88589,     0.88689,     0.88789,\n",
       "           0.88889,     0.88989,     0.89089,     0.89189,     0.89289,     0.89389,     0.89489,      0.8959,      0.8969,      0.8979,      0.8989,      0.8999,      0.9009,      0.9019,      0.9029,      0.9039,      0.9049,     0.90591,     0.90691,     0.90791,     0.90891,     0.90991,     0.91091,     0.91191,\n",
       "           0.91291,     0.91391,     0.91491,     0.91592,     0.91692,     0.91792,     0.91892,     0.91992,     0.92092,     0.92192,     0.92292,     0.92392,     0.92492,     0.92593,     0.92693,     0.92793,     0.92893,     0.92993,     0.93093,     0.93193,     0.93293,     0.93393,     0.93493,     0.93594,\n",
       "           0.93694,     0.93794,     0.93894,     0.93994,     0.94094,     0.94194,     0.94294,     0.94394,     0.94494,     0.94595,     0.94695,     0.94795,     0.94895,     0.94995,     0.95095,     0.95195,     0.95295,     0.95395,     0.95495,     0.95596,     0.95696,     0.95796,     0.95896,     0.95996,\n",
       "           0.96096,     0.96196,     0.96296,     0.96396,     0.96496,     0.96597,     0.96697,     0.96797,     0.96897,     0.96997,     0.97097,     0.97197,     0.97297,     0.97397,     0.97497,     0.97598,     0.97698,     0.97798,     0.97898,     0.97998,     0.98098,     0.98198,     0.98298,     0.98398,\n",
       "           0.98498,     0.98599,     0.98699,     0.98799,     0.98899,     0.98999,     0.99099,     0.99199,     0.99299,     0.99399,     0.99499,       0.996,       0.997,       0.998,       0.999,           1]), array([[   0.010222,    0.043887,    0.061929, ...,           1,           1,           1],\n",
       "       [  0.0036329,    0.021656,    0.034074, ...,           1,           1,           1]]), 'Confidence', 'Precision'], [array([          0,    0.001001,    0.002002,    0.003003,    0.004004,    0.005005,    0.006006,    0.007007,    0.008008,    0.009009,     0.01001,    0.011011,    0.012012,    0.013013,    0.014014,    0.015015,    0.016016,    0.017017,    0.018018,    0.019019,     0.02002,    0.021021,    0.022022,    0.023023,\n",
       "          0.024024,    0.025025,    0.026026,    0.027027,    0.028028,    0.029029,     0.03003,    0.031031,    0.032032,    0.033033,    0.034034,    0.035035,    0.036036,    0.037037,    0.038038,    0.039039,     0.04004,    0.041041,    0.042042,    0.043043,    0.044044,    0.045045,    0.046046,    0.047047,\n",
       "          0.048048,    0.049049,     0.05005,    0.051051,    0.052052,    0.053053,    0.054054,    0.055055,    0.056056,    0.057057,    0.058058,    0.059059,     0.06006,    0.061061,    0.062062,    0.063063,    0.064064,    0.065065,    0.066066,    0.067067,    0.068068,    0.069069,     0.07007,    0.071071,\n",
       "          0.072072,    0.073073,    0.074074,    0.075075,    0.076076,    0.077077,    0.078078,    0.079079,     0.08008,    0.081081,    0.082082,    0.083083,    0.084084,    0.085085,    0.086086,    0.087087,    0.088088,    0.089089,     0.09009,    0.091091,    0.092092,    0.093093,    0.094094,    0.095095,\n",
       "          0.096096,    0.097097,    0.098098,    0.099099,      0.1001,      0.1011,      0.1021,      0.1031,      0.1041,     0.10511,     0.10611,     0.10711,     0.10811,     0.10911,     0.11011,     0.11111,     0.11211,     0.11311,     0.11411,     0.11512,     0.11612,     0.11712,     0.11812,     0.11912,\n",
       "           0.12012,     0.12112,     0.12212,     0.12312,     0.12412,     0.12513,     0.12613,     0.12713,     0.12813,     0.12913,     0.13013,     0.13113,     0.13213,     0.13313,     0.13413,     0.13514,     0.13614,     0.13714,     0.13814,     0.13914,     0.14014,     0.14114,     0.14214,     0.14314,\n",
       "           0.14414,     0.14515,     0.14615,     0.14715,     0.14815,     0.14915,     0.15015,     0.15115,     0.15215,     0.15315,     0.15415,     0.15516,     0.15616,     0.15716,     0.15816,     0.15916,     0.16016,     0.16116,     0.16216,     0.16316,     0.16416,     0.16517,     0.16617,     0.16717,\n",
       "           0.16817,     0.16917,     0.17017,     0.17117,     0.17217,     0.17317,     0.17417,     0.17518,     0.17618,     0.17718,     0.17818,     0.17918,     0.18018,     0.18118,     0.18218,     0.18318,     0.18418,     0.18519,     0.18619,     0.18719,     0.18819,     0.18919,     0.19019,     0.19119,\n",
       "           0.19219,     0.19319,     0.19419,      0.1952,      0.1962,      0.1972,      0.1982,      0.1992,      0.2002,      0.2012,      0.2022,      0.2032,      0.2042,     0.20521,     0.20621,     0.20721,     0.20821,     0.20921,     0.21021,     0.21121,     0.21221,     0.21321,     0.21421,     0.21522,\n",
       "           0.21622,     0.21722,     0.21822,     0.21922,     0.22022,     0.22122,     0.22222,     0.22322,     0.22422,     0.22523,     0.22623,     0.22723,     0.22823,     0.22923,     0.23023,     0.23123,     0.23223,     0.23323,     0.23423,     0.23524,     0.23624,     0.23724,     0.23824,     0.23924,\n",
       "           0.24024,     0.24124,     0.24224,     0.24324,     0.24424,     0.24525,     0.24625,     0.24725,     0.24825,     0.24925,     0.25025,     0.25125,     0.25225,     0.25325,     0.25425,     0.25526,     0.25626,     0.25726,     0.25826,     0.25926,     0.26026,     0.26126,     0.26226,     0.26326,\n",
       "           0.26426,     0.26527,     0.26627,     0.26727,     0.26827,     0.26927,     0.27027,     0.27127,     0.27227,     0.27327,     0.27427,     0.27528,     0.27628,     0.27728,     0.27828,     0.27928,     0.28028,     0.28128,     0.28228,     0.28328,     0.28428,     0.28529,     0.28629,     0.28729,\n",
       "           0.28829,     0.28929,     0.29029,     0.29129,     0.29229,     0.29329,     0.29429,      0.2953,      0.2963,      0.2973,      0.2983,      0.2993,      0.3003,      0.3013,      0.3023,      0.3033,      0.3043,     0.30531,     0.30631,     0.30731,     0.30831,     0.30931,     0.31031,     0.31131,\n",
       "           0.31231,     0.31331,     0.31431,     0.31532,     0.31632,     0.31732,     0.31832,     0.31932,     0.32032,     0.32132,     0.32232,     0.32332,     0.32432,     0.32533,     0.32633,     0.32733,     0.32833,     0.32933,     0.33033,     0.33133,     0.33233,     0.33333,     0.33433,     0.33534,\n",
       "           0.33634,     0.33734,     0.33834,     0.33934,     0.34034,     0.34134,     0.34234,     0.34334,     0.34434,     0.34535,     0.34635,     0.34735,     0.34835,     0.34935,     0.35035,     0.35135,     0.35235,     0.35335,     0.35435,     0.35536,     0.35636,     0.35736,     0.35836,     0.35936,\n",
       "           0.36036,     0.36136,     0.36236,     0.36336,     0.36436,     0.36537,     0.36637,     0.36737,     0.36837,     0.36937,     0.37037,     0.37137,     0.37237,     0.37337,     0.37437,     0.37538,     0.37638,     0.37738,     0.37838,     0.37938,     0.38038,     0.38138,     0.38238,     0.38338,\n",
       "           0.38438,     0.38539,     0.38639,     0.38739,     0.38839,     0.38939,     0.39039,     0.39139,     0.39239,     0.39339,     0.39439,      0.3954,      0.3964,      0.3974,      0.3984,      0.3994,      0.4004,      0.4014,      0.4024,      0.4034,      0.4044,     0.40541,     0.40641,     0.40741,\n",
       "           0.40841,     0.40941,     0.41041,     0.41141,     0.41241,     0.41341,     0.41441,     0.41542,     0.41642,     0.41742,     0.41842,     0.41942,     0.42042,     0.42142,     0.42242,     0.42342,     0.42442,     0.42543,     0.42643,     0.42743,     0.42843,     0.42943,     0.43043,     0.43143,\n",
       "           0.43243,     0.43343,     0.43443,     0.43544,     0.43644,     0.43744,     0.43844,     0.43944,     0.44044,     0.44144,     0.44244,     0.44344,     0.44444,     0.44545,     0.44645,     0.44745,     0.44845,     0.44945,     0.45045,     0.45145,     0.45245,     0.45345,     0.45445,     0.45546,\n",
       "           0.45646,     0.45746,     0.45846,     0.45946,     0.46046,     0.46146,     0.46246,     0.46346,     0.46446,     0.46547,     0.46647,     0.46747,     0.46847,     0.46947,     0.47047,     0.47147,     0.47247,     0.47347,     0.47447,     0.47548,     0.47648,     0.47748,     0.47848,     0.47948,\n",
       "           0.48048,     0.48148,     0.48248,     0.48348,     0.48448,     0.48549,     0.48649,     0.48749,     0.48849,     0.48949,     0.49049,     0.49149,     0.49249,     0.49349,     0.49449,      0.4955,      0.4965,      0.4975,      0.4985,      0.4995,      0.5005,      0.5015,      0.5025,      0.5035,\n",
       "            0.5045,     0.50551,     0.50651,     0.50751,     0.50851,     0.50951,     0.51051,     0.51151,     0.51251,     0.51351,     0.51451,     0.51552,     0.51652,     0.51752,     0.51852,     0.51952,     0.52052,     0.52152,     0.52252,     0.52352,     0.52452,     0.52553,     0.52653,     0.52753,\n",
       "           0.52853,     0.52953,     0.53053,     0.53153,     0.53253,     0.53353,     0.53453,     0.53554,     0.53654,     0.53754,     0.53854,     0.53954,     0.54054,     0.54154,     0.54254,     0.54354,     0.54454,     0.54555,     0.54655,     0.54755,     0.54855,     0.54955,     0.55055,     0.55155,\n",
       "           0.55255,     0.55355,     0.55455,     0.55556,     0.55656,     0.55756,     0.55856,     0.55956,     0.56056,     0.56156,     0.56256,     0.56356,     0.56456,     0.56557,     0.56657,     0.56757,     0.56857,     0.56957,     0.57057,     0.57157,     0.57257,     0.57357,     0.57457,     0.57558,\n",
       "           0.57658,     0.57758,     0.57858,     0.57958,     0.58058,     0.58158,     0.58258,     0.58358,     0.58458,     0.58559,     0.58659,     0.58759,     0.58859,     0.58959,     0.59059,     0.59159,     0.59259,     0.59359,     0.59459,      0.5956,      0.5966,      0.5976,      0.5986,      0.5996,\n",
       "            0.6006,      0.6016,      0.6026,      0.6036,      0.6046,     0.60561,     0.60661,     0.60761,     0.60861,     0.60961,     0.61061,     0.61161,     0.61261,     0.61361,     0.61461,     0.61562,     0.61662,     0.61762,     0.61862,     0.61962,     0.62062,     0.62162,     0.62262,     0.62362,\n",
       "           0.62462,     0.62563,     0.62663,     0.62763,     0.62863,     0.62963,     0.63063,     0.63163,     0.63263,     0.63363,     0.63463,     0.63564,     0.63664,     0.63764,     0.63864,     0.63964,     0.64064,     0.64164,     0.64264,     0.64364,     0.64464,     0.64565,     0.64665,     0.64765,\n",
       "           0.64865,     0.64965,     0.65065,     0.65165,     0.65265,     0.65365,     0.65465,     0.65566,     0.65666,     0.65766,     0.65866,     0.65966,     0.66066,     0.66166,     0.66266,     0.66366,     0.66466,     0.66567,     0.66667,     0.66767,     0.66867,     0.66967,     0.67067,     0.67167,\n",
       "           0.67267,     0.67367,     0.67467,     0.67568,     0.67668,     0.67768,     0.67868,     0.67968,     0.68068,     0.68168,     0.68268,     0.68368,     0.68468,     0.68569,     0.68669,     0.68769,     0.68869,     0.68969,     0.69069,     0.69169,     0.69269,     0.69369,     0.69469,      0.6957,\n",
       "            0.6967,      0.6977,      0.6987,      0.6997,      0.7007,      0.7017,      0.7027,      0.7037,      0.7047,     0.70571,     0.70671,     0.70771,     0.70871,     0.70971,     0.71071,     0.71171,     0.71271,     0.71371,     0.71471,     0.71572,     0.71672,     0.71772,     0.71872,     0.71972,\n",
       "           0.72072,     0.72172,     0.72272,     0.72372,     0.72472,     0.72573,     0.72673,     0.72773,     0.72873,     0.72973,     0.73073,     0.73173,     0.73273,     0.73373,     0.73473,     0.73574,     0.73674,     0.73774,     0.73874,     0.73974,     0.74074,     0.74174,     0.74274,     0.74374,\n",
       "           0.74474,     0.74575,     0.74675,     0.74775,     0.74875,     0.74975,     0.75075,     0.75175,     0.75275,     0.75375,     0.75475,     0.75576,     0.75676,     0.75776,     0.75876,     0.75976,     0.76076,     0.76176,     0.76276,     0.76376,     0.76476,     0.76577,     0.76677,     0.76777,\n",
       "           0.76877,     0.76977,     0.77077,     0.77177,     0.77277,     0.77377,     0.77477,     0.77578,     0.77678,     0.77778,     0.77878,     0.77978,     0.78078,     0.78178,     0.78278,     0.78378,     0.78478,     0.78579,     0.78679,     0.78779,     0.78879,     0.78979,     0.79079,     0.79179,\n",
       "           0.79279,     0.79379,     0.79479,      0.7958,      0.7968,      0.7978,      0.7988,      0.7998,      0.8008,      0.8018,      0.8028,      0.8038,      0.8048,     0.80581,     0.80681,     0.80781,     0.80881,     0.80981,     0.81081,     0.81181,     0.81281,     0.81381,     0.81481,     0.81582,\n",
       "           0.81682,     0.81782,     0.81882,     0.81982,     0.82082,     0.82182,     0.82282,     0.82382,     0.82482,     0.82583,     0.82683,     0.82783,     0.82883,     0.82983,     0.83083,     0.83183,     0.83283,     0.83383,     0.83483,     0.83584,     0.83684,     0.83784,     0.83884,     0.83984,\n",
       "           0.84084,     0.84184,     0.84284,     0.84384,     0.84484,     0.84585,     0.84685,     0.84785,     0.84885,     0.84985,     0.85085,     0.85185,     0.85285,     0.85385,     0.85485,     0.85586,     0.85686,     0.85786,     0.85886,     0.85986,     0.86086,     0.86186,     0.86286,     0.86386,\n",
       "           0.86486,     0.86587,     0.86687,     0.86787,     0.86887,     0.86987,     0.87087,     0.87187,     0.87287,     0.87387,     0.87487,     0.87588,     0.87688,     0.87788,     0.87888,     0.87988,     0.88088,     0.88188,     0.88288,     0.88388,     0.88488,     0.88589,     0.88689,     0.88789,\n",
       "           0.88889,     0.88989,     0.89089,     0.89189,     0.89289,     0.89389,     0.89489,      0.8959,      0.8969,      0.8979,      0.8989,      0.8999,      0.9009,      0.9019,      0.9029,      0.9039,      0.9049,     0.90591,     0.90691,     0.90791,     0.90891,     0.90991,     0.91091,     0.91191,\n",
       "           0.91291,     0.91391,     0.91491,     0.91592,     0.91692,     0.91792,     0.91892,     0.91992,     0.92092,     0.92192,     0.92292,     0.92392,     0.92492,     0.92593,     0.92693,     0.92793,     0.92893,     0.92993,     0.93093,     0.93193,     0.93293,     0.93393,     0.93493,     0.93594,\n",
       "           0.93694,     0.93794,     0.93894,     0.93994,     0.94094,     0.94194,     0.94294,     0.94394,     0.94494,     0.94595,     0.94695,     0.94795,     0.94895,     0.94995,     0.95095,     0.95195,     0.95295,     0.95395,     0.95495,     0.95596,     0.95696,     0.95796,     0.95896,     0.95996,\n",
       "           0.96096,     0.96196,     0.96296,     0.96396,     0.96496,     0.96597,     0.96697,     0.96797,     0.96897,     0.96997,     0.97097,     0.97197,     0.97297,     0.97397,     0.97497,     0.97598,     0.97698,     0.97798,     0.97898,     0.97998,     0.98098,     0.98198,     0.98298,     0.98398,\n",
       "           0.98498,     0.98599,     0.98699,     0.98799,     0.98899,     0.98999,     0.99099,     0.99199,     0.99299,     0.99399,     0.99499,       0.996,       0.997,       0.998,       0.999,           1]), array([[     0.9673,     0.93209,     0.91801, ...,           0,           0,           0],\n",
       "       [    0.93389,     0.86899,     0.83413, ...,           0,           0,           0]]), 'Confidence', 'Recall']]\n",
       "fitness: 0.27979526442217484\n",
       "keys: ['metrics/precision(B)', 'metrics/recall(B)', 'metrics/mAP50(B)', 'metrics/mAP50-95(B)']\n",
       "maps: array([    0.31241,     0.19619])\n",
       "names: {0: 'fire', 1: 'smoke'}\n",
       "plot: True\n",
       "results_dict: {'metrics/precision(B)': 0.6007902702398102, 'metrics/recall(B)': 0.46287971540239337, 'metrics/mAP50(B)': 0.5092359141565652, 'metrics/mAP50-95(B)': 0.25430185889613144, 'fitness': 0.27979526442217484}\n",
       "save_dir: WindowsPath('runs/detect/train2')\n",
       "speed: {'preprocess': 0.12460093000041904, 'inference': 6.263125832401105, 'loss': 0.0, 'postprocess': 0.06574872714370045}\n",
       "task: 'detect'"
      ]
     },
     "execution_count": 2,
     "metadata": {},
     "output_type": "execute_result"
    }
   ],
   "source": [
    "model = YOLOv10(\"yolov10b.pt\")\n",
    "\n",
    "model.train(data=f'../Fire-Detection-1/data.yaml', epochs=100, batch=16, imgsz=416, plots=True, amp=True)"
   ]
  },
  {
   "cell_type": "markdown",
   "metadata": {},
   "source": [
    "### Test the model"
   ]
  },
  {
   "cell_type": "code",
   "execution_count": 4,
   "metadata": {},
   "outputs": [
    {
     "name": "stdout",
     "output_type": "stream",
     "text": [
      "\n",
      "\n",
      "WARNING ⚠️ inference results will accumulate in RAM unless `stream=True` is passed, causing potential out-of-memory\n",
      "errors for large sources or long-running streams and videos. See https://docs.ultralytics.com/modes/predict/ for help.\n",
      "\n",
      "Example:\n",
      "    results = model(source=..., stream=True)  # generator of Results objects\n",
      "    for r in results:\n",
      "        boxes = r.boxes  # Boxes object for bbox outputs\n",
      "        masks = r.masks  # Masks object for segment masks outputs\n",
      "        probs = r.probs  # Class probabilities for classification outputs\n",
      "\n",
      "image 1/1340 c:\\Users\\user\\Downloads\\yolov10-main\\Fire-Detection-1\\test\\images\\large_-100-_jpg.rf.2f25938357fb7f31ddf960c5c6bb7383.jpg: 416x416 2 fires, 11.0ms\n",
      "image 2/1340 c:\\Users\\user\\Downloads\\yolov10-main\\Fire-Detection-1\\test\\images\\large_-1010-_jpg.rf.4aa11e5844b15a5205421da98c62204c.jpg: 416x416 1 fire, 2 smokes, 14.0ms\n",
      "image 3/1340 c:\\Users\\user\\Downloads\\yolov10-main\\Fire-Detection-1\\test\\images\\large_-1011-_jpg.rf.8fa292488f24151800d461405eac8c37.jpg: 416x416 2 fires, 1 smoke, 14.0ms\n",
      "image 4/1340 c:\\Users\\user\\Downloads\\yolov10-main\\Fire-Detection-1\\test\\images\\large_-1013-_jpg.rf.84ca876a7d25da77386fac263e219351.jpg: 416x416 (no detections), 13.0ms\n",
      "image 5/1340 c:\\Users\\user\\Downloads\\yolov10-main\\Fire-Detection-1\\test\\images\\large_-1015-_jpg.rf.82c0f427f9e58165e7d68ec4f65f0790.jpg: 416x416 3 fires, 1 smoke, 12.0ms\n",
      "image 6/1340 c:\\Users\\user\\Downloads\\yolov10-main\\Fire-Detection-1\\test\\images\\large_-1017-_jpg.rf.d4ddb0e41a49c90acab5f84ed87ef0c9.jpg: 416x416 (no detections), 12.0ms\n",
      "image 7/1340 c:\\Users\\user\\Downloads\\yolov10-main\\Fire-Detection-1\\test\\images\\large_-1021-_jpg.rf.5b04f1769cf921762713882fd8baa207.jpg: 416x416 2 fires, 13.0ms\n",
      "image 8/1340 c:\\Users\\user\\Downloads\\yolov10-main\\Fire-Detection-1\\test\\images\\large_-1023-_jpg.rf.dab41cca3fb5495f2b723fde1795d87a.jpg: 416x416 2 fires, 13.0ms\n",
      "image 9/1340 c:\\Users\\user\\Downloads\\yolov10-main\\Fire-Detection-1\\test\\images\\large_-1024-_jpg.rf.7d4dd3c17511a338a8fc29aec346ba02.jpg: 416x416 1 fire, 1 smoke, 16.0ms\n",
      "image 10/1340 c:\\Users\\user\\Downloads\\yolov10-main\\Fire-Detection-1\\test\\images\\large_-1033-_jpg.rf.d0b07e66e617632d2d61d8d46c948040.jpg: 416x416 2 fires, 2 smokes, 14.0ms\n",
      "image 11/1340 c:\\Users\\user\\Downloads\\yolov10-main\\Fire-Detection-1\\test\\images\\large_-1037-_jpg.rf.318286d444a5a4a5725871ec5cab71a3.jpg: 416x416 2 fires, 2 smokes, 18.0ms\n",
      "image 12/1340 c:\\Users\\user\\Downloads\\yolov10-main\\Fire-Detection-1\\test\\images\\large_-1039-_jpg.rf.ea0ed014b5bff4253150afd5f9324705.jpg: 416x416 2 fires, 14.0ms\n",
      "image 13/1340 c:\\Users\\user\\Downloads\\yolov10-main\\Fire-Detection-1\\test\\images\\large_-1046-_jpg.rf.94235b3568c492058691c9424ad2f505.jpg: 416x416 1 fire, 15.0ms\n",
      "image 14/1340 c:\\Users\\user\\Downloads\\yolov10-main\\Fire-Detection-1\\test\\images\\large_-1051-_jpg.rf.f5229b85dbab00fbc10834c5bb5cdf21.jpg: 416x416 1 fire, 1 smoke, 16.0ms\n",
      "image 15/1340 c:\\Users\\user\\Downloads\\yolov10-main\\Fire-Detection-1\\test\\images\\large_-1054-_jpg.rf.8de1f746a3e9aea0545a1655850f6582.jpg: 416x416 2 fires, 13.0ms\n",
      "image 16/1340 c:\\Users\\user\\Downloads\\yolov10-main\\Fire-Detection-1\\test\\images\\large_-1056-_jpg.rf.a153d37737a9a7438fc019a9ce34a96f.jpg: 416x416 1 fire, 15.0ms\n",
      "image 17/1340 c:\\Users\\user\\Downloads\\yolov10-main\\Fire-Detection-1\\test\\images\\large_-1061-_jpg.rf.7c0d22c5e3a2c7c5de3efa5ef54dbc4c.jpg: 416x416 2 fires, 14.0ms\n",
      "image 18/1340 c:\\Users\\user\\Downloads\\yolov10-main\\Fire-Detection-1\\test\\images\\large_-1068-_jpg.rf.85697fe097f8e56b8c26f32b6469f021.jpg: 416x416 1 fire, 19.0ms\n",
      "image 19/1340 c:\\Users\\user\\Downloads\\yolov10-main\\Fire-Detection-1\\test\\images\\large_-1080-_jpg.rf.7bc791c88a248fe3131adfd24948ce63.jpg: 416x416 1 fire, 13.0ms\n",
      "image 20/1340 c:\\Users\\user\\Downloads\\yolov10-main\\Fire-Detection-1\\test\\images\\large_-1085-_jpg.rf.5715d3a52833946d7f88d51019f94d61.jpg: 416x416 1 fire, 15.0ms\n",
      "image 21/1340 c:\\Users\\user\\Downloads\\yolov10-main\\Fire-Detection-1\\test\\images\\large_-1087-_jpg.rf.8404e9909185bc7e8ef0392c6d10367d.jpg: 416x416 3 fires, 14.0ms\n",
      "image 22/1340 c:\\Users\\user\\Downloads\\yolov10-main\\Fire-Detection-1\\test\\images\\large_-1090-_jpg.rf.ab7805abf53f7bff226b5963998fa301.jpg: 416x416 1 fire, 18.0ms\n",
      "image 23/1340 c:\\Users\\user\\Downloads\\yolov10-main\\Fire-Detection-1\\test\\images\\large_-1108-_jpg.rf.f3c8e8ee98278c3a9e01ebf4e71cba25.jpg: 416x416 2 fires, 13.0ms\n",
      "image 24/1340 c:\\Users\\user\\Downloads\\yolov10-main\\Fire-Detection-1\\test\\images\\large_-1115-_jpg.rf.8cbad75f48ce8eb321cf3f3ae38cf865.jpg: 416x416 1 fire, 1 smoke, 14.0ms\n",
      "image 25/1340 c:\\Users\\user\\Downloads\\yolov10-main\\Fire-Detection-1\\test\\images\\large_-112-_jpg.rf.8aeb300361c74d57d979bafdd16290c3.jpg: 416x416 2 fires, 13.0ms\n",
      "image 26/1340 c:\\Users\\user\\Downloads\\yolov10-main\\Fire-Detection-1\\test\\images\\large_-1129-_jpg.rf.0fac62f4e82994f11f2383e301401726.jpg: 416x416 2 fires, 1 smoke, 16.0ms\n",
      "image 27/1340 c:\\Users\\user\\Downloads\\yolov10-main\\Fire-Detection-1\\test\\images\\large_-1139-_jpg.rf.a6d250162d11f917f944691066b5017c.jpg: 416x416 1 fire, 1 smoke, 19.0ms\n",
      "image 28/1340 c:\\Users\\user\\Downloads\\yolov10-main\\Fire-Detection-1\\test\\images\\large_-1147-_jpg.rf.5427c46ea02c9ece110e96c0ade3613f.jpg: 416x416 2 smokes, 13.0ms\n",
      "image 29/1340 c:\\Users\\user\\Downloads\\yolov10-main\\Fire-Detection-1\\test\\images\\large_-1157-_jpg.rf.6c6fbff3e761ba37bd922946818079b3.jpg: 416x416 3 fires, 2 smokes, 18.0ms\n",
      "image 30/1340 c:\\Users\\user\\Downloads\\yolov10-main\\Fire-Detection-1\\test\\images\\large_-1166-_jpg.rf.a4dbc1bd81757edcfa3994f69a4d4b47.jpg: 416x416 1 fire, 2 smokes, 15.0ms\n",
      "image 31/1340 c:\\Users\\user\\Downloads\\yolov10-main\\Fire-Detection-1\\test\\images\\large_-117-_jpg.rf.21a510bfdfa84666f1c154627ee23e2e.jpg: 416x416 2 fires, 14.0ms\n",
      "image 32/1340 c:\\Users\\user\\Downloads\\yolov10-main\\Fire-Detection-1\\test\\images\\large_-1171-_jpg.rf.4969ac803464220130170984488bcf16.jpg: 416x416 2 fires, 2 smokes, 15.0ms\n",
      "image 33/1340 c:\\Users\\user\\Downloads\\yolov10-main\\Fire-Detection-1\\test\\images\\large_-1189-_jpg.rf.122374e176b5eec89752bdb617105cab.jpg: 416x416 3 fires, 13.0ms\n",
      "image 34/1340 c:\\Users\\user\\Downloads\\yolov10-main\\Fire-Detection-1\\test\\images\\large_-1195-_jpg.rf.3eed8d6c07fc4c4c98e506513e30a1ab.jpg: 416x416 1 fire, 16.0ms\n",
      "image 35/1340 c:\\Users\\user\\Downloads\\yolov10-main\\Fire-Detection-1\\test\\images\\large_-1200-_jpg.rf.a38a22d724278623ce346400528e443a.jpg: 416x416 1 fire, 1 smoke, 16.0ms\n",
      "image 36/1340 c:\\Users\\user\\Downloads\\yolov10-main\\Fire-Detection-1\\test\\images\\large_-1205-_jpg.rf.de96880587e60fc37c95a99a9ad26a7a.jpg: 416x416 2 fires, 1 smoke, 14.0ms\n",
      "image 37/1340 c:\\Users\\user\\Downloads\\yolov10-main\\Fire-Detection-1\\test\\images\\large_-1208-_jpg.rf.1244e121db742be161938cdc2263ce2e.jpg: 416x416 1 fire, 16.0ms\n",
      "image 38/1340 c:\\Users\\user\\Downloads\\yolov10-main\\Fire-Detection-1\\test\\images\\large_-1210-_jpg.rf.178a8d253c7ffe56c0b29dc5d6787c46.jpg: 416x416 1 fire, 14.0ms\n",
      "image 39/1340 c:\\Users\\user\\Downloads\\yolov10-main\\Fire-Detection-1\\test\\images\\large_-1222-_jpg.rf.c1e3dede2348b730ce6552b4762555e0.jpg: 416x416 3 fires, 17.0ms\n",
      "image 40/1340 c:\\Users\\user\\Downloads\\yolov10-main\\Fire-Detection-1\\test\\images\\large_-1226-_jpg.rf.969f6b614a8cd137b017360dbd26ee1d.jpg: 416x416 1 fire, 12.0ms\n",
      "image 41/1340 c:\\Users\\user\\Downloads\\yolov10-main\\Fire-Detection-1\\test\\images\\large_-1230-_jpg.rf.8eb1665a0cf680163c5328959a27abcd.jpg: 416x416 2 fires, 12.0ms\n",
      "image 42/1340 c:\\Users\\user\\Downloads\\yolov10-main\\Fire-Detection-1\\test\\images\\large_-1232-_jpg.rf.6720b4390d693ee3f7fa873ff5aae2e3.jpg: 416x416 1 fire, 18.0ms\n",
      "image 43/1340 c:\\Users\\user\\Downloads\\yolov10-main\\Fire-Detection-1\\test\\images\\large_-1234-_jpg.rf.9b948fcd404fd03960e0661e5de16efa.jpg: 416x416 2 fires, 1 smoke, 20.0ms\n",
      "image 44/1340 c:\\Users\\user\\Downloads\\yolov10-main\\Fire-Detection-1\\test\\images\\large_-1236-_jpg.rf.785799873b29f6bb2723f88e50286c14.jpg: 416x416 2 fires, 16.0ms\n",
      "image 45/1340 c:\\Users\\user\\Downloads\\yolov10-main\\Fire-Detection-1\\test\\images\\large_-124-_jpg.rf.fe36e9658cb244d253d710662ed720a6.jpg: 416x416 1 fire, 16.0ms\n",
      "image 46/1340 c:\\Users\\user\\Downloads\\yolov10-main\\Fire-Detection-1\\test\\images\\large_-1240-_jpg.rf.9ea4e55502db675a31103e34f42e6c5e.jpg: 416x416 2 fires, 2 smokes, 13.6ms\n",
      "image 47/1340 c:\\Users\\user\\Downloads\\yolov10-main\\Fire-Detection-1\\test\\images\\large_-1244-_jpg.rf.32dc5a96cd6a2d5e1b3a42f271dad53b.jpg: 416x416 4 fires, 1 smoke, 16.1ms\n",
      "image 48/1340 c:\\Users\\user\\Downloads\\yolov10-main\\Fire-Detection-1\\test\\images\\large_-1246-_jpg.rf.f0ddcca8e1b50eb0b4531fc942949730.jpg: 416x416 2 fires, 16.0ms\n",
      "image 49/1340 c:\\Users\\user\\Downloads\\yolov10-main\\Fire-Detection-1\\test\\images\\large_-1247-_jpg.rf.c8c2be624f877d41b6647400b25e95ab.jpg: 416x416 1 smoke, 13.0ms\n",
      "image 50/1340 c:\\Users\\user\\Downloads\\yolov10-main\\Fire-Detection-1\\test\\images\\large_-1250-_jpg.rf.997d9be9ce954723e359cd100d29ac7c.jpg: 416x416 1 fire, 14.6ms\n",
      "image 51/1340 c:\\Users\\user\\Downloads\\yolov10-main\\Fire-Detection-1\\test\\images\\large_-1253-_jpg.rf.a935d407d0f77d80e0c89a838900f9b5.jpg: 416x416 1 fire, 1 smoke, 13.0ms\n",
      "image 52/1340 c:\\Users\\user\\Downloads\\yolov10-main\\Fire-Detection-1\\test\\images\\large_-1262-_jpg.rf.1a79011ce792a268615225a667627e0d.jpg: 416x416 3 fires, 17.0ms\n",
      "image 53/1340 c:\\Users\\user\\Downloads\\yolov10-main\\Fire-Detection-1\\test\\images\\large_-1265-_jpg.rf.0c9f45c5c9ab9c307beb07d53111361f.jpg: 416x416 2 fires, 1 smoke, 15.0ms\n",
      "image 54/1340 c:\\Users\\user\\Downloads\\yolov10-main\\Fire-Detection-1\\test\\images\\large_-1269-_jpg.rf.bd755bf68cb8c27316f87fe7b1066a62.jpg: 416x416 3 fires, 1 smoke, 17.0ms\n",
      "image 55/1340 c:\\Users\\user\\Downloads\\yolov10-main\\Fire-Detection-1\\test\\images\\large_-127-_jpg.rf.d0e0b0b792b4570d6f7ebd9bf2ba47b8.jpg: 416x416 1 fire, 1 smoke, 13.0ms\n",
      "image 56/1340 c:\\Users\\user\\Downloads\\yolov10-main\\Fire-Detection-1\\test\\images\\large_-1272-_jpg.rf.bc114c0f8ee02e2003210b8ff037f264.jpg: 416x416 1 fire, 1 smoke, 16.0ms\n",
      "image 57/1340 c:\\Users\\user\\Downloads\\yolov10-main\\Fire-Detection-1\\test\\images\\large_-1276-_jpg.rf.f4cda7aac12e63420f8d5566dc13d4f5.jpg: 416x416 3 fires, 12.0ms\n",
      "image 58/1340 c:\\Users\\user\\Downloads\\yolov10-main\\Fire-Detection-1\\test\\images\\large_-1279-_jpg.rf.738fd0ba36b7d3195ed09468823d6c38.jpg: 416x416 2 fires, 1 smoke, 18.0ms\n",
      "image 59/1340 c:\\Users\\user\\Downloads\\yolov10-main\\Fire-Detection-1\\test\\images\\large_-1280-_jpg.rf.81a9ccb129fc8013f970c41bfde1a05d.jpg: 416x416 1 fire, 17.0ms\n",
      "image 60/1340 c:\\Users\\user\\Downloads\\yolov10-main\\Fire-Detection-1\\test\\images\\large_-1291-_jpg.rf.c043af18fc2f425db08a8f1dc44c0cea.jpg: 416x416 4 fires, 18.0ms\n",
      "image 61/1340 c:\\Users\\user\\Downloads\\yolov10-main\\Fire-Detection-1\\test\\images\\large_-1294-_jpg.rf.adacaae3d1b36317797164849d115dd4.jpg: 416x416 1 fire, 19.0ms\n",
      "image 62/1340 c:\\Users\\user\\Downloads\\yolov10-main\\Fire-Detection-1\\test\\images\\large_-1295-_jpg.rf.6c3b2f9343709a89cbe52eb881a8fcab.jpg: 416x416 2 fires, 1 smoke, 17.0ms\n",
      "image 63/1340 c:\\Users\\user\\Downloads\\yolov10-main\\Fire-Detection-1\\test\\images\\large_-13-_jpg.rf.88cea9c0601aa421fe69842bb92327f9.jpg: 416x416 4 fires, 12.0ms\n",
      "image 64/1340 c:\\Users\\user\\Downloads\\yolov10-main\\Fire-Detection-1\\test\\images\\large_-1323-_jpg.rf.ad5f82de599cdb633f94feab66f62fbd.jpg: 416x416 2 fires, 20.0ms\n",
      "image 65/1340 c:\\Users\\user\\Downloads\\yolov10-main\\Fire-Detection-1\\test\\images\\large_-1330-_jpg.rf.ed66c3662562f17f58568d810f7f5d71.jpg: 416x416 1 fire, 15.0ms\n",
      "image 66/1340 c:\\Users\\user\\Downloads\\yolov10-main\\Fire-Detection-1\\test\\images\\large_-1337-_jpg.rf.5ffabe998ebc6ec92edebc5cf13e2e03.jpg: 416x416 1 fire, 1 smoke, 19.0ms\n",
      "image 67/1340 c:\\Users\\user\\Downloads\\yolov10-main\\Fire-Detection-1\\test\\images\\large_-1341-_jpg.rf.99212c77ba7e1ab7c1dc57b869de5582.jpg: 416x416 3 fires, 14.0ms\n",
      "image 68/1340 c:\\Users\\user\\Downloads\\yolov10-main\\Fire-Detection-1\\test\\images\\large_-1342-_jpg.rf.49cb96158528533cc06811dc47a8842b.jpg: 416x416 2 smokes, 14.0ms\n",
      "image 69/1340 c:\\Users\\user\\Downloads\\yolov10-main\\Fire-Detection-1\\test\\images\\large_-1353-_jpg.rf.7e2c150fec03b1e74c600e031452941d.jpg: 416x416 1 smoke, 18.0ms\n",
      "image 70/1340 c:\\Users\\user\\Downloads\\yolov10-main\\Fire-Detection-1\\test\\images\\large_-1359-_jpg.rf.ad5cef6542f8d5fa338bf58b101eddbe.jpg: 416x416 1 fire, 1 smoke, 14.0ms\n",
      "image 71/1340 c:\\Users\\user\\Downloads\\yolov10-main\\Fire-Detection-1\\test\\images\\large_-1368-_jpg.rf.dd6aaa6bfe2e3eae3109ff8036caab01.jpg: 416x416 1 fire, 15.0ms\n",
      "image 72/1340 c:\\Users\\user\\Downloads\\yolov10-main\\Fire-Detection-1\\test\\images\\large_-1369-_jpg.rf.0c056c777b5cddf8faf846ab1a600ccc.jpg: 416x416 2 fires, 13.0ms\n",
      "image 73/1340 c:\\Users\\user\\Downloads\\yolov10-main\\Fire-Detection-1\\test\\images\\large_-137-_jpg.rf.0cac64a7338f3b99df94b38aa89245c3.jpg: 416x416 3 fires, 1 smoke, 13.0ms\n",
      "image 74/1340 c:\\Users\\user\\Downloads\\yolov10-main\\Fire-Detection-1\\test\\images\\large_-1374-_jpg.rf.7b86d65d99a25bf5fa3341c07aff3234.jpg: 416x416 4 fires, 14.0ms\n",
      "image 75/1340 c:\\Users\\user\\Downloads\\yolov10-main\\Fire-Detection-1\\test\\images\\large_-1395-_jpg.rf.8ac0254ef3adcdc0d1f09e1f7ed43445.jpg: 416x416 3 fires, 1 smoke, 13.0ms\n",
      "image 76/1340 c:\\Users\\user\\Downloads\\yolov10-main\\Fire-Detection-1\\test\\images\\large_-1412-_jpg.rf.8aff0408247e5421112515053165be54.jpg: 416x416 5 fires, 12.0ms\n",
      "image 77/1340 c:\\Users\\user\\Downloads\\yolov10-main\\Fire-Detection-1\\test\\images\\large_-1413-_jpg.rf.467b00ec606597aff944e40561f3312b.jpg: 416x416 1 fire, 13.0ms\n",
      "image 78/1340 c:\\Users\\user\\Downloads\\yolov10-main\\Fire-Detection-1\\test\\images\\large_-1417-_jpg.rf.994a3d24e410f488cc098f5073cf07c7.jpg: 416x416 1 fire, 12.0ms\n",
      "image 79/1340 c:\\Users\\user\\Downloads\\yolov10-main\\Fire-Detection-1\\test\\images\\large_-142-_jpg.rf.3b108752a67a960cd7e172821001fdcb.jpg: 416x416 1 fire, 18.0ms\n",
      "image 80/1340 c:\\Users\\user\\Downloads\\yolov10-main\\Fire-Detection-1\\test\\images\\large_-1421-_jpg.rf.5e36ec2f9fe7cb17c87d4be4db17e08d.jpg: 416x416 4 fires, 1 smoke, 13.0ms\n",
      "image 81/1340 c:\\Users\\user\\Downloads\\yolov10-main\\Fire-Detection-1\\test\\images\\large_-1429-_jpg.rf.10199a02b3b2831528f00e3726d4484d.jpg: 416x416 2 fires, 1 smoke, 13.0ms\n",
      "image 82/1340 c:\\Users\\user\\Downloads\\yolov10-main\\Fire-Detection-1\\test\\images\\large_-1431-_jpg.rf.b8fa19be21ba0e1fe861b92f92ce26bc.jpg: 416x416 2 fires, 11.0ms\n",
      "image 83/1340 c:\\Users\\user\\Downloads\\yolov10-main\\Fire-Detection-1\\test\\images\\large_-1437-_jpg.rf.9f4937401b893c317ff9cccaeb7bb4eb.jpg: 416x416 2 fires, 15.0ms\n",
      "image 84/1340 c:\\Users\\user\\Downloads\\yolov10-main\\Fire-Detection-1\\test\\images\\large_-1449-_jpg.rf.c397d97e199647983dd365d7353c0066.jpg: 416x416 1 fire, 13.0ms\n",
      "image 85/1340 c:\\Users\\user\\Downloads\\yolov10-main\\Fire-Detection-1\\test\\images\\large_-1460-_jpg.rf.e80248a6a88c5b018c25cec892980771.jpg: 416x416 6 fires, 2 smokes, 13.0ms\n",
      "image 86/1340 c:\\Users\\user\\Downloads\\yolov10-main\\Fire-Detection-1\\test\\images\\large_-1467-_jpg.rf.c4563bb388a75cd3407cc0e7e3f11a0f.jpg: 416x416 3 fires, 16.0ms\n",
      "image 87/1340 c:\\Users\\user\\Downloads\\yolov10-main\\Fire-Detection-1\\test\\images\\large_-1482-_jpg.rf.9f1191b5769a6899b3ce775667484636.jpg: 416x416 1 fire, 18.0ms\n",
      "image 88/1340 c:\\Users\\user\\Downloads\\yolov10-main\\Fire-Detection-1\\test\\images\\large_-1488-_jpg.rf.ec8a02722a231e4bbc77a43c5ebbb695.jpg: 416x416 3 fires, 13.0ms\n",
      "image 89/1340 c:\\Users\\user\\Downloads\\yolov10-main\\Fire-Detection-1\\test\\images\\large_-1501-_jpg.rf.0077dbe688fab148fe3fb1b533990e93.jpg: 416x416 1 fire, 13.0ms\n",
      "image 90/1340 c:\\Users\\user\\Downloads\\yolov10-main\\Fire-Detection-1\\test\\images\\large_-1506-_jpg.rf.4008cb0a11f68a138879e9a8e4d32c25.jpg: 416x416 1 fire, 1 smoke, 14.0ms\n",
      "image 91/1340 c:\\Users\\user\\Downloads\\yolov10-main\\Fire-Detection-1\\test\\images\\large_-1525-_jpg.rf.783711e1017f0cca385067bba379cf00.jpg: 416x416 1 fire, 11.0ms\n",
      "image 92/1340 c:\\Users\\user\\Downloads\\yolov10-main\\Fire-Detection-1\\test\\images\\large_-1547-_jpg.rf.10be3b75f540cefef3add5684b38dd2d.jpg: 416x416 2 fires, 12.0ms\n",
      "image 93/1340 c:\\Users\\user\\Downloads\\yolov10-main\\Fire-Detection-1\\test\\images\\large_-1548-_jpg.rf.cc39c4d357cc9335c56c39eceab46678.jpg: 416x416 4 fires, 13.0ms\n",
      "image 94/1340 c:\\Users\\user\\Downloads\\yolov10-main\\Fire-Detection-1\\test\\images\\large_-1554-_jpg.rf.b9650d5113b5ca3dc8fad52f2b1b38e8.jpg: 416x416 1 fire, 17.0ms\n",
      "image 95/1340 c:\\Users\\user\\Downloads\\yolov10-main\\Fire-Detection-1\\test\\images\\large_-1561-_jpg.rf.3654fa6b143f63a0acb6fede5e4499e6.jpg: 416x416 2 fires, 15.0ms\n",
      "image 96/1340 c:\\Users\\user\\Downloads\\yolov10-main\\Fire-Detection-1\\test\\images\\large_-1571-_jpg.rf.d80778f91f1c5309cf7fb59b5decd63c.jpg: 416x416 1 fire, 14.0ms\n",
      "image 97/1340 c:\\Users\\user\\Downloads\\yolov10-main\\Fire-Detection-1\\test\\images\\large_-1572-_jpg.rf.1c6b33f38a15fa34b54fb846b84b6087.jpg: 416x416 1 fire, 1 smoke, 15.0ms\n",
      "image 98/1340 c:\\Users\\user\\Downloads\\yolov10-main\\Fire-Detection-1\\test\\images\\large_-1582-_jpg.rf.7bc6b5baba4a98888812005daa84a9bd.jpg: 416x416 4 fires, 13.0ms\n",
      "image 99/1340 c:\\Users\\user\\Downloads\\yolov10-main\\Fire-Detection-1\\test\\images\\large_-159-_jpg.rf.28de95cc798524d979ee7e9b553a2afd.jpg: 416x416 1 fire, 13.0ms\n",
      "image 100/1340 c:\\Users\\user\\Downloads\\yolov10-main\\Fire-Detection-1\\test\\images\\large_-1597-_jpg.rf.26d1d3578dea511c61b0770ffccdde60.jpg: 416x416 2 fires, 14.0ms\n",
      "image 101/1340 c:\\Users\\user\\Downloads\\yolov10-main\\Fire-Detection-1\\test\\images\\large_-1599-_jpg.rf.9bd424d7cb64ea38a946e395058cf311.jpg: 416x416 2 fires, 13.0ms\n",
      "image 102/1340 c:\\Users\\user\\Downloads\\yolov10-main\\Fire-Detection-1\\test\\images\\large_-1665-_jpg.rf.7adafcd84706d8ca9790df5627387629.jpg: 416x416 1 fire, 2 smokes, 13.0ms\n",
      "image 103/1340 c:\\Users\\user\\Downloads\\yolov10-main\\Fire-Detection-1\\test\\images\\large_-1668-_jpg.rf.191504df222e9b0b9df9fec32f6de849.jpg: 416x416 2 fires, 1 smoke, 17.0ms\n",
      "image 104/1340 c:\\Users\\user\\Downloads\\yolov10-main\\Fire-Detection-1\\test\\images\\large_-1670-_jpg.rf.117d58e5415b34ce96496beb332c714f.jpg: 416x416 1 smoke, 13.0ms\n",
      "image 105/1340 c:\\Users\\user\\Downloads\\yolov10-main\\Fire-Detection-1\\test\\images\\large_-1676-_jpg.rf.d00e8efff5aceb948ffbb35fd3179360.jpg: 416x416 2 fires, 2 smokes, 13.0ms\n",
      "image 106/1340 c:\\Users\\user\\Downloads\\yolov10-main\\Fire-Detection-1\\test\\images\\large_-1682-_jpg.rf.f33e78bfcde05d2f088376dd5a94a587.jpg: 416x416 2 fires, 1 smoke, 15.0ms\n",
      "image 107/1340 c:\\Users\\user\\Downloads\\yolov10-main\\Fire-Detection-1\\test\\images\\large_-1685-_jpg.rf.49d114f0593e9a21044e0dacb2598508.jpg: 416x416 2 fires, 13.0ms\n",
      "image 108/1340 c:\\Users\\user\\Downloads\\yolov10-main\\Fire-Detection-1\\test\\images\\large_-1691-_jpg.rf.2501c46948334e7cb33b9766f483d9aa.jpg: 416x416 2 fires, 1 smoke, 13.0ms\n",
      "image 109/1340 c:\\Users\\user\\Downloads\\yolov10-main\\Fire-Detection-1\\test\\images\\large_-1697-_jpg.rf.9613aa59e5083bf6f9858c821c882b0c.jpg: 416x416 2 fires, 1 smoke, 17.0ms\n",
      "image 110/1340 c:\\Users\\user\\Downloads\\yolov10-main\\Fire-Detection-1\\test\\images\\large_-1702-_jpg.rf.1616b837b858c85da4f4c095f91c89ee.jpg: 416x416 1 fire, 13.0ms\n",
      "image 111/1340 c:\\Users\\user\\Downloads\\yolov10-main\\Fire-Detection-1\\test\\images\\large_-1707-_jpg.rf.c7e89f3d08e999945ecbdf77c2d72d47.jpg: 416x416 3 fires, 16.0ms\n",
      "image 112/1340 c:\\Users\\user\\Downloads\\yolov10-main\\Fire-Detection-1\\test\\images\\large_-1714-_jpg.rf.99474f8011aebf64320f803c9bb0360f.jpg: 416x416 1 fire, 19.0ms\n",
      "image 113/1340 c:\\Users\\user\\Downloads\\yolov10-main\\Fire-Detection-1\\test\\images\\large_-1725-_jpg.rf.9849641dbfa551a63476d6bb9b09935a.jpg: 416x416 1 smoke, 13.0ms\n",
      "image 114/1340 c:\\Users\\user\\Downloads\\yolov10-main\\Fire-Detection-1\\test\\images\\large_-1730-_jpg.rf.289c67e400939ed2a929875c9c9da007.jpg: 416x416 2 fires, 1 smoke, 12.0ms\n",
      "image 115/1340 c:\\Users\\user\\Downloads\\yolov10-main\\Fire-Detection-1\\test\\images\\large_-1752-_jpg.rf.b8913859227f571013c545cc1478f01c.jpg: 416x416 1 fire, 16.0ms\n",
      "image 116/1340 c:\\Users\\user\\Downloads\\yolov10-main\\Fire-Detection-1\\test\\images\\large_-1753-_jpg.rf.5b5004f3c30688cddb497e9ed23b1f18.jpg: 416x416 2 fires, 13.0ms\n",
      "image 117/1340 c:\\Users\\user\\Downloads\\yolov10-main\\Fire-Detection-1\\test\\images\\large_-1761-_jpg.rf.5312c88c1521fe49e3c56bec8962f036.jpg: 416x416 2 fires, 12.0ms\n",
      "image 118/1340 c:\\Users\\user\\Downloads\\yolov10-main\\Fire-Detection-1\\test\\images\\large_-1763-_jpg.rf.2abee24f21fe4d7cf40b00e44d0d4eb9.jpg: 416x416 2 fires, 13.0ms\n",
      "image 119/1340 c:\\Users\\user\\Downloads\\yolov10-main\\Fire-Detection-1\\test\\images\\large_-1771-_jpg.rf.d3a609c7f8adac7d3376d66cf30c73a8.jpg: 416x416 1 smoke, 18.0ms\n",
      "image 120/1340 c:\\Users\\user\\Downloads\\yolov10-main\\Fire-Detection-1\\test\\images\\large_-1777-_jpg.rf.bde46df5120e4ceeaa8662342eb1b55d.jpg: 416x416 1 fire, 1 smoke, 13.0ms\n",
      "image 121/1340 c:\\Users\\user\\Downloads\\yolov10-main\\Fire-Detection-1\\test\\images\\large_-1780-_jpg.rf.7eff7cdfcfe069ec615bc6ae8396546e.jpg: 416x416 2 fires, 13.0ms\n",
      "image 122/1340 c:\\Users\\user\\Downloads\\yolov10-main\\Fire-Detection-1\\test\\images\\large_-1784-_jpg.rf.264fc247ef20918043ca76c0d5dfb808.jpg: 416x416 2 fires, 14.0ms\n",
      "image 123/1340 c:\\Users\\user\\Downloads\\yolov10-main\\Fire-Detection-1\\test\\images\\large_-1795-_jpg.rf.40e719574373b9e9879c3f8e11616c02.jpg: 416x416 1 fire, 14.0ms\n",
      "image 124/1340 c:\\Users\\user\\Downloads\\yolov10-main\\Fire-Detection-1\\test\\images\\large_-1797-_jpg.rf.7a4d5955f1bfaf88290e7574ed2ddc1b.jpg: 416x416 1 fire, 14.0ms\n",
      "image 125/1340 c:\\Users\\user\\Downloads\\yolov10-main\\Fire-Detection-1\\test\\images\\large_-1807-_jpg.rf.b12b49e94ba629fe20fb44c7a26d41ef.jpg: 416x416 1 fire, 18.0ms\n",
      "image 126/1340 c:\\Users\\user\\Downloads\\yolov10-main\\Fire-Detection-1\\test\\images\\large_-1809-_jpg.rf.4ab6f6d826d2fec07b064ee58c177934.jpg: 416x416 1 fire, 12.0ms\n",
      "image 127/1340 c:\\Users\\user\\Downloads\\yolov10-main\\Fire-Detection-1\\test\\images\\large_-1810-_jpg.rf.21bbaa8cbe7daf0c644169c2b9bbf22d.jpg: 416x416 2 fires, 1 smoke, 13.0ms\n",
      "image 128/1340 c:\\Users\\user\\Downloads\\yolov10-main\\Fire-Detection-1\\test\\images\\large_-1812-_jpg.rf.66cdd249b48e3cd27106870ac7484208.jpg: 416x416 1 fire, 2 smokes, 15.0ms\n",
      "image 129/1340 c:\\Users\\user\\Downloads\\yolov10-main\\Fire-Detection-1\\test\\images\\large_-1817-_jpg.rf.a4106faf0a4669b470b75f089a24d0aa.jpg: 416x416 1 smoke, 13.0ms\n",
      "image 130/1340 c:\\Users\\user\\Downloads\\yolov10-main\\Fire-Detection-1\\test\\images\\large_-1822-_jpg.rf.d918b0075b0457b6c6b7ce74c90883e2.jpg: 416x416 2 fires, 16.0ms\n",
      "image 131/1340 c:\\Users\\user\\Downloads\\yolov10-main\\Fire-Detection-1\\test\\images\\large_-1824-_jpg.rf.cd3fb2dd15639d733f25086041698e11.jpg: 416x416 2 fires, 12.0ms\n",
      "image 132/1340 c:\\Users\\user\\Downloads\\yolov10-main\\Fire-Detection-1\\test\\images\\large_-1829-_jpg.rf.517bbd58e3903a843f96bdf349f4dbd5.jpg: 416x416 1 smoke, 14.0ms\n",
      "image 133/1340 c:\\Users\\user\\Downloads\\yolov10-main\\Fire-Detection-1\\test\\images\\large_-184-_jpg.rf.f6a8c0b7525a6693aa63600a67494725.jpg: 416x416 7 fires, 12.0ms\n",
      "image 134/1340 c:\\Users\\user\\Downloads\\yolov10-main\\Fire-Detection-1\\test\\images\\large_-1855-_jpg.rf.b6a01214dee746b1938357d30abbc058.jpg: 416x416 3 fires, 14.0ms\n",
      "image 135/1340 c:\\Users\\user\\Downloads\\yolov10-main\\Fire-Detection-1\\test\\images\\large_-1868-_jpg.rf.f2c8f6b60e4430a49511d8fb1b26d2a8.jpg: 416x416 3 smokes, 13.0ms\n",
      "image 136/1340 c:\\Users\\user\\Downloads\\yolov10-main\\Fire-Detection-1\\test\\images\\large_-1878-_jpg.rf.6b4b45d4a075a237837a4c6c32457c4c.jpg: 416x416 1 fire, 14.0ms\n",
      "image 137/1340 c:\\Users\\user\\Downloads\\yolov10-main\\Fire-Detection-1\\test\\images\\large_-1906-_jpg.rf.56e76031bfbf712111a2377abd9f8a40.jpg: 416x416 1 fire, 2 smokes, 14.0ms\n",
      "image 138/1340 c:\\Users\\user\\Downloads\\yolov10-main\\Fire-Detection-1\\test\\images\\large_-1908-_jpg.rf.b3952adccc5e91a9415042725327c391.jpg: 416x416 1 fire, 15.0ms\n",
      "image 139/1340 c:\\Users\\user\\Downloads\\yolov10-main\\Fire-Detection-1\\test\\images\\large_-1912-_jpg.rf.e3f32fec1b7812ce7570cdd7845982c7.jpg: 416x416 2 fires, 12.0ms\n",
      "image 140/1340 c:\\Users\\user\\Downloads\\yolov10-main\\Fire-Detection-1\\test\\images\\large_-1927-_jpg.rf.059195e1504cc05e3aff6dc969d66dff.jpg: 416x416 1 fire, 1 smoke, 15.0ms\n",
      "image 141/1340 c:\\Users\\user\\Downloads\\yolov10-main\\Fire-Detection-1\\test\\images\\large_-1930-_jpg.rf.a6d448407c32ba4cdb389a20fef50d41.jpg: 416x416 2 fires, 2 smokes, 13.0ms\n",
      "image 142/1340 c:\\Users\\user\\Downloads\\yolov10-main\\Fire-Detection-1\\test\\images\\large_-1946-_jpg.rf.fc33187126e258a15b0d987bf2542649.jpg: 416x416 (no detections), 15.0ms\n",
      "image 143/1340 c:\\Users\\user\\Downloads\\yolov10-main\\Fire-Detection-1\\test\\images\\large_-1948-_jpg.rf.b5751cb92a477308cbad894370f04762.jpg: 416x416 2 fires, 13.0ms\n",
      "image 144/1340 c:\\Users\\user\\Downloads\\yolov10-main\\Fire-Detection-1\\test\\images\\large_-1950-_jpg.rf.7ee653f03dead305598d8c1d5107e0fe.jpg: 416x416 2 fires, 17.0ms\n",
      "image 145/1340 c:\\Users\\user\\Downloads\\yolov10-main\\Fire-Detection-1\\test\\images\\large_-1952-_jpg.rf.fa879f314c58a048fc9ce1a72fdb0aa8.jpg: 416x416 3 fires, 2 smokes, 15.0ms\n",
      "image 146/1340 c:\\Users\\user\\Downloads\\yolov10-main\\Fire-Detection-1\\test\\images\\large_-1954-_jpg.rf.633a006881976915c37271664146eb92.jpg: 416x416 1 fire, 1 smoke, 17.0ms\n",
      "image 147/1340 c:\\Users\\user\\Downloads\\yolov10-main\\Fire-Detection-1\\test\\images\\large_-1968-_jpg.rf.8555f92a3edfc665707a52a02d6aabe1.jpg: 416x416 1 fire, 12.0ms\n",
      "image 148/1340 c:\\Users\\user\\Downloads\\yolov10-main\\Fire-Detection-1\\test\\images\\large_-1970-_jpg.rf.a8a1a390bf152794bff2ffb9c2b7e63e.jpg: 416x416 3 fires, 11.0ms\n",
      "image 149/1340 c:\\Users\\user\\Downloads\\yolov10-main\\Fire-Detection-1\\test\\images\\large_-1995-_jpg.rf.fd0eb54a92cab52e61331efb23ff3ae1.jpg: 416x416 2 fires, 16.0ms\n",
      "image 150/1340 c:\\Users\\user\\Downloads\\yolov10-main\\Fire-Detection-1\\test\\images\\large_-1998-_jpg.rf.a1843fd0625390bd3d4bf8338c6993a9.jpg: 416x416 1 fire, 16.4ms\n",
      "image 151/1340 c:\\Users\\user\\Downloads\\yolov10-main\\Fire-Detection-1\\test\\images\\large_-20-_jpg.rf.6d5b6664de71f3d87ea29453c0a2a889.jpg: 416x416 3 fires, 13.4ms\n",
      "image 152/1340 c:\\Users\\user\\Downloads\\yolov10-main\\Fire-Detection-1\\test\\images\\large_-2003-_jpg.rf.aa12d5bff765739a7bc9a95eb2cfa6e3.jpg: 416x416 2 fires, 13.3ms\n",
      "image 153/1340 c:\\Users\\user\\Downloads\\yolov10-main\\Fire-Detection-1\\test\\images\\large_-2004-_jpg.rf.ef007802311138af84a2cbc3a122907d.jpg: 416x416 1 fire, 1 smoke, 13.0ms\n",
      "image 154/1340 c:\\Users\\user\\Downloads\\yolov10-main\\Fire-Detection-1\\test\\images\\large_-2006-_jpg.rf.9391bd21bfa5329a66c8b89c46cfe554.jpg: 416x416 2 fires, 17.0ms\n",
      "image 155/1340 c:\\Users\\user\\Downloads\\yolov10-main\\Fire-Detection-1\\test\\images\\large_-2014-_jpg.rf.9eafcad166891db686353e2f7e87aab9.jpg: 416x416 2 fires, 15.7ms\n",
      "image 156/1340 c:\\Users\\user\\Downloads\\yolov10-main\\Fire-Detection-1\\test\\images\\large_-2017-_jpg.rf.da145824b4756fca66adad7bb0770dbe.jpg: 416x416 1 fire, 14.0ms\n",
      "image 157/1340 c:\\Users\\user\\Downloads\\yolov10-main\\Fire-Detection-1\\test\\images\\large_-2027-_jpg.rf.39aef751831f5a5abd4661e3ff8bc915.jpg: 416x416 1 fire, 12.0ms\n",
      "image 158/1340 c:\\Users\\user\\Downloads\\yolov10-main\\Fire-Detection-1\\test\\images\\large_-2031-_jpg.rf.cd908df5f16f4b973db505992770befc.jpg: 416x416 1 smoke, 11.0ms\n",
      "image 159/1340 c:\\Users\\user\\Downloads\\yolov10-main\\Fire-Detection-1\\test\\images\\large_-2048-_jpg.rf.51306520969e3ddb6e6f4a85d871545c.jpg: 416x416 1 fire, 1 smoke, 15.0ms\n",
      "image 160/1340 c:\\Users\\user\\Downloads\\yolov10-main\\Fire-Detection-1\\test\\images\\large_-2060-_jpg.rf.3bcd21220f59f6041f27850a5776e77b.jpg: 416x416 3 fires, 12.0ms\n",
      "image 161/1340 c:\\Users\\user\\Downloads\\yolov10-main\\Fire-Detection-1\\test\\images\\large_-2065-_jpg.rf.d982c5cd3f98fd990ab1d39e9386843e.jpg: 416x416 1 fire, 13.0ms\n",
      "image 162/1340 c:\\Users\\user\\Downloads\\yolov10-main\\Fire-Detection-1\\test\\images\\large_-2070-_jpg.rf.6bc3680f5d1c0a139eafa0bc79040aed.jpg: 416x416 1 fire, 14.0ms\n",
      "image 163/1340 c:\\Users\\user\\Downloads\\yolov10-main\\Fire-Detection-1\\test\\images\\large_-2071-_jpg.rf.2b89f324c494b3c78bb28032523dd3dc.jpg: 416x416 2 fires, 12.0ms\n",
      "image 164/1340 c:\\Users\\user\\Downloads\\yolov10-main\\Fire-Detection-1\\test\\images\\large_-2109-_jpg.rf.1af0d6b7bc24ffc5bf6974d1275f3ccd.jpg: 416x416 3 fires, 1 smoke, 18.0ms\n",
      "image 165/1340 c:\\Users\\user\\Downloads\\yolov10-main\\Fire-Detection-1\\test\\images\\large_-2121-_jpg.rf.19028a278d09e8d22214b1e55ffdadf2.jpg: 416x416 2 fires, 13.0ms\n",
      "image 166/1340 c:\\Users\\user\\Downloads\\yolov10-main\\Fire-Detection-1\\test\\images\\large_-2130-_jpg.rf.954c4a36fbaa8e147631cfce7d21ad96.jpg: 416x416 1 fire, 16.0ms\n",
      "image 167/1340 c:\\Users\\user\\Downloads\\yolov10-main\\Fire-Detection-1\\test\\images\\large_-2144-_jpg.rf.25de25545a9eea842bf4736e2d564428.jpg: 416x416 2 fires, 13.0ms\n",
      "image 168/1340 c:\\Users\\user\\Downloads\\yolov10-main\\Fire-Detection-1\\test\\images\\large_-2161-_jpg.rf.e19677cc70550d77486444dcff09014f.jpg: 416x416 1 fire, 14.0ms\n",
      "image 169/1340 c:\\Users\\user\\Downloads\\yolov10-main\\Fire-Detection-1\\test\\images\\large_-2165-_jpg.rf.163bf118a4ae1067440c4d2e84a58f57.jpg: 416x416 1 fire, 14.0ms\n",
      "image 170/1340 c:\\Users\\user\\Downloads\\yolov10-main\\Fire-Detection-1\\test\\images\\large_-2173-_jpg.rf.de4d9e52cae3800942b9a7f52189f263.jpg: 416x416 1 fire, 1 smoke, 11.0ms\n",
      "image 171/1340 c:\\Users\\user\\Downloads\\yolov10-main\\Fire-Detection-1\\test\\images\\large_-2175-_jpg.rf.ca1b97c4dcf579d0835f9d0ff71ed377.jpg: 416x416 1 fire, 18.0ms\n",
      "image 172/1340 c:\\Users\\user\\Downloads\\yolov10-main\\Fire-Detection-1\\test\\images\\large_-2181-_jpg.rf.a4dbdb11d8c37a6da982cf21a8e20c3b.jpg: 416x416 7 fires, 12.0ms\n",
      "image 173/1340 c:\\Users\\user\\Downloads\\yolov10-main\\Fire-Detection-1\\test\\images\\large_-2184-_jpg.rf.2262edaeaeb7292ab906056f0455fca0.jpg: 416x416 5 fires, 13.0ms\n",
      "image 174/1340 c:\\Users\\user\\Downloads\\yolov10-main\\Fire-Detection-1\\test\\images\\large_-2186-_jpg.rf.97352d66e0288febed591a1a645f52b7.jpg: 416x416 1 fire, 1 smoke, 16.0ms\n",
      "image 175/1340 c:\\Users\\user\\Downloads\\yolov10-main\\Fire-Detection-1\\test\\images\\large_-219-_jpg.rf.cd5e0fb315f4e82b5319176492cdef21.jpg: 416x416 4 fires, 14.0ms\n",
      "image 176/1340 c:\\Users\\user\\Downloads\\yolov10-main\\Fire-Detection-1\\test\\images\\large_-2192-_jpg.rf.0920a135d4e2dc6e7c462eb4c2fd2c2c.jpg: 416x416 2 fires, 3 smokes, 19.0ms\n",
      "image 177/1340 c:\\Users\\user\\Downloads\\yolov10-main\\Fire-Detection-1\\test\\images\\large_-2199-_jpg.rf.46a529736c1bfd627f002e857b3cb47f.jpg: 416x416 2 fires, 12.0ms\n",
      "image 178/1340 c:\\Users\\user\\Downloads\\yolov10-main\\Fire-Detection-1\\test\\images\\large_-220-_jpg.rf.8f39c3cf46546bb2d173f62c3a40ac80.jpg: 416x416 1 fire, 1 smoke, 16.0ms\n",
      "image 179/1340 c:\\Users\\user\\Downloads\\yolov10-main\\Fire-Detection-1\\test\\images\\large_-2204-_jpg.rf.550515a6478e9bcd97074948e98ad876.jpg: 416x416 1 fire, 12.0ms\n",
      "image 180/1340 c:\\Users\\user\\Downloads\\yolov10-main\\Fire-Detection-1\\test\\images\\large_-2205-_jpg.rf.b09cecec5d80e4514fd3e653db97b709.jpg: 416x416 1 fire, 18.0ms\n",
      "image 181/1340 c:\\Users\\user\\Downloads\\yolov10-main\\Fire-Detection-1\\test\\images\\large_-2207-_jpg.rf.4cd791f7060b41f8fbe1d400a3e5e898.jpg: 416x416 2 fires, 17.0ms\n",
      "image 182/1340 c:\\Users\\user\\Downloads\\yolov10-main\\Fire-Detection-1\\test\\images\\large_-2213-_jpg.rf.6023547178dea66804c5d0870aa4ca24.jpg: 416x416 2 fires, 16.0ms\n",
      "image 183/1340 c:\\Users\\user\\Downloads\\yolov10-main\\Fire-Detection-1\\test\\images\\large_-2215-_jpg.rf.ab019d5d6c666455e29bebe1d0fb84ad.jpg: 416x416 1 fire, 15.0ms\n",
      "image 184/1340 c:\\Users\\user\\Downloads\\yolov10-main\\Fire-Detection-1\\test\\images\\large_-2216-_jpg.rf.6fd7bb3e0d037c898231e1515cd2459e.jpg: 416x416 1 fire, 1 smoke, 17.0ms\n",
      "image 185/1340 c:\\Users\\user\\Downloads\\yolov10-main\\Fire-Detection-1\\test\\images\\large_-222-_jpg.rf.425dfd0e2f4d30a980ed40fbeb80b2c5.jpg: 416x416 1 fire, 2 smokes, 13.0ms\n",
      "image 186/1340 c:\\Users\\user\\Downloads\\yolov10-main\\Fire-Detection-1\\test\\images\\large_-2234-_jpg.rf.5d227505115cb136fb88cb3f7b8a573d.jpg: 416x416 1 fire, 18.0ms\n",
      "image 187/1340 c:\\Users\\user\\Downloads\\yolov10-main\\Fire-Detection-1\\test\\images\\large_-2248-_jpg.rf.f59dc6b01d44a985f0e34bf688812203.jpg: 416x416 3 fires, 12.0ms\n",
      "image 188/1340 c:\\Users\\user\\Downloads\\yolov10-main\\Fire-Detection-1\\test\\images\\large_-2256-_jpg.rf.f369ae493337d785a4297e108cd96900.jpg: 416x416 1 fire, 1 smoke, 13.0ms\n",
      "image 189/1340 c:\\Users\\user\\Downloads\\yolov10-main\\Fire-Detection-1\\test\\images\\large_-2261-_jpg.rf.43874350384b5a6adb012f5feba1b202.jpg: 416x416 2 fires, 12.0ms\n",
      "image 190/1340 c:\\Users\\user\\Downloads\\yolov10-main\\Fire-Detection-1\\test\\images\\large_-2268-_jpg.rf.3da0cd7cc65d32f18859a24641fd3242.jpg: 416x416 3 fires, 1 smoke, 11.0ms\n",
      "image 191/1340 c:\\Users\\user\\Downloads\\yolov10-main\\Fire-Detection-1\\test\\images\\large_-2275-_jpg.rf.b3ad1c99d97c89c44a7d7605b59a2f80.jpg: 416x416 2 fires, 15.0ms\n",
      "image 192/1340 c:\\Users\\user\\Downloads\\yolov10-main\\Fire-Detection-1\\test\\images\\large_-2283-_jpg.rf.3e1975ab5110bd6c23b3dc5fb9fc7cb8.jpg: 416x416 2 fires, 1 smoke, 12.0ms\n",
      "image 193/1340 c:\\Users\\user\\Downloads\\yolov10-main\\Fire-Detection-1\\test\\images\\large_-2288-_jpg.rf.aeee168b0335b4e4af9a9e01beafb138.jpg: 416x416 3 fires, 18.0ms\n",
      "image 194/1340 c:\\Users\\user\\Downloads\\yolov10-main\\Fire-Detection-1\\test\\images\\large_-2308-_jpg.rf.442b3da4f380a68982e719877a9a4d52.jpg: 416x416 3 fires, 1 smoke, 14.0ms\n",
      "image 195/1340 c:\\Users\\user\\Downloads\\yolov10-main\\Fire-Detection-1\\test\\images\\large_-232-_jpg.rf.0df147bda3952e70e05ea6232f3605de.jpg: 416x416 1 fire, 11.0ms\n",
      "image 196/1340 c:\\Users\\user\\Downloads\\yolov10-main\\Fire-Detection-1\\test\\images\\large_-2322-_jpg.rf.fe61e25236912a92a4b1498900fe5fa4.jpg: 416x416 3 fires, 12.0ms\n",
      "image 197/1340 c:\\Users\\user\\Downloads\\yolov10-main\\Fire-Detection-1\\test\\images\\large_-2351-_jpg.rf.e8584cfa1eb84c502756076a09d525e7.jpg: 416x416 1 fire, 16.0ms\n",
      "image 198/1340 c:\\Users\\user\\Downloads\\yolov10-main\\Fire-Detection-1\\test\\images\\large_-2352-_jpg.rf.e9f2c95807d60f87c51c0684fad73b5f.jpg: 416x416 1 fire, 15.0ms\n",
      "image 199/1340 c:\\Users\\user\\Downloads\\yolov10-main\\Fire-Detection-1\\test\\images\\large_-2360-_jpg.rf.004fae6a44f11b54752df4d5b81bca08.jpg: 416x416 3 fires, 16.0ms\n",
      "image 200/1340 c:\\Users\\user\\Downloads\\yolov10-main\\Fire-Detection-1\\test\\images\\large_-2361-_jpg.rf.0f0d90bf8556077a772de05275bd3ab9.jpg: 416x416 4 fires, 18.0ms\n",
      "image 201/1340 c:\\Users\\user\\Downloads\\yolov10-main\\Fire-Detection-1\\test\\images\\large_-2368-_jpg.rf.caa9b2904393d5d52b91ee7792fdb529.jpg: 416x416 2 fires, 1 smoke, 15.0ms\n",
      "image 202/1340 c:\\Users\\user\\Downloads\\yolov10-main\\Fire-Detection-1\\test\\images\\large_-2371-_jpg.rf.7cea7ec210275c2ccd871aef4812b898.jpg: 416x416 6 fires, 18.0ms\n",
      "image 203/1340 c:\\Users\\user\\Downloads\\yolov10-main\\Fire-Detection-1\\test\\images\\large_-2372-_jpg.rf.fcd69f6b888da8f8e5cc31f961d4e140.jpg: 416x416 1 fire, 2 smokes, 13.0ms\n",
      "image 204/1340 c:\\Users\\user\\Downloads\\yolov10-main\\Fire-Detection-1\\test\\images\\large_-2374-_jpg.rf.0df500599119fefc0828dc0fa3cb3d17.jpg: 416x416 1 fire, 13.0ms\n",
      "image 205/1340 c:\\Users\\user\\Downloads\\yolov10-main\\Fire-Detection-1\\test\\images\\large_-2375-_jpg.rf.b0f8518d6eead0f8cb42f818d9b213a0.jpg: 416x416 1 fire, 16.0ms\n",
      "image 206/1340 c:\\Users\\user\\Downloads\\yolov10-main\\Fire-Detection-1\\test\\images\\large_-2386-_jpg.rf.b23ca4c51cf7185d79c91d88916d5ed7.jpg: 416x416 1 fire, 1 smoke, 14.0ms\n",
      "image 207/1340 c:\\Users\\user\\Downloads\\yolov10-main\\Fire-Detection-1\\test\\images\\large_-2388-_jpg.rf.51a09eb75cc91617444d5c6ff8ee4c96.jpg: 416x416 1 fire, 1 smoke, 12.0ms\n",
      "image 208/1340 c:\\Users\\user\\Downloads\\yolov10-main\\Fire-Detection-1\\test\\images\\large_-2394-_jpg.rf.9584c3b2d39ea904aaaa6604c612fae9.jpg: 416x416 1 fire, 13.0ms\n",
      "image 209/1340 c:\\Users\\user\\Downloads\\yolov10-main\\Fire-Detection-1\\test\\images\\large_-2395-_jpg.rf.6c62266eadc213927977627c2005424e.jpg: 416x416 1 fire, 1 smoke, 12.0ms\n",
      "image 210/1340 c:\\Users\\user\\Downloads\\yolov10-main\\Fire-Detection-1\\test\\images\\large_-2397-_jpg.rf.3d2f008298d806814fc8dbf55296db09.jpg: 416x416 1 fire, 1 smoke, 12.0ms\n",
      "image 211/1340 c:\\Users\\user\\Downloads\\yolov10-main\\Fire-Detection-1\\test\\images\\large_-2398-_jpg.rf.a3387daf0efadce4405ca1c10480e497.jpg: 416x416 1 fire, 1 smoke, 15.0ms\n",
      "image 212/1340 c:\\Users\\user\\Downloads\\yolov10-main\\Fire-Detection-1\\test\\images\\large_-240-_jpg.rf.4d1c415b097a2a36ab76857da632cc3e.jpg: 416x416 3 fires, 14.0ms\n",
      "image 213/1340 c:\\Users\\user\\Downloads\\yolov10-main\\Fire-Detection-1\\test\\images\\large_-2400-_jpg.rf.124d6b6e1c043d61fd54ad01ff42c36a.jpg: 416x416 1 fire, 14.0ms\n",
      "image 214/1340 c:\\Users\\user\\Downloads\\yolov10-main\\Fire-Detection-1\\test\\images\\large_-2407-_jpg.rf.bdbf27f7cc7130eb387cefd06f7377d8.jpg: 416x416 2 fires, 1 smoke, 13.0ms\n",
      "image 215/1340 c:\\Users\\user\\Downloads\\yolov10-main\\Fire-Detection-1\\test\\images\\large_-2409-_jpg.rf.26d5ab824817363bab5794a1ce47c03f.jpg: 416x416 2 fires, 21.0ms\n",
      "image 216/1340 c:\\Users\\user\\Downloads\\yolov10-main\\Fire-Detection-1\\test\\images\\large_-2410-_jpg.rf.559d02710f2cfa1851dcc32836e8738d.jpg: 416x416 1 smoke, 22.0ms\n",
      "image 217/1340 c:\\Users\\user\\Downloads\\yolov10-main\\Fire-Detection-1\\test\\images\\large_-2411-_jpg.rf.874ddc22819807ed180a959c9004a6d9.jpg: 416x416 1 fire, 18.0ms\n",
      "image 218/1340 c:\\Users\\user\\Downloads\\yolov10-main\\Fire-Detection-1\\test\\images\\large_-2442-_jpg.rf.e938cc3c9291b84b9c0d3de730a08ff9.jpg: 416x416 2 fires, 13.0ms\n",
      "image 219/1340 c:\\Users\\user\\Downloads\\yolov10-main\\Fire-Detection-1\\test\\images\\large_-2443-_jpg.rf.dcf8fc4829ece65992b757f57bd7e902.jpg: 416x416 4 fires, 14.0ms\n",
      "image 220/1340 c:\\Users\\user\\Downloads\\yolov10-main\\Fire-Detection-1\\test\\images\\large_-2457-_jpg.rf.6c279c44e1ae95e22f38e25523069a93.jpg: 416x416 3 fires, 14.0ms\n",
      "image 221/1340 c:\\Users\\user\\Downloads\\yolov10-main\\Fire-Detection-1\\test\\images\\large_-2470-_jpg.rf.c4216f47fc3068f9a11ee540846fff8c.jpg: 416x416 3 fires, 13.0ms\n",
      "image 222/1340 c:\\Users\\user\\Downloads\\yolov10-main\\Fire-Detection-1\\test\\images\\large_-2471-_jpg.rf.9b038c6bab9e52e41b6850b89f773520.jpg: 416x416 (no detections), 16.0ms\n",
      "image 223/1340 c:\\Users\\user\\Downloads\\yolov10-main\\Fire-Detection-1\\test\\images\\large_-2474-_jpg.rf.b92bd588a30827f11de38b6080c2cff9.jpg: 416x416 2 fires, 12.0ms\n",
      "image 224/1340 c:\\Users\\user\\Downloads\\yolov10-main\\Fire-Detection-1\\test\\images\\large_-2482-_jpg.rf.506360f9eaa0e68d4d71723f15ab17c9.jpg: 416x416 1 fire, 17.0ms\n",
      "image 225/1340 c:\\Users\\user\\Downloads\\yolov10-main\\Fire-Detection-1\\test\\images\\large_-2491-_jpg.rf.6d0001c9872ca1277ed270d407f350cb.jpg: 416x416 1 fire, 17.0ms\n",
      "image 226/1340 c:\\Users\\user\\Downloads\\yolov10-main\\Fire-Detection-1\\test\\images\\large_-25-_jpg.rf.3ef4a6bdc27f8a515a145774ddc5cbca.jpg: 416x416 3 fires, 1 smoke, 13.0ms\n",
      "image 227/1340 c:\\Users\\user\\Downloads\\yolov10-main\\Fire-Detection-1\\test\\images\\large_-2505-_jpg.rf.ab956d9204ee1d279398659588b37488.jpg: 416x416 2 fires, 17.0ms\n",
      "image 228/1340 c:\\Users\\user\\Downloads\\yolov10-main\\Fire-Detection-1\\test\\images\\large_-2511-_jpg.rf.022c72f05828cb83186e1f336de25a92.jpg: 416x416 3 fires, 16.0ms\n",
      "image 229/1340 c:\\Users\\user\\Downloads\\yolov10-main\\Fire-Detection-1\\test\\images\\large_-2514-_jpg.rf.cfba1b318a3b032a9fe531b6cf794fcc.jpg: 416x416 4 fires, 12.0ms\n",
      "image 230/1340 c:\\Users\\user\\Downloads\\yolov10-main\\Fire-Detection-1\\test\\images\\large_-2521-_jpg.rf.6f618b58d4315cc284e4f435b10c533f.jpg: 416x416 1 fire, 1 smoke, 12.0ms\n",
      "image 231/1340 c:\\Users\\user\\Downloads\\yolov10-main\\Fire-Detection-1\\test\\images\\large_-2535-_jpg.rf.4e171784aab1bdd7c6742df0577dec14.jpg: 416x416 1 fire, 18.0ms\n",
      "image 232/1340 c:\\Users\\user\\Downloads\\yolov10-main\\Fire-Detection-1\\test\\images\\large_-2538-_jpg.rf.7bdb88b67533a7f9e9d9198c31984410.jpg: 416x416 6 fires, 1 smoke, 15.0ms\n",
      "image 233/1340 c:\\Users\\user\\Downloads\\yolov10-main\\Fire-Detection-1\\test\\images\\large_-256-_jpg.rf.54f683449b3c1f35744c95ffdf855340.jpg: 416x416 1 fire, 13.0ms\n",
      "image 234/1340 c:\\Users\\user\\Downloads\\yolov10-main\\Fire-Detection-1\\test\\images\\large_-2564-_jpg.rf.8d2abae8fbda0a02029ee93b5a74bf4f.jpg: 416x416 3 fires, 1 smoke, 13.0ms\n",
      "image 235/1340 c:\\Users\\user\\Downloads\\yolov10-main\\Fire-Detection-1\\test\\images\\large_-2571-_jpg.rf.d97f0470e8a21634197661b716034686.jpg: 416x416 1 fire, 1 smoke, 11.0ms\n",
      "image 236/1340 c:\\Users\\user\\Downloads\\yolov10-main\\Fire-Detection-1\\test\\images\\large_-2578-_jpg.rf.2eb4e29fa39ca8c8b97c82c26334a0fa.jpg: 416x416 1 fire, 17.0ms\n",
      "image 237/1340 c:\\Users\\user\\Downloads\\yolov10-main\\Fire-Detection-1\\test\\images\\large_-2579-_jpg.rf.374ff915e6f0f3c7746aff533a7626c2.jpg: 416x416 3 fires, 13.0ms\n",
      "image 238/1340 c:\\Users\\user\\Downloads\\yolov10-main\\Fire-Detection-1\\test\\images\\large_-2605-_jpg.rf.9ad8e10122ab3e3860749ffec8b6fe12.jpg: 416x416 1 fire, 15.0ms\n",
      "image 239/1340 c:\\Users\\user\\Downloads\\yolov10-main\\Fire-Detection-1\\test\\images\\large_-261-_jpg.rf.b930838c80424ee60ba8e9d7484f6708.jpg: 416x416 1 fire, 2 smokes, 18.0ms\n",
      "image 240/1340 c:\\Users\\user\\Downloads\\yolov10-main\\Fire-Detection-1\\test\\images\\large_-2620-_jpg.rf.0c937e15d1aa2a387af56106f4e21292.jpg: 416x416 7 fires, 1 smoke, 18.0ms\n",
      "image 241/1340 c:\\Users\\user\\Downloads\\yolov10-main\\Fire-Detection-1\\test\\images\\large_-2634-_jpg.rf.31bfdfc7eaabd2390f25e1367de23ebd.jpg: 416x416 1 fire, 16.0ms\n",
      "image 242/1340 c:\\Users\\user\\Downloads\\yolov10-main\\Fire-Detection-1\\test\\images\\large_-2636-_jpg.rf.276e0351ed6f5cbd96a8f668bc211dd3.jpg: 416x416 1 fire, 2 smokes, 14.0ms\n",
      "image 243/1340 c:\\Users\\user\\Downloads\\yolov10-main\\Fire-Detection-1\\test\\images\\large_-2641-_jpg.rf.88dca2661571f3c9ecf841ede1f4d483.jpg: 416x416 3 fires, 18.0ms\n",
      "image 244/1340 c:\\Users\\user\\Downloads\\yolov10-main\\Fire-Detection-1\\test\\images\\large_-2644-_jpg.rf.baf4c1bbfd86c783b7852d2d15dcf47a.jpg: 416x416 1 fire, 1 smoke, 15.0ms\n",
      "image 245/1340 c:\\Users\\user\\Downloads\\yolov10-main\\Fire-Detection-1\\test\\images\\large_-265-_jpg.rf.8c13864ceaa91150999eec9fb99c584e.jpg: 416x416 2 fires, 16.0ms\n",
      "image 246/1340 c:\\Users\\user\\Downloads\\yolov10-main\\Fire-Detection-1\\test\\images\\large_-2653-_jpg.rf.fe503e3e3b1bb1a8bb2d799e5412e45c.jpg: 416x416 1 fire, 13.0ms\n",
      "image 247/1340 c:\\Users\\user\\Downloads\\yolov10-main\\Fire-Detection-1\\test\\images\\large_-2655-_jpg.rf.750edf560a81f606af578885eaf3ed3d.jpg: 416x416 4 fires, 18.0ms\n",
      "image 248/1340 c:\\Users\\user\\Downloads\\yolov10-main\\Fire-Detection-1\\test\\images\\large_-266-_jpg.rf.2544b5ef31e900820289f8f5f88da5c5.jpg: 416x416 1 fire, 1 smoke, 15.0ms\n",
      "image 249/1340 c:\\Users\\user\\Downloads\\yolov10-main\\Fire-Detection-1\\test\\images\\large_-2670-_jpg.rf.139906a9367e1dbd043dd469cc175d6a.jpg: 416x416 4 fires, 17.0ms\n",
      "image 250/1340 c:\\Users\\user\\Downloads\\yolov10-main\\Fire-Detection-1\\test\\images\\large_-2671-_jpg.rf.6404e0523b43e0cd41f646a26ab8bd65.jpg: 416x416 2 fires, 18.0ms\n",
      "image 251/1340 c:\\Users\\user\\Downloads\\yolov10-main\\Fire-Detection-1\\test\\images\\large_-2676-_jpg.rf.dcfc26aa5d94a4e081f0af5743e47b0d.jpg: 416x416 3 fires, 19.0ms\n",
      "image 252/1340 c:\\Users\\user\\Downloads\\yolov10-main\\Fire-Detection-1\\test\\images\\large_-2677-_jpg.rf.59b881cce546f8a55364882307f8d98c.jpg: 416x416 (no detections), 15.0ms\n",
      "image 253/1340 c:\\Users\\user\\Downloads\\yolov10-main\\Fire-Detection-1\\test\\images\\large_-2679-_jpg.rf.46beb112e402e5845da57ab580584a7c.jpg: 416x416 1 fire, 16.0ms\n",
      "image 254/1340 c:\\Users\\user\\Downloads\\yolov10-main\\Fire-Detection-1\\test\\images\\large_-269-_jpg.rf.969a0487394c14cb7b719fb50e333b0c.jpg: 416x416 1 fire, 13.0ms\n",
      "image 255/1340 c:\\Users\\user\\Downloads\\yolov10-main\\Fire-Detection-1\\test\\images\\large_-2696-_jpg.rf.8def5f9ce9805810656bf73aee919c39.jpg: 416x416 1 fire, 17.1ms\n",
      "image 256/1340 c:\\Users\\user\\Downloads\\yolov10-main\\Fire-Detection-1\\test\\images\\large_-2699-_jpg.rf.25aba861e1b75f8252796fa5dc2433f5.jpg: 416x416 2 fires, 14.3ms\n",
      "image 257/1340 c:\\Users\\user\\Downloads\\yolov10-main\\Fire-Detection-1\\test\\images\\large_-2702-_jpg.rf.61b42d05e84cc2cdf587abb3d7406054.jpg: 416x416 5 fires, 2 smokes, 13.0ms\n",
      "image 258/1340 c:\\Users\\user\\Downloads\\yolov10-main\\Fire-Detection-1\\test\\images\\large_-2723-_jpg.rf.8266e5abaf92ca07c5bc5bb125f1fd1a.jpg: 416x416 5 fires, 2 smokes, 12.0ms\n",
      "image 259/1340 c:\\Users\\user\\Downloads\\yolov10-main\\Fire-Detection-1\\test\\images\\large_-2724-_jpg.rf.2ec3d28c844274e45ff6c0c99f185ae9.jpg: 416x416 (no detections), 14.8ms\n",
      "image 260/1340 c:\\Users\\user\\Downloads\\yolov10-main\\Fire-Detection-1\\test\\images\\large_-2726-_jpg.rf.8a766c6b1fb6b514624b9f1c86b5103a.jpg: 416x416 2 fires, 17.0ms\n",
      "image 261/1340 c:\\Users\\user\\Downloads\\yolov10-main\\Fire-Detection-1\\test\\images\\large_-2727-_jpg.rf.dc85a63e002ad27293bc06a147599299.jpg: 416x416 1 fire, 13.0ms\n",
      "image 262/1340 c:\\Users\\user\\Downloads\\yolov10-main\\Fire-Detection-1\\test\\images\\large_-2728-_jpg.rf.f823fb23adf7f0b8fcac0d0702858a52.jpg: 416x416 1 fire, 17.0ms\n",
      "image 263/1340 c:\\Users\\user\\Downloads\\yolov10-main\\Fire-Detection-1\\test\\images\\large_-2729-_jpg.rf.09eb37405115d49540cddea23ac892fe.jpg: 416x416 1 fire, 14.0ms\n",
      "image 264/1340 c:\\Users\\user\\Downloads\\yolov10-main\\Fire-Detection-1\\test\\images\\large_-2733-_jpg.rf.d1ab37633d764f0329424d799c8350d2.jpg: 416x416 3 fires, 18.0ms\n",
      "image 265/1340 c:\\Users\\user\\Downloads\\yolov10-main\\Fire-Detection-1\\test\\images\\large_-274-_jpg.rf.fc1700dbfa0cbd0ed337431b4a600a90.jpg: 416x416 1 fire, 14.0ms\n",
      "image 266/1340 c:\\Users\\user\\Downloads\\yolov10-main\\Fire-Detection-1\\test\\images\\large_-2740-_jpg.rf.ab55f26d2ea463b87de112025b255d3b.jpg: 416x416 1 fire, 16.0ms\n",
      "image 267/1340 c:\\Users\\user\\Downloads\\yolov10-main\\Fire-Detection-1\\test\\images\\large_-275-_jpg.rf.41c912dc9a341c0bb40b97ee2d624fd0.jpg: 416x416 2 fires, 13.0ms\n",
      "image 268/1340 c:\\Users\\user\\Downloads\\yolov10-main\\Fire-Detection-1\\test\\images\\large_-2759-_jpg.rf.2b9df4c05896cad48fdc60f8f98a2860.jpg: 416x416 1 fire, 12.0ms\n",
      "image 269/1340 c:\\Users\\user\\Downloads\\yolov10-main\\Fire-Detection-1\\test\\images\\large_-2769-_jpg.rf.be5b56a9057c1efa734c2325e61c749c.jpg: 416x416 1 fire, 1 smoke, 12.0ms\n",
      "image 270/1340 c:\\Users\\user\\Downloads\\yolov10-main\\Fire-Detection-1\\test\\images\\large_-2783-_jpg.rf.a1c0bcff0b2992b281ba90f0436fb09e.jpg: 416x416 3 fires, 19.0ms\n",
      "image 271/1340 c:\\Users\\user\\Downloads\\yolov10-main\\Fire-Detection-1\\test\\images\\large_-2785-_jpg.rf.96b0485050ce4127a851143e1a602056.jpg: 416x416 4 fires, 1 smoke, 13.0ms\n",
      "image 272/1340 c:\\Users\\user\\Downloads\\yolov10-main\\Fire-Detection-1\\test\\images\\large_-2786-_jpg.rf.866200045b4714112d0e5b36d2790943.jpg: 416x416 1 fire, 1 smoke, 18.0ms\n",
      "image 273/1340 c:\\Users\\user\\Downloads\\yolov10-main\\Fire-Detection-1\\test\\images\\large_-2798-_jpg.rf.b6248a605761223eb1d6229bc3e69968.jpg: 416x416 1 fire, 19.0ms\n",
      "image 274/1340 c:\\Users\\user\\Downloads\\yolov10-main\\Fire-Detection-1\\test\\images\\large_-28-_jpg.rf.e6faf4d5debe85e6fa27336dc27cffd1.jpg: 416x416 3 fires, 19.0ms\n",
      "image 275/1340 c:\\Users\\user\\Downloads\\yolov10-main\\Fire-Detection-1\\test\\images\\large_-280-_jpg.rf.308573e78cfdae498a7b8a602e5de974.jpg: 416x416 3 fires, 14.0ms\n",
      "image 276/1340 c:\\Users\\user\\Downloads\\yolov10-main\\Fire-Detection-1\\test\\images\\large_-2807-_jpg.rf.52818bc1b0e0a56c6b678242ec19ac93.jpg: 416x416 1 fire, 1 smoke, 23.0ms\n",
      "image 277/1340 c:\\Users\\user\\Downloads\\yolov10-main\\Fire-Detection-1\\test\\images\\large_-2811-_jpg.rf.2fe62aa36b7c2943b3d411b31491eb0d.jpg: 416x416 1 fire, 26.0ms\n",
      "image 278/1340 c:\\Users\\user\\Downloads\\yolov10-main\\Fire-Detection-1\\test\\images\\large_-2823-_jpg.rf.3fb1d0d58cb12a87f9ed6b2b895a771e.jpg: 416x416 1 fire, 20.0ms\n",
      "image 279/1340 c:\\Users\\user\\Downloads\\yolov10-main\\Fire-Detection-1\\test\\images\\large_-2825-_jpg.rf.a0d9957f0882a15f805cd0c1008c9fbd.jpg: 416x416 1 fire, 20.0ms\n",
      "image 280/1340 c:\\Users\\user\\Downloads\\yolov10-main\\Fire-Detection-1\\test\\images\\large_-2826-_jpg.rf.6d085b916d6480cef6d65e1b41d551ff.jpg: 416x416 1 fire, 1 smoke, 14.0ms\n",
      "image 281/1340 c:\\Users\\user\\Downloads\\yolov10-main\\Fire-Detection-1\\test\\images\\large_-2833-_jpg.rf.7da7b1b162b586a3644e0eef6a3129d2.jpg: 416x416 (no detections), 14.0ms\n",
      "image 282/1340 c:\\Users\\user\\Downloads\\yolov10-main\\Fire-Detection-1\\test\\images\\large_-284-_jpg.rf.56d7c4d4a569e853875efa7a81cd3e12.jpg: 416x416 2 fires, 13.0ms\n",
      "image 283/1340 c:\\Users\\user\\Downloads\\yolov10-main\\Fire-Detection-1\\test\\images\\large_-2854-_jpg.rf.58920797a6b8550938eeb6fcb8fad913.jpg: 416x416 3 fires, 2 smokes, 13.0ms\n",
      "image 284/1340 c:\\Users\\user\\Downloads\\yolov10-main\\Fire-Detection-1\\test\\images\\large_-2857-_jpg.rf.d44f5e1272a282181016e3f6c0293fa7.jpg: 416x416 2 fires, 15.0ms\n",
      "image 285/1340 c:\\Users\\user\\Downloads\\yolov10-main\\Fire-Detection-1\\test\\images\\large_-2858-_jpg.rf.2cf98125273979a019c1f60695afa10b.jpg: 416x416 2 fires, 14.0ms\n",
      "image 286/1340 c:\\Users\\user\\Downloads\\yolov10-main\\Fire-Detection-1\\test\\images\\large_-2863-_jpg.rf.e63fbbd3d4d51bfa571cd2f11cc37b55.jpg: 416x416 1 fire, 16.0ms\n",
      "image 287/1340 c:\\Users\\user\\Downloads\\yolov10-main\\Fire-Detection-1\\test\\images\\large_-2865-_jpg.rf.867b7ef246f956d079fb8752b51da8df.jpg: 416x416 1 fire, 2 smokes, 14.0ms\n",
      "image 288/1340 c:\\Users\\user\\Downloads\\yolov10-main\\Fire-Detection-1\\test\\images\\large_-2869-_jpg.rf.c67ecd7da8c5170fdf50df41a61aad82.jpg: 416x416 2 fires, 17.0ms\n",
      "image 289/1340 c:\\Users\\user\\Downloads\\yolov10-main\\Fire-Detection-1\\test\\images\\large_-2873-_jpg.rf.aeef961923c4078d660656aee2052f2d.jpg: 416x416 2 fires, 1 smoke, 13.0ms\n",
      "image 290/1340 c:\\Users\\user\\Downloads\\yolov10-main\\Fire-Detection-1\\test\\images\\large_-2878-_jpg.rf.145c0d4959b1aff144622124f6a9cc45.jpg: 416x416 3 fires, 12.0ms\n",
      "image 291/1340 c:\\Users\\user\\Downloads\\yolov10-main\\Fire-Detection-1\\test\\images\\large_-2884-_jpg.rf.1b8916bfa744ece3cfce1115391ddb1e.jpg: 416x416 1 fire, 11.0ms\n",
      "image 292/1340 c:\\Users\\user\\Downloads\\yolov10-main\\Fire-Detection-1\\test\\images\\large_-2889-_jpg.rf.b1b4549c08a80c83a7fc99e89550cd94.jpg: 416x416 1 fire, 18.0ms\n",
      "image 293/1340 c:\\Users\\user\\Downloads\\yolov10-main\\Fire-Detection-1\\test\\images\\large_-2891-_jpg.rf.2e1163bb3dd3a194cdb4fc1bc0e2f94c.jpg: 416x416 2 fires, 12.0ms\n",
      "image 294/1340 c:\\Users\\user\\Downloads\\yolov10-main\\Fire-Detection-1\\test\\images\\large_-2892-_jpg.rf.1806ee374e552c9cfbc8f9dd2425a794.jpg: 416x416 2 fires, 13.0ms\n",
      "image 295/1340 c:\\Users\\user\\Downloads\\yolov10-main\\Fire-Detection-1\\test\\images\\large_-2893-_jpg.rf.391016ef037fab2056c1563c68741903.jpg: 416x416 1 fire, 11.0ms\n",
      "image 296/1340 c:\\Users\\user\\Downloads\\yolov10-main\\Fire-Detection-1\\test\\images\\large_-2898-_jpg.rf.416cb436b85a329fd246b58966fdb599.jpg: 416x416 2 fires, 13.0ms\n",
      "image 297/1340 c:\\Users\\user\\Downloads\\yolov10-main\\Fire-Detection-1\\test\\images\\large_-2900-_jpg.rf.89012ab0d6b4185ad4a004cc3a0e7f94.jpg: 416x416 1 fire, 17.0ms\n",
      "image 298/1340 c:\\Users\\user\\Downloads\\yolov10-main\\Fire-Detection-1\\test\\images\\large_-2903-_jpg.rf.07603c7bbcfd9a70b64afcbfa80d2286.jpg: 416x416 2 fires, 14.0ms\n",
      "image 299/1340 c:\\Users\\user\\Downloads\\yolov10-main\\Fire-Detection-1\\test\\images\\large_-2904-_jpg.rf.ef16c827fae0ae598fce0276f96537b2.jpg: 416x416 1 fire, 1 smoke, 14.0ms\n",
      "image 300/1340 c:\\Users\\user\\Downloads\\yolov10-main\\Fire-Detection-1\\test\\images\\large_-2911-_jpg.rf.6ef94fc1bcb70d470c069ffa9fbd1d58.jpg: 416x416 4 fires, 1 smoke, 19.0ms\n",
      "image 301/1340 c:\\Users\\user\\Downloads\\yolov10-main\\Fire-Detection-1\\test\\images\\large_-292-_jpg.rf.817c117ca61387c7ba7ba52a49806757.jpg: 416x416 2 fires, 15.0ms\n",
      "image 302/1340 c:\\Users\\user\\Downloads\\yolov10-main\\Fire-Detection-1\\test\\images\\large_-2921-_jpg.rf.dce681ded0caa83fb8976d38e051d5c9.jpg: 416x416 2 fires, 18.0ms\n",
      "image 303/1340 c:\\Users\\user\\Downloads\\yolov10-main\\Fire-Detection-1\\test\\images\\large_-2924-_jpg.rf.56c86c491977d85688435a6151232339.jpg: 416x416 1 fire, 1 smoke, 14.0ms\n",
      "image 304/1340 c:\\Users\\user\\Downloads\\yolov10-main\\Fire-Detection-1\\test\\images\\large_-2926-_jpg.rf.c8ee0dbe0e788e34dcc3ca58da31793d.jpg: 416x416 1 fire, 1 smoke, 18.0ms\n",
      "image 305/1340 c:\\Users\\user\\Downloads\\yolov10-main\\Fire-Detection-1\\test\\images\\large_-2929-_jpg.rf.bbbe85d17842f44f50f4ea27f14e00f5.jpg: 416x416 3 fires, 1 smoke, 16.0ms\n",
      "image 306/1340 c:\\Users\\user\\Downloads\\yolov10-main\\Fire-Detection-1\\test\\images\\large_-293-_jpg.rf.32bdc82e0ab5e692a1fc55ebc71cf4e5.jpg: 416x416 (no detections), 17.0ms\n",
      "image 307/1340 c:\\Users\\user\\Downloads\\yolov10-main\\Fire-Detection-1\\test\\images\\large_-2930-_jpg.rf.4f9b71955ab7b9b8b4930a7d9a2f5bc6.jpg: 416x416 1 fire, 17.0ms\n",
      "image 308/1340 c:\\Users\\user\\Downloads\\yolov10-main\\Fire-Detection-1\\test\\images\\large_-2933-_jpg.rf.f0ab7cb5677bc4a8dc0c00efbd73ced0.jpg: 416x416 4 fires, 14.0ms\n",
      "image 309/1340 c:\\Users\\user\\Downloads\\yolov10-main\\Fire-Detection-1\\test\\images\\large_-2938-_jpg.rf.fa5a8c106828f544f466a6007b3267e0.jpg: 416x416 1 fire, 16.0ms\n",
      "image 310/1340 c:\\Users\\user\\Downloads\\yolov10-main\\Fire-Detection-1\\test\\images\\large_-2946-_jpg.rf.0c81f3da32e678de3eff44409d434e97.jpg: 416x416 2 fires, 2 smokes, 13.0ms\n",
      "image 311/1340 c:\\Users\\user\\Downloads\\yolov10-main\\Fire-Detection-1\\test\\images\\large_-2950-_jpg.rf.3d4e0a16b01b7bc3a979803f6e695977.jpg: 416x416 2 fires, 2 smokes, 17.0ms\n",
      "image 312/1340 c:\\Users\\user\\Downloads\\yolov10-main\\Fire-Detection-1\\test\\images\\large_-297-_jpg.rf.d55e823bc1067b345a9becebb4211fae.jpg: 416x416 1 fire, 13.0ms\n",
      "image 313/1340 c:\\Users\\user\\Downloads\\yolov10-main\\Fire-Detection-1\\test\\images\\large_-2985-_jpg.rf.765ceaec91a6aef4ad2c739fb260ec52.jpg: 416x416 4 fires, 18.0ms\n",
      "image 314/1340 c:\\Users\\user\\Downloads\\yolov10-main\\Fire-Detection-1\\test\\images\\large_-2991-_jpg.rf.748b17011f78d84c745a32993d49aeb8.jpg: 416x416 4 fires, 19.0ms\n",
      "image 315/1340 c:\\Users\\user\\Downloads\\yolov10-main\\Fire-Detection-1\\test\\images\\large_-2997-_jpg.rf.1bee3a9233310d3e09f64e145cc0fd6f.jpg: 416x416 3 fires, 1 smoke, 14.0ms\n",
      "image 316/1340 c:\\Users\\user\\Downloads\\yolov10-main\\Fire-Detection-1\\test\\images\\large_-3006-_jpg.rf.e21bf4f26d194ef8fd06b4f37cf120e2.jpg: 416x416 2 fires, 1 smoke, 12.0ms\n",
      "image 317/1340 c:\\Users\\user\\Downloads\\yolov10-main\\Fire-Detection-1\\test\\images\\large_-3008-_jpg.rf.fcf659305a84445d3d8864248603e13c.jpg: 416x416 1 fire, 1 smoke, 15.0ms\n",
      "image 318/1340 c:\\Users\\user\\Downloads\\yolov10-main\\Fire-Detection-1\\test\\images\\large_-3012-_jpg.rf.039996a01c1c6cd653dd5d29fa07d9a3.jpg: 416x416 4 fires, 1 smoke, 18.0ms\n",
      "image 319/1340 c:\\Users\\user\\Downloads\\yolov10-main\\Fire-Detection-1\\test\\images\\large_-3032-_jpg.rf.b7960f83bde4b308822fecc9777fad3d.jpg: 416x416 2 fires, 12.0ms\n",
      "image 320/1340 c:\\Users\\user\\Downloads\\yolov10-main\\Fire-Detection-1\\test\\images\\large_-3033-_jpg.rf.4ba317a6431abad383ea5ea5abd77bec.jpg: 416x416 2 fires, 13.0ms\n",
      "image 321/1340 c:\\Users\\user\\Downloads\\yolov10-main\\Fire-Detection-1\\test\\images\\large_-3034-_jpg.rf.54da392c24bc6575226e83d59226249c.jpg: 416x416 1 fire, 1 smoke, 18.0ms\n",
      "image 322/1340 c:\\Users\\user\\Downloads\\yolov10-main\\Fire-Detection-1\\test\\images\\large_-3068-_jpg.rf.a3c8c93f8e509de6289a52d7703e94f9.jpg: 416x416 1 fire, 14.0ms\n",
      "image 323/1340 c:\\Users\\user\\Downloads\\yolov10-main\\Fire-Detection-1\\test\\images\\large_-3069-_jpg.rf.9f828e0bc6a957cf157bbf3691baa31b.jpg: 416x416 1 fire, 17.0ms\n",
      "image 324/1340 c:\\Users\\user\\Downloads\\yolov10-main\\Fire-Detection-1\\test\\images\\large_-307-_jpg.rf.bc48044eb80eacedb4402a8420436852.jpg: 416x416 2 fires, 12.0ms\n",
      "image 325/1340 c:\\Users\\user\\Downloads\\yolov10-main\\Fire-Detection-1\\test\\images\\large_-3072-_jpg.rf.fd16b7261083cf296c13f08e9bc88112.jpg: 416x416 2 fires, 18.0ms\n",
      "image 326/1340 c:\\Users\\user\\Downloads\\yolov10-main\\Fire-Detection-1\\test\\images\\large_-3073-_jpg.rf.863a2bb259d5ce169fea499f340f36a8.jpg: 416x416 1 fire, 12.0ms\n",
      "image 327/1340 c:\\Users\\user\\Downloads\\yolov10-main\\Fire-Detection-1\\test\\images\\large_-3079-_jpg.rf.44908aae41677474ea2245727f9dcb4f.jpg: 416x416 1 fire, 18.0ms\n",
      "image 328/1340 c:\\Users\\user\\Downloads\\yolov10-main\\Fire-Detection-1\\test\\images\\large_-3098-_jpg.rf.83f41bbd55a0b0d6972039a946a453e0.jpg: 416x416 1 fire, 15.0ms\n",
      "image 329/1340 c:\\Users\\user\\Downloads\\yolov10-main\\Fire-Detection-1\\test\\images\\large_-3102-_jpg.rf.94ab3a9e52be26edd75abf185f3a3acc.jpg: 416x416 1 fire, 3 smokes, 18.0ms\n",
      "image 330/1340 c:\\Users\\user\\Downloads\\yolov10-main\\Fire-Detection-1\\test\\images\\large_-3104-_jpg.rf.4b62bc588c60cd2a8d728b50191883b6.jpg: 416x416 2 fires, 18.0ms\n",
      "image 331/1340 c:\\Users\\user\\Downloads\\yolov10-main\\Fire-Detection-1\\test\\images\\large_-3106-_jpg.rf.27204d335ddb7b1ce3b5faeeac9cae76.jpg: 416x416 4 fires, 1 smoke, 12.0ms\n",
      "image 332/1340 c:\\Users\\user\\Downloads\\yolov10-main\\Fire-Detection-1\\test\\images\\large_-3108-_jpg.rf.ab6a209dda82cd1aa9701ffaf3e42132.jpg: 416x416 1 fire, 11.0ms\n",
      "image 333/1340 c:\\Users\\user\\Downloads\\yolov10-main\\Fire-Detection-1\\test\\images\\large_-3114-_jpg.rf.d80322a7dbbff0e4ce73dd5a9d2d1f91.jpg: 416x416 3 fires, 17.0ms\n",
      "image 334/1340 c:\\Users\\user\\Downloads\\yolov10-main\\Fire-Detection-1\\test\\images\\large_-3117-_jpg.rf.c4a630b2a042703ea54fc16704a73368.jpg: 416x416 1 fire, 13.0ms\n",
      "image 335/1340 c:\\Users\\user\\Downloads\\yolov10-main\\Fire-Detection-1\\test\\images\\large_-3131-_jpg.rf.6d8cd528f084a84d6d222f941029fdba.jpg: 416x416 1 fire, 15.0ms\n",
      "image 336/1340 c:\\Users\\user\\Downloads\\yolov10-main\\Fire-Detection-1\\test\\images\\large_-3132-_jpg.rf.b7795e680abdbbaa9f5a896b1751e489.jpg: 416x416 3 fires, 12.0ms\n",
      "image 337/1340 c:\\Users\\user\\Downloads\\yolov10-main\\Fire-Detection-1\\test\\images\\large_-3137-_jpg.rf.957ad1395a994a17b583b96e3423a66e.jpg: 416x416 3 fires, 16.0ms\n",
      "image 338/1340 c:\\Users\\user\\Downloads\\yolov10-main\\Fire-Detection-1\\test\\images\\large_-3148-_jpg.rf.5d72de146b88d736e6c9210d43933dec.jpg: 416x416 2 fires, 17.0ms\n",
      "image 339/1340 c:\\Users\\user\\Downloads\\yolov10-main\\Fire-Detection-1\\test\\images\\large_-3149-_jpg.rf.2b309a87b3b567b1315ede190ca78ec9.jpg: 416x416 2 fires, 15.0ms\n",
      "image 340/1340 c:\\Users\\user\\Downloads\\yolov10-main\\Fire-Detection-1\\test\\images\\large_-3155-_jpg.rf.f960feb219750c5ab39e6ba72525551f.jpg: 416x416 1 fire, 14.0ms\n",
      "image 341/1340 c:\\Users\\user\\Downloads\\yolov10-main\\Fire-Detection-1\\test\\images\\large_-3161-_jpg.rf.2abfefd8752d3df11b30be778e00ce7f.jpg: 416x416 2 fires, 13.0ms\n",
      "image 342/1340 c:\\Users\\user\\Downloads\\yolov10-main\\Fire-Detection-1\\test\\images\\large_-3163-_jpg.rf.982f73d263187b14e9e4b11ec6209541.jpg: 416x416 1 fire, 13.0ms\n",
      "image 343/1340 c:\\Users\\user\\Downloads\\yolov10-main\\Fire-Detection-1\\test\\images\\large_-3174-_jpg.rf.f56ad2f06f0e4ca986962a8adb744058.jpg: 416x416 3 fires, 2 smokes, 12.0ms\n",
      "image 344/1340 c:\\Users\\user\\Downloads\\yolov10-main\\Fire-Detection-1\\test\\images\\large_-3177-_jpg.rf.27364be270cb37c312a346e9dc50dffc.jpg: 416x416 2 fires, 1 smoke, 14.0ms\n",
      "image 345/1340 c:\\Users\\user\\Downloads\\yolov10-main\\Fire-Detection-1\\test\\images\\large_-3178-_jpg.rf.b0e3c5aa756df5505b172212ede20552.jpg: 416x416 1 fire, 1 smoke, 14.0ms\n",
      "image 346/1340 c:\\Users\\user\\Downloads\\yolov10-main\\Fire-Detection-1\\test\\images\\large_-3181-_jpg.rf.036449990b23955fff8fa677301b1379.jpg: 416x416 1 fire, 12.0ms\n",
      "image 347/1340 c:\\Users\\user\\Downloads\\yolov10-main\\Fire-Detection-1\\test\\images\\large_-3190-_jpg.rf.2afecdaf2d1db664d427e9fdf7d175c7.jpg: 416x416 2 fires, 1 smoke, 15.0ms\n",
      "image 348/1340 c:\\Users\\user\\Downloads\\yolov10-main\\Fire-Detection-1\\test\\images\\large_-3194-_jpg.rf.27df7358e21f92e0faf6af64e3d6feb7.jpg: 416x416 4 fires, 15.0ms\n",
      "image 349/1340 c:\\Users\\user\\Downloads\\yolov10-main\\Fire-Detection-1\\test\\images\\large_-320-_jpg.rf.ba547610ecab0db6cdbca15055f6cbc8.jpg: 416x416 1 fire, 1 smoke, 15.0ms\n",
      "image 350/1340 c:\\Users\\user\\Downloads\\yolov10-main\\Fire-Detection-1\\test\\images\\large_-322-_jpg.rf.6a193d5cabc2f8ac663c0747c39b96f3.jpg: 416x416 2 fires, 18.0ms\n",
      "image 351/1340 c:\\Users\\user\\Downloads\\yolov10-main\\Fire-Detection-1\\test\\images\\large_-3220-_jpg.rf.ba050c05ed887c7b052b19c54a30d2ce.jpg: 416x416 2 fires, 12.0ms\n",
      "image 352/1340 c:\\Users\\user\\Downloads\\yolov10-main\\Fire-Detection-1\\test\\images\\large_-3236-_jpg.rf.85f088edd6c67fb2fe95df7dc19394d2.jpg: 416x416 (no detections), 15.0ms\n",
      "image 353/1340 c:\\Users\\user\\Downloads\\yolov10-main\\Fire-Detection-1\\test\\images\\large_-3237-_jpg.rf.a5250a21b49440b80f739b9bcb907ee0.jpg: 416x416 1 fire, 14.0ms\n",
      "image 354/1340 c:\\Users\\user\\Downloads\\yolov10-main\\Fire-Detection-1\\test\\images\\large_-324-_jpg.rf.abf8e700bf30d86d07e92629ad099e7c.jpg: 416x416 1 fire, 18.0ms\n",
      "image 355/1340 c:\\Users\\user\\Downloads\\yolov10-main\\Fire-Detection-1\\test\\images\\large_-3275-_jpg.rf.58b76ccbd2d7ab3e274903580f16798b.jpg: 416x416 1 fire, 1 smoke, 15.0ms\n",
      "image 356/1340 c:\\Users\\user\\Downloads\\yolov10-main\\Fire-Detection-1\\test\\images\\large_-3278-_jpg.rf.fba8cc9fcd3096028735b47110270265.jpg: 416x416 3 fires, 2 smokes, 15.9ms\n",
      "image 357/1340 c:\\Users\\user\\Downloads\\yolov10-main\\Fire-Detection-1\\test\\images\\large_-328-_jpg.rf.ef02eb17bf4f0b60ca0928b5d3a6092a.jpg: 416x416 3 fires, 14.1ms\n",
      "image 358/1340 c:\\Users\\user\\Downloads\\yolov10-main\\Fire-Detection-1\\test\\images\\large_-3281-_jpg.rf.fc357bfa55a26827e9f462c66c64eb18.jpg: 416x416 3 fires, 1 smoke, 50.8ms\n",
      "image 359/1340 c:\\Users\\user\\Downloads\\yolov10-main\\Fire-Detection-1\\test\\images\\large_-3288-_jpg.rf.be47eec367ab81b4735351f05fa0c714.jpg: 416x416 3 fires, 1 smoke, 11.7ms\n",
      "image 360/1340 c:\\Users\\user\\Downloads\\yolov10-main\\Fire-Detection-1\\test\\images\\large_-3289-_jpg.rf.a3641bca30e7bfdd788b3cfd55386a9c.jpg: 416x416 1 fire, 13.8ms\n",
      "image 361/1340 c:\\Users\\user\\Downloads\\yolov10-main\\Fire-Detection-1\\test\\images\\large_-3292-_jpg.rf.04202fe2edf559a6c58ff59f83ebae7f.jpg: 416x416 2 fires, 4 smokes, 12.0ms\n",
      "image 362/1340 c:\\Users\\user\\Downloads\\yolov10-main\\Fire-Detection-1\\test\\images\\large_-3293-_jpg.rf.2ef87cea79fdcd83dce0d7bd6960ee3c.jpg: 416x416 1 fire, 1 smoke, 16.0ms\n",
      "image 363/1340 c:\\Users\\user\\Downloads\\yolov10-main\\Fire-Detection-1\\test\\images\\large_-3300-_jpg.rf.0ef31eaa43dd144e20de22dbd55d3949.jpg: 416x416 4 fires, 13.0ms\n",
      "image 364/1340 c:\\Users\\user\\Downloads\\yolov10-main\\Fire-Detection-1\\test\\images\\large_-3305-_jpg.rf.25bbf2e9d00ae9a0844757f25579907f.jpg: 416x416 1 fire, 2 smokes, 17.0ms\n",
      "image 365/1340 c:\\Users\\user\\Downloads\\yolov10-main\\Fire-Detection-1\\test\\images\\large_-331-_jpg.rf.57d88a871d3db8dee069122ec1ce89e4.jpg: 416x416 4 fires, 2 smokes, 16.0ms\n",
      "image 366/1340 c:\\Users\\user\\Downloads\\yolov10-main\\Fire-Detection-1\\test\\images\\large_-3313-_jpg.rf.287cdea3e797534341efb7f39732372d.jpg: 416x416 1 fire, 11.0ms\n",
      "image 367/1340 c:\\Users\\user\\Downloads\\yolov10-main\\Fire-Detection-1\\test\\images\\large_-3319-_jpg.rf.b0c8d90c17940aad35a33df2a0ad73a5.jpg: 416x416 2 fires, 1 smoke, 18.0ms\n",
      "image 368/1340 c:\\Users\\user\\Downloads\\yolov10-main\\Fire-Detection-1\\test\\images\\large_-3331-_jpg.rf.90e8c084e06ad81e257d2415d412a89e.jpg: 416x416 1 fire, 1 smoke, 19.0ms\n",
      "image 369/1340 c:\\Users\\user\\Downloads\\yolov10-main\\Fire-Detection-1\\test\\images\\large_-3332-_jpg.rf.6f67ba3b796f051c3a19fd3657341ab2.jpg: 416x416 2 fires, 16.0ms\n",
      "image 370/1340 c:\\Users\\user\\Downloads\\yolov10-main\\Fire-Detection-1\\test\\images\\large_-3346-_jpg.rf.623ec05437e26cddc11dccd7a7e4ce5d.jpg: 416x416 2 fires, 17.0ms\n",
      "image 371/1340 c:\\Users\\user\\Downloads\\yolov10-main\\Fire-Detection-1\\test\\images\\large_-335-_jpg.rf.820cb0519a6d6995e4f547338bc24522.jpg: 416x416 2 fires, 13.0ms\n",
      "image 372/1340 c:\\Users\\user\\Downloads\\yolov10-main\\Fire-Detection-1\\test\\images\\large_-3353-_jpg.rf.8ee512e4474a0208d90d900e30279726.jpg: 416x416 1 fire, 11.0ms\n",
      "image 373/1340 c:\\Users\\user\\Downloads\\yolov10-main\\Fire-Detection-1\\test\\images\\large_-336-_jpg.rf.8137e504a815505e691735553edd9cce.jpg: 416x416 2 fires, 1 smoke, 17.0ms\n",
      "image 374/1340 c:\\Users\\user\\Downloads\\yolov10-main\\Fire-Detection-1\\test\\images\\large_-337-_jpg.rf.ca2dd2dd2b75e2f7d9522e2f5a954052.jpg: 416x416 2 fires, 14.0ms\n",
      "image 375/1340 c:\\Users\\user\\Downloads\\yolov10-main\\Fire-Detection-1\\test\\images\\large_-340-_jpg.rf.0104e31d1552bd80fefe8c89f5a7540c.jpg: 416x416 2 fires, 17.0ms\n",
      "image 376/1340 c:\\Users\\user\\Downloads\\yolov10-main\\Fire-Detection-1\\test\\images\\large_-344-_jpg.rf.d3080e6c18b6c193d48625d481ffe43d.jpg: 416x416 2 fires, 1 smoke, 13.0ms\n",
      "image 377/1340 c:\\Users\\user\\Downloads\\yolov10-main\\Fire-Detection-1\\test\\images\\large_-346-_jpg.rf.2c854970d7f10ab943e0eb61ba4d40ef.jpg: 416x416 1 fire, 14.0ms\n",
      "image 378/1340 c:\\Users\\user\\Downloads\\yolov10-main\\Fire-Detection-1\\test\\images\\large_-353-_jpg.rf.0935af0d1e4cf279ef67526d76eb0bd6.jpg: 416x416 2 fires, 13.0ms\n",
      "image 379/1340 c:\\Users\\user\\Downloads\\yolov10-main\\Fire-Detection-1\\test\\images\\large_-355-_jpg.rf.ee18173fbed825fbc6b247aff5c008c6.jpg: 416x416 1 fire, 18.0ms\n",
      "image 380/1340 c:\\Users\\user\\Downloads\\yolov10-main\\Fire-Detection-1\\test\\images\\large_-356-_jpg.rf.3c9de7f85efcf5a176c8cbae310685e6.jpg: 416x416 3 fires, 1 smoke, 14.0ms\n",
      "image 381/1340 c:\\Users\\user\\Downloads\\yolov10-main\\Fire-Detection-1\\test\\images\\large_-37-_jpg.rf.c6d8bc7c28d921d19077688f1cc6edc2.jpg: 416x416 2 fires, 14.0ms\n",
      "image 382/1340 c:\\Users\\user\\Downloads\\yolov10-main\\Fire-Detection-1\\test\\images\\large_-377-_jpg.rf.d73286b54410f1f60b8f979e15a30524.jpg: 416x416 2 fires, 11.0ms\n",
      "image 383/1340 c:\\Users\\user\\Downloads\\yolov10-main\\Fire-Detection-1\\test\\images\\large_-382-_jpg.rf.8ff4f1052988a7c8982e5bf2b43444a3.jpg: 416x416 2 fires, 17.0ms\n",
      "image 384/1340 c:\\Users\\user\\Downloads\\yolov10-main\\Fire-Detection-1\\test\\images\\large_-39-_jpg.rf.65f94d072393badccae00aa51cf3b66e.jpg: 416x416 1 fire, 17.0ms\n",
      "image 385/1340 c:\\Users\\user\\Downloads\\yolov10-main\\Fire-Detection-1\\test\\images\\large_-390-_jpg.rf.d407f330b0e08704f574b0af5ef09e85.jpg: 416x416 1 fire, 13.0ms\n",
      "image 386/1340 c:\\Users\\user\\Downloads\\yolov10-main\\Fire-Detection-1\\test\\images\\large_-398-_jpg.rf.fce3dbef0fae018917d8e3c87f455157.jpg: 416x416 2 fires, 18.0ms\n",
      "image 387/1340 c:\\Users\\user\\Downloads\\yolov10-main\\Fire-Detection-1\\test\\images\\large_-403-_jpg.rf.2888e6b262bde4eda0b43b21877966b9.jpg: 416x416 3 fires, 1 smoke, 14.0ms\n",
      "image 388/1340 c:\\Users\\user\\Downloads\\yolov10-main\\Fire-Detection-1\\test\\images\\large_-406-_jpg.rf.e1d7306ca9475680e3ca2b0bd6c55b20.jpg: 416x416 3 fires, 16.0ms\n",
      "image 389/1340 c:\\Users\\user\\Downloads\\yolov10-main\\Fire-Detection-1\\test\\images\\large_-412-_jpg.rf.d8bbf5c15df9e6fb2b5c742963818894.jpg: 416x416 1 fire, 14.0ms\n",
      "image 390/1340 c:\\Users\\user\\Downloads\\yolov10-main\\Fire-Detection-1\\test\\images\\large_-42-_jpg.rf.1a4d100659d84ce0414664649153a061.jpg: 416x416 1 fire, 12.0ms\n",
      "image 391/1340 c:\\Users\\user\\Downloads\\yolov10-main\\Fire-Detection-1\\test\\images\\large_-422-_jpg.rf.6de0c427fea5853389f80fff97e04d60.jpg: 416x416 1 fire, 16.0ms\n",
      "image 392/1340 c:\\Users\\user\\Downloads\\yolov10-main\\Fire-Detection-1\\test\\images\\large_-423-_jpg.rf.b45e79ebf30a5e3dce8518e6dedf6434.jpg: 416x416 (no detections), 16.0ms\n",
      "image 393/1340 c:\\Users\\user\\Downloads\\yolov10-main\\Fire-Detection-1\\test\\images\\large_-427-_jpg.rf.904b181ad2ab81a300fd37bb62b53f4c.jpg: 416x416 1 fire, 2 smokes, 16.0ms\n",
      "image 394/1340 c:\\Users\\user\\Downloads\\yolov10-main\\Fire-Detection-1\\test\\images\\large_-43-_jpg.rf.543e23edb6eddd57ae75d3de4d8c507e.jpg: 416x416 (no detections), 15.0ms\n",
      "image 395/1340 c:\\Users\\user\\Downloads\\yolov10-main\\Fire-Detection-1\\test\\images\\large_-447-_jpg.rf.683f417106e3c81eb97a9aa39e3becfb.jpg: 416x416 1 smoke, 13.0ms\n",
      "image 396/1340 c:\\Users\\user\\Downloads\\yolov10-main\\Fire-Detection-1\\test\\images\\large_-450-_jpg.rf.23a6890449bff2f761e97f0f6b837914.jpg: 416x416 1 fire, 17.0ms\n",
      "image 397/1340 c:\\Users\\user\\Downloads\\yolov10-main\\Fire-Detection-1\\test\\images\\large_-472-_jpg.rf.06888869b4bd11d38372c0ae3a7a78fb.jpg: 416x416 2 fires, 1 smoke, 18.0ms\n",
      "image 398/1340 c:\\Users\\user\\Downloads\\yolov10-main\\Fire-Detection-1\\test\\images\\large_-479-_jpg.rf.4b74301ba80db260d431938ea5aec407.jpg: 416x416 (no detections), 15.0ms\n",
      "image 399/1340 c:\\Users\\user\\Downloads\\yolov10-main\\Fire-Detection-1\\test\\images\\large_-487-_jpg.rf.2adc10030281b6be579c9b002c219b29.jpg: 416x416 1 fire, 15.0ms\n",
      "image 400/1340 c:\\Users\\user\\Downloads\\yolov10-main\\Fire-Detection-1\\test\\images\\large_-5-_jpg.rf.fe09de910bddc9d36e2c19257886d26d.jpg: 416x416 2 fires, 12.0ms\n",
      "image 401/1340 c:\\Users\\user\\Downloads\\yolov10-main\\Fire-Detection-1\\test\\images\\large_-512-_jpg.rf.5dead08a5d747c8ab45dea7d6bf11cd5.jpg: 416x416 4 fires, 13.0ms\n",
      "image 402/1340 c:\\Users\\user\\Downloads\\yolov10-main\\Fire-Detection-1\\test\\images\\large_-514-_jpg.rf.a24f584da81285a957f4ec313b0cc019.jpg: 416x416 1 fire, 12.0ms\n",
      "image 403/1340 c:\\Users\\user\\Downloads\\yolov10-main\\Fire-Detection-1\\test\\images\\large_-516-_jpg.rf.ae1d7412dc4448986dc5c498c884fc90.jpg: 416x416 1 fire, 1 smoke, 15.0ms\n",
      "image 404/1340 c:\\Users\\user\\Downloads\\yolov10-main\\Fire-Detection-1\\test\\images\\large_-518-_jpg.rf.559cf14fcd4de5afc505358052fdba08.jpg: 416x416 1 fire, 16.0ms\n",
      "image 405/1340 c:\\Users\\user\\Downloads\\yolov10-main\\Fire-Detection-1\\test\\images\\large_-523-_jpg.rf.5c9fca58953e88b7d43094d57c7aec77.jpg: 416x416 1 fire, 13.0ms\n",
      "image 406/1340 c:\\Users\\user\\Downloads\\yolov10-main\\Fire-Detection-1\\test\\images\\large_-525-_jpg.rf.daa649e3bbf6e8d0630f86df8061b766.jpg: 416x416 2 fires, 17.0ms\n",
      "image 407/1340 c:\\Users\\user\\Downloads\\yolov10-main\\Fire-Detection-1\\test\\images\\large_-528-_jpg.rf.222212cd3ef81445f79b392692052ec7.jpg: 416x416 2 fires, 16.0ms\n",
      "image 408/1340 c:\\Users\\user\\Downloads\\yolov10-main\\Fire-Detection-1\\test\\images\\large_-532-_jpg.rf.49f29a62f9b71bfecaa5449aedfbd02d.jpg: 416x416 3 fires, 2 smokes, 12.0ms\n",
      "image 409/1340 c:\\Users\\user\\Downloads\\yolov10-main\\Fire-Detection-1\\test\\images\\large_-535-_jpg.rf.f109ecdce66d61ea011b130ba580bf8a.jpg: 416x416 1 fire, 15.0ms\n",
      "image 410/1340 c:\\Users\\user\\Downloads\\yolov10-main\\Fire-Detection-1\\test\\images\\large_-536-_jpg.rf.09a942ac922ee1115bf75c21a83be830.jpg: 416x416 2 fires, 12.0ms\n",
      "image 411/1340 c:\\Users\\user\\Downloads\\yolov10-main\\Fire-Detection-1\\test\\images\\large_-537-_jpg.rf.7e0f985ff0acd1250273b3fd34f9d761.jpg: 416x416 2 fires, 3 smokes, 15.0ms\n",
      "image 412/1340 c:\\Users\\user\\Downloads\\yolov10-main\\Fire-Detection-1\\test\\images\\large_-541-_jpg.rf.6d643ef471a158ace27588d8d4c86460.jpg: 416x416 2 fires, 2 smokes, 14.0ms\n",
      "image 413/1340 c:\\Users\\user\\Downloads\\yolov10-main\\Fire-Detection-1\\test\\images\\large_-547-_jpg.rf.2414061f672073d5bef006942ac78a08.jpg: 416x416 1 fire, 12.0ms\n",
      "image 414/1340 c:\\Users\\user\\Downloads\\yolov10-main\\Fire-Detection-1\\test\\images\\large_-562-_jpg.rf.efff4b9411a2be1afdf84e9d40b46432.jpg: 416x416 1 fire, 17.0ms\n",
      "image 415/1340 c:\\Users\\user\\Downloads\\yolov10-main\\Fire-Detection-1\\test\\images\\large_-575-_jpg.rf.802518a46e19fe5e84969dedfa6479d4.jpg: 416x416 1 fire, 13.0ms\n",
      "image 416/1340 c:\\Users\\user\\Downloads\\yolov10-main\\Fire-Detection-1\\test\\images\\large_-58-_jpg.rf.5fb5e5a7d579a981485f49dc8a3c91a5.jpg: 416x416 1 fire, 1 smoke, 11.0ms\n",
      "image 417/1340 c:\\Users\\user\\Downloads\\yolov10-main\\Fire-Detection-1\\test\\images\\large_-582-_jpg.rf.442b9794faae9e4e343fc0d56afdbef5.jpg: 416x416 2 fires, 11.0ms\n",
      "image 418/1340 c:\\Users\\user\\Downloads\\yolov10-main\\Fire-Detection-1\\test\\images\\large_-591-_jpg.rf.6c838f431a307987b2a382d924b24934.jpg: 416x416 3 fires, 1 smoke, 11.0ms\n",
      "image 419/1340 c:\\Users\\user\\Downloads\\yolov10-main\\Fire-Detection-1\\test\\images\\large_-592-_jpg.rf.44026870e952120c6f9760c794e22b03.jpg: 416x416 2 fires, 16.0ms\n",
      "image 420/1340 c:\\Users\\user\\Downloads\\yolov10-main\\Fire-Detection-1\\test\\images\\large_-593-_jpg.rf.b14b53d40e102d409948de3e9e1850b5.jpg: 416x416 3 fires, 2 smokes, 15.0ms\n",
      "image 421/1340 c:\\Users\\user\\Downloads\\yolov10-main\\Fire-Detection-1\\test\\images\\large_-594-_jpg.rf.bf6276b5d66b2de9ccabbc5c1b874c19.jpg: 416x416 3 fires, 17.0ms\n",
      "image 422/1340 c:\\Users\\user\\Downloads\\yolov10-main\\Fire-Detection-1\\test\\images\\large_-633-_jpg.rf.addd5906d34fc14c63e38a7ae18d2254.jpg: 416x416 3 fires, 12.0ms\n",
      "image 423/1340 c:\\Users\\user\\Downloads\\yolov10-main\\Fire-Detection-1\\test\\images\\large_-638-_jpg.rf.56f201e029485c7b234a13fdeaf4833f.jpg: 416x416 1 fire, 1 smoke, 12.0ms\n",
      "image 424/1340 c:\\Users\\user\\Downloads\\yolov10-main\\Fire-Detection-1\\test\\images\\large_-65-_jpg.rf.b922eb624c8beaeb7d1351c8f0eb4333.jpg: 416x416 2 fires, 1 smoke, 15.0ms\n",
      "image 425/1340 c:\\Users\\user\\Downloads\\yolov10-main\\Fire-Detection-1\\test\\images\\large_-651-_jpg.rf.ffc27414e49c6960f609d66c4ee2c823.jpg: 416x416 1 fire, 16.0ms\n",
      "image 426/1340 c:\\Users\\user\\Downloads\\yolov10-main\\Fire-Detection-1\\test\\images\\large_-658-_jpg.rf.198946491b088f757590f9a2b7ed180c.jpg: 416x416 1 fire, 15.0ms\n",
      "image 427/1340 c:\\Users\\user\\Downloads\\yolov10-main\\Fire-Detection-1\\test\\images\\large_-66-_jpg.rf.89ef6d6aa4adef24f446dcc4f1e0f403.jpg: 416x416 2 fires, 1 smoke, 14.0ms\n",
      "image 428/1340 c:\\Users\\user\\Downloads\\yolov10-main\\Fire-Detection-1\\test\\images\\large_-663-_jpg.rf.1bcea611e577ff849475ccb829423a78.jpg: 416x416 2 fires, 2 smokes, 13.0ms\n",
      "image 429/1340 c:\\Users\\user\\Downloads\\yolov10-main\\Fire-Detection-1\\test\\images\\large_-664-_jpg.rf.03a1fc964b416f7120f23930e50c6049.jpg: 416x416 1 fire, 12.0ms\n",
      "image 430/1340 c:\\Users\\user\\Downloads\\yolov10-main\\Fire-Detection-1\\test\\images\\large_-666-_jpg.rf.4d66dc63a81beeecad6d534dc652bd16.jpg: 416x416 2 fires, 1 smoke, 15.0ms\n",
      "image 431/1340 c:\\Users\\user\\Downloads\\yolov10-main\\Fire-Detection-1\\test\\images\\large_-676-_jpg.rf.81330b6fa28e61f3a5b6084898f96433.jpg: 416x416 1 fire, 15.0ms\n",
      "image 432/1340 c:\\Users\\user\\Downloads\\yolov10-main\\Fire-Detection-1\\test\\images\\large_-681-_jpg.rf.8ee2029d13c1cf04c4dbe861e9245a4a.jpg: 416x416 (no detections), 13.0ms\n",
      "image 433/1340 c:\\Users\\user\\Downloads\\yolov10-main\\Fire-Detection-1\\test\\images\\large_-684-_jpg.rf.4bdccfc3a015c5b228a7aae845ad66bb.jpg: 416x416 1 fire, 1 smoke, 15.0ms\n",
      "image 434/1340 c:\\Users\\user\\Downloads\\yolov10-main\\Fire-Detection-1\\test\\images\\large_-693-_jpg.rf.9e066dca9080141249603db57dac9bbe.jpg: 416x416 1 fire, 12.0ms\n",
      "image 435/1340 c:\\Users\\user\\Downloads\\yolov10-main\\Fire-Detection-1\\test\\images\\large_-707-_jpg.rf.a6dc224a3a9ceb96b14b5f19ec092a2d.jpg: 416x416 4 fires, 11.0ms\n",
      "image 436/1340 c:\\Users\\user\\Downloads\\yolov10-main\\Fire-Detection-1\\test\\images\\large_-71-_jpg.rf.d0f6d7ceca1cdbd66e10b476ac0d5900.jpg: 416x416 6 fires, 15.0ms\n",
      "image 437/1340 c:\\Users\\user\\Downloads\\yolov10-main\\Fire-Detection-1\\test\\images\\large_-711-_jpg.rf.6a6f99c961bd3c4ee2fe5c0147361490.jpg: 416x416 1 fire, 15.0ms\n",
      "image 438/1340 c:\\Users\\user\\Downloads\\yolov10-main\\Fire-Detection-1\\test\\images\\large_-718-_jpg.rf.4fc22118cee1c8424fbebec042685411.jpg: 416x416 2 fires, 17.0ms\n",
      "image 439/1340 c:\\Users\\user\\Downloads\\yolov10-main\\Fire-Detection-1\\test\\images\\large_-728-_jpg.rf.03ed93c30941a7ad4d1540a8b08ef82d.jpg: 416x416 4 fires, 16.0ms\n",
      "image 440/1340 c:\\Users\\user\\Downloads\\yolov10-main\\Fire-Detection-1\\test\\images\\large_-730-_jpg.rf.20139fb97041a0abf4342e3acc5340dc.jpg: 416x416 1 fire, 15.0ms\n",
      "image 441/1340 c:\\Users\\user\\Downloads\\yolov10-main\\Fire-Detection-1\\test\\images\\large_-737-_jpg.rf.0047d38640c591ad2384ba6c20c85410.jpg: 416x416 1 fire, 1 smoke, 14.0ms\n",
      "image 442/1340 c:\\Users\\user\\Downloads\\yolov10-main\\Fire-Detection-1\\test\\images\\large_-74-_jpg.rf.28a1cee8dbd0826a1f21fd1753f7210c.jpg: 416x416 2 fires, 1 smoke, 16.0ms\n",
      "image 443/1340 c:\\Users\\user\\Downloads\\yolov10-main\\Fire-Detection-1\\test\\images\\large_-748-_jpg.rf.26906b774d34bf8bcc388920821906ba.jpg: 416x416 2 fires, 13.0ms\n",
      "image 444/1340 c:\\Users\\user\\Downloads\\yolov10-main\\Fire-Detection-1\\test\\images\\large_-751-_jpg.rf.bb785677ca2d192a56734fc3a065a289.jpg: 416x416 2 fires, 16.0ms\n",
      "image 445/1340 c:\\Users\\user\\Downloads\\yolov10-main\\Fire-Detection-1\\test\\images\\large_-767-_jpg.rf.99e4a513a9c14fe06bbe083aaf1fa3f2.jpg: 416x416 1 fire, 1 smoke, 18.0ms\n",
      "image 446/1340 c:\\Users\\user\\Downloads\\yolov10-main\\Fire-Detection-1\\test\\images\\large_-77-_jpg.rf.07f93b44532b236d7cf394afc25c5040.jpg: 416x416 1 fire, 13.0ms\n",
      "image 447/1340 c:\\Users\\user\\Downloads\\yolov10-main\\Fire-Detection-1\\test\\images\\large_-772-_jpg.rf.a202202a7f7365f2c82334d32fc652f7.jpg: 416x416 3 fires, 14.0ms\n",
      "image 448/1340 c:\\Users\\user\\Downloads\\yolov10-main\\Fire-Detection-1\\test\\images\\large_-773-_jpg.rf.86b62f816f4311149ab4ca0b620fedb8.jpg: 416x416 (no detections), 17.0ms\n",
      "image 449/1340 c:\\Users\\user\\Downloads\\yolov10-main\\Fire-Detection-1\\test\\images\\large_-781-_jpg.rf.8f9fd5e734ddef5ad307fe116ae22b41.jpg: 416x416 1 fire, 15.0ms\n",
      "image 450/1340 c:\\Users\\user\\Downloads\\yolov10-main\\Fire-Detection-1\\test\\images\\large_-800-_jpg.rf.913009bf5d4594512202d243a155b29a.jpg: 416x416 1 fire, 17.0ms\n",
      "image 451/1340 c:\\Users\\user\\Downloads\\yolov10-main\\Fire-Detection-1\\test\\images\\large_-81-_jpg.rf.b163ec8eb9b83a081e0d0c297af6b1ce.jpg: 416x416 1 fire, 17.0ms\n",
      "image 452/1340 c:\\Users\\user\\Downloads\\yolov10-main\\Fire-Detection-1\\test\\images\\large_-814-_jpg.rf.c18ee64818b1b500f639f2b749e95cba.jpg: 416x416 1 fire, 12.0ms\n",
      "image 453/1340 c:\\Users\\user\\Downloads\\yolov10-main\\Fire-Detection-1\\test\\images\\large_-818-_jpg.rf.80aa04c3af6debdf3417b55a029573b6.jpg: 416x416 1 fire, 15.0ms\n",
      "image 454/1340 c:\\Users\\user\\Downloads\\yolov10-main\\Fire-Detection-1\\test\\images\\large_-819-_jpg.rf.992d9d13aea36d43ab1785533ee3ce7a.jpg: 416x416 3 fires, 18.0ms\n",
      "image 455/1340 c:\\Users\\user\\Downloads\\yolov10-main\\Fire-Detection-1\\test\\images\\large_-831-_jpg.rf.6628863168e09171dd59205b6045d8a2.jpg: 416x416 2 fires, 1 smoke, 15.0ms\n",
      "image 456/1340 c:\\Users\\user\\Downloads\\yolov10-main\\Fire-Detection-1\\test\\images\\large_-834-_jpg.rf.dc1286089e36f8e55b6782b83e2b70c8.jpg: 416x416 1 fire, 1 smoke, 16.0ms\n",
      "image 457/1340 c:\\Users\\user\\Downloads\\yolov10-main\\Fire-Detection-1\\test\\images\\large_-841-_jpg.rf.d6c19cc8fc68ed0690a36d890fbf213b.jpg: 416x416 3 fires, 16.0ms\n",
      "image 458/1340 c:\\Users\\user\\Downloads\\yolov10-main\\Fire-Detection-1\\test\\images\\large_-86-_jpg.rf.59ec8bd3a5920e6fb75b69d79b196568.jpg: 416x416 1 fire, 14.0ms\n",
      "image 459/1340 c:\\Users\\user\\Downloads\\yolov10-main\\Fire-Detection-1\\test\\images\\large_-885-_jpg.rf.c5b377a035dc15efa6adecaef3fe7957.jpg: 416x416 2 fires, 12.0ms\n",
      "image 460/1340 c:\\Users\\user\\Downloads\\yolov10-main\\Fire-Detection-1\\test\\images\\large_-90-_jpg.rf.c12d58ee1d3930617ff7ed0ece1aed9f.jpg: 416x416 1 fire, 11.0ms\n",
      "image 461/1340 c:\\Users\\user\\Downloads\\yolov10-main\\Fire-Detection-1\\test\\images\\large_-920-_jpg.rf.8e8538ba6d3e3f4d509bf80e862cccb5.jpg: 416x416 1 fire, 1 smoke, 13.6ms\n",
      "image 462/1340 c:\\Users\\user\\Downloads\\yolov10-main\\Fire-Detection-1\\test\\images\\large_-924-_jpg.rf.2d14e184949ed85ffb45eaec7682b0c2.jpg: 416x416 2 fires, 17.9ms\n",
      "image 463/1340 c:\\Users\\user\\Downloads\\yolov10-main\\Fire-Detection-1\\test\\images\\large_-925-_jpg.rf.f8448e4436a0fe3c113193241ed9a43c.jpg: 416x416 3 fires, 13.5ms\n",
      "image 464/1340 c:\\Users\\user\\Downloads\\yolov10-main\\Fire-Detection-1\\test\\images\\large_-926-_jpg.rf.6edf1906be00046cc3eaa5c09cda0edb.jpg: 416x416 1 fire, 15.8ms\n",
      "image 465/1340 c:\\Users\\user\\Downloads\\yolov10-main\\Fire-Detection-1\\test\\images\\large_-934-_jpg.rf.0638a8257d8a86bd6eb5a806d4d73b91.jpg: 416x416 6 fires, 1 smoke, 12.6ms\n",
      "image 466/1340 c:\\Users\\user\\Downloads\\yolov10-main\\Fire-Detection-1\\test\\images\\large_-939-_jpg.rf.8522d172a567e043238ed1131169e5d9.jpg: 416x416 2 fires, 17.0ms\n",
      "image 467/1340 c:\\Users\\user\\Downloads\\yolov10-main\\Fire-Detection-1\\test\\images\\large_-95-_jpg.rf.43c7d78f79dc0e837849829dcde881b2.jpg: 416x416 2 fires, 13.0ms\n",
      "image 468/1340 c:\\Users\\user\\Downloads\\yolov10-main\\Fire-Detection-1\\test\\images\\large_-951-_jpg.rf.8e394a56db980dc9156d868abc488301.jpg: 416x416 2 fires, 13.0ms\n",
      "image 469/1340 c:\\Users\\user\\Downloads\\yolov10-main\\Fire-Detection-1\\test\\images\\large_-954-_jpg.rf.61629206bbbac0cd279a3096f6047426.jpg: 416x416 3 fires, 12.0ms\n",
      "image 470/1340 c:\\Users\\user\\Downloads\\yolov10-main\\Fire-Detection-1\\test\\images\\large_-965-_jpg.rf.754fcf6be24239202c1810fc7aa70cee.jpg: 416x416 2 fires, 12.0ms\n",
      "image 471/1340 c:\\Users\\user\\Downloads\\yolov10-main\\Fire-Detection-1\\test\\images\\large_-984-_jpg.rf.ebc83b788ab0b97706c0d3377b80d557.jpg: 416x416 (no detections), 11.0ms\n",
      "image 472/1340 c:\\Users\\user\\Downloads\\yolov10-main\\Fire-Detection-1\\test\\images\\large_-99-_jpg.rf.26a3974473f5f93f9a1b31d2e685ada8.jpg: 416x416 1 fire, 17.0ms\n",
      "image 473/1340 c:\\Users\\user\\Downloads\\yolov10-main\\Fire-Detection-1\\test\\images\\large_-995-_jpg.rf.a828fc434f4d335d77ef7fe706192779.jpg: 416x416 3 fires, 13.0ms\n",
      "image 474/1340 c:\\Users\\user\\Downloads\\yolov10-main\\Fire-Detection-1\\test\\images\\middle_-1016-_jpg.rf.4a3d4571f3cf97b744cc3ea41c2a95f5.jpg: 416x416 1 fire, 1 smoke, 13.0ms\n",
      "image 475/1340 c:\\Users\\user\\Downloads\\yolov10-main\\Fire-Detection-1\\test\\images\\middle_-1018-_jpg.rf.ab4bb2670401b944a9785f7541d5112e.jpg: 416x416 1 fire, 13.0ms\n",
      "image 476/1340 c:\\Users\\user\\Downloads\\yolov10-main\\Fire-Detection-1\\test\\images\\middle_-1024-_jpg.rf.f4cf5434d1feeed5d7f67f364e4bc6a8.jpg: 416x416 1 fire, 17.0ms\n",
      "image 477/1340 c:\\Users\\user\\Downloads\\yolov10-main\\Fire-Detection-1\\test\\images\\middle_-1039-_jpg.rf.2cfe2ed0f9162da9b6e3b809d2226315.jpg: 416x416 1 fire, 14.0ms\n",
      "image 478/1340 c:\\Users\\user\\Downloads\\yolov10-main\\Fire-Detection-1\\test\\images\\middle_-1049-_jpg.rf.927ac13b2f908732394c23f73898142b.jpg: 416x416 1 fire, 12.0ms\n",
      "image 479/1340 c:\\Users\\user\\Downloads\\yolov10-main\\Fire-Detection-1\\test\\images\\middle_-1059-_jpg.rf.bbebbdfabe73dcff0fd671a01f783127.jpg: 416x416 1 fire, 16.0ms\n",
      "image 480/1340 c:\\Users\\user\\Downloads\\yolov10-main\\Fire-Detection-1\\test\\images\\middle_-1069-_jpg.rf.477ed40617c9d9d60e0f4c9cf47d20bd.jpg: 416x416 2 fires, 17.0ms\n",
      "image 481/1340 c:\\Users\\user\\Downloads\\yolov10-main\\Fire-Detection-1\\test\\images\\middle_-1075-_jpg.rf.4d4dba4c9224c1fb1a11d1f43c67b5c2.jpg: 416x416 2 fires, 18.0ms\n",
      "image 482/1340 c:\\Users\\user\\Downloads\\yolov10-main\\Fire-Detection-1\\test\\images\\middle_-1094-_jpg.rf.bd12d6d61e6309668d235f03e38f1eff.jpg: 416x416 1 fire, 15.0ms\n",
      "image 483/1340 c:\\Users\\user\\Downloads\\yolov10-main\\Fire-Detection-1\\test\\images\\middle_-1096-_jpg.rf.1a78795f782e2aa27b2bc69efd7002b7.jpg: 416x416 2 fires, 18.0ms\n",
      "image 484/1340 c:\\Users\\user\\Downloads\\yolov10-main\\Fire-Detection-1\\test\\images\\middle_-1100-_jpg.rf.57b11fc05d968f2fe6151c3285cdb7dc.jpg: 416x416 2 fires, 16.0ms\n",
      "image 485/1340 c:\\Users\\user\\Downloads\\yolov10-main\\Fire-Detection-1\\test\\images\\middle_-1102-_jpg.rf.0d1690d1814627f3fb4cf5817c5c2451.jpg: 416x416 2 fires, 1 smoke, 17.0ms\n",
      "image 486/1340 c:\\Users\\user\\Downloads\\yolov10-main\\Fire-Detection-1\\test\\images\\middle_-1110-_jpg.rf.c7b30fa22951eab8e26e01a602c97d81.jpg: 416x416 1 fire, 15.0ms\n",
      "image 487/1340 c:\\Users\\user\\Downloads\\yolov10-main\\Fire-Detection-1\\test\\images\\middle_-1111-_jpg.rf.3cef250e2a60d12f7815059bf1833f8f.jpg: 416x416 1 fire, 1 smoke, 19.0ms\n",
      "image 488/1340 c:\\Users\\user\\Downloads\\yolov10-main\\Fire-Detection-1\\test\\images\\middle_-1113-_jpg.rf.efca9b2c7ae8cabd00f4e92d2d99a7ec.jpg: 416x416 3 fires, 15.0ms\n",
      "image 489/1340 c:\\Users\\user\\Downloads\\yolov10-main\\Fire-Detection-1\\test\\images\\middle_-1123-_jpg.rf.e6c3c207b6d0f3cbd056b0ca8da2d9dd.jpg: 416x416 1 fire, 15.0ms\n",
      "image 490/1340 c:\\Users\\user\\Downloads\\yolov10-main\\Fire-Detection-1\\test\\images\\middle_-1124-_jpg.rf.3fb9e2d3cff4c768f66a692796f5aa89.jpg: 416x416 1 fire, 11.0ms\n",
      "image 491/1340 c:\\Users\\user\\Downloads\\yolov10-main\\Fire-Detection-1\\test\\images\\middle_-1128-_jpg.rf.1dbd3ad5901bf0ec879617af23b7467b.jpg: 416x416 2 fires, 1 smoke, 17.0ms\n",
      "image 492/1340 c:\\Users\\user\\Downloads\\yolov10-main\\Fire-Detection-1\\test\\images\\middle_-1133-_jpg.rf.391976fefc0e773bc679145b25c45a30.jpg: 416x416 1 fire, 18.0ms\n",
      "image 493/1340 c:\\Users\\user\\Downloads\\yolov10-main\\Fire-Detection-1\\test\\images\\middle_-114-_jpg.rf.6cb50035ee1e6d573e4179b1cc4fb377.jpg: 416x416 1 fire, 14.0ms\n",
      "image 494/1340 c:\\Users\\user\\Downloads\\yolov10-main\\Fire-Detection-1\\test\\images\\middle_-1142-_jpg.rf.54407663416fda0c2266fbccb519b8df.jpg: 416x416 1 fire, 17.0ms\n",
      "image 495/1340 c:\\Users\\user\\Downloads\\yolov10-main\\Fire-Detection-1\\test\\images\\middle_-1149-_jpg.rf.5b8b8dab4d7fe682d3fa89138e2b0c6a.jpg: 416x416 1 fire, 18.0ms\n",
      "image 496/1340 c:\\Users\\user\\Downloads\\yolov10-main\\Fire-Detection-1\\test\\images\\middle_-1169-_jpg.rf.d51bd7c3023c6ce79f5621c0d570e920.jpg: 416x416 1 fire, 1 smoke, 15.0ms\n",
      "image 497/1340 c:\\Users\\user\\Downloads\\yolov10-main\\Fire-Detection-1\\test\\images\\middle_-117-_jpg.rf.3ffb6299b5b3b19036c1b32f73d2562a.jpg: 416x416 1 fire, 16.0ms\n",
      "image 498/1340 c:\\Users\\user\\Downloads\\yolov10-main\\Fire-Detection-1\\test\\images\\middle_-1170-_jpg.rf.e9de877ae98b4c9a23eb97efb96d126c.jpg: 416x416 1 fire, 1 smoke, 12.0ms\n",
      "image 499/1340 c:\\Users\\user\\Downloads\\yolov10-main\\Fire-Detection-1\\test\\images\\middle_-1179-_jpg.rf.e7b5ad94906d4cc28a36b5717da5dee9.jpg: 416x416 2 fires, 1 smoke, 18.0ms\n",
      "image 500/1340 c:\\Users\\user\\Downloads\\yolov10-main\\Fire-Detection-1\\test\\images\\middle_-118-_jpg.rf.db1aa916400d440292a9bdc13edd658e.jpg: 416x416 1 fire, 16.0ms\n",
      "image 501/1340 c:\\Users\\user\\Downloads\\yolov10-main\\Fire-Detection-1\\test\\images\\middle_-1185-_jpg.rf.43d991563bff79bf246fe449c0675bd2.jpg: 416x416 1 fire, 14.0ms\n",
      "image 502/1340 c:\\Users\\user\\Downloads\\yolov10-main\\Fire-Detection-1\\test\\images\\middle_-1202-_jpg.rf.2a0b4358de7543d50bb52242a980c904.jpg: 416x416 1 fire, 11.0ms\n",
      "image 503/1340 c:\\Users\\user\\Downloads\\yolov10-main\\Fire-Detection-1\\test\\images\\middle_-1206-_jpg.rf.2e4fe605a0a0ca2836f43dd082de0139.jpg: 416x416 1 fire, 1 smoke, 18.0ms\n",
      "image 504/1340 c:\\Users\\user\\Downloads\\yolov10-main\\Fire-Detection-1\\test\\images\\middle_-121-_jpg.rf.2aac8fe5a474471a848d81dcab53186a.jpg: 416x416 1 fire, 13.0ms\n",
      "image 505/1340 c:\\Users\\user\\Downloads\\yolov10-main\\Fire-Detection-1\\test\\images\\middle_-1212-_jpg.rf.74c79914d9f38ef08da71a71688f6dba.jpg: 416x416 2 fires, 12.0ms\n",
      "image 506/1340 c:\\Users\\user\\Downloads\\yolov10-main\\Fire-Detection-1\\test\\images\\middle_-1218-_jpg.rf.3dc57d4ce0adaa80af233d7de6e58b34.jpg: 416x416 2 fires, 18.0ms\n",
      "image 507/1340 c:\\Users\\user\\Downloads\\yolov10-main\\Fire-Detection-1\\test\\images\\middle_-1233-_jpg.rf.b148eb8bcfe48485471aa38b17bf4792.jpg: 416x416 1 fire, 12.0ms\n",
      "image 508/1340 c:\\Users\\user\\Downloads\\yolov10-main\\Fire-Detection-1\\test\\images\\middle_-1240-_jpg.rf.e92305ccb8b34777e05c039b78540303.jpg: 416x416 2 fires, 15.0ms\n",
      "image 509/1340 c:\\Users\\user\\Downloads\\yolov10-main\\Fire-Detection-1\\test\\images\\middle_-1243-_jpg.rf.6d29fe6837d48ea2b57c8a2215d3e651.jpg: 416x416 2 fires, 12.0ms\n",
      "image 510/1340 c:\\Users\\user\\Downloads\\yolov10-main\\Fire-Detection-1\\test\\images\\middle_-1245-_jpg.rf.7cc603c9370ef39eab954ce459654b9f.jpg: 416x416 1 fire, 1 smoke, 14.0ms\n",
      "image 511/1340 c:\\Users\\user\\Downloads\\yolov10-main\\Fire-Detection-1\\test\\images\\middle_-1259-_jpg.rf.dfb58d006dca142e842bca92ea179066.jpg: 416x416 2 fires, 1 smoke, 14.0ms\n",
      "image 512/1340 c:\\Users\\user\\Downloads\\yolov10-main\\Fire-Detection-1\\test\\images\\middle_-1264-_jpg.rf.1cae523661623d010372959c6fa05407.jpg: 416x416 2 fires, 2 smokes, 19.0ms\n",
      "image 513/1340 c:\\Users\\user\\Downloads\\yolov10-main\\Fire-Detection-1\\test\\images\\middle_-1265-_jpg.rf.23443ea511b8c13f01cc38a87fc8582b.jpg: 416x416 1 fire, 3 smokes, 16.0ms\n",
      "image 514/1340 c:\\Users\\user\\Downloads\\yolov10-main\\Fire-Detection-1\\test\\images\\middle_-127-_jpg.rf.cb358b993f9c212b6c1d6d628353d0f6.jpg: 416x416 1 fire, 14.0ms\n",
      "image 515/1340 c:\\Users\\user\\Downloads\\yolov10-main\\Fire-Detection-1\\test\\images\\middle_-1272-_jpg.rf.d28e51033584eb1918eee2ca708c8118.jpg: 416x416 1 fire, 1 smoke, 15.0ms\n",
      "image 516/1340 c:\\Users\\user\\Downloads\\yolov10-main\\Fire-Detection-1\\test\\images\\middle_-1278-_jpg.rf.c010039e2634b2712bef92dcbece45d2.jpg: 416x416 2 fires, 1 smoke, 16.0ms\n",
      "image 517/1340 c:\\Users\\user\\Downloads\\yolov10-main\\Fire-Detection-1\\test\\images\\middle_-128-_jpg.rf.147b0610f704a89ebb93f40095ae45d0.jpg: 416x416 1 fire, 15.0ms\n",
      "image 518/1340 c:\\Users\\user\\Downloads\\yolov10-main\\Fire-Detection-1\\test\\images\\middle_-1282-_jpg.rf.cd524f87e1a00e5aa143d7bf9f7926cd.jpg: 416x416 3 fires, 16.0ms\n",
      "image 519/1340 c:\\Users\\user\\Downloads\\yolov10-main\\Fire-Detection-1\\test\\images\\middle_-1287-_jpg.rf.aea8a38b0801ee39e7479395c186fef9.jpg: 416x416 1 fire, 1 smoke, 14.0ms\n",
      "image 520/1340 c:\\Users\\user\\Downloads\\yolov10-main\\Fire-Detection-1\\test\\images\\middle_-1297-_jpg.rf.57f3723a081bd5ce86ed1d8ca0c69219.jpg: 416x416 2 fires, 14.0ms\n",
      "image 521/1340 c:\\Users\\user\\Downloads\\yolov10-main\\Fire-Detection-1\\test\\images\\middle_-1306-_jpg.rf.25ae244a8e340111c5eea5fdfc2bbcf3.jpg: 416x416 2 fires, 3 smokes, 19.0ms\n",
      "image 522/1340 c:\\Users\\user\\Downloads\\yolov10-main\\Fire-Detection-1\\test\\images\\middle_-131-_jpg.rf.5d5899efb895cbd064b4573c04f2a77d.jpg: 416x416 2 fires, 13.0ms\n",
      "image 523/1340 c:\\Users\\user\\Downloads\\yolov10-main\\Fire-Detection-1\\test\\images\\middle_-1310-_jpg.rf.e245523d93f82f8e147e9dcc96099657.jpg: 416x416 1 fire, 14.0ms\n",
      "image 524/1340 c:\\Users\\user\\Downloads\\yolov10-main\\Fire-Detection-1\\test\\images\\middle_-1311-_jpg.rf.a754d1b1b758424bd12c2768009f4066.jpg: 416x416 1 fire, 1 smoke, 13.0ms\n",
      "image 525/1340 c:\\Users\\user\\Downloads\\yolov10-main\\Fire-Detection-1\\test\\images\\middle_-132-_jpg.rf.c2293815727875fe6309acb4f5df2f39.jpg: 416x416 2 fires, 12.0ms\n",
      "image 526/1340 c:\\Users\\user\\Downloads\\yolov10-main\\Fire-Detection-1\\test\\images\\middle_-1320-_jpg.rf.d9f1c93cdffeb1caac3d83c4e3a68b2b.jpg: 416x416 2 fires, 12.0ms\n",
      "image 527/1340 c:\\Users\\user\\Downloads\\yolov10-main\\Fire-Detection-1\\test\\images\\middle_-1321-_jpg.rf.33da8b92901b4e4b032600ff69dedb64.jpg: 416x416 2 fires, 1 smoke, 11.0ms\n",
      "image 528/1340 c:\\Users\\user\\Downloads\\yolov10-main\\Fire-Detection-1\\test\\images\\middle_-1325-_jpg.rf.752d34c9e6cf85a3fd26aa505a0e3b52.jpg: 416x416 1 fire, 1 smoke, 12.0ms\n",
      "image 529/1340 c:\\Users\\user\\Downloads\\yolov10-main\\Fire-Detection-1\\test\\images\\middle_-1332-_jpg.rf.83e422abaaa313e0246976e9a8924139.jpg: 416x416 1 fire, 1 smoke, 11.0ms\n",
      "image 530/1340 c:\\Users\\user\\Downloads\\yolov10-main\\Fire-Detection-1\\test\\images\\middle_-1333-_jpg.rf.8e3b0921e3dee224d5cf4636cd33763f.jpg: 416x416 2 fires, 16.0ms\n",
      "image 531/1340 c:\\Users\\user\\Downloads\\yolov10-main\\Fire-Detection-1\\test\\images\\middle_-1334-_jpg.rf.530c78181884f42fd2004ef35ed17c7c.jpg: 416x416 1 fire, 1 smoke, 16.0ms\n",
      "image 532/1340 c:\\Users\\user\\Downloads\\yolov10-main\\Fire-Detection-1\\test\\images\\middle_-1344-_jpg.rf.24e30cd075cf346477713b0baccf4cf0.jpg: 416x416 2 fires, 1 smoke, 11.0ms\n",
      "image 533/1340 c:\\Users\\user\\Downloads\\yolov10-main\\Fire-Detection-1\\test\\images\\middle_-1352-_jpg.rf.65e24f368dcc6e1722cad959bae0b9b6.jpg: 416x416 1 fire, 1 smoke, 15.0ms\n",
      "image 534/1340 c:\\Users\\user\\Downloads\\yolov10-main\\Fire-Detection-1\\test\\images\\middle_-1357-_jpg.rf.23469daeb66692bd076200e9a0b05aae.jpg: 416x416 1 fire, 15.0ms\n",
      "image 535/1340 c:\\Users\\user\\Downloads\\yolov10-main\\Fire-Detection-1\\test\\images\\middle_-1359-_jpg.rf.0e17b609b868d22bca9e4ab0d149c368.jpg: 416x416 2 fires, 17.0ms\n",
      "image 536/1340 c:\\Users\\user\\Downloads\\yolov10-main\\Fire-Detection-1\\test\\images\\middle_-1361-_jpg.rf.eaeba491a7516ca4373d40ad8d76cfc9.jpg: 416x416 1 fire, 1 smoke, 15.0ms\n",
      "image 537/1340 c:\\Users\\user\\Downloads\\yolov10-main\\Fire-Detection-1\\test\\images\\middle_-1376-_jpg.rf.b0fa01a1dd116a0480a4246e23ae378c.jpg: 416x416 3 fires, 1 smoke, 13.0ms\n",
      "image 538/1340 c:\\Users\\user\\Downloads\\yolov10-main\\Fire-Detection-1\\test\\images\\middle_-1379-_jpg.rf.cbb9141286ea052b61fb98bf5109e631.jpg: 416x416 1 fire, 14.0ms\n",
      "image 539/1340 c:\\Users\\user\\Downloads\\yolov10-main\\Fire-Detection-1\\test\\images\\middle_-1383-_jpg.rf.7aa05b6fefb96d184e94255900f05325.jpg: 416x416 1 fire, 16.0ms\n",
      "image 540/1340 c:\\Users\\user\\Downloads\\yolov10-main\\Fire-Detection-1\\test\\images\\middle_-1389-_jpg.rf.4d6279f6b50c31b80e66193fece50f5d.jpg: 416x416 1 fire, 14.0ms\n",
      "image 541/1340 c:\\Users\\user\\Downloads\\yolov10-main\\Fire-Detection-1\\test\\images\\middle_-14-_jpg.rf.e1c40559666191026778a8140fdffdc5.jpg: 416x416 1 fire, 13.0ms\n",
      "image 542/1340 c:\\Users\\user\\Downloads\\yolov10-main\\Fire-Detection-1\\test\\images\\middle_-140-_jpg.rf.af95d1631400014de2fdb51cc9e20b6a.jpg: 416x416 1 fire, 14.0ms\n",
      "image 543/1340 c:\\Users\\user\\Downloads\\yolov10-main\\Fire-Detection-1\\test\\images\\middle_-1401-_jpg.rf.9fe0d5f93b4728178867afd18241022a.jpg: 416x416 1 fire, 1 smoke, 11.0ms\n",
      "image 544/1340 c:\\Users\\user\\Downloads\\yolov10-main\\Fire-Detection-1\\test\\images\\middle_-1408-_jpg.rf.946c28514a98f608b96bcd2ca99e455a.jpg: 416x416 1 fire, 1 smoke, 12.0ms\n",
      "image 545/1340 c:\\Users\\user\\Downloads\\yolov10-main\\Fire-Detection-1\\test\\images\\middle_-1417-_jpg.rf.c50519e9b5e711e69f5833a828b502a0.jpg: 416x416 1 fire, 1 smoke, 12.0ms\n",
      "image 546/1340 c:\\Users\\user\\Downloads\\yolov10-main\\Fire-Detection-1\\test\\images\\middle_-1428-_jpg.rf.cbee3b568769ad461a78d40db63e6828.jpg: 416x416 1 fire, 1 smoke, 13.0ms\n",
      "image 547/1340 c:\\Users\\user\\Downloads\\yolov10-main\\Fire-Detection-1\\test\\images\\middle_-1429-_jpg.rf.ade5957772f114643a73e9395b741451.jpg: 416x416 1 fire, 1 smoke, 13.0ms\n",
      "image 548/1340 c:\\Users\\user\\Downloads\\yolov10-main\\Fire-Detection-1\\test\\images\\middle_-143-_jpg.rf.cce69caecad0f996f07c46f6261619ba.jpg: 416x416 1 fire, 13.0ms\n",
      "image 549/1340 c:\\Users\\user\\Downloads\\yolov10-main\\Fire-Detection-1\\test\\images\\middle_-1430-_jpg.rf.dfcdaf722333c527cb23c0baa89c2ca1.jpg: 416x416 1 fire, 1 smoke, 14.0ms\n",
      "image 550/1340 c:\\Users\\user\\Downloads\\yolov10-main\\Fire-Detection-1\\test\\images\\middle_-1441-_jpg.rf.1d3b8815d4bafbc157e999c741425ff9.jpg: 416x416 2 fires, 14.0ms\n",
      "image 551/1340 c:\\Users\\user\\Downloads\\yolov10-main\\Fire-Detection-1\\test\\images\\middle_-1445-_jpg.rf.3422981dffbb81dba7de682b1267c1db.jpg: 416x416 1 fire, 12.0ms\n",
      "image 552/1340 c:\\Users\\user\\Downloads\\yolov10-main\\Fire-Detection-1\\test\\images\\middle_-145-_jpg.rf.301a0f21c81cd0cd7c5d540863a3ee9a.jpg: 416x416 1 fire, 12.0ms\n",
      "image 553/1340 c:\\Users\\user\\Downloads\\yolov10-main\\Fire-Detection-1\\test\\images\\middle_-1453-_jpg.rf.27e01cf4704fe12bb3d3a886dc0f83c9.jpg: 416x416 1 fire, 13.0ms\n",
      "image 554/1340 c:\\Users\\user\\Downloads\\yolov10-main\\Fire-Detection-1\\test\\images\\middle_-1464-_jpg.rf.74a550b38a58965bea0a3e6859da8776.jpg: 416x416 1 fire, 11.0ms\n",
      "image 555/1340 c:\\Users\\user\\Downloads\\yolov10-main\\Fire-Detection-1\\test\\images\\middle_-1466-_jpg.rf.7eb9c3df9d76c3ec3b205e639d3fdde1.jpg: 416x416 3 fires, 12.0ms\n",
      "image 556/1340 c:\\Users\\user\\Downloads\\yolov10-main\\Fire-Detection-1\\test\\images\\middle_-1489-_jpg.rf.dbe1a94724981ee213adbf74676ac0e1.jpg: 416x416 4 fires, 1 smoke, 16.0ms\n",
      "image 557/1340 c:\\Users\\user\\Downloads\\yolov10-main\\Fire-Detection-1\\test\\images\\middle_-1492-_jpg.rf.a46fbacd9396e0afa5d19d5f93cb8b1a.jpg: 416x416 1 fire, 12.0ms\n",
      "image 558/1340 c:\\Users\\user\\Downloads\\yolov10-main\\Fire-Detection-1\\test\\images\\middle_-1493-_jpg.rf.5ae67652fc038121a9e29b9b96c76a44.jpg: 416x416 2 fires, 18.0ms\n",
      "image 559/1340 c:\\Users\\user\\Downloads\\yolov10-main\\Fire-Detection-1\\test\\images\\middle_-1497-_jpg.rf.f8d30baf432e9c7b9ad28b155c1ebe7b.jpg: 416x416 3 fires, 18.0ms\n",
      "image 560/1340 c:\\Users\\user\\Downloads\\yolov10-main\\Fire-Detection-1\\test\\images\\middle_-1498-_jpg.rf.557a01e306bfe5ef25b97c737a1dab3c.jpg: 416x416 3 fires, 1 smoke, 13.0ms\n",
      "image 561/1340 c:\\Users\\user\\Downloads\\yolov10-main\\Fire-Detection-1\\test\\images\\middle_-1509-_jpg.rf.fc07accc4d9acd5e8b45e67c59c60334.jpg: 416x416 1 smoke, 12.0ms\n",
      "image 562/1340 c:\\Users\\user\\Downloads\\yolov10-main\\Fire-Detection-1\\test\\images\\middle_-1512-_jpg.rf.868acd8e10fe2aacb2aa1f75dc68ab27.jpg: 416x416 3 fires, 1 smoke, 13.0ms\n",
      "image 563/1340 c:\\Users\\user\\Downloads\\yolov10-main\\Fire-Detection-1\\test\\images\\middle_-1514-_jpg.rf.aba9e251518d589f4c68c9440766ae71.jpg: 416x416 1 fire, 15.0ms\n",
      "image 564/1340 c:\\Users\\user\\Downloads\\yolov10-main\\Fire-Detection-1\\test\\images\\middle_-152-_jpg.rf.d2e4097656aaa5643be6d04a49444b5b.jpg: 416x416 1 fire, 13.5ms\n",
      "image 565/1340 c:\\Users\\user\\Downloads\\yolov10-main\\Fire-Detection-1\\test\\images\\middle_-1521-_jpg.rf.c09f75832feceeb18643d6325e2317ab.jpg: 416x416 2 fires, 13.2ms\n",
      "image 566/1340 c:\\Users\\user\\Downloads\\yolov10-main\\Fire-Detection-1\\test\\images\\middle_-153-_jpg.rf.3c562799a57c4d978fff6029c015daa0.jpg: 416x416 1 fire, 11.9ms\n",
      "image 567/1340 c:\\Users\\user\\Downloads\\yolov10-main\\Fire-Detection-1\\test\\images\\middle_-154-_jpg.rf.e024d2c15b27ff7374e44a5c5a29e0a7.jpg: 416x416 1 fire, 15.7ms\n",
      "image 568/1340 c:\\Users\\user\\Downloads\\yolov10-main\\Fire-Detection-1\\test\\images\\middle_-1544-_jpg.rf.ff6c674034f1aca855ab8fcc4b2a81ae.jpg: 416x416 1 fire, 2 smokes, 12.2ms\n",
      "image 569/1340 c:\\Users\\user\\Downloads\\yolov10-main\\Fire-Detection-1\\test\\images\\middle_-1545-_jpg.rf.003b6606bed5039e1475f2fc17e3d0d8.jpg: 416x416 4 fires, 1 smoke, 14.6ms\n",
      "image 570/1340 c:\\Users\\user\\Downloads\\yolov10-main\\Fire-Detection-1\\test\\images\\middle_-1552-_jpg.rf.0acda720dc058a3d6bf9c32af79ded9b.jpg: 416x416 1 fire, 16.0ms\n",
      "image 571/1340 c:\\Users\\user\\Downloads\\yolov10-main\\Fire-Detection-1\\test\\images\\middle_-1560-_jpg.rf.f47b7d4395c2ecbc8a1086459c07936e.jpg: 416x416 3 fires, 12.0ms\n",
      "image 572/1340 c:\\Users\\user\\Downloads\\yolov10-main\\Fire-Detection-1\\test\\images\\middle_-1563-_jpg.rf.de71dfac5f7ee0cb0243cb2e373db2d3.jpg: 416x416 2 fires, 1 smoke, 14.0ms\n",
      "image 573/1340 c:\\Users\\user\\Downloads\\yolov10-main\\Fire-Detection-1\\test\\images\\middle_-1573-_jpg.rf.0e281b6a2f5060849b67abfeca73b46e.jpg: 416x416 1 fire, 18.0ms\n",
      "image 574/1340 c:\\Users\\user\\Downloads\\yolov10-main\\Fire-Detection-1\\test\\images\\middle_-1574-_jpg.rf.e296519a7472d8b3d7a1dccac834b759.jpg: 416x416 1 fire, 16.0ms\n",
      "image 575/1340 c:\\Users\\user\\Downloads\\yolov10-main\\Fire-Detection-1\\test\\images\\middle_-1579-_jpg.rf.b964c476ce09fb3a5d6ae4dca4ec93b6.jpg: 416x416 1 fire, 1 smoke, 13.0ms\n",
      "image 576/1340 c:\\Users\\user\\Downloads\\yolov10-main\\Fire-Detection-1\\test\\images\\middle_-1593-_jpg.rf.3da29d8d39237a588980820f0c5e960a.jpg: 416x416 1 fire, 16.0ms\n",
      "image 577/1340 c:\\Users\\user\\Downloads\\yolov10-main\\Fire-Detection-1\\test\\images\\middle_-1599-_jpg.rf.27afc2e72596e657bd5599bd7d3fcfc1.jpg: 416x416 1 fire, 12.0ms\n",
      "image 578/1340 c:\\Users\\user\\Downloads\\yolov10-main\\Fire-Detection-1\\test\\images\\middle_-16-_jpg.rf.8f75b1c3018b14dff9e54c03a3ff7aef.jpg: 416x416 1 fire, 17.0ms\n",
      "image 579/1340 c:\\Users\\user\\Downloads\\yolov10-main\\Fire-Detection-1\\test\\images\\middle_-1608-_jpg.rf.373b747d6b0dea49d037dd7747331b81.jpg: 416x416 1 fire, 1 smoke, 13.0ms\n",
      "image 580/1340 c:\\Users\\user\\Downloads\\yolov10-main\\Fire-Detection-1\\test\\images\\middle_-1613-_jpg.rf.bdeda69912aabd397a026c78d298b41a.jpg: 416x416 2 fires, 11.0ms\n",
      "image 581/1340 c:\\Users\\user\\Downloads\\yolov10-main\\Fire-Detection-1\\test\\images\\middle_-1614-_jpg.rf.a1a24d3d19aec16195366e4b8c16f9d5.jpg: 416x416 2 fires, 1 smoke, 14.0ms\n",
      "image 582/1340 c:\\Users\\user\\Downloads\\yolov10-main\\Fire-Detection-1\\test\\images\\middle_-1636-_jpg.rf.9ae18cee5c97dc4e94c201ee16b32721.jpg: 416x416 1 fire, 1 smoke, 14.0ms\n",
      "image 583/1340 c:\\Users\\user\\Downloads\\yolov10-main\\Fire-Detection-1\\test\\images\\middle_-1648-_jpg.rf.d705f5fb486c4cca755e8a37377f0f6f.jpg: 416x416 2 fires, 1 smoke, 13.0ms\n",
      "image 584/1340 c:\\Users\\user\\Downloads\\yolov10-main\\Fire-Detection-1\\test\\images\\middle_-1649-_jpg.rf.f693f9cbff56ba48093a9150616a5ec1.jpg: 416x416 2 fires, 2 smokes, 12.0ms\n",
      "image 585/1340 c:\\Users\\user\\Downloads\\yolov10-main\\Fire-Detection-1\\test\\images\\middle_-1666-_jpg.rf.beef1d6b0bce7702911e9c990da96540.jpg: 416x416 1 fire, 2 smokes, 14.0ms\n",
      "image 586/1340 c:\\Users\\user\\Downloads\\yolov10-main\\Fire-Detection-1\\test\\images\\middle_-1667-_jpg.rf.a1daa4a92e8e5a3d16e52103f6230d5e.jpg: 416x416 1 fire, 16.0ms\n",
      "image 587/1340 c:\\Users\\user\\Downloads\\yolov10-main\\Fire-Detection-1\\test\\images\\middle_-167-_jpg.rf.084ca0bf3e16d506cf3c720dadc22c2d.jpg: 416x416 1 fire, 1 smoke, 12.0ms\n",
      "image 588/1340 c:\\Users\\user\\Downloads\\yolov10-main\\Fire-Detection-1\\test\\images\\middle_-1674-_jpg.rf.21121957dc493c17ed2ec8c4fdb90843.jpg: 416x416 1 fire, 12.0ms\n",
      "image 589/1340 c:\\Users\\user\\Downloads\\yolov10-main\\Fire-Detection-1\\test\\images\\middle_-1678-_jpg.rf.24dacab92a8702ef3d60dec51ab5b23d.jpg: 416x416 2 fires, 12.0ms\n",
      "image 590/1340 c:\\Users\\user\\Downloads\\yolov10-main\\Fire-Detection-1\\test\\images\\middle_-1680-_jpg.rf.80039855ab3f4f24e892a7ed573a3a91.jpg: 416x416 1 fire, 1 smoke, 11.0ms\n",
      "image 591/1340 c:\\Users\\user\\Downloads\\yolov10-main\\Fire-Detection-1\\test\\images\\middle_-1688-_jpg.rf.d1739e09341e3e01540d5cd0eb9a3f89.jpg: 416x416 3 fires, 11.0ms\n",
      "image 592/1340 c:\\Users\\user\\Downloads\\yolov10-main\\Fire-Detection-1\\test\\images\\middle_-1693-_jpg.rf.880157a627ec18ccfc7ce16af1aac028.jpg: 416x416 2 fires, 1 smoke, 17.0ms\n",
      "image 593/1340 c:\\Users\\user\\Downloads\\yolov10-main\\Fire-Detection-1\\test\\images\\middle_-1696-_jpg.rf.546fd4f536e5b2fead09982f8166ce82.jpg: 416x416 3 fires, 14.0ms\n",
      "image 594/1340 c:\\Users\\user\\Downloads\\yolov10-main\\Fire-Detection-1\\test\\images\\middle_-1700-_jpg.rf.764ea4baabc47298b5e8e4015eefb72a.jpg: 416x416 1 fire, 1 smoke, 17.0ms\n",
      "image 595/1340 c:\\Users\\user\\Downloads\\yolov10-main\\Fire-Detection-1\\test\\images\\middle_-1703-_jpg.rf.6d29382dd896378d1677f8599266eda0.jpg: 416x416 4 fires, 13.0ms\n",
      "image 596/1340 c:\\Users\\user\\Downloads\\yolov10-main\\Fire-Detection-1\\test\\images\\middle_-1704-_jpg.rf.3af2c56b8fdb3f46395ccfcbaad23bfe.jpg: 416x416 2 fires, 2 smokes, 12.0ms\n",
      "image 597/1340 c:\\Users\\user\\Downloads\\yolov10-main\\Fire-Detection-1\\test\\images\\middle_-171-_jpg.rf.b951e5db964d93fe9b4ab87db479ed6b.jpg: 416x416 1 fire, 17.0ms\n",
      "image 598/1340 c:\\Users\\user\\Downloads\\yolov10-main\\Fire-Detection-1\\test\\images\\middle_-1735-_jpg.rf.1b660c7a3a15090c167c6226727622ed.jpg: 416x416 1 fire, 12.0ms\n",
      "image 599/1340 c:\\Users\\user\\Downloads\\yolov10-main\\Fire-Detection-1\\test\\images\\middle_-1737-_jpg.rf.c5fd734e1375f57d499da4b429431a68.jpg: 416x416 2 fires, 1 smoke, 12.0ms\n",
      "image 600/1340 c:\\Users\\user\\Downloads\\yolov10-main\\Fire-Detection-1\\test\\images\\middle_-1740-_jpg.rf.e9831e916e5fec90a1ac0c5a8c96d1f7.jpg: 416x416 6 fires, 13.0ms\n",
      "image 601/1340 c:\\Users\\user\\Downloads\\yolov10-main\\Fire-Detection-1\\test\\images\\middle_-1749-_jpg.rf.aa50af608760c3c2d7e906273728383b.jpg: 416x416 1 fire, 17.0ms\n",
      "image 602/1340 c:\\Users\\user\\Downloads\\yolov10-main\\Fire-Detection-1\\test\\images\\middle_-1770-_jpg.rf.32bba994d0ecca3296ede0bddef9d56e.jpg: 416x416 3 fires, 16.0ms\n",
      "image 603/1340 c:\\Users\\user\\Downloads\\yolov10-main\\Fire-Detection-1\\test\\images\\middle_-1782-_jpg.rf.c00cd02610ea4871740f243204555246.jpg: 416x416 1 fire, 12.0ms\n",
      "image 604/1340 c:\\Users\\user\\Downloads\\yolov10-main\\Fire-Detection-1\\test\\images\\middle_-1786-_jpg.rf.366d493fcc4548a08ef07657f8bd0eeb.jpg: 416x416 3 fires, 14.0ms\n",
      "image 605/1340 c:\\Users\\user\\Downloads\\yolov10-main\\Fire-Detection-1\\test\\images\\middle_-1787-_jpg.rf.8dc8e5388a368e250587ad668a334e11.jpg: 416x416 3 fires, 12.0ms\n",
      "image 606/1340 c:\\Users\\user\\Downloads\\yolov10-main\\Fire-Detection-1\\test\\images\\middle_-1791-_jpg.rf.7a1cd59e2624f2d3776be68b63028a27.jpg: 416x416 1 fire, 17.0ms\n",
      "image 607/1340 c:\\Users\\user\\Downloads\\yolov10-main\\Fire-Detection-1\\test\\images\\middle_-1794-_jpg.rf.da30e8144c9a02fef152c2d9b84e076a.jpg: 416x416 1 fire, 1 smoke, 11.0ms\n",
      "image 608/1340 c:\\Users\\user\\Downloads\\yolov10-main\\Fire-Detection-1\\test\\images\\middle_-1796-_jpg.rf.903b82e60f62e35570584f2e06f14400.jpg: 416x416 4 fires, 2 smokes, 12.0ms\n",
      "image 609/1340 c:\\Users\\user\\Downloads\\yolov10-main\\Fire-Detection-1\\test\\images\\middle_-1797-_jpg.rf.2e1a9034b56090f6e0e896be4fa8a8d3.jpg: 416x416 1 fire, 13.0ms\n",
      "image 610/1340 c:\\Users\\user\\Downloads\\yolov10-main\\Fire-Detection-1\\test\\images\\middle_-1802-_jpg.rf.2b096933ea32b81cb979a04866bc3c89.jpg: 416x416 2 fires, 14.0ms\n",
      "image 611/1340 c:\\Users\\user\\Downloads\\yolov10-main\\Fire-Detection-1\\test\\images\\middle_-1803-_jpg.rf.9dc6a435d9c2741572cdaf910fc65d35.jpg: 416x416 1 fire, 1 smoke, 11.0ms\n",
      "image 612/1340 c:\\Users\\user\\Downloads\\yolov10-main\\Fire-Detection-1\\test\\images\\middle_-1816-_jpg.rf.88b5ed8427dffd053c340a4d20989eb7.jpg: 416x416 4 fires, 1 smoke, 13.0ms\n",
      "image 613/1340 c:\\Users\\user\\Downloads\\yolov10-main\\Fire-Detection-1\\test\\images\\middle_-1819-_jpg.rf.5980b6886ea76e1528ceb82871a9362d.jpg: 416x416 1 fire, 1 smoke, 11.0ms\n",
      "image 614/1340 c:\\Users\\user\\Downloads\\yolov10-main\\Fire-Detection-1\\test\\images\\middle_-1820-_jpg.rf.10527a99d4f3d114b581fb63736b3520.jpg: 416x416 2 fires, 1 smoke, 13.0ms\n",
      "image 615/1340 c:\\Users\\user\\Downloads\\yolov10-main\\Fire-Detection-1\\test\\images\\middle_-1845-_jpg.rf.d4546559b2a809ac855d4006be2cd638.jpg: 416x416 1 fire, 19.0ms\n",
      "image 616/1340 c:\\Users\\user\\Downloads\\yolov10-main\\Fire-Detection-1\\test\\images\\middle_-186-_jpg.rf.c98e830180eb797beab4f8d7799b7e8c.jpg: 416x416 1 fire, 15.0ms\n",
      "image 617/1340 c:\\Users\\user\\Downloads\\yolov10-main\\Fire-Detection-1\\test\\images\\middle_-1873-_jpg.rf.82472ae652a8439170c6e579cf3cecdb.jpg: 416x416 1 fire, 12.0ms\n",
      "image 618/1340 c:\\Users\\user\\Downloads\\yolov10-main\\Fire-Detection-1\\test\\images\\middle_-1884-_jpg.rf.0f4901c10cfc0076eecfde47d417d1c0.jpg: 416x416 2 fires, 15.0ms\n",
      "image 619/1340 c:\\Users\\user\\Downloads\\yolov10-main\\Fire-Detection-1\\test\\images\\middle_-1885-_jpg.rf.ee62054bf187f91548fe9eecbfe0b684.jpg: 416x416 (no detections), 14.0ms\n",
      "image 620/1340 c:\\Users\\user\\Downloads\\yolov10-main\\Fire-Detection-1\\test\\images\\middle_-1889-_jpg.rf.6c625a766de49f74725d69f6483da57e.jpg: 416x416 1 fire, 2 smokes, 14.0ms\n",
      "image 621/1340 c:\\Users\\user\\Downloads\\yolov10-main\\Fire-Detection-1\\test\\images\\middle_-1897-_jpg.rf.2deeb340d9258dd48979182a26c400a7.jpg: 416x416 1 fire, 1 smoke, 15.0ms\n",
      "image 622/1340 c:\\Users\\user\\Downloads\\yolov10-main\\Fire-Detection-1\\test\\images\\middle_-1900-_jpg.rf.bc37cd418ed83e34377ce15b819ba1b0.jpg: 416x416 1 fire, 12.0ms\n",
      "image 623/1340 c:\\Users\\user\\Downloads\\yolov10-main\\Fire-Detection-1\\test\\images\\middle_-1901-_jpg.rf.8d7c1c4da23dced2ce4caaea27785f9e.jpg: 416x416 1 fire, 1 smoke, 14.0ms\n",
      "image 624/1340 c:\\Users\\user\\Downloads\\yolov10-main\\Fire-Detection-1\\test\\images\\middle_-191-_jpg.rf.1fef8c8ce1c829503b9d595b151a482e.jpg: 416x416 2 fires, 12.0ms\n",
      "image 625/1340 c:\\Users\\user\\Downloads\\yolov10-main\\Fire-Detection-1\\test\\images\\middle_-1912-_jpg.rf.f24d6b8cc642a65c08d80781abbe0d4f.jpg: 416x416 1 fire, 12.0ms\n",
      "image 626/1340 c:\\Users\\user\\Downloads\\yolov10-main\\Fire-Detection-1\\test\\images\\middle_-1915-_jpg.rf.e7f4759851570d6794f32d221bc8c904.jpg: 416x416 1 fire, 1 smoke, 11.0ms\n",
      "image 627/1340 c:\\Users\\user\\Downloads\\yolov10-main\\Fire-Detection-1\\test\\images\\middle_-1928-_jpg.rf.f2c3358b225a8700e8642adf50df2ba8.jpg: 416x416 1 fire, 11.0ms\n",
      "image 628/1340 c:\\Users\\user\\Downloads\\yolov10-main\\Fire-Detection-1\\test\\images\\middle_-1948-_jpg.rf.8e1b85e31db873eac19f198a6f5fed1c.jpg: 416x416 2 fires, 19.0ms\n",
      "image 629/1340 c:\\Users\\user\\Downloads\\yolov10-main\\Fire-Detection-1\\test\\images\\middle_-195-_jpg.rf.1f533a70017f08a5d15239cd1e37b252.jpg: 416x416 1 fire, 1 smoke, 12.0ms\n",
      "image 630/1340 c:\\Users\\user\\Downloads\\yolov10-main\\Fire-Detection-1\\test\\images\\middle_-1951-_jpg.rf.c4a08eec5fab1b89311c82e6eb2de13a.jpg: 416x416 1 fire, 16.0ms\n",
      "image 631/1340 c:\\Users\\user\\Downloads\\yolov10-main\\Fire-Detection-1\\test\\images\\middle_-1957-_jpg.rf.7e0737f649c068ae2209720e999bcd89.jpg: 416x416 3 fires, 1 smoke, 14.0ms\n",
      "image 632/1340 c:\\Users\\user\\Downloads\\yolov10-main\\Fire-Detection-1\\test\\images\\middle_-1960-_jpg.rf.434eed8a958253b9c8657479b24fa41b.jpg: 416x416 1 smoke, 12.0ms\n",
      "image 633/1340 c:\\Users\\user\\Downloads\\yolov10-main\\Fire-Detection-1\\test\\images\\middle_-1970-_jpg.rf.7d09f646b281512968d7269d5dc807c7.jpg: 416x416 2 fires, 16.0ms\n",
      "image 634/1340 c:\\Users\\user\\Downloads\\yolov10-main\\Fire-Detection-1\\test\\images\\middle_-1979-_jpg.rf.af1f950f7847587fbfd258a4c8d99669.jpg: 416x416 (no detections), 12.0ms\n",
      "image 635/1340 c:\\Users\\user\\Downloads\\yolov10-main\\Fire-Detection-1\\test\\images\\middle_-1989-_jpg.rf.9583f132434746d5064f87982e6b57b2.jpg: 416x416 2 fires, 13.0ms\n",
      "image 636/1340 c:\\Users\\user\\Downloads\\yolov10-main\\Fire-Detection-1\\test\\images\\middle_-1990-_jpg.rf.74eb24d25e9505f9cacfe6c61f04b964.jpg: 416x416 3 fires, 1 smoke, 22.0ms\n",
      "image 637/1340 c:\\Users\\user\\Downloads\\yolov10-main\\Fire-Detection-1\\test\\images\\middle_-1998-_jpg.rf.4b4904c24afee13267bc1ef2c6b365a6.jpg: 416x416 3 fires, 19.0ms\n",
      "image 638/1340 c:\\Users\\user\\Downloads\\yolov10-main\\Fire-Detection-1\\test\\images\\middle_-2-_jpg.rf.4bdae13792571161faa084dcf3d54853.jpg: 416x416 1 fire, 15.0ms\n",
      "image 639/1340 c:\\Users\\user\\Downloads\\yolov10-main\\Fire-Detection-1\\test\\images\\middle_-200-_jpg.rf.20ae277d83c59063dcdf845f2a8c6bda.jpg: 416x416 1 fire, 1 smoke, 13.0ms\n",
      "image 640/1340 c:\\Users\\user\\Downloads\\yolov10-main\\Fire-Detection-1\\test\\images\\middle_-2003-_jpg.rf.cc4b79b08ab49afe47de5e492c28bf9b.jpg: 416x416 4 fires, 12.0ms\n",
      "image 641/1340 c:\\Users\\user\\Downloads\\yolov10-main\\Fire-Detection-1\\test\\images\\middle_-2007-_jpg.rf.9fc30a40fa3c3070b4584896e385199e.jpg: 416x416 2 fires, 15.0ms\n",
      "image 642/1340 c:\\Users\\user\\Downloads\\yolov10-main\\Fire-Detection-1\\test\\images\\middle_-2013-_jpg.rf.4f961927306df010f96acca3dd97c10f.jpg: 416x416 3 fires, 1 smoke, 11.0ms\n",
      "image 643/1340 c:\\Users\\user\\Downloads\\yolov10-main\\Fire-Detection-1\\test\\images\\middle_-2018-_jpg.rf.007c9a721558607108de9000be6a0caa.jpg: 416x416 2 fires, 1 smoke, 23.0ms\n",
      "image 644/1340 c:\\Users\\user\\Downloads\\yolov10-main\\Fire-Detection-1\\test\\images\\middle_-2028-_jpg.rf.ff75400e1b941d7a5f682382e3590b7d.jpg: 416x416 1 fire, 11.0ms\n",
      "image 645/1340 c:\\Users\\user\\Downloads\\yolov10-main\\Fire-Detection-1\\test\\images\\middle_-2040-_jpg.rf.470c40d84b7d9d4725ec0f2d94984aaf.jpg: 416x416 1 fire, 12.0ms\n",
      "image 646/1340 c:\\Users\\user\\Downloads\\yolov10-main\\Fire-Detection-1\\test\\images\\middle_-2055-_jpg.rf.19880d1e99c1ada32e0c5b4a94ab00f4.jpg: 416x416 1 fire, 13.0ms\n",
      "image 647/1340 c:\\Users\\user\\Downloads\\yolov10-main\\Fire-Detection-1\\test\\images\\middle_-2057-_jpg.rf.4cd2d669967fe74ae650140c4a753bf3.jpg: 416x416 3 fires, 16.0ms\n",
      "image 648/1340 c:\\Users\\user\\Downloads\\yolov10-main\\Fire-Detection-1\\test\\images\\middle_-206-_jpg.rf.d4a795524fcb3ff1d15fafbec1fa3709.jpg: 416x416 2 fires, 15.0ms\n",
      "image 649/1340 c:\\Users\\user\\Downloads\\yolov10-main\\Fire-Detection-1\\test\\images\\middle_-2064-_jpg.rf.8a2ce5fc6ee75b9eac6fa6c680f95921.jpg: 416x416 3 fires, 12.0ms\n",
      "image 650/1340 c:\\Users\\user\\Downloads\\yolov10-main\\Fire-Detection-1\\test\\images\\middle_-2070-_jpg.rf.a48cecc1e7a2fe0008c20d0f69466566.jpg: 416x416 1 fire, 17.0ms\n",
      "image 651/1340 c:\\Users\\user\\Downloads\\yolov10-main\\Fire-Detection-1\\test\\images\\middle_-2072-_jpg.rf.47830538f6388fa0028d6a6896d1b5d1.jpg: 416x416 1 fire, 12.0ms\n",
      "image 652/1340 c:\\Users\\user\\Downloads\\yolov10-main\\Fire-Detection-1\\test\\images\\middle_-2074-_jpg.rf.cae628d69162da1d04c0118017bac3cc.jpg: 416x416 1 fire, 15.0ms\n",
      "image 653/1340 c:\\Users\\user\\Downloads\\yolov10-main\\Fire-Detection-1\\test\\images\\middle_-2075-_jpg.rf.7fa21f905e1a644a3d668b5f8ecd94ee.jpg: 416x416 1 fire, 13.0ms\n",
      "image 654/1340 c:\\Users\\user\\Downloads\\yolov10-main\\Fire-Detection-1\\test\\images\\middle_-2084-_jpg.rf.95581ed6cd5ae7733649a80c83cfc2a1.jpg: 416x416 1 fire, 18.0ms\n",
      "image 655/1340 c:\\Users\\user\\Downloads\\yolov10-main\\Fire-Detection-1\\test\\images\\middle_-2085-_jpg.rf.190f6480ef98113c75f6663a6e264cfc.jpg: 416x416 1 fire, 1 smoke, 19.0ms\n",
      "image 656/1340 c:\\Users\\user\\Downloads\\yolov10-main\\Fire-Detection-1\\test\\images\\middle_-2089-_jpg.rf.90e3da1c65703beb13142c1274c434f6.jpg: 416x416 1 fire, 12.0ms\n",
      "image 657/1340 c:\\Users\\user\\Downloads\\yolov10-main\\Fire-Detection-1\\test\\images\\middle_-2094-_jpg.rf.32f528c64e620ad509bc13729e78f21c.jpg: 416x416 1 smoke, 12.0ms\n",
      "image 658/1340 c:\\Users\\user\\Downloads\\yolov10-main\\Fire-Detection-1\\test\\images\\middle_-2103-_jpg.rf.7fa242fac0f0855ed279263e38376c9d.jpg: 416x416 1 fire, 19.0ms\n",
      "image 659/1340 c:\\Users\\user\\Downloads\\yolov10-main\\Fire-Detection-1\\test\\images\\middle_-2110-_jpg.rf.383b1f400a989a56d1b5feb666f982a3.jpg: 416x416 7 fires, 15.0ms\n",
      "image 660/1340 c:\\Users\\user\\Downloads\\yolov10-main\\Fire-Detection-1\\test\\images\\middle_-2114-_jpg.rf.3e4665edb58c1d871c1f998c327cd969.jpg: 416x416 2 fires, 15.0ms\n",
      "image 661/1340 c:\\Users\\user\\Downloads\\yolov10-main\\Fire-Detection-1\\test\\images\\middle_-2120-_jpg.rf.ec1d6915b884469b4e5dabd4169a0ba0.jpg: 416x416 1 smoke, 12.0ms\n",
      "image 662/1340 c:\\Users\\user\\Downloads\\yolov10-main\\Fire-Detection-1\\test\\images\\middle_-2127-_jpg.rf.134cf82467add628dc70542e8aaa6fed.jpg: 416x416 (no detections), 15.0ms\n",
      "image 663/1340 c:\\Users\\user\\Downloads\\yolov10-main\\Fire-Detection-1\\test\\images\\middle_-2131-_jpg.rf.10b1b818b99dd7d04e19bbff879a96ae.jpg: 416x416 3 fires, 13.0ms\n",
      "image 664/1340 c:\\Users\\user\\Downloads\\yolov10-main\\Fire-Detection-1\\test\\images\\middle_-2144-_jpg.rf.760abebd66bf3faccdbc7d7938c1ab80.jpg: 416x416 3 fires, 16.0ms\n",
      "image 665/1340 c:\\Users\\user\\Downloads\\yolov10-main\\Fire-Detection-1\\test\\images\\middle_-2149-_jpg.rf.c1fd7befb98d71ca485234fc32cdb156.jpg: 416x416 5 fires, 2 smokes, 11.0ms\n",
      "image 666/1340 c:\\Users\\user\\Downloads\\yolov10-main\\Fire-Detection-1\\test\\images\\middle_-2162-_jpg.rf.ed88578612590dc0ff052173d40009bc.jpg: 416x416 1 fire, 12.0ms\n",
      "image 667/1340 c:\\Users\\user\\Downloads\\yolov10-main\\Fire-Detection-1\\test\\images\\middle_-2179-_jpg.rf.5a3379f70d6acbbd793541e0fe948477.jpg: 416x416 4 fires, 1 smoke, 13.0ms\n",
      "image 668/1340 c:\\Users\\user\\Downloads\\yolov10-main\\Fire-Detection-1\\test\\images\\middle_-2185-_jpg.rf.f9dd7a482c63c70fb01526b12a3b4c9f.jpg: 416x416 1 fire, 15.0ms\n",
      "image 669/1340 c:\\Users\\user\\Downloads\\yolov10-main\\Fire-Detection-1\\test\\images\\middle_-2195-_jpg.rf.1e79ec17662d0398fd171466d7fb6853.jpg: 416x416 2 fires, 1 smoke, 19.0ms\n",
      "image 670/1340 c:\\Users\\user\\Downloads\\yolov10-main\\Fire-Detection-1\\test\\images\\middle_-2196-_jpg.rf.e3802fed6340be7a79d414dcf33f5b95.jpg: 416x416 1 fire, 3 smokes, 13.0ms\n",
      "image 671/1340 c:\\Users\\user\\Downloads\\yolov10-main\\Fire-Detection-1\\test\\images\\middle_-2209-_jpg.rf.a592170b6a6aecd76c66e1934c45d264.jpg: 416x416 3 fires, 13.0ms\n",
      "image 672/1340 c:\\Users\\user\\Downloads\\yolov10-main\\Fire-Detection-1\\test\\images\\middle_-2220-_jpg.rf.d20c94058da586bbc73241b15fb9c4c6.jpg: 416x416 3 fires, 17.1ms\n",
      "image 673/1340 c:\\Users\\user\\Downloads\\yolov10-main\\Fire-Detection-1\\test\\images\\middle_-2229-_jpg.rf.b6f577fb8d60968cdc6cb367d52c4c4e.jpg: 416x416 1 fire, 1 smoke, 19.0ms\n",
      "image 674/1340 c:\\Users\\user\\Downloads\\yolov10-main\\Fire-Detection-1\\test\\images\\middle_-2238-_jpg.rf.404b74d59814e22923adb0d4c1efd4a8.jpg: 416x416 1 fire, 1 smoke, 14.0ms\n",
      "image 675/1340 c:\\Users\\user\\Downloads\\yolov10-main\\Fire-Detection-1\\test\\images\\middle_-2242-_jpg.rf.ea79ae41637c1ef2bd8f9cf89eadb5fa.jpg: 416x416 (no detections), 16.0ms\n",
      "image 676/1340 c:\\Users\\user\\Downloads\\yolov10-main\\Fire-Detection-1\\test\\images\\middle_-2245-_jpg.rf.92f73c935a3b0cb6008dc19bd6cabfa0.jpg: 416x416 2 smokes, 19.6ms\n",
      "image 677/1340 c:\\Users\\user\\Downloads\\yolov10-main\\Fire-Detection-1\\test\\images\\middle_-2246-_jpg.rf.e3c4ce0a5c0d14e5aaada3a5cd137bce.jpg: 416x416 2 fires, 2 smokes, 17.0ms\n",
      "image 678/1340 c:\\Users\\user\\Downloads\\yolov10-main\\Fire-Detection-1\\test\\images\\middle_-2258-_jpg.rf.0cfb437c373d143279087cac9c84ab45.jpg: 416x416 1 fire, 12.0ms\n",
      "image 679/1340 c:\\Users\\user\\Downloads\\yolov10-main\\Fire-Detection-1\\test\\images\\middle_-2264-_jpg.rf.138b896726152140e65b5b3e1b8f0794.jpg: 416x416 1 fire, 1 smoke, 12.0ms\n",
      "image 680/1340 c:\\Users\\user\\Downloads\\yolov10-main\\Fire-Detection-1\\test\\images\\middle_-2300-_jpg.rf.f6d0b1b9ea61e7b933eceb8fc44dad07.jpg: 416x416 2 fires, 15.0ms\n",
      "image 681/1340 c:\\Users\\user\\Downloads\\yolov10-main\\Fire-Detection-1\\test\\images\\middle_-2305-_jpg.rf.d4dfdbdd965be3c4412ce9f1cd0c9355.jpg: 416x416 1 fire, 17.0ms\n",
      "image 682/1340 c:\\Users\\user\\Downloads\\yolov10-main\\Fire-Detection-1\\test\\images\\middle_-2315-_jpg.rf.af4403e233b60e3c72464ee50221806e.jpg: 416x416 (no detections), 13.0ms\n",
      "image 683/1340 c:\\Users\\user\\Downloads\\yolov10-main\\Fire-Detection-1\\test\\images\\middle_-2320-_jpg.rf.175bfe9ebefb6d301044409b965c43d4.jpg: 416x416 1 fire, 12.0ms\n",
      "image 684/1340 c:\\Users\\user\\Downloads\\yolov10-main\\Fire-Detection-1\\test\\images\\middle_-2322-_jpg.rf.6fbee7d87ee9edbe94e81ebe1b57b3f1.jpg: 416x416 1 fire, 15.0ms\n",
      "image 685/1340 c:\\Users\\user\\Downloads\\yolov10-main\\Fire-Detection-1\\test\\images\\middle_-2323-_jpg.rf.9e94c77ee17c24d8ed9a45cfde380dc1.jpg: 416x416 2 fires, 12.0ms\n",
      "image 686/1340 c:\\Users\\user\\Downloads\\yolov10-main\\Fire-Detection-1\\test\\images\\middle_-2328-_jpg.rf.858bc6e2eda7916059c72cebfa24bdbb.jpg: 416x416 5 fires, 12.0ms\n",
      "image 687/1340 c:\\Users\\user\\Downloads\\yolov10-main\\Fire-Detection-1\\test\\images\\middle_-2332-_jpg.rf.269f1e4b6c508d3252c59101ad0b3117.jpg: 416x416 1 fire, 15.0ms\n",
      "image 688/1340 c:\\Users\\user\\Downloads\\yolov10-main\\Fire-Detection-1\\test\\images\\middle_-2333-_jpg.rf.33f437457588a8e2d01f5bd3b6676eb0.jpg: 416x416 1 fire, 14.0ms\n",
      "image 689/1340 c:\\Users\\user\\Downloads\\yolov10-main\\Fire-Detection-1\\test\\images\\middle_-2338-_jpg.rf.f646f151b5f7ae91a1876632b4d07ed5.jpg: 416x416 (no detections), 11.0ms\n",
      "image 690/1340 c:\\Users\\user\\Downloads\\yolov10-main\\Fire-Detection-1\\test\\images\\middle_-2349-_jpg.rf.158f41d74799e0450050fda13c428f9f.jpg: 416x416 (no detections), 12.0ms\n",
      "image 691/1340 c:\\Users\\user\\Downloads\\yolov10-main\\Fire-Detection-1\\test\\images\\middle_-235-_jpg.rf.0157862692cd2c433de6bfb00053d20a.jpg: 416x416 3 fires, 1 smoke, 12.0ms\n",
      "image 692/1340 c:\\Users\\user\\Downloads\\yolov10-main\\Fire-Detection-1\\test\\images\\middle_-2350-_jpg.rf.7e63440b02f8250392d96bc30626b037.jpg: 416x416 2 fires, 14.0ms\n",
      "image 693/1340 c:\\Users\\user\\Downloads\\yolov10-main\\Fire-Detection-1\\test\\images\\middle_-2358-_jpg.rf.51f194f2d3ce0cd4c8681d7d3eb300c4.jpg: 416x416 4 fires, 13.0ms\n",
      "image 694/1340 c:\\Users\\user\\Downloads\\yolov10-main\\Fire-Detection-1\\test\\images\\middle_-2361-_jpg.rf.3ccba6de95e5c1f5d2b233d190b91d30.jpg: 416x416 1 fire, 13.0ms\n",
      "image 695/1340 c:\\Users\\user\\Downloads\\yolov10-main\\Fire-Detection-1\\test\\images\\middle_-2364-_jpg.rf.20ba46c5f9dd6c8a12d1a8e4b8f6210e.jpg: 416x416 1 fire, 17.0ms\n",
      "image 696/1340 c:\\Users\\user\\Downloads\\yolov10-main\\Fire-Detection-1\\test\\images\\middle_-2371-_jpg.rf.44c6bac485d86ab11c4dc4d8d396d7a6.jpg: 416x416 1 fire, 19.0ms\n",
      "image 697/1340 c:\\Users\\user\\Downloads\\yolov10-main\\Fire-Detection-1\\test\\images\\middle_-2375-_jpg.rf.ec865eaf4ec74240e981292818141613.jpg: 416x416 2 fires, 16.0ms\n",
      "image 698/1340 c:\\Users\\user\\Downloads\\yolov10-main\\Fire-Detection-1\\test\\images\\middle_-238-_jpg.rf.df62710614c9444b255389c814fe6a33.jpg: 416x416 1 smoke, 33.0ms\n",
      "image 699/1340 c:\\Users\\user\\Downloads\\yolov10-main\\Fire-Detection-1\\test\\images\\middle_-2386-_jpg.rf.96905df3ff491ec13c308c07fcb92a4d.jpg: 416x416 1 fire, 14.0ms\n",
      "image 700/1340 c:\\Users\\user\\Downloads\\yolov10-main\\Fire-Detection-1\\test\\images\\middle_-2390-_jpg.rf.968501336eb23edafd5e2590cbdd8ce3.jpg: 416x416 1 fire, 12.0ms\n",
      "image 701/1340 c:\\Users\\user\\Downloads\\yolov10-main\\Fire-Detection-1\\test\\images\\middle_-2391-_jpg.rf.aea6dc444e32b2b2f65b0614de901dee.jpg: 416x416 3 fires, 12.0ms\n",
      "image 702/1340 c:\\Users\\user\\Downloads\\yolov10-main\\Fire-Detection-1\\test\\images\\middle_-2392-_jpg.rf.5895acfa02a7802bc7de6a16ced89c87.jpg: 416x416 2 fires, 17.0ms\n",
      "image 703/1340 c:\\Users\\user\\Downloads\\yolov10-main\\Fire-Detection-1\\test\\images\\middle_-2397-_jpg.rf.7cf7522120d78e669e4765975087a74e.jpg: 416x416 2 fires, 19.0ms\n",
      "image 704/1340 c:\\Users\\user\\Downloads\\yolov10-main\\Fire-Detection-1\\test\\images\\middle_-2398-_jpg.rf.96b276b7869973c238dd0cc9446438e9.jpg: 416x416 3 fires, 13.0ms\n",
      "image 705/1340 c:\\Users\\user\\Downloads\\yolov10-main\\Fire-Detection-1\\test\\images\\middle_-2405-_jpg.rf.b669d99ca23da2b41007bdbf4c08aa60.jpg: 416x416 3 fires, 12.0ms\n",
      "image 706/1340 c:\\Users\\user\\Downloads\\yolov10-main\\Fire-Detection-1\\test\\images\\middle_-2406-_jpg.rf.fadc2c31f7750dc3984dca1fe4c50ae8.jpg: 416x416 1 fire, 12.0ms\n",
      "image 707/1340 c:\\Users\\user\\Downloads\\yolov10-main\\Fire-Detection-1\\test\\images\\middle_-2407-_jpg.rf.79d79746582a4fdb2cdff1b98b40b213.jpg: 416x416 2 fires, 15.0ms\n",
      "image 708/1340 c:\\Users\\user\\Downloads\\yolov10-main\\Fire-Detection-1\\test\\images\\middle_-243-_jpg.rf.74e478a9ad9cf29b6205a6f9225aa84e.jpg: 416x416 2 fires, 20.0ms\n",
      "image 709/1340 c:\\Users\\user\\Downloads\\yolov10-main\\Fire-Detection-1\\test\\images\\middle_-2432-_jpg.rf.71fe94dd3efb1a37f9676e7688a68b81.jpg: 416x416 2 fires, 19.0ms\n",
      "image 710/1340 c:\\Users\\user\\Downloads\\yolov10-main\\Fire-Detection-1\\test\\images\\middle_-244-_jpg.rf.07a518f94f982b5a06d485d5af675274.jpg: 416x416 2 smokes, 18.0ms\n",
      "image 711/1340 c:\\Users\\user\\Downloads\\yolov10-main\\Fire-Detection-1\\test\\images\\middle_-2445-_jpg.rf.74240934909ed4f772850355f0c8fce3.jpg: 416x416 1 fire, 15.0ms\n",
      "image 712/1340 c:\\Users\\user\\Downloads\\yolov10-main\\Fire-Detection-1\\test\\images\\middle_-2447-_jpg.rf.ec8bf4c228637fe2171811dd11c2d317.jpg: 416x416 1 fire, 12.0ms\n",
      "image 713/1340 c:\\Users\\user\\Downloads\\yolov10-main\\Fire-Detection-1\\test\\images\\middle_-2451-_jpg.rf.d265ae367450ca33e848af031a0c7d24.jpg: 416x416 1 fire, 16.0ms\n",
      "image 714/1340 c:\\Users\\user\\Downloads\\yolov10-main\\Fire-Detection-1\\test\\images\\middle_-2454-_jpg.rf.78e9d0a5dcb3b42ab7cf156e1a605f98.jpg: 416x416 (no detections), 16.0ms\n",
      "image 715/1340 c:\\Users\\user\\Downloads\\yolov10-main\\Fire-Detection-1\\test\\images\\middle_-246-_jpg.rf.22d25c13ae0512f4200918281454175c.jpg: 416x416 1 smoke, 11.0ms\n",
      "image 716/1340 c:\\Users\\user\\Downloads\\yolov10-main\\Fire-Detection-1\\test\\images\\middle_-248-_jpg.rf.6798491bb768cf91e0ebfec45d0b5892.jpg: 416x416 1 fire, 1 smoke, 16.0ms\n",
      "image 717/1340 c:\\Users\\user\\Downloads\\yolov10-main\\Fire-Detection-1\\test\\images\\middle_-2480-_jpg.rf.ff45d4131ad47130a63a606df0a22cf7.jpg: 416x416 1 fire, 13.0ms\n",
      "image 718/1340 c:\\Users\\user\\Downloads\\yolov10-main\\Fire-Detection-1\\test\\images\\middle_-2483-_jpg.rf.f63825f38727c60669487389dc3ac187.jpg: 416x416 3 fires, 18.0ms\n",
      "image 719/1340 c:\\Users\\user\\Downloads\\yolov10-main\\Fire-Detection-1\\test\\images\\middle_-2489-_jpg.rf.9e59d759af31dec5415df4c3e6d81c51.jpg: 416x416 (no detections), 12.0ms\n",
      "image 720/1340 c:\\Users\\user\\Downloads\\yolov10-main\\Fire-Detection-1\\test\\images\\middle_-249-_jpg.rf.b3e5385f5d0058c6e05167cf7f95c921.jpg: 416x416 1 fire, 2 smokes, 11.0ms\n",
      "image 721/1340 c:\\Users\\user\\Downloads\\yolov10-main\\Fire-Detection-1\\test\\images\\middle_-2498-_jpg.rf.64244e0b39fbe080d75d0a1344545429.jpg: 416x416 1 fire, 12.0ms\n",
      "image 722/1340 c:\\Users\\user\\Downloads\\yolov10-main\\Fire-Detection-1\\test\\images\\middle_-2504-_jpg.rf.9889349c96977b1e353f82a2015ea178.jpg: 416x416 1 fire, 15.0ms\n",
      "image 723/1340 c:\\Users\\user\\Downloads\\yolov10-main\\Fire-Detection-1\\test\\images\\middle_-2524-_jpg.rf.4e914281b7b3375917442532ec560a1d.jpg: 416x416 1 fire, 14.0ms\n",
      "image 724/1340 c:\\Users\\user\\Downloads\\yolov10-main\\Fire-Detection-1\\test\\images\\middle_-2526-_jpg.rf.0ee3dda072f8fe60acb6c53c9d8052b7.jpg: 416x416 1 fire, 17.0ms\n",
      "image 725/1340 c:\\Users\\user\\Downloads\\yolov10-main\\Fire-Detection-1\\test\\images\\middle_-2527-_jpg.rf.6c8def242a8d34418632452241a9c2c9.jpg: 416x416 1 fire, 16.0ms\n",
      "image 726/1340 c:\\Users\\user\\Downloads\\yolov10-main\\Fire-Detection-1\\test\\images\\middle_-253-_jpg.rf.024907db71df71b4601ee3fe198346b6.jpg: 416x416 (no detections), 12.0ms\n",
      "image 727/1340 c:\\Users\\user\\Downloads\\yolov10-main\\Fire-Detection-1\\test\\images\\middle_-2535-_jpg.rf.d14ad5b2ac7e4036751bbad4947745ed.jpg: 416x416 1 fire, 12.0ms\n",
      "image 728/1340 c:\\Users\\user\\Downloads\\yolov10-main\\Fire-Detection-1\\test\\images\\middle_-2550-_jpg.rf.69f1b8472a9fd168163d81d0074553b5.jpg: 416x416 1 fire, 18.0ms\n",
      "image 729/1340 c:\\Users\\user\\Downloads\\yolov10-main\\Fire-Detection-1\\test\\images\\middle_-2552-_jpg.rf.c937278cf0768495e1063bdc6961028b.jpg: 416x416 1 fire, 15.0ms\n",
      "image 730/1340 c:\\Users\\user\\Downloads\\yolov10-main\\Fire-Detection-1\\test\\images\\middle_-2560-_jpg.rf.bd22cecc04db54697d35b07cfef13cbc.jpg: 416x416 1 fire, 13.0ms\n",
      "image 731/1340 c:\\Users\\user\\Downloads\\yolov10-main\\Fire-Detection-1\\test\\images\\middle_-2564-_jpg.rf.1594e9cff66e70fd482969476d38391c.jpg: 416x416 1 fire, 12.0ms\n",
      "image 732/1340 c:\\Users\\user\\Downloads\\yolov10-main\\Fire-Detection-1\\test\\images\\middle_-2578-_jpg.rf.e1b70b0ea11876f085d21c0304d13991.jpg: 416x416 1 fire, 11.0ms\n",
      "image 733/1340 c:\\Users\\user\\Downloads\\yolov10-main\\Fire-Detection-1\\test\\images\\middle_-2580-_jpg.rf.6db40fa47967473e0345d5b4aba30993.jpg: 416x416 1 fire, 17.0ms\n",
      "image 734/1340 c:\\Users\\user\\Downloads\\yolov10-main\\Fire-Detection-1\\test\\images\\middle_-2588-_jpg.rf.b5f36d7c08efdcb51ef76e98d43b5cc6.jpg: 416x416 1 fire, 13.0ms\n",
      "image 735/1340 c:\\Users\\user\\Downloads\\yolov10-main\\Fire-Detection-1\\test\\images\\middle_-2605-_jpg.rf.ce0d82a72978c3fd30df0f32c04b6f81.jpg: 416x416 1 fire, 16.0ms\n",
      "image 736/1340 c:\\Users\\user\\Downloads\\yolov10-main\\Fire-Detection-1\\test\\images\\middle_-2608-_jpg.rf.e9eeccfd7b144a60cd4ccdec422c65cf.jpg: 416x416 1 fire, 15.0ms\n",
      "image 737/1340 c:\\Users\\user\\Downloads\\yolov10-main\\Fire-Detection-1\\test\\images\\middle_-2611-_jpg.rf.2fa7bc8f69a1a5379f62224fe985fe3a.jpg: 416x416 1 fire, 12.0ms\n",
      "image 738/1340 c:\\Users\\user\\Downloads\\yolov10-main\\Fire-Detection-1\\test\\images\\middle_-2612-_jpg.rf.b16f31a1f75f9ad371da5ab9c5b70824.jpg: 416x416 1 fire, 13.0ms\n",
      "image 739/1340 c:\\Users\\user\\Downloads\\yolov10-main\\Fire-Detection-1\\test\\images\\middle_-2616-_jpg.rf.8d5e474b1266dc468e265f28e605bce7.jpg: 416x416 1 fire, 16.0ms\n",
      "image 740/1340 c:\\Users\\user\\Downloads\\yolov10-main\\Fire-Detection-1\\test\\images\\middle_-2618-_jpg.rf.ea6d4d4a80e42ec95b41ce6018417614.jpg: 416x416 2 fires, 12.0ms\n",
      "image 741/1340 c:\\Users\\user\\Downloads\\yolov10-main\\Fire-Detection-1\\test\\images\\middle_-2621-_jpg.rf.96279bff1b90abddfb4c9edebf689fdc.jpg: 416x416 1 fire, 11.0ms\n",
      "image 742/1340 c:\\Users\\user\\Downloads\\yolov10-main\\Fire-Detection-1\\test\\images\\middle_-2622-_jpg.rf.3898b866822fc3ed08349209d353c403.jpg: 416x416 (no detections), 15.0ms\n",
      "image 743/1340 c:\\Users\\user\\Downloads\\yolov10-main\\Fire-Detection-1\\test\\images\\middle_-2625-_jpg.rf.23178ab1defc261da93d673b7bb4ca14.jpg: 416x416 (no detections), 12.0ms\n",
      "image 744/1340 c:\\Users\\user\\Downloads\\yolov10-main\\Fire-Detection-1\\test\\images\\middle_-2638-_jpg.rf.f8436a556d848713f34fe463188d902e.jpg: 416x416 1 fire, 13.0ms\n",
      "image 745/1340 c:\\Users\\user\\Downloads\\yolov10-main\\Fire-Detection-1\\test\\images\\middle_-2639-_jpg.rf.8393664854383ca5bfcd84ab98e70b54.jpg: 416x416 1 fire, 12.0ms\n",
      "image 746/1340 c:\\Users\\user\\Downloads\\yolov10-main\\Fire-Detection-1\\test\\images\\middle_-2647-_jpg.rf.d63f3fe8864ee5b665fdbd8d500e897a.jpg: 416x416 1 fire, 12.0ms\n",
      "image 747/1340 c:\\Users\\user\\Downloads\\yolov10-main\\Fire-Detection-1\\test\\images\\middle_-265-_jpg.rf.b1667128a67ce73d9c5cb45eb3adde27.jpg: 416x416 1 fire, 2 smokes, 20.0ms\n",
      "image 748/1340 c:\\Users\\user\\Downloads\\yolov10-main\\Fire-Detection-1\\test\\images\\middle_-2650-_jpg.rf.550706c4428bbe7d25022e78b41fb8a1.jpg: 416x416 1 fire, 13.0ms\n",
      "image 749/1340 c:\\Users\\user\\Downloads\\yolov10-main\\Fire-Detection-1\\test\\images\\middle_-2655-_jpg.rf.e795a8be0e8a87800e836056dc1c1530.jpg: 416x416 1 fire, 12.0ms\n",
      "image 750/1340 c:\\Users\\user\\Downloads\\yolov10-main\\Fire-Detection-1\\test\\images\\middle_-2663-_jpg.rf.9d04812a1755adaca367fb4387f6c02f.jpg: 416x416 2 fires, 13.0ms\n",
      "image 751/1340 c:\\Users\\user\\Downloads\\yolov10-main\\Fire-Detection-1\\test\\images\\middle_-2664-_jpg.rf.e3151a35940ebedffaceaf858da33b25.jpg: 416x416 4 fires, 14.0ms\n",
      "image 752/1340 c:\\Users\\user\\Downloads\\yolov10-main\\Fire-Detection-1\\test\\images\\middle_-2671-_jpg.rf.455182298de9383ec6307878dfc2b120.jpg: 416x416 1 fire, 12.0ms\n",
      "image 753/1340 c:\\Users\\user\\Downloads\\yolov10-main\\Fire-Detection-1\\test\\images\\middle_-2678-_jpg.rf.47e25bc48a071ba124e6d29e53ef53f2.jpg: 416x416 1 fire, 14.0ms\n",
      "image 754/1340 c:\\Users\\user\\Downloads\\yolov10-main\\Fire-Detection-1\\test\\images\\middle_-2685-_jpg.rf.39ce1f189fdad83f763efb473b85d94a.jpg: 416x416 1 fire, 15.0ms\n",
      "image 755/1340 c:\\Users\\user\\Downloads\\yolov10-main\\Fire-Detection-1\\test\\images\\middle_-2700-_jpg.rf.5dbfcfbaf3ee37e32a1edc92b2eb20b5.jpg: 416x416 2 fires, 14.0ms\n",
      "image 756/1340 c:\\Users\\user\\Downloads\\yolov10-main\\Fire-Detection-1\\test\\images\\middle_-273-_jpg.rf.37b92c706726f35e1ab5177ca8fc9a92.jpg: 416x416 1 fire, 3 smokes, 16.0ms\n",
      "image 757/1340 c:\\Users\\user\\Downloads\\yolov10-main\\Fire-Detection-1\\test\\images\\middle_-2730-_jpg.rf.eebcf3c03591e0c7200ff25e714964b7.jpg: 416x416 (no detections), 13.0ms\n",
      "image 758/1340 c:\\Users\\user\\Downloads\\yolov10-main\\Fire-Detection-1\\test\\images\\middle_-2756-_jpg.rf.1b45a33386f27a84fd00ace577b6e826.jpg: 416x416 1 fire, 17.0ms\n",
      "image 759/1340 c:\\Users\\user\\Downloads\\yolov10-main\\Fire-Detection-1\\test\\images\\middle_-2759-_jpg.rf.108756e17b96d83f113d16f10c44ee11.jpg: 416x416 1 fire, 14.0ms\n",
      "image 760/1340 c:\\Users\\user\\Downloads\\yolov10-main\\Fire-Detection-1\\test\\images\\middle_-2765-_jpg.rf.d78ddade78211a49ca57a91375cbefe5.jpg: 416x416 2 fires, 1 smoke, 12.0ms\n",
      "image 761/1340 c:\\Users\\user\\Downloads\\yolov10-main\\Fire-Detection-1\\test\\images\\middle_-2779-_jpg.rf.e556b1b892669385d147317909d1257f.jpg: 416x416 1 fire, 14.0ms\n",
      "image 762/1340 c:\\Users\\user\\Downloads\\yolov10-main\\Fire-Detection-1\\test\\images\\middle_-2787-_jpg.rf.917c5f791c75d2528968f28fa225a83f.jpg: 416x416 1 fire, 16.0ms\n",
      "image 763/1340 c:\\Users\\user\\Downloads\\yolov10-main\\Fire-Detection-1\\test\\images\\middle_-2790-_jpg.rf.c8694ea1fcc0e41659e1dac5853fd01b.jpg: 416x416 2 fires, 14.0ms\n",
      "image 764/1340 c:\\Users\\user\\Downloads\\yolov10-main\\Fire-Detection-1\\test\\images\\middle_-2791-_jpg.rf.bddb2c68291e702d978308c946c25d4f.jpg: 416x416 1 fire, 17.0ms\n",
      "image 765/1340 c:\\Users\\user\\Downloads\\yolov10-main\\Fire-Detection-1\\test\\images\\middle_-2794-_jpg.rf.50b6458fe86f5034d21e2cd58b919f1a.jpg: 416x416 (no detections), 19.0ms\n",
      "image 766/1340 c:\\Users\\user\\Downloads\\yolov10-main\\Fire-Detection-1\\test\\images\\middle_-281-_jpg.rf.1093771892cdc6bdc5f6d55b4eaaf13f.jpg: 416x416 (no detections), 14.0ms\n",
      "image 767/1340 c:\\Users\\user\\Downloads\\yolov10-main\\Fire-Detection-1\\test\\images\\middle_-2819-_jpg.rf.4848baefeb43b982b07a7c7da2ac58d0.jpg: 416x416 1 fire, 13.0ms\n",
      "image 768/1340 c:\\Users\\user\\Downloads\\yolov10-main\\Fire-Detection-1\\test\\images\\middle_-2826-_jpg.rf.8988f10a1cbdadabae42c7149b98d46e.jpg: 416x416 (no detections), 23.0ms\n",
      "image 769/1340 c:\\Users\\user\\Downloads\\yolov10-main\\Fire-Detection-1\\test\\images\\middle_-2827-_jpg.rf.c41805d1ecd80daedc4bd4b212d226b5.jpg: 416x416 1 fire, 20.0ms\n",
      "image 770/1340 c:\\Users\\user\\Downloads\\yolov10-main\\Fire-Detection-1\\test\\images\\middle_-283-_jpg.rf.4fa2e2669f1de6e0dac8fecad8873b43.jpg: 416x416 1 fire, 12.0ms\n",
      "image 771/1340 c:\\Users\\user\\Downloads\\yolov10-main\\Fire-Detection-1\\test\\images\\middle_-2837-_jpg.rf.5a78ba60fdaf50e3aab4e07aea764c39.jpg: 416x416 3 fires, 18.0ms\n",
      "image 772/1340 c:\\Users\\user\\Downloads\\yolov10-main\\Fire-Detection-1\\test\\images\\middle_-2849-_jpg.rf.ad803d80d1b506ed0c3d15234c75530d.jpg: 416x416 2 fires, 12.0ms\n",
      "image 773/1340 c:\\Users\\user\\Downloads\\yolov10-main\\Fire-Detection-1\\test\\images\\middle_-2858-_jpg.rf.b967d12c445e83caf663f52ddf215b09.jpg: 416x416 4 fires, 12.0ms\n",
      "image 774/1340 c:\\Users\\user\\Downloads\\yolov10-main\\Fire-Detection-1\\test\\images\\middle_-2859-_jpg.rf.869030020cbefbb225094392435e7006.jpg: 416x416 1 fire, 2 smokes, 13.0ms\n",
      "image 775/1340 c:\\Users\\user\\Downloads\\yolov10-main\\Fire-Detection-1\\test\\images\\middle_-288-_jpg.rf.6d0d4ef0ae7b6734561fb2a47ea2ba2d.jpg: 416x416 3 fires, 16.0ms\n",
      "image 776/1340 c:\\Users\\user\\Downloads\\yolov10-main\\Fire-Detection-1\\test\\images\\middle_-2882-_jpg.rf.972646a011930a10c7965cbde16b49c0.jpg: 416x416 1 fire, 18.1ms\n",
      "image 777/1340 c:\\Users\\user\\Downloads\\yolov10-main\\Fire-Detection-1\\test\\images\\middle_-2891-_jpg.rf.f2e9833fd33c7abb6fd60c9c1328c84e.jpg: 416x416 1 fire, 15.4ms\n",
      "image 778/1340 c:\\Users\\user\\Downloads\\yolov10-main\\Fire-Detection-1\\test\\images\\middle_-2903-_jpg.rf.3e5491defe22dd645e59ccdc34f550b6.jpg: 416x416 1 fire, 14.7ms\n",
      "image 779/1340 c:\\Users\\user\\Downloads\\yolov10-main\\Fire-Detection-1\\test\\images\\middle_-2911-_jpg.rf.187f2039138cef4905145718d1214cdf.jpg: 416x416 1 fire, 13.6ms\n",
      "image 780/1340 c:\\Users\\user\\Downloads\\yolov10-main\\Fire-Detection-1\\test\\images\\middle_-2914-_jpg.rf.d6ea2e60997400d2c5969cf01aca4d32.jpg: 416x416 1 fire, 1 smoke, 17.5ms\n",
      "image 781/1340 c:\\Users\\user\\Downloads\\yolov10-main\\Fire-Detection-1\\test\\images\\middle_-2920-_jpg.rf.188fb1cca87b632ee844a0b0e7132186.jpg: 416x416 3 fires, 14.0ms\n",
      "image 782/1340 c:\\Users\\user\\Downloads\\yolov10-main\\Fire-Detection-1\\test\\images\\middle_-2928-_jpg.rf.2f5974e913fcfb68e7539e2bbf5eb718.jpg: 416x416 1 fire, 18.0ms\n",
      "image 783/1340 c:\\Users\\user\\Downloads\\yolov10-main\\Fire-Detection-1\\test\\images\\middle_-2930-_jpg.rf.a14c735482aa28cbc3d14d6528172ab0.jpg: 416x416 1 fire, 16.0ms\n",
      "image 784/1340 c:\\Users\\user\\Downloads\\yolov10-main\\Fire-Detection-1\\test\\images\\middle_-2931-_jpg.rf.46ec17a3792877b9f90f942f8131c4d2.jpg: 416x416 2 fires, 17.0ms\n",
      "image 785/1340 c:\\Users\\user\\Downloads\\yolov10-main\\Fire-Detection-1\\test\\images\\middle_-2955-_jpg.rf.9c9229f0567e821c9368b8f3d71c0dd4.jpg: 416x416 1 fire, 17.0ms\n",
      "image 786/1340 c:\\Users\\user\\Downloads\\yolov10-main\\Fire-Detection-1\\test\\images\\middle_-297-_jpg.rf.c67b59c6ce588e808776bd2ba5814bfb.jpg: 416x416 2 fires, 17.0ms\n",
      "image 787/1340 c:\\Users\\user\\Downloads\\yolov10-main\\Fire-Detection-1\\test\\images\\middle_-2972-_jpg.rf.0f37537668b3c0f52f13010ef0158391.jpg: 416x416 3 fires, 15.0ms\n",
      "image 788/1340 c:\\Users\\user\\Downloads\\yolov10-main\\Fire-Detection-1\\test\\images\\middle_-2989-_jpg.rf.0dfb21650fa5d261bdfc2ddf9d87e53f.jpg: 416x416 1 fire, 12.0ms\n",
      "image 789/1340 c:\\Users\\user\\Downloads\\yolov10-main\\Fire-Detection-1\\test\\images\\middle_-2994-_jpg.rf.c29ac8c749b6cc40575e513c01e3352e.jpg: 416x416 (no detections), 12.0ms\n",
      "image 790/1340 c:\\Users\\user\\Downloads\\yolov10-main\\Fire-Detection-1\\test\\images\\middle_-2998-_jpg.rf.0b4d52d0356eca59fc1d45a787dd5d93.jpg: 416x416 1 fire, 18.0ms\n",
      "image 791/1340 c:\\Users\\user\\Downloads\\yolov10-main\\Fire-Detection-1\\test\\images\\middle_-2999-_jpg.rf.20c143f35fcf1848ee4203d0fcf020e0.jpg: 416x416 2 fires, 14.0ms\n",
      "image 792/1340 c:\\Users\\user\\Downloads\\yolov10-main\\Fire-Detection-1\\test\\images\\middle_-3-_jpg.rf.5944b009f440f241d0db2a2535855641.jpg: 416x416 1 fire, 18.0ms\n",
      "image 793/1340 c:\\Users\\user\\Downloads\\yolov10-main\\Fire-Detection-1\\test\\images\\middle_-3012-_jpg.rf.dac6e906de8e3fdf5d1dd33259a407ab.jpg: 416x416 2 fires, 15.0ms\n",
      "image 794/1340 c:\\Users\\user\\Downloads\\yolov10-main\\Fire-Detection-1\\test\\images\\middle_-3014-_jpg.rf.79a03d10d71912633baa3816f76f5845.jpg: 416x416 1 fire, 14.0ms\n",
      "image 795/1340 c:\\Users\\user\\Downloads\\yolov10-main\\Fire-Detection-1\\test\\images\\middle_-3019-_jpg.rf.745412a0a4f115c0d368db27f15fc731.jpg: 416x416 1 fire, 17.0ms\n",
      "image 796/1340 c:\\Users\\user\\Downloads\\yolov10-main\\Fire-Detection-1\\test\\images\\middle_-3020-_jpg.rf.30a9764e13635a51bf03e45434b32547.jpg: 416x416 1 fire, 12.0ms\n",
      "image 797/1340 c:\\Users\\user\\Downloads\\yolov10-main\\Fire-Detection-1\\test\\images\\middle_-3028-_jpg.rf.240984b97a670554caae4f891fecc3b8.jpg: 416x416 1 fire, 16.0ms\n",
      "image 798/1340 c:\\Users\\user\\Downloads\\yolov10-main\\Fire-Detection-1\\test\\images\\middle_-3031-_jpg.rf.e9f1aebc506ff5cc49497916ee8ad3b6.jpg: 416x416 2 fires, 12.0ms\n",
      "image 799/1340 c:\\Users\\user\\Downloads\\yolov10-main\\Fire-Detection-1\\test\\images\\middle_-3049-_jpg.rf.6c3852a7c000219024368ed46af4c932.jpg: 416x416 1 fire, 1 smoke, 13.0ms\n",
      "image 800/1340 c:\\Users\\user\\Downloads\\yolov10-main\\Fire-Detection-1\\test\\images\\middle_-306-_jpg.rf.4b339d2a3df5c8cb3818f4b71309c821.jpg: 416x416 1 fire, 1 smoke, 13.0ms\n",
      "image 801/1340 c:\\Users\\user\\Downloads\\yolov10-main\\Fire-Detection-1\\test\\images\\middle_-3066-_jpg.rf.6e4a7257f8877253cff2bf22afe2447e.jpg: 416x416 4 fires, 1 smoke, 12.0ms\n",
      "image 802/1340 c:\\Users\\user\\Downloads\\yolov10-main\\Fire-Detection-1\\test\\images\\middle_-307-_jpg.rf.a4d88188756ea2753c5974dff1720f1e.jpg: 416x416 1 fire, 1 smoke, 15.0ms\n",
      "image 803/1340 c:\\Users\\user\\Downloads\\yolov10-main\\Fire-Detection-1\\test\\images\\middle_-3073-_jpg.rf.c0bbd1f59b9a389f6caf229a4844eb4c.jpg: 416x416 1 fire, 11.0ms\n",
      "image 804/1340 c:\\Users\\user\\Downloads\\yolov10-main\\Fire-Detection-1\\test\\images\\middle_-3083-_jpg.rf.9935b75697af7111d43a40fd18fd90cb.jpg: 416x416 (no detections), 14.0ms\n",
      "image 805/1340 c:\\Users\\user\\Downloads\\yolov10-main\\Fire-Detection-1\\test\\images\\middle_-3088-_jpg.rf.47e458482c9aeb393d883377061cf5c9.jpg: 416x416 (no detections), 11.0ms\n",
      "image 806/1340 c:\\Users\\user\\Downloads\\yolov10-main\\Fire-Detection-1\\test\\images\\middle_-3091-_jpg.rf.774862cd86d2991b23c6d36051e05df9.jpg: 416x416 1 fire, 16.0ms\n",
      "image 807/1340 c:\\Users\\user\\Downloads\\yolov10-main\\Fire-Detection-1\\test\\images\\middle_-31-_jpg.rf.786fc2b040ac9c9ad65182a19910d353.jpg: 416x416 1 fire, 17.0ms\n",
      "image 808/1340 c:\\Users\\user\\Downloads\\yolov10-main\\Fire-Detection-1\\test\\images\\middle_-310-_jpg.rf.bea43982044c4ec95542868cbeebbefa.jpg: 416x416 1 fire, 1 smoke, 14.0ms\n",
      "image 809/1340 c:\\Users\\user\\Downloads\\yolov10-main\\Fire-Detection-1\\test\\images\\middle_-3102-_jpg.rf.b5f38225a1bdc580f1c26a0123b32c20.jpg: 416x416 1 fire, 26.0ms\n",
      "image 810/1340 c:\\Users\\user\\Downloads\\yolov10-main\\Fire-Detection-1\\test\\images\\middle_-311-_jpg.rf.45188c22b85a7caf4ca293c97895978e.jpg: 416x416 1 fire, 12.0ms\n",
      "image 811/1340 c:\\Users\\user\\Downloads\\yolov10-main\\Fire-Detection-1\\test\\images\\middle_-3121-_jpg.rf.4af68b3e496adca7183949f70333ca94.jpg: 416x416 (no detections), 12.0ms\n",
      "image 812/1340 c:\\Users\\user\\Downloads\\yolov10-main\\Fire-Detection-1\\test\\images\\middle_-3123-_jpg.rf.f333ef10c6e7ebbde48f0268094f431f.jpg: 416x416 1 fire, 17.0ms\n",
      "image 813/1340 c:\\Users\\user\\Downloads\\yolov10-main\\Fire-Detection-1\\test\\images\\middle_-3124-_jpg.rf.cf6a11a131e1aebf394bc4e71d7e407c.jpg: 416x416 2 fires, 13.0ms\n",
      "image 814/1340 c:\\Users\\user\\Downloads\\yolov10-main\\Fire-Detection-1\\test\\images\\middle_-3125-_jpg.rf.7e95a36f588ebf1d9110044487fce1e5.jpg: 416x416 2 fires, 16.0ms\n",
      "image 815/1340 c:\\Users\\user\\Downloads\\yolov10-main\\Fire-Detection-1\\test\\images\\middle_-313-_jpg.rf.e942c104e368e4ec1f58f99e0fcea022.jpg: 416x416 3 fires, 1 smoke, 12.0ms\n",
      "image 816/1340 c:\\Users\\user\\Downloads\\yolov10-main\\Fire-Detection-1\\test\\images\\middle_-3132-_jpg.rf.7ded162b6bd91105baea6adec7f347c6.jpg: 416x416 1 fire, 2 smokes, 11.0ms\n",
      "image 817/1340 c:\\Users\\user\\Downloads\\yolov10-main\\Fire-Detection-1\\test\\images\\middle_-3134-_jpg.rf.761051b48a7e8963e2da711ca3fd3409.jpg: 416x416 1 smoke, 15.0ms\n",
      "image 818/1340 c:\\Users\\user\\Downloads\\yolov10-main\\Fire-Detection-1\\test\\images\\middle_-315-_jpg.rf.4cb28a2aceaa004bdc162c2c3ab9e9e3.jpg: 416x416 1 fire, 15.0ms\n",
      "image 819/1340 c:\\Users\\user\\Downloads\\yolov10-main\\Fire-Detection-1\\test\\images\\middle_-3150-_jpg.rf.eb51d0d17dfeb8ecb44121f46ea27ec0.jpg: 416x416 1 fire, 17.0ms\n",
      "image 820/1340 c:\\Users\\user\\Downloads\\yolov10-main\\Fire-Detection-1\\test\\images\\middle_-3157-_jpg.rf.a560a92254c341f9a10000cde2cc699d.jpg: 416x416 (no detections), 13.0ms\n",
      "image 821/1340 c:\\Users\\user\\Downloads\\yolov10-main\\Fire-Detection-1\\test\\images\\middle_-317-_jpg.rf.4a62b4fb7636a0235814b60e71f6694b.jpg: 416x416 1 fire, 12.0ms\n",
      "image 822/1340 c:\\Users\\user\\Downloads\\yolov10-main\\Fire-Detection-1\\test\\images\\middle_-3184-_jpg.rf.91e659054b34c74d3475ddabb8ef24e0.jpg: 416x416 2 fires, 16.0ms\n",
      "image 823/1340 c:\\Users\\user\\Downloads\\yolov10-main\\Fire-Detection-1\\test\\images\\middle_-3185-_jpg.rf.6f2c42e290a0aef8e97f62ace244e446.jpg: 416x416 1 fire, 1 smoke, 18.0ms\n",
      "image 824/1340 c:\\Users\\user\\Downloads\\yolov10-main\\Fire-Detection-1\\test\\images\\middle_-3188-_jpg.rf.ffc5c4990001b88a2c9ef4a5beb39454.jpg: 416x416 2 fires, 18.0ms\n",
      "image 825/1340 c:\\Users\\user\\Downloads\\yolov10-main\\Fire-Detection-1\\test\\images\\middle_-319-_jpg.rf.a8cff64617cc34250eb2ec8d1e918c53.jpg: 416x416 1 fire, 13.0ms\n",
      "image 826/1340 c:\\Users\\user\\Downloads\\yolov10-main\\Fire-Detection-1\\test\\images\\middle_-3197-_jpg.rf.a46451376e5b4a3255b6051a8f643385.jpg: 416x416 1 fire, 16.0ms\n",
      "image 827/1340 c:\\Users\\user\\Downloads\\yolov10-main\\Fire-Detection-1\\test\\images\\middle_-3198-_jpg.rf.79f73d60f51d797789a3ced98b1cf47a.jpg: 416x416 1 fire, 17.0ms\n",
      "image 828/1340 c:\\Users\\user\\Downloads\\yolov10-main\\Fire-Detection-1\\test\\images\\middle_-3199-_jpg.rf.665d0490307359fe182f6f3e1fbe3e83.jpg: 416x416 1 fire, 16.0ms\n",
      "image 829/1340 c:\\Users\\user\\Downloads\\yolov10-main\\Fire-Detection-1\\test\\images\\middle_-3206-_jpg.rf.1b08b5684da98c43fc943024871544ea.jpg: 416x416 1 fire, 14.0ms\n",
      "image 830/1340 c:\\Users\\user\\Downloads\\yolov10-main\\Fire-Detection-1\\test\\images\\middle_-3234-_jpg.rf.243659f47e08cfdda8e32f4d3de3d82d.jpg: 416x416 1 fire, 19.0ms\n",
      "image 831/1340 c:\\Users\\user\\Downloads\\yolov10-main\\Fire-Detection-1\\test\\images\\middle_-3248-_jpg.rf.9f8796282c11c6429e6dc21388d0335d.jpg: 416x416 1 fire, 12.0ms\n",
      "image 832/1340 c:\\Users\\user\\Downloads\\yolov10-main\\Fire-Detection-1\\test\\images\\middle_-3250-_jpg.rf.5f4747afe8160077b2d2ee69febb75e5.jpg: 416x416 1 fire, 18.0ms\n",
      "image 833/1340 c:\\Users\\user\\Downloads\\yolov10-main\\Fire-Detection-1\\test\\images\\middle_-3255-_jpg.rf.42772494a924788d31288ed5d9191ef9.jpg: 416x416 1 fire, 12.0ms\n",
      "image 834/1340 c:\\Users\\user\\Downloads\\yolov10-main\\Fire-Detection-1\\test\\images\\middle_-3256-_jpg.rf.ad1de690aa08d2281ae5efb0e0c6015e.jpg: 416x416 1 fire, 18.0ms\n",
      "image 835/1340 c:\\Users\\user\\Downloads\\yolov10-main\\Fire-Detection-1\\test\\images\\middle_-3257-_jpg.rf.8865f4a15aa58b54e9a2e4cc9d906558.jpg: 416x416 1 fire, 12.0ms\n",
      "image 836/1340 c:\\Users\\user\\Downloads\\yolov10-main\\Fire-Detection-1\\test\\images\\middle_-3260-_jpg.rf.0c0d0221b8c88af52240cae41b288dc4.jpg: 416x416 3 fires, 14.0ms\n",
      "image 837/1340 c:\\Users\\user\\Downloads\\yolov10-main\\Fire-Detection-1\\test\\images\\middle_-3261-_jpg.rf.40abb75bbcd790219d83f6d2c952ccaf.jpg: 416x416 1 fire, 19.0ms\n",
      "image 838/1340 c:\\Users\\user\\Downloads\\yolov10-main\\Fire-Detection-1\\test\\images\\middle_-3298-_jpg.rf.8a5e5ad95cc51f3d2c7bdf04519c417e.jpg: 416x416 2 fires, 2 smokes, 14.0ms\n",
      "image 839/1340 c:\\Users\\user\\Downloads\\yolov10-main\\Fire-Detection-1\\test\\images\\middle_-3299-_jpg.rf.87f2a3a52e1211498091f9001d92a15f.jpg: 416x416 1 fire, 1 smoke, 12.0ms\n",
      "image 840/1340 c:\\Users\\user\\Downloads\\yolov10-main\\Fire-Detection-1\\test\\images\\middle_-3302-_jpg.rf.cc5c960ec2398750249bd8103b40a330.jpg: 416x416 1 fire, 1 smoke, 17.0ms\n",
      "image 841/1340 c:\\Users\\user\\Downloads\\yolov10-main\\Fire-Detection-1\\test\\images\\middle_-3306-_jpg.rf.f346a5608948deba5447de9bcf5cad34.jpg: 416x416 2 fires, 1 smoke, 16.0ms\n",
      "image 842/1340 c:\\Users\\user\\Downloads\\yolov10-main\\Fire-Detection-1\\test\\images\\middle_-331-_jpg.rf.db207c8f893276671259d3f8bfc240dc.jpg: 416x416 1 fire, 13.0ms\n",
      "image 843/1340 c:\\Users\\user\\Downloads\\yolov10-main\\Fire-Detection-1\\test\\images\\middle_-3314-_jpg.rf.14ed07fa6e99baa9a14ee4f51c6a6f9d.jpg: 416x416 1 fire, 1 smoke, 16.0ms\n",
      "image 844/1340 c:\\Users\\user\\Downloads\\yolov10-main\\Fire-Detection-1\\test\\images\\middle_-332-_jpg.rf.0e55117fee4815a676c973684860d9d2.jpg: 416x416 1 fire, 16.0ms\n",
      "image 845/1340 c:\\Users\\user\\Downloads\\yolov10-main\\Fire-Detection-1\\test\\images\\middle_-3321-_jpg.rf.758583ff950f8e61594149727b8f0aa9.jpg: 416x416 1 fire, 1 smoke, 18.0ms\n",
      "image 846/1340 c:\\Users\\user\\Downloads\\yolov10-main\\Fire-Detection-1\\test\\images\\middle_-3334-_jpg.rf.4d67fdd092b0c4f5385c001a4b93737c.jpg: 416x416 1 fire, 1 smoke, 16.0ms\n",
      "image 847/1340 c:\\Users\\user\\Downloads\\yolov10-main\\Fire-Detection-1\\test\\images\\middle_-3335-_jpg.rf.a0b831a86cf914f6745dea773732e5f4.jpg: 416x416 1 fire, 12.0ms\n",
      "image 848/1340 c:\\Users\\user\\Downloads\\yolov10-main\\Fire-Detection-1\\test\\images\\middle_-3336-_jpg.rf.d2b47eaa74754d4b815f640236039814.jpg: 416x416 1 fire, 1 smoke, 12.0ms\n",
      "image 849/1340 c:\\Users\\user\\Downloads\\yolov10-main\\Fire-Detection-1\\test\\images\\middle_-3350-_jpg.rf.6f8261e7461f1eba35f2a5ed0aa47847.jpg: 416x416 1 fire, 14.0ms\n",
      "image 850/1340 c:\\Users\\user\\Downloads\\yolov10-main\\Fire-Detection-1\\test\\images\\middle_-3352-_jpg.rf.818fe291c905e3728896083f09a81387.jpg: 416x416 2 fires, 1 smoke, 15.0ms\n",
      "image 851/1340 c:\\Users\\user\\Downloads\\yolov10-main\\Fire-Detection-1\\test\\images\\middle_-3353-_jpg.rf.1e6da588646a01107d5dec6f838298f2.jpg: 416x416 1 fire, 12.0ms\n",
      "image 852/1340 c:\\Users\\user\\Downloads\\yolov10-main\\Fire-Detection-1\\test\\images\\middle_-3365-_jpg.rf.5010f5922d6cf413a9ef86c9738cb9a3.jpg: 416x416 1 fire, 1 smoke, 14.0ms\n",
      "image 853/1340 c:\\Users\\user\\Downloads\\yolov10-main\\Fire-Detection-1\\test\\images\\middle_-3370-_jpg.rf.163f9d8d99b33d73c5d376d5cd6f2c36.jpg: 416x416 1 fire, 1 smoke, 11.0ms\n",
      "image 854/1340 c:\\Users\\user\\Downloads\\yolov10-main\\Fire-Detection-1\\test\\images\\middle_-3379-_jpg.rf.785d8ee87efd91fc6b212ee6beb8bbb1.jpg: 416x416 1 fire, 1 smoke, 16.0ms\n",
      "image 855/1340 c:\\Users\\user\\Downloads\\yolov10-main\\Fire-Detection-1\\test\\images\\middle_-3386-_jpg.rf.7e92031dc6d456c5028fc0bcca513997.jpg: 416x416 1 fire, 1 smoke, 12.0ms\n",
      "image 856/1340 c:\\Users\\user\\Downloads\\yolov10-main\\Fire-Detection-1\\test\\images\\middle_-3387-_jpg.rf.c57c0c21066151b07c8abfa327b3b165.jpg: 416x416 1 fire, 12.0ms\n",
      "image 857/1340 c:\\Users\\user\\Downloads\\yolov10-main\\Fire-Detection-1\\test\\images\\middle_-3388-_jpg.rf.515eba7f6e6d32045829f85b1c56176a.jpg: 416x416 1 fire, 13.0ms\n",
      "image 858/1340 c:\\Users\\user\\Downloads\\yolov10-main\\Fire-Detection-1\\test\\images\\middle_-3396-_jpg.rf.2ae258e9a5fff4536f531d275274a583.jpg: 416x416 1 fire, 12.0ms\n",
      "image 859/1340 c:\\Users\\user\\Downloads\\yolov10-main\\Fire-Detection-1\\test\\images\\middle_-34-_jpg.rf.726005d8cca0eff9e00b8fa683bbae8f.jpg: 416x416 1 fire, 14.0ms\n",
      "image 860/1340 c:\\Users\\user\\Downloads\\yolov10-main\\Fire-Detection-1\\test\\images\\middle_-340-_jpg.rf.9b28b0ff3ecd9010e3d8d42495660d22.jpg: 416x416 1 fire, 2 smokes, 14.0ms\n",
      "image 861/1340 c:\\Users\\user\\Downloads\\yolov10-main\\Fire-Detection-1\\test\\images\\middle_-3405-_jpg.rf.00481f92463b44bc6b15f9a2decf3f82.jpg: 416x416 (no detections), 13.0ms\n",
      "image 862/1340 c:\\Users\\user\\Downloads\\yolov10-main\\Fire-Detection-1\\test\\images\\middle_-3425-_jpg.rf.5eae33fb093a9e5ad79534e094bb5dc8.jpg: 416x416 2 fires, 1 smoke, 17.0ms\n",
      "image 863/1340 c:\\Users\\user\\Downloads\\yolov10-main\\Fire-Detection-1\\test\\images\\middle_-3434-_jpg.rf.b7fe246391526320c81677f7d28f53da.jpg: 416x416 1 fire, 14.0ms\n",
      "image 864/1340 c:\\Users\\user\\Downloads\\yolov10-main\\Fire-Detection-1\\test\\images\\middle_-3441-_jpg.rf.5cae0c188b595ee6bbcd49113b7eadef.jpg: 416x416 1 fire, 18.0ms\n",
      "image 865/1340 c:\\Users\\user\\Downloads\\yolov10-main\\Fire-Detection-1\\test\\images\\middle_-345-_jpg.rf.2a56ec5c983fbd7548774d6ef464a909.jpg: 416x416 1 fire, 12.0ms\n",
      "image 866/1340 c:\\Users\\user\\Downloads\\yolov10-main\\Fire-Detection-1\\test\\images\\middle_-3453-_jpg.rf.4e908ea0b04865fab1866c7d12238290.jpg: 416x416 (no detections), 11.0ms\n",
      "image 867/1340 c:\\Users\\user\\Downloads\\yolov10-main\\Fire-Detection-1\\test\\images\\middle_-3456-_jpg.rf.a3780b2a50ae47d88daabb74d742cadd.jpg: 416x416 1 smoke, 13.0ms\n",
      "image 868/1340 c:\\Users\\user\\Downloads\\yolov10-main\\Fire-Detection-1\\test\\images\\middle_-3464-_jpg.rf.d17e75cc146d3b2e167cde5e12db1144.jpg: 416x416 1 fire, 1 smoke, 16.0ms\n",
      "image 869/1340 c:\\Users\\user\\Downloads\\yolov10-main\\Fire-Detection-1\\test\\images\\middle_-3477-_jpg.rf.c1349b43e7a06ad2fb73fc315367bbed.jpg: 416x416 1 fire, 14.0ms\n",
      "image 870/1340 c:\\Users\\user\\Downloads\\yolov10-main\\Fire-Detection-1\\test\\images\\middle_-3481-_jpg.rf.bca497bac5aed4265d62180595db7645.jpg: 416x416 1 fire, 1 smoke, 13.0ms\n",
      "image 871/1340 c:\\Users\\user\\Downloads\\yolov10-main\\Fire-Detection-1\\test\\images\\middle_-3492-_jpg.rf.fe0b23378079846bb846e2f70fed99e4.jpg: 416x416 1 fire, 1 smoke, 14.0ms\n",
      "image 872/1340 c:\\Users\\user\\Downloads\\yolov10-main\\Fire-Detection-1\\test\\images\\middle_-3497-_jpg.rf.1cc157f9636611442e03239ffb4678fc.jpg: 416x416 1 fire, 1 smoke, 18.0ms\n",
      "image 873/1340 c:\\Users\\user\\Downloads\\yolov10-main\\Fire-Detection-1\\test\\images\\middle_-3503-_jpg.rf.cfab978ed655bc0896375077b4375019.jpg: 416x416 1 fire, 15.0ms\n",
      "image 874/1340 c:\\Users\\user\\Downloads\\yolov10-main\\Fire-Detection-1\\test\\images\\middle_-3508-_jpg.rf.1d602011e01e7e92bef71c4f4941328d.jpg: 416x416 2 fires, 1 smoke, 14.0ms\n",
      "image 875/1340 c:\\Users\\user\\Downloads\\yolov10-main\\Fire-Detection-1\\test\\images\\middle_-3511-_jpg.rf.7aceeb2a1675a4f6ddf5d6715202dccc.jpg: 416x416 1 fire, 1 smoke, 13.0ms\n",
      "image 876/1340 c:\\Users\\user\\Downloads\\yolov10-main\\Fire-Detection-1\\test\\images\\middle_-3512-_jpg.rf.bc4e1bebe9782ab7b3c8826c3e2a860f.jpg: 416x416 (no detections), 18.0ms\n",
      "image 877/1340 c:\\Users\\user\\Downloads\\yolov10-main\\Fire-Detection-1\\test\\images\\middle_-3521-_jpg.rf.5eba3a36ccfa2fc3892a6336cbf1ea17.jpg: 416x416 5 fires, 17.0ms\n",
      "image 878/1340 c:\\Users\\user\\Downloads\\yolov10-main\\Fire-Detection-1\\test\\images\\middle_-3530-_jpg.rf.35f17a48195a95e1b98ba0e2747fa91f.jpg: 416x416 (no detections), 17.0ms\n",
      "image 879/1340 c:\\Users\\user\\Downloads\\yolov10-main\\Fire-Detection-1\\test\\images\\middle_-3537-_jpg.rf.9dea0afac4c154cbb8711bb7637bd4e4.jpg: 416x416 4 fires, 18.0ms\n",
      "image 880/1340 c:\\Users\\user\\Downloads\\yolov10-main\\Fire-Detection-1\\test\\images\\middle_-3545-_jpg.rf.5883996865088b5d2bd845234e21e4c7.jpg: 416x416 2 fires, 17.2ms\n",
      "image 881/1340 c:\\Users\\user\\Downloads\\yolov10-main\\Fire-Detection-1\\test\\images\\middle_-355-_jpg.rf.3a4d7f02341dfa981d866d6c7259c5fb.jpg: 416x416 4 fires, 1 smoke, 12.7ms\n",
      "image 882/1340 c:\\Users\\user\\Downloads\\yolov10-main\\Fire-Detection-1\\test\\images\\middle_-3550-_jpg.rf.4f7f5f792fbf17a76db014785d2b31cd.jpg: 416x416 3 fires, 20.5ms\n",
      "image 883/1340 c:\\Users\\user\\Downloads\\yolov10-main\\Fire-Detection-1\\test\\images\\middle_-3551-_jpg.rf.077ae587316d02b1804c6df4d8d6aeba.jpg: 416x416 1 fire, 1 smoke, 16.0ms\n",
      "image 884/1340 c:\\Users\\user\\Downloads\\yolov10-main\\Fire-Detection-1\\test\\images\\middle_-3554-_jpg.rf.22b26a3b10c975a57e6fc15947d3fe6b.jpg: 416x416 3 fires, 13.6ms\n",
      "image 885/1340 c:\\Users\\user\\Downloads\\yolov10-main\\Fire-Detection-1\\test\\images\\middle_-3559-_jpg.rf.00e967ccb92c2082855d3253a25930a9.jpg: 416x416 1 smoke, 11.1ms\n",
      "image 886/1340 c:\\Users\\user\\Downloads\\yolov10-main\\Fire-Detection-1\\test\\images\\middle_-3569-_jpg.rf.ada5cdccb0e45a90568ab6730fe1b327.jpg: 416x416 2 fires, 1 smoke, 17.0ms\n",
      "image 887/1340 c:\\Users\\user\\Downloads\\yolov10-main\\Fire-Detection-1\\test\\images\\middle_-3575-_jpg.rf.218659873c3659511c33d6d6301b0af4.jpg: 416x416 2 fires, 1 smoke, 15.0ms\n",
      "image 888/1340 c:\\Users\\user\\Downloads\\yolov10-main\\Fire-Detection-1\\test\\images\\middle_-3578-_jpg.rf.fb3cc2c3ca70ea9a9b94b970a04dbd56.jpg: 416x416 2 fires, 12.0ms\n",
      "image 889/1340 c:\\Users\\user\\Downloads\\yolov10-main\\Fire-Detection-1\\test\\images\\middle_-3579-_jpg.rf.9ee70eeefbf7c9bfe830b6bf451fe525.jpg: 416x416 (no detections), 12.0ms\n",
      "image 890/1340 c:\\Users\\user\\Downloads\\yolov10-main\\Fire-Detection-1\\test\\images\\middle_-358-_jpg.rf.909a10f01b89bbb471b3b41cfc631a5b.jpg: 416x416 2 fires, 1 smoke, 13.0ms\n",
      "image 891/1340 c:\\Users\\user\\Downloads\\yolov10-main\\Fire-Detection-1\\test\\images\\middle_-3585-_jpg.rf.aeada0ba6eae0757adca1f578f6127e8.jpg: 416x416 3 fires, 2 smokes, 12.0ms\n",
      "image 892/1340 c:\\Users\\user\\Downloads\\yolov10-main\\Fire-Detection-1\\test\\images\\middle_-3588-_jpg.rf.a88cf0138e3ab1d5a7c43f9168f279af.jpg: 416x416 2 fires, 14.0ms\n",
      "image 893/1340 c:\\Users\\user\\Downloads\\yolov10-main\\Fire-Detection-1\\test\\images\\middle_-3599-_jpg.rf.3c57f829dc98f3dc17818f49d7c9064b.jpg: 416x416 3 fires, 1 smoke, 15.0ms\n",
      "image 894/1340 c:\\Users\\user\\Downloads\\yolov10-main\\Fire-Detection-1\\test\\images\\middle_-3609-_jpg.rf.2951c2aa66ac7a87ac46a58e86faf608.jpg: 416x416 4 fires, 11.0ms\n",
      "image 895/1340 c:\\Users\\user\\Downloads\\yolov10-main\\Fire-Detection-1\\test\\images\\middle_-3613-_jpg.rf.840d8fd4c64cb8a051dd4c6de11325e5.jpg: 416x416 4 fires, 12.0ms\n",
      "image 896/1340 c:\\Users\\user\\Downloads\\yolov10-main\\Fire-Detection-1\\test\\images\\middle_-3614-_jpg.rf.468e35103dd9bb72c56e61643522f56f.jpg: 416x416 2 fires, 2 smokes, 17.0ms\n",
      "image 897/1340 c:\\Users\\user\\Downloads\\yolov10-main\\Fire-Detection-1\\test\\images\\middle_-3619-_jpg.rf.8cf8366ef35f3ada60b029778afde0fa.jpg: 416x416 1 fire, 13.0ms\n",
      "image 898/1340 c:\\Users\\user\\Downloads\\yolov10-main\\Fire-Detection-1\\test\\images\\middle_-362-_jpg.rf.341f8a03eb006254e864ef61c72e2bc4.jpg: 416x416 1 fire, 1 smoke, 12.0ms\n",
      "image 899/1340 c:\\Users\\user\\Downloads\\yolov10-main\\Fire-Detection-1\\test\\images\\middle_-3628-_jpg.rf.edd1b97ab946b593adae747a99dbef8b.jpg: 416x416 1 fire, 1 smoke, 13.0ms\n",
      "image 900/1340 c:\\Users\\user\\Downloads\\yolov10-main\\Fire-Detection-1\\test\\images\\middle_-3635-_jpg.rf.3dd4186f126cd948a9100be024e81a09.jpg: 416x416 2 fires, 12.0ms\n",
      "image 901/1340 c:\\Users\\user\\Downloads\\yolov10-main\\Fire-Detection-1\\test\\images\\middle_-3648-_jpg.rf.a1f3b8b58435d49555657392dd850dbb.jpg: 416x416 1 fire, 15.0ms\n",
      "image 902/1340 c:\\Users\\user\\Downloads\\yolov10-main\\Fire-Detection-1\\test\\images\\middle_-3660-_jpg.rf.9d6c3b4fbb7a45b4e6b742fa4d5f6218.jpg: 416x416 1 fire, 1 smoke, 27.0ms\n",
      "image 903/1340 c:\\Users\\user\\Downloads\\yolov10-main\\Fire-Detection-1\\test\\images\\middle_-3661-_jpg.rf.ffdcc70f3bc0221b1b18a3001f1b7890.jpg: 416x416 2 fires, 16.0ms\n",
      "image 904/1340 c:\\Users\\user\\Downloads\\yolov10-main\\Fire-Detection-1\\test\\images\\middle_-368-_jpg.rf.93a8ab03c2eed623d8469911a14ab7a8.jpg: 416x416 3 fires, 1 smoke, 11.0ms\n",
      "image 905/1340 c:\\Users\\user\\Downloads\\yolov10-main\\Fire-Detection-1\\test\\images\\middle_-3692-_jpg.rf.9d1d76cdf673311e929cce576363b2ad.jpg: 416x416 1 fire, 18.0ms\n",
      "image 906/1340 c:\\Users\\user\\Downloads\\yolov10-main\\Fire-Detection-1\\test\\images\\middle_-3705-_jpg.rf.612ebdff1179471f48c2bf794672e968.jpg: 416x416 1 fire, 16.0ms\n",
      "image 907/1340 c:\\Users\\user\\Downloads\\yolov10-main\\Fire-Detection-1\\test\\images\\middle_-3716-_jpg.rf.c840ed456c788a3cc48c23d7c01a6ada.jpg: 416x416 2 fires, 11.0ms\n",
      "image 908/1340 c:\\Users\\user\\Downloads\\yolov10-main\\Fire-Detection-1\\test\\images\\middle_-3718-_jpg.rf.f9d2d2b31f5be11a19b2c774e135161f.jpg: 416x416 1 fire, 1 smoke, 16.0ms\n",
      "image 909/1340 c:\\Users\\user\\Downloads\\yolov10-main\\Fire-Detection-1\\test\\images\\middle_-3728-_jpg.rf.b6bd4a4d79936b8271c095e86d3d795f.jpg: 416x416 1 fire, 17.0ms\n",
      "image 910/1340 c:\\Users\\user\\Downloads\\yolov10-main\\Fire-Detection-1\\test\\images\\middle_-3735-_jpg.rf.7852e488cf9a7f2e863081e1b2f54adc.jpg: 416x416 1 fire, 15.0ms\n",
      "image 911/1340 c:\\Users\\user\\Downloads\\yolov10-main\\Fire-Detection-1\\test\\images\\middle_-3739-_jpg.rf.836a96687582ab0eb2d5725e49392255.jpg: 416x416 2 fires, 14.0ms\n",
      "image 912/1340 c:\\Users\\user\\Downloads\\yolov10-main\\Fire-Detection-1\\test\\images\\middle_-3742-_jpg.rf.4029527a7bb7ca9e10c9c1cc4de4517c.jpg: 416x416 2 fires, 1 smoke, 12.0ms\n",
      "image 913/1340 c:\\Users\\user\\Downloads\\yolov10-main\\Fire-Detection-1\\test\\images\\middle_-3763-_jpg.rf.de48d84f27d20426a1dfdf98d30c2596.jpg: 416x416 1 fire, 2 smokes, 19.0ms\n",
      "image 914/1340 c:\\Users\\user\\Downloads\\yolov10-main\\Fire-Detection-1\\test\\images\\middle_-3782-_jpg.rf.b1f0dd6ea366ce3ca983dc91b7b8fc6b.jpg: 416x416 1 fire, 12.0ms\n",
      "image 915/1340 c:\\Users\\user\\Downloads\\yolov10-main\\Fire-Detection-1\\test\\images\\middle_-3787-_jpg.rf.32db02642d8e43e651b2a11c65cf90f0.jpg: 416x416 1 fire, 1 smoke, 18.0ms\n",
      "image 916/1340 c:\\Users\\user\\Downloads\\yolov10-main\\Fire-Detection-1\\test\\images\\middle_-3798-_jpg.rf.49b3d6080295de61b39cc6ba03674a04.jpg: 416x416 1 fire, 17.0ms\n",
      "image 917/1340 c:\\Users\\user\\Downloads\\yolov10-main\\Fire-Detection-1\\test\\images\\middle_-3804-_jpg.rf.d465813213e92f63852a49a03cd0fe7a.jpg: 416x416 1 fire, 18.0ms\n",
      "image 918/1340 c:\\Users\\user\\Downloads\\yolov10-main\\Fire-Detection-1\\test\\images\\middle_-3810-_jpg.rf.af9e144b49258ac2ad394c4a72520da7.jpg: 416x416 1 fire, 1 smoke, 11.0ms\n",
      "image 919/1340 c:\\Users\\user\\Downloads\\yolov10-main\\Fire-Detection-1\\test\\images\\middle_-3826-_jpg.rf.9206ff8258915b860aca2a7b18c901a1.jpg: 416x416 1 fire, 2 smokes, 15.0ms\n",
      "image 920/1340 c:\\Users\\user\\Downloads\\yolov10-main\\Fire-Detection-1\\test\\images\\middle_-3835-_jpg.rf.d1cc01c5ef73627c4c5ac3f5c74b0e7a.jpg: 416x416 1 fire, 12.0ms\n",
      "image 921/1340 c:\\Users\\user\\Downloads\\yolov10-main\\Fire-Detection-1\\test\\images\\middle_-385-_jpg.rf.7e35d0c83fe552629220c3f196caa6e3.jpg: 416x416 4 fires, 17.0ms\n",
      "image 922/1340 c:\\Users\\user\\Downloads\\yolov10-main\\Fire-Detection-1\\test\\images\\middle_-3855-_jpg.rf.d83dce264de4c17a4103d7621b0d7567.jpg: 416x416 1 fire, 1 smoke, 17.0ms\n",
      "image 923/1340 c:\\Users\\user\\Downloads\\yolov10-main\\Fire-Detection-1\\test\\images\\middle_-3858-_jpg.rf.7cb5b4422fe4cefdbf61e9eb09083965.jpg: 416x416 1 fire, 1 smoke, 26.0ms\n",
      "image 924/1340 c:\\Users\\user\\Downloads\\yolov10-main\\Fire-Detection-1\\test\\images\\middle_-386-_jpg.rf.0275e0b3b03278fbbc4040922a543a1f.jpg: 416x416 1 fire, 17.0ms\n",
      "image 925/1340 c:\\Users\\user\\Downloads\\yolov10-main\\Fire-Detection-1\\test\\images\\middle_-3867-_jpg.rf.6a6e2ad353650c84199a01113fe10f4f.jpg: 416x416 3 smokes, 15.0ms\n",
      "image 926/1340 c:\\Users\\user\\Downloads\\yolov10-main\\Fire-Detection-1\\test\\images\\middle_-3883-_jpg.rf.008a5a9c11c3d585b347ea87ba08bcad.jpg: 416x416 1 fire, 1 smoke, 15.0ms\n",
      "image 927/1340 c:\\Users\\user\\Downloads\\yolov10-main\\Fire-Detection-1\\test\\images\\middle_-3896-_jpg.rf.a333cc37dee2e4203e918147580227ef.jpg: 416x416 (no detections), 12.0ms\n",
      "image 928/1340 c:\\Users\\user\\Downloads\\yolov10-main\\Fire-Detection-1\\test\\images\\middle_-3900-_jpg.rf.ee6a99170b60d26d51595110ddb56790.jpg: 416x416 1 fire, 1 smoke, 13.0ms\n",
      "image 929/1340 c:\\Users\\user\\Downloads\\yolov10-main\\Fire-Detection-1\\test\\images\\middle_-3904-_jpg.rf.d307d8fc3e46a0d1356b65beb3545f3d.jpg: 416x416 3 fires, 2 smokes, 12.0ms\n",
      "image 930/1340 c:\\Users\\user\\Downloads\\yolov10-main\\Fire-Detection-1\\test\\images\\middle_-3909-_jpg.rf.efaae2c0aa89039f19be9ca51eedf044.jpg: 416x416 1 fire, 12.0ms\n",
      "image 931/1340 c:\\Users\\user\\Downloads\\yolov10-main\\Fire-Detection-1\\test\\images\\middle_-3922-_jpg.rf.c809a729190677f8c698e34c168b7262.jpg: 416x416 2 fires, 12.0ms\n",
      "image 932/1340 c:\\Users\\user\\Downloads\\yolov10-main\\Fire-Detection-1\\test\\images\\middle_-3928-_jpg.rf.ba866f02ce851d8a07a8a45bc4d1e209.jpg: 416x416 4 fires, 1 smoke, 12.0ms\n",
      "image 933/1340 c:\\Users\\user\\Downloads\\yolov10-main\\Fire-Detection-1\\test\\images\\middle_-3935-_jpg.rf.8b3b2d22b87dd6c90b7e1f0919398be0.jpg: 416x416 2 fires, 1 smoke, 13.0ms\n",
      "image 934/1340 c:\\Users\\user\\Downloads\\yolov10-main\\Fire-Detection-1\\test\\images\\middle_-3941-_jpg.rf.da585467ebc91997d379966e44479bf4.jpg: 416x416 2 fires, 1 smoke, 17.0ms\n",
      "image 935/1340 c:\\Users\\user\\Downloads\\yolov10-main\\Fire-Detection-1\\test\\images\\middle_-3943-_jpg.rf.177e2fe5a75ec45aee05179e4ae6412a.jpg: 416x416 3 fires, 2 smokes, 12.0ms\n",
      "image 936/1340 c:\\Users\\user\\Downloads\\yolov10-main\\Fire-Detection-1\\test\\images\\middle_-396-_jpg.rf.794648d64d57eb7873c300e437afcd6b.jpg: 416x416 1 smoke, 14.0ms\n",
      "image 937/1340 c:\\Users\\user\\Downloads\\yolov10-main\\Fire-Detection-1\\test\\images\\middle_-3960-_jpg.rf.88f83e827a11f5591872c549a395059b.jpg: 416x416 3 fires, 1 smoke, 13.0ms\n",
      "image 938/1340 c:\\Users\\user\\Downloads\\yolov10-main\\Fire-Detection-1\\test\\images\\middle_-3972-_jpg.rf.a8b65a88ce427f8fbffe35a57c9f468d.jpg: 416x416 2 fires, 12.0ms\n",
      "image 939/1340 c:\\Users\\user\\Downloads\\yolov10-main\\Fire-Detection-1\\test\\images\\middle_-3973-_jpg.rf.e16285059f30569edbc1bea21bded326.jpg: 416x416 1 fire, 3 smokes, 16.0ms\n",
      "image 940/1340 c:\\Users\\user\\Downloads\\yolov10-main\\Fire-Detection-1\\test\\images\\middle_-3976-_jpg.rf.c678472240e113b9d9345c883c6b2da4.jpg: 416x416 2 fires, 1 smoke, 14.0ms\n",
      "image 941/1340 c:\\Users\\user\\Downloads\\yolov10-main\\Fire-Detection-1\\test\\images\\middle_-3978-_jpg.rf.67afe31f8ff34b877f18f33e21b2695e.jpg: 416x416 2 fires, 1 smoke, 15.0ms\n",
      "image 942/1340 c:\\Users\\user\\Downloads\\yolov10-main\\Fire-Detection-1\\test\\images\\middle_-3983-_jpg.rf.5dfb2f2e3ff6a8e5f820ab4b68767b5b.jpg: 416x416 3 fires, 17.0ms\n",
      "image 943/1340 c:\\Users\\user\\Downloads\\yolov10-main\\Fire-Detection-1\\test\\images\\middle_-3990-_jpg.rf.67ba516b0889700dd0d464149064add4.jpg: 416x416 2 fires, 1 smoke, 25.0ms\n",
      "image 944/1340 c:\\Users\\user\\Downloads\\yolov10-main\\Fire-Detection-1\\test\\images\\middle_-3996-_jpg.rf.bfe3db2f37d9c6b9dc2e89ddbe96e135.jpg: 416x416 1 fire, 1 smoke, 14.0ms\n",
      "image 945/1340 c:\\Users\\user\\Downloads\\yolov10-main\\Fire-Detection-1\\test\\images\\middle_-3997-_jpg.rf.c60de0702bd8b175ff943c18ed81b7be.jpg: 416x416 1 smoke, 15.0ms\n",
      "image 946/1340 c:\\Users\\user\\Downloads\\yolov10-main\\Fire-Detection-1\\test\\images\\middle_-3998-_jpg.rf.12902ed0ed496fd742c86060aab734c8.jpg: 416x416 2 fires, 1 smoke, 17.0ms\n",
      "image 947/1340 c:\\Users\\user\\Downloads\\yolov10-main\\Fire-Detection-1\\test\\images\\middle_-4004-_jpg.rf.69e96f8987411d1853bbff77c1c67f83.jpg: 416x416 3 fires, 16.0ms\n",
      "image 948/1340 c:\\Users\\user\\Downloads\\yolov10-main\\Fire-Detection-1\\test\\images\\middle_-4015-_jpg.rf.c96c8c4f99d9434b7d0e0ac62df1cca7.jpg: 416x416 (no detections), 19.0ms\n",
      "image 949/1340 c:\\Users\\user\\Downloads\\yolov10-main\\Fire-Detection-1\\test\\images\\middle_-4028-_jpg.rf.324ed607f1e711d1964447de0911af39.jpg: 416x416 2 fires, 1 smoke, 12.0ms\n",
      "image 950/1340 c:\\Users\\user\\Downloads\\yolov10-main\\Fire-Detection-1\\test\\images\\middle_-403-_jpg.rf.d72e3557e3584e6b0e5309d997807f24.jpg: 416x416 1 fire, 1 smoke, 18.0ms\n",
      "image 951/1340 c:\\Users\\user\\Downloads\\yolov10-main\\Fire-Detection-1\\test\\images\\middle_-4031-_jpg.rf.1c39e7d4749be0b53bfa3901f9cd2dfb.jpg: 416x416 1 fire, 1 smoke, 18.0ms\n",
      "image 952/1340 c:\\Users\\user\\Downloads\\yolov10-main\\Fire-Detection-1\\test\\images\\middle_-4036-_jpg.rf.c8d63b29d2124a5e73dc374b0d8ccf06.jpg: 416x416 1 fire, 1 smoke, 13.0ms\n",
      "image 953/1340 c:\\Users\\user\\Downloads\\yolov10-main\\Fire-Detection-1\\test\\images\\middle_-4038-_jpg.rf.ccc30584ebc55100f00b52e1578b01cc.jpg: 416x416 1 fire, 12.0ms\n",
      "image 954/1340 c:\\Users\\user\\Downloads\\yolov10-main\\Fire-Detection-1\\test\\images\\middle_-4083-_jpg.rf.a1af036c18448c766f367de29e324755.jpg: 416x416 1 fire, 12.0ms\n",
      "image 955/1340 c:\\Users\\user\\Downloads\\yolov10-main\\Fire-Detection-1\\test\\images\\middle_-4084-_jpg.rf.1d568affe85d18ebe85d6bae1974acff.jpg: 416x416 1 fire, 1 smoke, 13.0ms\n",
      "image 956/1340 c:\\Users\\user\\Downloads\\yolov10-main\\Fire-Detection-1\\test\\images\\middle_-4090-_jpg.rf.0f22535b141a658784c3d730dcef6452.jpg: 416x416 2 fires, 17.0ms\n",
      "image 957/1340 c:\\Users\\user\\Downloads\\yolov10-main\\Fire-Detection-1\\test\\images\\middle_-4096-_jpg.rf.3ac32f4a45382cb3992bcb58db94c2a4.jpg: 416x416 2 fires, 17.0ms\n",
      "image 958/1340 c:\\Users\\user\\Downloads\\yolov10-main\\Fire-Detection-1\\test\\images\\middle_-41-_jpg.rf.1f2cf43c8d8c634e18931992d06aea96.jpg: 416x416 1 fire, 13.0ms\n",
      "image 959/1340 c:\\Users\\user\\Downloads\\yolov10-main\\Fire-Detection-1\\test\\images\\middle_-4108-_jpg.rf.4fabe1f4b966946889061657effac15a.jpg: 416x416 1 fire, 1 smoke, 15.0ms\n",
      "image 960/1340 c:\\Users\\user\\Downloads\\yolov10-main\\Fire-Detection-1\\test\\images\\middle_-4112-_jpg.rf.63a762b5063ab2907bba23201f6d7a03.jpg: 416x416 1 fire, 14.0ms\n",
      "image 961/1340 c:\\Users\\user\\Downloads\\yolov10-main\\Fire-Detection-1\\test\\images\\middle_-412-_jpg.rf.b356ad2e3b25293c545ae32a69a1079b.jpg: 416x416 1 fire, 1 smoke, 12.0ms\n",
      "image 962/1340 c:\\Users\\user\\Downloads\\yolov10-main\\Fire-Detection-1\\test\\images\\middle_-4124-_jpg.rf.577165a545e68d762a3f65d2dee08f57.jpg: 416x416 1 fire, 14.0ms\n",
      "image 963/1340 c:\\Users\\user\\Downloads\\yolov10-main\\Fire-Detection-1\\test\\images\\middle_-4126-_jpg.rf.3f97b343d656ba693f106afc45b3eb7d.jpg: 416x416 1 fire, 2 smokes, 18.0ms\n",
      "image 964/1340 c:\\Users\\user\\Downloads\\yolov10-main\\Fire-Detection-1\\test\\images\\middle_-4128-_jpg.rf.9178fb41451a77968e929c1573758716.jpg: 416x416 2 fires, 17.0ms\n",
      "image 965/1340 c:\\Users\\user\\Downloads\\yolov10-main\\Fire-Detection-1\\test\\images\\middle_-4133-_jpg.rf.ebae66bdef65ffde745ca6ddbdbee21b.jpg: 416x416 1 fire, 12.0ms\n",
      "image 966/1340 c:\\Users\\user\\Downloads\\yolov10-main\\Fire-Detection-1\\test\\images\\middle_-4135-_jpg.rf.3ec94b2949b8ab9bd382766ab6aff7cb.jpg: 416x416 2 fires, 1 smoke, 13.0ms\n",
      "image 967/1340 c:\\Users\\user\\Downloads\\yolov10-main\\Fire-Detection-1\\test\\images\\middle_-4138-_jpg.rf.e13015337764a7395348975c1da94a1e.jpg: 416x416 (no detections), 20.0ms\n",
      "image 968/1340 c:\\Users\\user\\Downloads\\yolov10-main\\Fire-Detection-1\\test\\images\\middle_-414-_jpg.rf.163fa638e290af323c44c47068727ebe.jpg: 416x416 2 fires, 1 smoke, 14.0ms\n",
      "image 969/1340 c:\\Users\\user\\Downloads\\yolov10-main\\Fire-Detection-1\\test\\images\\middle_-4152-_jpg.rf.855c34d36a2a89f2394ec5aad1218bb2.jpg: 416x416 (no detections), 17.0ms\n",
      "image 970/1340 c:\\Users\\user\\Downloads\\yolov10-main\\Fire-Detection-1\\test\\images\\middle_-4153-_jpg.rf.fa31b8cb15f40ffa969f0c29eec925a5.jpg: 416x416 2 fires, 16.0ms\n",
      "image 971/1340 c:\\Users\\user\\Downloads\\yolov10-main\\Fire-Detection-1\\test\\images\\middle_-4154-_jpg.rf.30a91e945ecabc1a7c6968da57f2497c.jpg: 416x416 4 fires, 11.0ms\n",
      "image 972/1340 c:\\Users\\user\\Downloads\\yolov10-main\\Fire-Detection-1\\test\\images\\middle_-4155-_jpg.rf.b8a0ab27de22d21e508f7d8539c3612b.jpg: 416x416 1 fire, 14.0ms\n",
      "image 973/1340 c:\\Users\\user\\Downloads\\yolov10-main\\Fire-Detection-1\\test\\images\\middle_-4156-_jpg.rf.c18136cf7afa5e384a15a91139bfffc0.jpg: 416x416 1 fire, 17.0ms\n",
      "image 974/1340 c:\\Users\\user\\Downloads\\yolov10-main\\Fire-Detection-1\\test\\images\\middle_-4166-_jpg.rf.44af14589faa127a2b76e87b7d753aa8.jpg: 416x416 1 fire, 1 smoke, 13.0ms\n",
      "image 975/1340 c:\\Users\\user\\Downloads\\yolov10-main\\Fire-Detection-1\\test\\images\\middle_-4175-_jpg.rf.bf721daa96910517ffce7d54d4e478cb.jpg: 416x416 3 fires, 18.0ms\n",
      "image 976/1340 c:\\Users\\user\\Downloads\\yolov10-main\\Fire-Detection-1\\test\\images\\middle_-4182-_jpg.rf.04d0206548f1c2ee8833488b4ca825ea.jpg: 416x416 1 fire, 1 smoke, 16.0ms\n",
      "image 977/1340 c:\\Users\\user\\Downloads\\yolov10-main\\Fire-Detection-1\\test\\images\\middle_-4189-_jpg.rf.3ec07cf296042fd603b9f7a593a2d7e4.jpg: 416x416 1 fire, 16.0ms\n",
      "image 978/1340 c:\\Users\\user\\Downloads\\yolov10-main\\Fire-Detection-1\\test\\images\\middle_-4197-_jpg.rf.40b864f5a4bed67d54e250b5f4ba1ccb.jpg: 416x416 2 fires, 18.0ms\n",
      "image 979/1340 c:\\Users\\user\\Downloads\\yolov10-main\\Fire-Detection-1\\test\\images\\middle_-42-_jpg.rf.f36ebdaca22d8990cffd58b7ed71fc7f.jpg: 416x416 1 fire, 12.0ms\n",
      "image 980/1340 c:\\Users\\user\\Downloads\\yolov10-main\\Fire-Detection-1\\test\\images\\middle_-4206-_jpg.rf.229d4a85ce01b09536969939fd5adb2c.jpg: 416x416 1 fire, 1 smoke, 17.0ms\n",
      "image 981/1340 c:\\Users\\user\\Downloads\\yolov10-main\\Fire-Detection-1\\test\\images\\middle_-421-_jpg.rf.a254c83e83b9edfb2f593013a71b4482.jpg: 416x416 1 fire, 1 smoke, 16.2ms\n",
      "image 982/1340 c:\\Users\\user\\Downloads\\yolov10-main\\Fire-Detection-1\\test\\images\\middle_-4217-_jpg.rf.9a3790ca8655ccecad395ee8699eaf0e.jpg: 416x416 1 fire, 14.0ms\n",
      "image 983/1340 c:\\Users\\user\\Downloads\\yolov10-main\\Fire-Detection-1\\test\\images\\middle_-4240-_jpg.rf.d14d70129211ab2c57d113b1a2503810.jpg: 416x416 1 fire, 12.5ms\n",
      "image 984/1340 c:\\Users\\user\\Downloads\\yolov10-main\\Fire-Detection-1\\test\\images\\middle_-4248-_jpg.rf.2ecffc003d16826a1a9e844c8d0e3c85.jpg: 416x416 1 fire, 13.2ms\n",
      "image 985/1340 c:\\Users\\user\\Downloads\\yolov10-main\\Fire-Detection-1\\test\\images\\middle_-4258-_jpg.rf.bbe0311b159a4fe7bdc74df0a0b04cef.jpg: 416x416 1 fire, 13.8ms\n",
      "image 986/1340 c:\\Users\\user\\Downloads\\yolov10-main\\Fire-Detection-1\\test\\images\\middle_-4260-_jpg.rf.de491bb2157b92b55df18690200e25cc.jpg: 416x416 1 fire, 16.7ms\n",
      "image 987/1340 c:\\Users\\user\\Downloads\\yolov10-main\\Fire-Detection-1\\test\\images\\middle_-4275-_jpg.rf.086ea9b333013e43b2da1984c9025870.jpg: 416x416 (no detections), 18.0ms\n",
      "image 988/1340 c:\\Users\\user\\Downloads\\yolov10-main\\Fire-Detection-1\\test\\images\\middle_-4281-_jpg.rf.486db5a0e4ff3ac81838ae8b879026ba.jpg: 416x416 1 fire, 15.0ms\n",
      "image 989/1340 c:\\Users\\user\\Downloads\\yolov10-main\\Fire-Detection-1\\test\\images\\middle_-4286-_jpg.rf.94cf68822bd656ebe9cf8c28e23eaa93.jpg: 416x416 3 fires, 2 smokes, 16.0ms\n",
      "image 990/1340 c:\\Users\\user\\Downloads\\yolov10-main\\Fire-Detection-1\\test\\images\\middle_-4287-_jpg.rf.c1fbf8228e3b1186708f64c7e6c9c156.jpg: 416x416 1 fire, 1 smoke, 15.0ms\n",
      "image 991/1340 c:\\Users\\user\\Downloads\\yolov10-main\\Fire-Detection-1\\test\\images\\middle_-4288-_jpg.rf.15ae0c2d88dcb3c5c181be0a59b30cd0.jpg: 416x416 1 fire, 1 smoke, 13.0ms\n",
      "image 992/1340 c:\\Users\\user\\Downloads\\yolov10-main\\Fire-Detection-1\\test\\images\\middle_-4294-_jpg.rf.cb750a6993d763c0478701c7d831db93.jpg: 416x416 1 fire, 12.0ms\n",
      "image 993/1340 c:\\Users\\user\\Downloads\\yolov10-main\\Fire-Detection-1\\test\\images\\middle_-4302-_jpg.rf.fc4ea64585919243872f0da9e9b6583b.jpg: 416x416 1 fire, 12.0ms\n",
      "image 994/1340 c:\\Users\\user\\Downloads\\yolov10-main\\Fire-Detection-1\\test\\images\\middle_-4308-_jpg.rf.d1649cb312cd7a47ee9293f3e380d937.jpg: 416x416 1 fire, 12.0ms\n",
      "image 995/1340 c:\\Users\\user\\Downloads\\yolov10-main\\Fire-Detection-1\\test\\images\\middle_-4309-_jpg.rf.8561b48a7466de7d2300962597dabbb7.jpg: 416x416 1 fire, 14.0ms\n",
      "image 996/1340 c:\\Users\\user\\Downloads\\yolov10-main\\Fire-Detection-1\\test\\images\\middle_-4321-_jpg.rf.a8a165217e406173fa5c1e8501075642.jpg: 416x416 3 fires, 1 smoke, 14.0ms\n",
      "image 997/1340 c:\\Users\\user\\Downloads\\yolov10-main\\Fire-Detection-1\\test\\images\\middle_-4333-_jpg.rf.377c60e000b492d8cf4bc1bc3b909c77.jpg: 416x416 2 fires, 13.0ms\n",
      "image 998/1340 c:\\Users\\user\\Downloads\\yolov10-main\\Fire-Detection-1\\test\\images\\middle_-4340-_jpg.rf.f6dc78f367c631792edf8b3b5190a31a.jpg: 416x416 1 fire, 14.0ms\n",
      "image 999/1340 c:\\Users\\user\\Downloads\\yolov10-main\\Fire-Detection-1\\test\\images\\middle_-4350-_jpg.rf.1722b3a7e3a95ef634f6efd0a6eff5cf.jpg: 416x416 3 fires, 13.0ms\n",
      "image 1000/1340 c:\\Users\\user\\Downloads\\yolov10-main\\Fire-Detection-1\\test\\images\\middle_-436-_jpg.rf.6f0afe6ea1f1bbff1d5d880985e1e35d.jpg: 416x416 2 fires, 15.0ms\n",
      "image 1001/1340 c:\\Users\\user\\Downloads\\yolov10-main\\Fire-Detection-1\\test\\images\\middle_-4397-_jpg.rf.d8233f3df8acaed565d1dc82ff1de06d.jpg: 416x416 1 fire, 1 smoke, 14.0ms\n",
      "image 1002/1340 c:\\Users\\user\\Downloads\\yolov10-main\\Fire-Detection-1\\test\\images\\middle_-4404-_jpg.rf.ff8a0f071caae0a55294f6575405ae85.jpg: 416x416 1 fire, 1 smoke, 18.0ms\n",
      "image 1003/1340 c:\\Users\\user\\Downloads\\yolov10-main\\Fire-Detection-1\\test\\images\\middle_-445-_jpg.rf.f0b46844726fbffb70518974eb9af066.jpg: 416x416 1 fire, 18.0ms\n",
      "image 1004/1340 c:\\Users\\user\\Downloads\\yolov10-main\\Fire-Detection-1\\test\\images\\middle_-448-_jpg.rf.bcefda90f48abb7e0d0fd4d3b7335259.jpg: 416x416 2 fires, 1 smoke, 19.0ms\n",
      "image 1005/1340 c:\\Users\\user\\Downloads\\yolov10-main\\Fire-Detection-1\\test\\images\\middle_-4483-_jpg.rf.054b483680377e9a76e21a0ec0ba7a58.jpg: 416x416 3 fires, 14.0ms\n",
      "image 1006/1340 c:\\Users\\user\\Downloads\\yolov10-main\\Fire-Detection-1\\test\\images\\middle_-449-_jpg.rf.b50e9fa1d491f1338cae8148dd226705.jpg: 416x416 1 fire, 1 smoke, 24.0ms\n",
      "image 1007/1340 c:\\Users\\user\\Downloads\\yolov10-main\\Fire-Detection-1\\test\\images\\middle_-4503-_jpg.rf.28c06fa81cab5d5d2f6e7c4c282cd3c9.jpg: 416x416 1 fire, 1 smoke, 18.0ms\n",
      "image 1008/1340 c:\\Users\\user\\Downloads\\yolov10-main\\Fire-Detection-1\\test\\images\\middle_-4518-_jpg.rf.83a92fa8bb34c3447180bfd65f922ae1.jpg: 416x416 2 fires, 16.0ms\n",
      "image 1009/1340 c:\\Users\\user\\Downloads\\yolov10-main\\Fire-Detection-1\\test\\images\\middle_-4522-_jpg.rf.7bc0ef04a86fcce0d7c01d1b23366e0c.jpg: 416x416 3 fires, 18.0ms\n",
      "image 1010/1340 c:\\Users\\user\\Downloads\\yolov10-main\\Fire-Detection-1\\test\\images\\middle_-4533-_jpg.rf.17f1c3a4703d3e714cf76a5da6e7c0e6.jpg: 416x416 1 fire, 14.0ms\n",
      "image 1011/1340 c:\\Users\\user\\Downloads\\yolov10-main\\Fire-Detection-1\\test\\images\\middle_-4542-_jpg.rf.f1f4a7d11d89bb462f8f7a4dc5177260.jpg: 416x416 1 fire, 12.0ms\n",
      "image 1012/1340 c:\\Users\\user\\Downloads\\yolov10-main\\Fire-Detection-1\\test\\images\\middle_-4548-_jpg.rf.58091b33182141254d01ffd23ab3fb19.jpg: 416x416 2 fires, 14.0ms\n",
      "image 1013/1340 c:\\Users\\user\\Downloads\\yolov10-main\\Fire-Detection-1\\test\\images\\middle_-4568-_jpg.rf.dde43afbcb7aa1bf75c978488b7320e2.jpg: 416x416 1 fire, 17.0ms\n",
      "image 1014/1340 c:\\Users\\user\\Downloads\\yolov10-main\\Fire-Detection-1\\test\\images\\middle_-4589-_jpg.rf.0fb26e814e5c33d8a7ba2253727d0283.jpg: 416x416 1 fire, 17.0ms\n",
      "image 1015/1340 c:\\Users\\user\\Downloads\\yolov10-main\\Fire-Detection-1\\test\\images\\middle_-4591-_jpg.rf.c0e795be494abb2f2446e7e7950af833.jpg: 416x416 5 fires, 1 smoke, 12.0ms\n",
      "image 1016/1340 c:\\Users\\user\\Downloads\\yolov10-main\\Fire-Detection-1\\test\\images\\middle_-4592-_jpg.rf.c365fd1272630fc0cd9ecd568b457b35.jpg: 416x416 1 fire, 14.0ms\n",
      "image 1017/1340 c:\\Users\\user\\Downloads\\yolov10-main\\Fire-Detection-1\\test\\images\\middle_-4596-_jpg.rf.6a3cb19643cb2e3013d5469d8362af7c.jpg: 416x416 2 fires, 14.0ms\n",
      "image 1018/1340 c:\\Users\\user\\Downloads\\yolov10-main\\Fire-Detection-1\\test\\images\\middle_-4597-_jpg.rf.3bb969f14d27969e589918206b391a4d.jpg: 416x416 1 fire, 13.0ms\n",
      "image 1019/1340 c:\\Users\\user\\Downloads\\yolov10-main\\Fire-Detection-1\\test\\images\\middle_-46-_jpg.rf.fd9c9a41e0d7ba3629f13607eaf72957.jpg: 416x416 1 fire, 14.0ms\n",
      "image 1020/1340 c:\\Users\\user\\Downloads\\yolov10-main\\Fire-Detection-1\\test\\images\\middle_-4601-_jpg.rf.d6d44c9c02af779af5c74559bbcdaeb2.jpg: 416x416 3 fires, 16.0ms\n",
      "image 1021/1340 c:\\Users\\user\\Downloads\\yolov10-main\\Fire-Detection-1\\test\\images\\middle_-4623-_jpg.rf.195c6ab59b582251d48e171b099fe976.jpg: 416x416 1 fire, 12.0ms\n",
      "image 1022/1340 c:\\Users\\user\\Downloads\\yolov10-main\\Fire-Detection-1\\test\\images\\middle_-4627-_jpg.rf.b30ca2ede55d6d0e6da02ee99e35c717.jpg: 416x416 2 fires, 17.0ms\n",
      "image 1023/1340 c:\\Users\\user\\Downloads\\yolov10-main\\Fire-Detection-1\\test\\images\\middle_-4645-_jpg.rf.bea7d32f43db6397887804b2d5a34183.jpg: 416x416 2 fires, 18.0ms\n",
      "image 1024/1340 c:\\Users\\user\\Downloads\\yolov10-main\\Fire-Detection-1\\test\\images\\middle_-4647-_jpg.rf.4edcc265c3266d022c43ed90fed6acb5.jpg: 416x416 1 fire, 19.0ms\n",
      "image 1025/1340 c:\\Users\\user\\Downloads\\yolov10-main\\Fire-Detection-1\\test\\images\\middle_-4651-_jpg.rf.654e64c34268958a52757aaec99bc9f6.jpg: 416x416 1 fire, 12.0ms\n",
      "image 1026/1340 c:\\Users\\user\\Downloads\\yolov10-main\\Fire-Detection-1\\test\\images\\middle_-4652-_jpg.rf.093699d42da282adcc2954ecc3a01fbd.jpg: 416x416 1 fire, 17.0ms\n",
      "image 1027/1340 c:\\Users\\user\\Downloads\\yolov10-main\\Fire-Detection-1\\test\\images\\middle_-466-_jpg.rf.e83ded3eb42cacbfcd69db3e29966218.jpg: 416x416 1 fire, 17.0ms\n",
      "image 1028/1340 c:\\Users\\user\\Downloads\\yolov10-main\\Fire-Detection-1\\test\\images\\middle_-4664-_jpg.rf.87057ec74a89ff6d337863e5ea773930.jpg: 416x416 1 fire, 12.0ms\n",
      "image 1029/1340 c:\\Users\\user\\Downloads\\yolov10-main\\Fire-Detection-1\\test\\images\\middle_-4666-_jpg.rf.a64e5d05bebb7954c6eed8016916d7fd.jpg: 416x416 (no detections), 14.0ms\n",
      "image 1030/1340 c:\\Users\\user\\Downloads\\yolov10-main\\Fire-Detection-1\\test\\images\\middle_-4669-_jpg.rf.250bc22c145ede044ebbb737a825e697.jpg: 416x416 1 fire, 16.0ms\n",
      "image 1031/1340 c:\\Users\\user\\Downloads\\yolov10-main\\Fire-Detection-1\\test\\images\\middle_-4670-_jpg.rf.b69e9535fe65582815696ebe956fbd1e.jpg: 416x416 1 fire, 14.0ms\n",
      "image 1032/1340 c:\\Users\\user\\Downloads\\yolov10-main\\Fire-Detection-1\\test\\images\\middle_-4685-_jpg.rf.265476bf100a0b20cfbe4dcd1176763e.jpg: 416x416 1 fire, 15.0ms\n",
      "image 1033/1340 c:\\Users\\user\\Downloads\\yolov10-main\\Fire-Detection-1\\test\\images\\middle_-4689-_jpg.rf.79bad697892e4d9029350679071b02f8.jpg: 416x416 1 fire, 15.0ms\n",
      "image 1034/1340 c:\\Users\\user\\Downloads\\yolov10-main\\Fire-Detection-1\\test\\images\\middle_-4692-_jpg.rf.cbbcd208f29dfef9a1485218ee32e5e8.jpg: 416x416 1 fire, 14.0ms\n",
      "image 1035/1340 c:\\Users\\user\\Downloads\\yolov10-main\\Fire-Detection-1\\test\\images\\middle_-4693-_jpg.rf.9926e548cd0e93a9f5e21b65d6f5637f.jpg: 416x416 1 fire, 12.0ms\n",
      "image 1036/1340 c:\\Users\\user\\Downloads\\yolov10-main\\Fire-Detection-1\\test\\images\\middle_-4694-_jpg.rf.6a207a4e1b4eaceceaa5960c1ed9fc65.jpg: 416x416 1 fire, 20.0ms\n",
      "image 1037/1340 c:\\Users\\user\\Downloads\\yolov10-main\\Fire-Detection-1\\test\\images\\middle_-4711-_jpg.rf.d0cd8265a68a50f61e69e23d798870e3.jpg: 416x416 1 fire, 19.0ms\n",
      "image 1038/1340 c:\\Users\\user\\Downloads\\yolov10-main\\Fire-Detection-1\\test\\images\\middle_-4716-_jpg.rf.25ecea87357f330e93c4f719a47ce155.jpg: 416x416 1 fire, 16.0ms\n",
      "image 1039/1340 c:\\Users\\user\\Downloads\\yolov10-main\\Fire-Detection-1\\test\\images\\middle_-483-_jpg.rf.678d04abba14ebe1210f9645c8ee2c49.jpg: 416x416 1 fire, 1 smoke, 12.0ms\n",
      "image 1040/1340 c:\\Users\\user\\Downloads\\yolov10-main\\Fire-Detection-1\\test\\images\\middle_-489-_jpg.rf.64aacb4d70b191182983db6aee0dfb8b.jpg: 416x416 (no detections), 12.0ms\n",
      "image 1041/1340 c:\\Users\\user\\Downloads\\yolov10-main\\Fire-Detection-1\\test\\images\\middle_-49-_jpg.rf.8954d37b327dd05e550faee0eb924c5b.jpg: 416x416 1 fire, 15.0ms\n",
      "image 1042/1340 c:\\Users\\user\\Downloads\\yolov10-main\\Fire-Detection-1\\test\\images\\middle_-501-_jpg.rf.0cecfcdfa9eb38afdf50a52cc1165c4a.jpg: 416x416 3 fires, 17.0ms\n",
      "image 1043/1340 c:\\Users\\user\\Downloads\\yolov10-main\\Fire-Detection-1\\test\\images\\middle_-502-_jpg.rf.47cb399a77a5d8083c8e35cde631f449.jpg: 416x416 4 fires, 19.0ms\n",
      "image 1044/1340 c:\\Users\\user\\Downloads\\yolov10-main\\Fire-Detection-1\\test\\images\\middle_-516-_jpg.rf.f4126b43e3b7f61505909787c48dee93.jpg: 416x416 1 fire, 2 smokes, 14.0ms\n",
      "image 1045/1340 c:\\Users\\user\\Downloads\\yolov10-main\\Fire-Detection-1\\test\\images\\middle_-519-_jpg.rf.c7df3b6773cf0540c76afffd1b3129f1.jpg: 416x416 8 fires, 11.0ms\n",
      "image 1046/1340 c:\\Users\\user\\Downloads\\yolov10-main\\Fire-Detection-1\\test\\images\\middle_-525-_jpg.rf.a71f9a6e79f9a4617fa45f20d6dda7f7.jpg: 416x416 1 fire, 17.0ms\n",
      "image 1047/1340 c:\\Users\\user\\Downloads\\yolov10-main\\Fire-Detection-1\\test\\images\\middle_-53-_jpg.rf.6f7233c3f825a6feb7136899666720c3.jpg: 416x416 1 fire, 12.0ms\n",
      "image 1048/1340 c:\\Users\\user\\Downloads\\yolov10-main\\Fire-Detection-1\\test\\images\\middle_-556-_jpg.rf.d934967703f9284450b6ed2d6642bf50.jpg: 416x416 1 fire, 1 smoke, 14.0ms\n",
      "image 1049/1340 c:\\Users\\user\\Downloads\\yolov10-main\\Fire-Detection-1\\test\\images\\middle_-559-_jpg.rf.5f779b58fdf804bfd7e174e2cc53d9ab.jpg: 416x416 1 fire, 13.0ms\n",
      "image 1050/1340 c:\\Users\\user\\Downloads\\yolov10-main\\Fire-Detection-1\\test\\images\\middle_-568-_jpg.rf.5c951e93a40cb4da17a4ea0fab877cc8.jpg: 416x416 3 fires, 15.0ms\n",
      "image 1051/1340 c:\\Users\\user\\Downloads\\yolov10-main\\Fire-Detection-1\\test\\images\\middle_-571-_jpg.rf.ab301097a6e8321286d8bdd28b1f50ee.jpg: 416x416 2 fires, 2 smokes, 15.0ms\n",
      "image 1052/1340 c:\\Users\\user\\Downloads\\yolov10-main\\Fire-Detection-1\\test\\images\\middle_-579-_jpg.rf.1e2bc00aadb47345b72b4710d8e06504.jpg: 416x416 1 fire, 22.0ms\n",
      "image 1053/1340 c:\\Users\\user\\Downloads\\yolov10-main\\Fire-Detection-1\\test\\images\\middle_-58-_jpg.rf.9cb4bdedc54e53038d6f0da10d71fdbf.jpg: 416x416 1 fire, 22.0ms\n",
      "image 1054/1340 c:\\Users\\user\\Downloads\\yolov10-main\\Fire-Detection-1\\test\\images\\middle_-600-_jpg.rf.590e5859d9b1a6c7e268ec478da38f7c.jpg: 416x416 3 fires, 17.0ms\n",
      "image 1055/1340 c:\\Users\\user\\Downloads\\yolov10-main\\Fire-Detection-1\\test\\images\\middle_-602-_jpg.rf.428716a4983ec99836108ce5199202bd.jpg: 416x416 2 fires, 13.0ms\n",
      "image 1056/1340 c:\\Users\\user\\Downloads\\yolov10-main\\Fire-Detection-1\\test\\images\\middle_-605-_jpg.rf.a545fd0cb297d0133abc59495a5b5d39.jpg: 416x416 2 fires, 12.0ms\n",
      "image 1057/1340 c:\\Users\\user\\Downloads\\yolov10-main\\Fire-Detection-1\\test\\images\\middle_-609-_jpg.rf.913c48975b89c89000f0343cf17f72c8.jpg: 416x416 1 fire, 12.0ms\n",
      "image 1058/1340 c:\\Users\\user\\Downloads\\yolov10-main\\Fire-Detection-1\\test\\images\\middle_-61-_jpg.rf.d976f415d88527991a5de3bce8928846.jpg: 416x416 2 fires, 18.0ms\n",
      "image 1059/1340 c:\\Users\\user\\Downloads\\yolov10-main\\Fire-Detection-1\\test\\images\\middle_-618-_jpg.rf.d0a38df0c74318f8c0a85a62e1ba95e1.jpg: 416x416 1 fire, 12.0ms\n",
      "image 1060/1340 c:\\Users\\user\\Downloads\\yolov10-main\\Fire-Detection-1\\test\\images\\middle_-620-_jpg.rf.2224a9d87895f6cb78df3668a392bdce.jpg: 416x416 1 fire, 18.0ms\n",
      "image 1061/1340 c:\\Users\\user\\Downloads\\yolov10-main\\Fire-Detection-1\\test\\images\\middle_-63-_jpg.rf.4da6e1c612cddca92c499e434c371409.jpg: 416x416 1 fire, 14.0ms\n",
      "image 1062/1340 c:\\Users\\user\\Downloads\\yolov10-main\\Fire-Detection-1\\test\\images\\middle_-631-_jpg.rf.d1a171a1d81fe72433d59256819b0afe.jpg: 416x416 (no detections), 13.0ms\n",
      "image 1063/1340 c:\\Users\\user\\Downloads\\yolov10-main\\Fire-Detection-1\\test\\images\\middle_-633-_jpg.rf.49b80000c9df41502b3a27c881931635.jpg: 416x416 1 fire, 18.0ms\n",
      "image 1064/1340 c:\\Users\\user\\Downloads\\yolov10-main\\Fire-Detection-1\\test\\images\\middle_-636-_jpg.rf.3d924e9155f49a0af6c456774bbfec11.jpg: 416x416 1 fire, 12.0ms\n",
      "image 1065/1340 c:\\Users\\user\\Downloads\\yolov10-main\\Fire-Detection-1\\test\\images\\middle_-643-_jpg.rf.c01b0eb96ba6c174d643897731b64252.jpg: 416x416 3 fires, 17.0ms\n",
      "image 1066/1340 c:\\Users\\user\\Downloads\\yolov10-main\\Fire-Detection-1\\test\\images\\middle_-647-_jpg.rf.b22aedc3bff609748e213a69ff1f8725.jpg: 416x416 1 fire, 15.0ms\n",
      "image 1067/1340 c:\\Users\\user\\Downloads\\yolov10-main\\Fire-Detection-1\\test\\images\\middle_-67-_jpg.rf.15feada865e97988d57d5248b091020c.jpg: 416x416 1 fire, 11.0ms\n",
      "image 1068/1340 c:\\Users\\user\\Downloads\\yolov10-main\\Fire-Detection-1\\test\\images\\middle_-674-_jpg.rf.6c6de7bdb929705c45c4fe9ebfa41bc9.jpg: 416x416 3 fires, 14.0ms\n",
      "image 1069/1340 c:\\Users\\user\\Downloads\\yolov10-main\\Fire-Detection-1\\test\\images\\middle_-675-_jpg.rf.e764742454b6ac6b00ce66221fcff2ec.jpg: 416x416 1 fire, 18.0ms\n",
      "image 1070/1340 c:\\Users\\user\\Downloads\\yolov10-main\\Fire-Detection-1\\test\\images\\middle_-681-_jpg.rf.cda1de426da4586740da3ce559fc89da.jpg: 416x416 1 fire, 15.0ms\n",
      "image 1071/1340 c:\\Users\\user\\Downloads\\yolov10-main\\Fire-Detection-1\\test\\images\\middle_-686-_jpg.rf.b67b9c3e927484bc1fd431e5ce01d2e8.jpg: 416x416 1 fire, 14.0ms\n",
      "image 1072/1340 c:\\Users\\user\\Downloads\\yolov10-main\\Fire-Detection-1\\test\\images\\middle_-690-_jpg.rf.5ee0d4e789e98f14c146fb9f113dca79.jpg: 416x416 2 fires, 16.0ms\n",
      "image 1073/1340 c:\\Users\\user\\Downloads\\yolov10-main\\Fire-Detection-1\\test\\images\\middle_-691-_jpg.rf.3ebe12a4ef9af3ea7e87b56da3e8ec78.jpg: 416x416 1 fire, 12.0ms\n",
      "image 1074/1340 c:\\Users\\user\\Downloads\\yolov10-main\\Fire-Detection-1\\test\\images\\middle_-698-_jpg.rf.a3bccafeff857c1c63e87f64a9d01c32.jpg: 416x416 3 fires, 13.0ms\n",
      "image 1075/1340 c:\\Users\\user\\Downloads\\yolov10-main\\Fire-Detection-1\\test\\images\\middle_-702-_jpg.rf.2eb6e405596785a65aa4cb3bd50b6246.jpg: 416x416 1 fire, 11.0ms\n",
      "image 1076/1340 c:\\Users\\user\\Downloads\\yolov10-main\\Fire-Detection-1\\test\\images\\middle_-715-_jpg.rf.84e26c401e4c8ec69f502c05bcb461ae.jpg: 416x416 1 fire, 16.0ms\n",
      "image 1077/1340 c:\\Users\\user\\Downloads\\yolov10-main\\Fire-Detection-1\\test\\images\\middle_-72-_jpg.rf.b3db434fb928be9be555772c7d25a6e2.jpg: 416x416 1 fire, 17.0ms\n",
      "image 1078/1340 c:\\Users\\user\\Downloads\\yolov10-main\\Fire-Detection-1\\test\\images\\middle_-722-_jpg.rf.428aade1ab7bd60910ee2d5ef4bdbae0.jpg: 416x416 1 fire, 14.0ms\n",
      "image 1079/1340 c:\\Users\\user\\Downloads\\yolov10-main\\Fire-Detection-1\\test\\images\\middle_-723-_jpg.rf.548018b2db9c4a392e7082c3956c5435.jpg: 416x416 2 fires, 12.0ms\n",
      "image 1080/1340 c:\\Users\\user\\Downloads\\yolov10-main\\Fire-Detection-1\\test\\images\\middle_-73-_jpg.rf.2d4f5e3f87b6c7e50d15919aec53cd59.jpg: 416x416 1 fire, 18.0ms\n",
      "image 1081/1340 c:\\Users\\user\\Downloads\\yolov10-main\\Fire-Detection-1\\test\\images\\middle_-733-_jpg.rf.9d560a3078e48cfa871f27b386dabac7.jpg: 416x416 2 fires, 14.0ms\n",
      "image 1082/1340 c:\\Users\\user\\Downloads\\yolov10-main\\Fire-Detection-1\\test\\images\\middle_-74-_jpg.rf.f4ff2130aba67257d3a808dd82c35ace.jpg: 416x416 1 fire, 18.8ms\n",
      "image 1083/1340 c:\\Users\\user\\Downloads\\yolov10-main\\Fire-Detection-1\\test\\images\\middle_-742-_jpg.rf.fdf1fa01824151320fe6c877926478c0.jpg: 416x416 (no detections), 12.7ms\n",
      "image 1084/1340 c:\\Users\\user\\Downloads\\yolov10-main\\Fire-Detection-1\\test\\images\\middle_-743-_jpg.rf.763b1cde1a8e9680670eac8021357976.jpg: 416x416 1 fire, 16.1ms\n",
      "image 1085/1340 c:\\Users\\user\\Downloads\\yolov10-main\\Fire-Detection-1\\test\\images\\middle_-754-_jpg.rf.0f3fa951c0507b4049506e006f034221.jpg: 416x416 2 fires, 17.0ms\n",
      "image 1086/1340 c:\\Users\\user\\Downloads\\yolov10-main\\Fire-Detection-1\\test\\images\\middle_-76-_jpg.rf.e15e7abf03f0e2fb8c9e917236675a66.jpg: 416x416 1 fire, 12.0ms\n",
      "image 1087/1340 c:\\Users\\user\\Downloads\\yolov10-main\\Fire-Detection-1\\test\\images\\middle_-773-_jpg.rf.13fb3d423a5a04751fbd16a5207b6d5a.jpg: 416x416 1 fire, 14.0ms\n",
      "image 1088/1340 c:\\Users\\user\\Downloads\\yolov10-main\\Fire-Detection-1\\test\\images\\middle_-782-_jpg.rf.c42bb83ece46ae260a7983e011f5c38d.jpg: 416x416 1 fire, 1 smoke, 17.0ms\n",
      "image 1089/1340 c:\\Users\\user\\Downloads\\yolov10-main\\Fire-Detection-1\\test\\images\\middle_-783-_jpg.rf.c86ae0377140c1a033b2e79b1624b33f.jpg: 416x416 1 fire, 13.0ms\n",
      "image 1090/1340 c:\\Users\\user\\Downloads\\yolov10-main\\Fire-Detection-1\\test\\images\\middle_-79-_jpg.rf.0b69f8bcf0fba49884d5dda0a92853a5.jpg: 416x416 1 fire, 13.0ms\n",
      "image 1091/1340 c:\\Users\\user\\Downloads\\yolov10-main\\Fire-Detection-1\\test\\images\\middle_-791-_jpg.rf.193cdc9358a0ec51350bbea43f3db3f8.jpg: 416x416 1 fire, 19.0ms\n",
      "image 1092/1340 c:\\Users\\user\\Downloads\\yolov10-main\\Fire-Detection-1\\test\\images\\middle_-795-_jpg.rf.cfa726b5c0c4d4f28a45c69365cf60bc.jpg: 416x416 3 fires, 15.0ms\n",
      "image 1093/1340 c:\\Users\\user\\Downloads\\yolov10-main\\Fire-Detection-1\\test\\images\\middle_-797-_jpg.rf.96e7fd8f9413bea6eb83df2988611f14.jpg: 416x416 1 fire, 2 smokes, 18.0ms\n",
      "image 1094/1340 c:\\Users\\user\\Downloads\\yolov10-main\\Fire-Detection-1\\test\\images\\middle_-810-_jpg.rf.21735d885cd980e75be39603e47d1531.jpg: 416x416 1 fire, 14.0ms\n",
      "image 1095/1340 c:\\Users\\user\\Downloads\\yolov10-main\\Fire-Detection-1\\test\\images\\middle_-813-_jpg.rf.7d26b2d739219bced397e9d3653a65d6.jpg: 416x416 1 fire, 12.0ms\n",
      "image 1096/1340 c:\\Users\\user\\Downloads\\yolov10-main\\Fire-Detection-1\\test\\images\\middle_-815-_jpg.rf.a3ff9a05c376e81f3d9f9fb3a758b704.jpg: 416x416 2 fires, 16.0ms\n",
      "image 1097/1340 c:\\Users\\user\\Downloads\\yolov10-main\\Fire-Detection-1\\test\\images\\middle_-826-_jpg.rf.a4de4e927fabb359e1702d7c1234fe93.jpg: 416x416 1 smoke, 13.0ms\n",
      "image 1098/1340 c:\\Users\\user\\Downloads\\yolov10-main\\Fire-Detection-1\\test\\images\\middle_-827-_jpg.rf.6d87db85ac07162086cf5dfd02c421d4.jpg: 416x416 3 fires, 16.0ms\n",
      "image 1099/1340 c:\\Users\\user\\Downloads\\yolov10-main\\Fire-Detection-1\\test\\images\\middle_-838-_jpg.rf.a6aeb56378467335f4fcd3ae16c07106.jpg: 416x416 1 fire, 18.0ms\n",
      "image 1100/1340 c:\\Users\\user\\Downloads\\yolov10-main\\Fire-Detection-1\\test\\images\\middle_-841-_jpg.rf.5157a95194a366044e456b1b4f6043aa.jpg: 416x416 1 fire, 12.0ms\n",
      "image 1101/1340 c:\\Users\\user\\Downloads\\yolov10-main\\Fire-Detection-1\\test\\images\\middle_-85-_jpg.rf.7e5321ce8e4e58a9693dfb0304e95ae0.jpg: 416x416 1 fire, 26.0ms\n",
      "image 1102/1340 c:\\Users\\user\\Downloads\\yolov10-main\\Fire-Detection-1\\test\\images\\middle_-857-_jpg.rf.67b7e4e8cca7a6f12ec18ab8a4c5eaf3.jpg: 416x416 1 fire, 11.0ms\n",
      "image 1103/1340 c:\\Users\\user\\Downloads\\yolov10-main\\Fire-Detection-1\\test\\images\\middle_-861-_jpg.rf.34ef8613dc1b46ab55d3ce01f542e7aa.jpg: 416x416 1 fire, 1 smoke, 11.0ms\n",
      "image 1104/1340 c:\\Users\\user\\Downloads\\yolov10-main\\Fire-Detection-1\\test\\images\\middle_-864-_jpg.rf.a583f14a6290a850a0e411b6b380f405.jpg: 416x416 1 fire, 21.0ms\n",
      "image 1105/1340 c:\\Users\\user\\Downloads\\yolov10-main\\Fire-Detection-1\\test\\images\\middle_-866-_jpg.rf.ac0bd627dfc7816625a919c28b597d68.jpg: 416x416 2 fires, 12.0ms\n",
      "image 1106/1340 c:\\Users\\user\\Downloads\\yolov10-main\\Fire-Detection-1\\test\\images\\middle_-867-_jpg.rf.df26d8f9198a41b1cda13f7cd27a54bd.jpg: 416x416 3 fires, 1 smoke, 11.0ms\n",
      "image 1107/1340 c:\\Users\\user\\Downloads\\yolov10-main\\Fire-Detection-1\\test\\images\\middle_-882-_jpg.rf.6b7f9cea740cecd63d2339bf65e28c54.jpg: 416x416 1 fire, 3 smokes, 14.0ms\n",
      "image 1108/1340 c:\\Users\\user\\Downloads\\yolov10-main\\Fire-Detection-1\\test\\images\\middle_-889-_jpg.rf.fa0acc09114e41fe7167953255dba824.jpg: 416x416 2 fires, 1 smoke, 19.0ms\n",
      "image 1109/1340 c:\\Users\\user\\Downloads\\yolov10-main\\Fire-Detection-1\\test\\images\\middle_-890-_jpg.rf.0b7c34a82c2ababf0420a43868ec6226.jpg: 416x416 1 fire, 15.0ms\n",
      "image 1110/1340 c:\\Users\\user\\Downloads\\yolov10-main\\Fire-Detection-1\\test\\images\\middle_-895-_jpg.rf.f67e7188ba4bb404353b0d6c040383b5.jpg: 416x416 1 fire, 15.0ms\n",
      "image 1111/1340 c:\\Users\\user\\Downloads\\yolov10-main\\Fire-Detection-1\\test\\images\\middle_-904-_jpg.rf.dd8fb3cf9d3f3936797397b3be2457f1.jpg: 416x416 1 fire, 15.0ms\n",
      "image 1112/1340 c:\\Users\\user\\Downloads\\yolov10-main\\Fire-Detection-1\\test\\images\\middle_-905-_jpg.rf.8b5d684d5c60f2cb865f844498954e79.jpg: 416x416 1 fire, 3 smokes, 17.0ms\n",
      "image 1113/1340 c:\\Users\\user\\Downloads\\yolov10-main\\Fire-Detection-1\\test\\images\\middle_-909-_jpg.rf.7c1a245a081f4f21e26bd386fb98991e.jpg: 416x416 3 fires, 2 smokes, 12.0ms\n",
      "image 1114/1340 c:\\Users\\user\\Downloads\\yolov10-main\\Fire-Detection-1\\test\\images\\middle_-91-_jpg.rf.3c1d4ead0f478ed8cec3a57c85a156af.jpg: 416x416 1 fire, 14.0ms\n",
      "image 1115/1340 c:\\Users\\user\\Downloads\\yolov10-main\\Fire-Detection-1\\test\\images\\middle_-912-_jpg.rf.4caadd513f54a78bf433e4007ff8e8cb.jpg: 416x416 1 fire, 1 smoke, 11.0ms\n",
      "image 1116/1340 c:\\Users\\user\\Downloads\\yolov10-main\\Fire-Detection-1\\test\\images\\middle_-915-_jpg.rf.9f67474004159314d48545bfadeb5e16.jpg: 416x416 1 fire, 12.0ms\n",
      "image 1117/1340 c:\\Users\\user\\Downloads\\yolov10-main\\Fire-Detection-1\\test\\images\\middle_-919-_jpg.rf.bccc5e38379e2021b659e2dbf31ff7f3.jpg: 416x416 2 fires, 15.0ms\n",
      "image 1118/1340 c:\\Users\\user\\Downloads\\yolov10-main\\Fire-Detection-1\\test\\images\\middle_-934-_jpg.rf.d65ca845f53c21a82e65d068eb077221.jpg: 416x416 1 fire, 13.0ms\n",
      "image 1119/1340 c:\\Users\\user\\Downloads\\yolov10-main\\Fire-Detection-1\\test\\images\\middle_-952-_jpg.rf.4cff253d6238cb96be9b471d36c275c7.jpg: 416x416 1 fire, 14.0ms\n",
      "image 1120/1340 c:\\Users\\user\\Downloads\\yolov10-main\\Fire-Detection-1\\test\\images\\middle_-953-_jpg.rf.969a457a33ca5a93fca10562e7ce51b0.jpg: 416x416 1 fire, 12.0ms\n",
      "image 1121/1340 c:\\Users\\user\\Downloads\\yolov10-main\\Fire-Detection-1\\test\\images\\middle_-957-_jpg.rf.8db030efec72ba1d4a33f426d6526739.jpg: 416x416 1 fire, 12.0ms\n",
      "image 1122/1340 c:\\Users\\user\\Downloads\\yolov10-main\\Fire-Detection-1\\test\\images\\middle_-962-_jpg.rf.e12600d16f352b3754c488ce5e0aa3dd.jpg: 416x416 3 fires, 1 smoke, 16.0ms\n",
      "image 1123/1340 c:\\Users\\user\\Downloads\\yolov10-main\\Fire-Detection-1\\test\\images\\middle_-972-_jpg.rf.1024080b5b563fe6bb55e77bae0f0bb5.jpg: 416x416 2 fires, 15.0ms\n",
      "image 1124/1340 c:\\Users\\user\\Downloads\\yolov10-main\\Fire-Detection-1\\test\\images\\middle_-997-_jpg.rf.d23672f5eb0328cc2e24e3c3975fc0c5.jpg: 416x416 2 fires, 1 smoke, 16.0ms\n",
      "image 1125/1340 c:\\Users\\user\\Downloads\\yolov10-main\\Fire-Detection-1\\test\\images\\middle_-998-_jpg.rf.af2d15a2b62316bb9742f9cdd3ca41b9.jpg: 416x416 1 fire, 13.0ms\n",
      "image 1126/1340 c:\\Users\\user\\Downloads\\yolov10-main\\Fire-Detection-1\\test\\images\\other_-1006-_jpg.rf.facd186e2e83327903da59bc8cc85d12.jpg: 416x416 (no detections), 15.0ms\n",
      "image 1127/1340 c:\\Users\\user\\Downloads\\yolov10-main\\Fire-Detection-1\\test\\images\\other_-1008-_jpg.rf.e8142be512c1aaacde4d41f921f31d05.jpg: 416x416 1 smoke, 12.0ms\n",
      "image 1128/1340 c:\\Users\\user\\Downloads\\yolov10-main\\Fire-Detection-1\\test\\images\\other_-1014-_jpg.rf.a9aa5645a319fecfffcce3d076b581b8.jpg: 416x416 (no detections), 13.0ms\n",
      "image 1129/1340 c:\\Users\\user\\Downloads\\yolov10-main\\Fire-Detection-1\\test\\images\\other_-1015-_jpg.rf.5bdaf703f7efd2bd60ea88f79dc9b795.jpg: 416x416 (no detections), 12.0ms\n",
      "image 1130/1340 c:\\Users\\user\\Downloads\\yolov10-main\\Fire-Detection-1\\test\\images\\other_-1016-_jpg.rf.3044dc17a5b11a6b0393ddae56a18d66.jpg: 416x416 (no detections), 17.0ms\n",
      "image 1131/1340 c:\\Users\\user\\Downloads\\yolov10-main\\Fire-Detection-1\\test\\images\\other_-1029-_jpg.rf.e6fa723812f840a08a2753c0f2691efd.jpg: 416x416 (no detections), 12.0ms\n",
      "image 1132/1340 c:\\Users\\user\\Downloads\\yolov10-main\\Fire-Detection-1\\test\\images\\other_-1034-_jpg.rf.fdc19ef1150b8f36a90b4852956f87d9.jpg: 416x416 (no detections), 14.0ms\n",
      "image 1133/1340 c:\\Users\\user\\Downloads\\yolov10-main\\Fire-Detection-1\\test\\images\\other_-113-_jpg.rf.2611af956458c92cde67bc9b38c2de28.jpg: 416x416 (no detections), 14.0ms\n",
      "image 1134/1340 c:\\Users\\user\\Downloads\\yolov10-main\\Fire-Detection-1\\test\\images\\other_-117-_jpg.rf.bff17d32e6bed5971a416d550ab8e479.jpg: 416x416 (no detections), 12.0ms\n",
      "image 1135/1340 c:\\Users\\user\\Downloads\\yolov10-main\\Fire-Detection-1\\test\\images\\other_-138-_jpg.rf.309daba35cfbf079712d604c4272ddfb.jpg: 416x416 (no detections), 16.0ms\n",
      "image 1136/1340 c:\\Users\\user\\Downloads\\yolov10-main\\Fire-Detection-1\\test\\images\\other_-149-_jpg.rf.666280501fcd449c8020623b15d3c235.jpg: 416x416 (no detections), 14.0ms\n",
      "image 1137/1340 c:\\Users\\user\\Downloads\\yolov10-main\\Fire-Detection-1\\test\\images\\other_-150-_jpg.rf.5ab6e00309b1639e5baa6e8e1ca5c281.jpg: 416x416 (no detections), 18.0ms\n",
      "image 1138/1340 c:\\Users\\user\\Downloads\\yolov10-main\\Fire-Detection-1\\test\\images\\other_-166-_jpg.rf.bbedc4e18f080f7fc3d5e6141058186e.jpg: 416x416 (no detections), 14.0ms\n",
      "image 1139/1340 c:\\Users\\user\\Downloads\\yolov10-main\\Fire-Detection-1\\test\\images\\other_-175-_jpg.rf.6b4af9471348781afc949dee66372ab6.jpg: 416x416 (no detections), 17.0ms\n",
      "image 1140/1340 c:\\Users\\user\\Downloads\\yolov10-main\\Fire-Detection-1\\test\\images\\other_-178-_jpg.rf.ab1b7ebe549b8f4bdc1020f9803a697a.jpg: 416x416 (no detections), 15.0ms\n",
      "image 1141/1340 c:\\Users\\user\\Downloads\\yolov10-main\\Fire-Detection-1\\test\\images\\other_-179-_jpg.rf.53aa6c421fdf48b9dd026c4cb9856ff7.jpg: 416x416 (no detections), 12.0ms\n",
      "image 1142/1340 c:\\Users\\user\\Downloads\\yolov10-main\\Fire-Detection-1\\test\\images\\other_-186-_jpg.rf.8b35e639795cb21dbd4cdf230a1b1951.jpg: 416x416 (no detections), 11.0ms\n",
      "image 1143/1340 c:\\Users\\user\\Downloads\\yolov10-main\\Fire-Detection-1\\test\\images\\other_-191-_jpg.rf.3ecbe109b0587392fd6378746710bd2b.jpg: 416x416 (no detections), 18.0ms\n",
      "image 1144/1340 c:\\Users\\user\\Downloads\\yolov10-main\\Fire-Detection-1\\test\\images\\other_-193-_jpg.rf.39d3eb705dab913e700ff92b9e3523f3.jpg: 416x416 (no detections), 12.0ms\n",
      "image 1145/1340 c:\\Users\\user\\Downloads\\yolov10-main\\Fire-Detection-1\\test\\images\\other_-195-_jpg.rf.98ce50927b3e8956ff787c9802bb0296.jpg: 416x416 1 smoke, 16.0ms\n",
      "image 1146/1340 c:\\Users\\user\\Downloads\\yolov10-main\\Fire-Detection-1\\test\\images\\other_-197-_jpg.rf.4d070829105d3b4f9b7a6532c79edee3.jpg: 416x416 (no detections), 41.0ms\n",
      "image 1147/1340 c:\\Users\\user\\Downloads\\yolov10-main\\Fire-Detection-1\\test\\images\\other_-199-_jpg.rf.b91f395c9fdb4b02960896f85e080908.jpg: 416x416 1 smoke, 17.0ms\n",
      "image 1148/1340 c:\\Users\\user\\Downloads\\yolov10-main\\Fire-Detection-1\\test\\images\\other_-209-_jpg.rf.7e4de48b6c6a8ca12c8fa1b34280312f.jpg: 416x416 (no detections), 17.0ms\n",
      "image 1149/1340 c:\\Users\\user\\Downloads\\yolov10-main\\Fire-Detection-1\\test\\images\\other_-216-_jpg.rf.028c9678efa6cb2234d733123bee5531.jpg: 416x416 (no detections), 16.0ms\n",
      "image 1150/1340 c:\\Users\\user\\Downloads\\yolov10-main\\Fire-Detection-1\\test\\images\\other_-227-_jpg.rf.fecaec0ddba749cd78e379500389b27b.jpg: 416x416 (no detections), 12.0ms\n",
      "image 1151/1340 c:\\Users\\user\\Downloads\\yolov10-main\\Fire-Detection-1\\test\\images\\other_-228-_jpg.rf.58d84498e259f948a9ba393424da9cb5.jpg: 416x416 (no detections), 12.0ms\n",
      "image 1152/1340 c:\\Users\\user\\Downloads\\yolov10-main\\Fire-Detection-1\\test\\images\\other_-230-_jpg.rf.8631a11710ef59ef2838115acf74b0f4.jpg: 416x416 (no detections), 12.0ms\n",
      "image 1153/1340 c:\\Users\\user\\Downloads\\yolov10-main\\Fire-Detection-1\\test\\images\\other_-233-_jpg.rf.bb51e92f3fea03ca420e632528aa2373.jpg: 416x416 (no detections), 13.0ms\n",
      "image 1154/1340 c:\\Users\\user\\Downloads\\yolov10-main\\Fire-Detection-1\\test\\images\\other_-238-_jpg.rf.b75d07d311bf22192416c23b4b5aedec.jpg: 416x416 (no detections), 15.0ms\n",
      "image 1155/1340 c:\\Users\\user\\Downloads\\yolov10-main\\Fire-Detection-1\\test\\images\\other_-251-_jpg.rf.ac89d087ae1e19cb8227f001c6124582.jpg: 416x416 (no detections), 15.0ms\n",
      "image 1156/1340 c:\\Users\\user\\Downloads\\yolov10-main\\Fire-Detection-1\\test\\images\\other_-258-_jpg.rf.cdc7a432c0346bbfaa569ceb3edafecb.jpg: 416x416 (no detections), 14.0ms\n",
      "image 1157/1340 c:\\Users\\user\\Downloads\\yolov10-main\\Fire-Detection-1\\test\\images\\other_-259-_jpg.rf.f6227992707a9ed891d98ef2017d2467.jpg: 416x416 1 smoke, 12.0ms\n",
      "image 1158/1340 c:\\Users\\user\\Downloads\\yolov10-main\\Fire-Detection-1\\test\\images\\other_-265-_jpg.rf.be0390f5f960866a5299ff76148dc19d.jpg: 416x416 1 fire, 18.0ms\n",
      "image 1159/1340 c:\\Users\\user\\Downloads\\yolov10-main\\Fire-Detection-1\\test\\images\\other_-274-_jpg.rf.4f469ef431b63b4e27cf000d32e054aa.jpg: 416x416 (no detections), 12.0ms\n",
      "image 1160/1340 c:\\Users\\user\\Downloads\\yolov10-main\\Fire-Detection-1\\test\\images\\other_-279-_jpg.rf.6a66cbe6c9eb2f7ded942a7314a9e2cb.jpg: 416x416 (no detections), 13.0ms\n",
      "image 1161/1340 c:\\Users\\user\\Downloads\\yolov10-main\\Fire-Detection-1\\test\\images\\other_-281-_jpg.rf.e1e16e6ca29bc695d8aa149841c447c3.jpg: 416x416 (no detections), 16.0ms\n",
      "image 1162/1340 c:\\Users\\user\\Downloads\\yolov10-main\\Fire-Detection-1\\test\\images\\other_-286-_jpg.rf.0417e2f24b0494b8fc766e5a7824246c.jpg: 416x416 (no detections), 15.0ms\n",
      "image 1163/1340 c:\\Users\\user\\Downloads\\yolov10-main\\Fire-Detection-1\\test\\images\\other_-293-_jpg.rf.743c7bdc11f8ce1e7a85bb698b6fe7c7.jpg: 416x416 (no detections), 16.0ms\n",
      "image 1164/1340 c:\\Users\\user\\Downloads\\yolov10-main\\Fire-Detection-1\\test\\images\\other_-302-_jpg.rf.fe83a649a76e8d265c0a3370ab426bdb.jpg: 416x416 (no detections), 19.0ms\n",
      "image 1165/1340 c:\\Users\\user\\Downloads\\yolov10-main\\Fire-Detection-1\\test\\images\\other_-306-_jpg.rf.7e202b33970c479d49edf3cf8e3fcbde.jpg: 416x416 (no detections), 13.0ms\n",
      "image 1166/1340 c:\\Users\\user\\Downloads\\yolov10-main\\Fire-Detection-1\\test\\images\\other_-31-_jpg.rf.14ae12c0f4ea601ba1bd0cb02a91e110.jpg: 416x416 (no detections), 12.0ms\n",
      "image 1167/1340 c:\\Users\\user\\Downloads\\yolov10-main\\Fire-Detection-1\\test\\images\\other_-311-_jpg.rf.63b31cfa4a6fdc1f4823361e8e304149.jpg: 416x416 (no detections), 14.0ms\n",
      "image 1168/1340 c:\\Users\\user\\Downloads\\yolov10-main\\Fire-Detection-1\\test\\images\\other_-313-_jpg.rf.0deb38a78735a76c67d5e682d7563a53.jpg: 416x416 (no detections), 14.0ms\n",
      "image 1169/1340 c:\\Users\\user\\Downloads\\yolov10-main\\Fire-Detection-1\\test\\images\\other_-315-_jpg.rf.c05da1064913846bcb77f5489b70f17a.jpg: 416x416 (no detections), 13.0ms\n",
      "image 1170/1340 c:\\Users\\user\\Downloads\\yolov10-main\\Fire-Detection-1\\test\\images\\other_-324-_jpg.rf.949e4b046b1bb1fd3cb103698b587246.jpg: 416x416 (no detections), 13.0ms\n",
      "image 1171/1340 c:\\Users\\user\\Downloads\\yolov10-main\\Fire-Detection-1\\test\\images\\other_-330-_jpg.rf.08b9c5a8b915b741f5172e017d861c42.jpg: 416x416 (no detections), 18.0ms\n",
      "image 1172/1340 c:\\Users\\user\\Downloads\\yolov10-main\\Fire-Detection-1\\test\\images\\other_-339-_jpg.rf.d31cf515a4212004453b4c4aacc2bb7e.jpg: 416x416 (no detections), 15.0ms\n",
      "image 1173/1340 c:\\Users\\user\\Downloads\\yolov10-main\\Fire-Detection-1\\test\\images\\other_-34-_jpg.rf.9638429cf839cb56ee09d693db2cb59a.jpg: 416x416 (no detections), 11.0ms\n",
      "image 1174/1340 c:\\Users\\user\\Downloads\\yolov10-main\\Fire-Detection-1\\test\\images\\other_-351-_jpg.rf.82bf1983e190abe4444e881a8f75c18f.jpg: 416x416 (no detections), 14.0ms\n",
      "image 1175/1340 c:\\Users\\user\\Downloads\\yolov10-main\\Fire-Detection-1\\test\\images\\other_-358-_jpg.rf.b43abade4bbffff86ab9e7c87c8e36e1.jpg: 416x416 (no detections), 15.0ms\n",
      "image 1176/1340 c:\\Users\\user\\Downloads\\yolov10-main\\Fire-Detection-1\\test\\images\\other_-36-_jpg.rf.958d5b6590464bf2545adff15630eb69.jpg: 416x416 (no detections), 12.0ms\n",
      "image 1177/1340 c:\\Users\\user\\Downloads\\yolov10-main\\Fire-Detection-1\\test\\images\\other_-362-_jpg.rf.b08825a9854081149e4b5efc624d875c.jpg: 416x416 (no detections), 11.0ms\n",
      "image 1178/1340 c:\\Users\\user\\Downloads\\yolov10-main\\Fire-Detection-1\\test\\images\\other_-368-_jpg.rf.86b76bc951d0566098fd18d3a625241f.jpg: 416x416 (no detections), 16.0ms\n",
      "image 1179/1340 c:\\Users\\user\\Downloads\\yolov10-main\\Fire-Detection-1\\test\\images\\other_-369-_jpg.rf.cef731b2714ec287f85826094049401f.jpg: 416x416 (no detections), 11.0ms\n",
      "image 1180/1340 c:\\Users\\user\\Downloads\\yolov10-main\\Fire-Detection-1\\test\\images\\other_-383-_jpg.rf.11639a5c1a6d567d8a061f55f64467e6.jpg: 416x416 (no detections), 12.0ms\n",
      "image 1181/1340 c:\\Users\\user\\Downloads\\yolov10-main\\Fire-Detection-1\\test\\images\\other_-384-_jpg.rf.05f754e3ce9d7e848413567028f7f30e.jpg: 416x416 (no detections), 11.0ms\n",
      "image 1182/1340 c:\\Users\\user\\Downloads\\yolov10-main\\Fire-Detection-1\\test\\images\\other_-387-_jpg.rf.d3c958c78fcc29353c72d7a40cd403fe.jpg: 416x416 (no detections), 12.0ms\n",
      "image 1183/1340 c:\\Users\\user\\Downloads\\yolov10-main\\Fire-Detection-1\\test\\images\\other_-388-_jpg.rf.c34d3314688ed63d743f8bb85de0e08c.jpg: 416x416 (no detections), 14.0ms\n",
      "image 1184/1340 c:\\Users\\user\\Downloads\\yolov10-main\\Fire-Detection-1\\test\\images\\other_-400-_jpg.rf.fb7cfb4e460a4a34082582b0af0246a0.jpg: 416x416 (no detections), 13.0ms\n",
      "image 1185/1340 c:\\Users\\user\\Downloads\\yolov10-main\\Fire-Detection-1\\test\\images\\other_-405-_jpg.rf.718cc84cd4fbe579de151c71db64c408.jpg: 416x416 (no detections), 18.0ms\n",
      "image 1186/1340 c:\\Users\\user\\Downloads\\yolov10-main\\Fire-Detection-1\\test\\images\\other_-407-_jpg.rf.fb498819d643091e2d7a3e534bf79168.jpg: 416x416 (no detections), 13.0ms\n",
      "image 1187/1340 c:\\Users\\user\\Downloads\\yolov10-main\\Fire-Detection-1\\test\\images\\other_-413-_jpg.rf.205d3de805df684fd3fdab2219b2da74.jpg: 416x416 (no detections), 14.9ms\n",
      "image 1188/1340 c:\\Users\\user\\Downloads\\yolov10-main\\Fire-Detection-1\\test\\images\\other_-417-_jpg.rf.45742e3f61763abf8464d5191959067d.jpg: 416x416 (no detections), 12.9ms\n",
      "image 1189/1340 c:\\Users\\user\\Downloads\\yolov10-main\\Fire-Detection-1\\test\\images\\other_-418-_jpg.rf.b260bcf9a4634168870e102866bbcdd8.jpg: 416x416 (no detections), 56.4ms\n",
      "image 1190/1340 c:\\Users\\user\\Downloads\\yolov10-main\\Fire-Detection-1\\test\\images\\other_-423-_jpg.rf.222f95b990d9ae5af4dfc38c69fa1551.jpg: 416x416 (no detections), 13.4ms\n",
      "image 1191/1340 c:\\Users\\user\\Downloads\\yolov10-main\\Fire-Detection-1\\test\\images\\other_-426-_jpg.rf.6f7fafd872f2377cfdd8f7f012317e52.jpg: 416x416 (no detections), 13.6ms\n",
      "image 1192/1340 c:\\Users\\user\\Downloads\\yolov10-main\\Fire-Detection-1\\test\\images\\other_-430-_jpg.rf.6c7962f7d0b8f4b94605928e6682a255.jpg: 416x416 (no detections), 14.7ms\n",
      "image 1193/1340 c:\\Users\\user\\Downloads\\yolov10-main\\Fire-Detection-1\\test\\images\\other_-434-_jpg.rf.9ea8987c9d023b442a9ee9306b667cbd.jpg: 416x416 (no detections), 19.6ms\n",
      "image 1194/1340 c:\\Users\\user\\Downloads\\yolov10-main\\Fire-Detection-1\\test\\images\\other_-436-_jpg.rf.b2fa16ee5bd4d47ed64f76f98af94ffa.jpg: 416x416 (no detections), 18.0ms\n",
      "image 1195/1340 c:\\Users\\user\\Downloads\\yolov10-main\\Fire-Detection-1\\test\\images\\other_-437-_jpg.rf.b670fed62b7b692b960c215b9486d0d3.jpg: 416x416 (no detections), 15.0ms\n",
      "image 1196/1340 c:\\Users\\user\\Downloads\\yolov10-main\\Fire-Detection-1\\test\\images\\other_-449-_jpg.rf.3d086929916a09c5a82107dd177ede67.jpg: 416x416 (no detections), 14.0ms\n",
      "image 1197/1340 c:\\Users\\user\\Downloads\\yolov10-main\\Fire-Detection-1\\test\\images\\other_-451-_jpg.rf.aadb74e3f1983a997a7818b7b1c3cf72.jpg: 416x416 (no detections), 11.0ms\n",
      "image 1198/1340 c:\\Users\\user\\Downloads\\yolov10-main\\Fire-Detection-1\\test\\images\\other_-453-_jpg.rf.633fca6aec446cc7cec626e1d788622f.jpg: 416x416 (no detections), 13.0ms\n",
      "image 1199/1340 c:\\Users\\user\\Downloads\\yolov10-main\\Fire-Detection-1\\test\\images\\other_-462-_jpg.rf.8333165a5b06bd4d3420e2af6ba5e68e.jpg: 416x416 (no detections), 14.0ms\n",
      "image 1200/1340 c:\\Users\\user\\Downloads\\yolov10-main\\Fire-Detection-1\\test\\images\\other_-466-_jpg.rf.ca22230a0d30cbddf6d653f2ff8b6c1f.jpg: 416x416 (no detections), 13.0ms\n",
      "image 1201/1340 c:\\Users\\user\\Downloads\\yolov10-main\\Fire-Detection-1\\test\\images\\other_-48-_jpg.rf.6307a3563d94fa42b6466525d1fe5d84.jpg: 416x416 (no detections), 12.0ms\n",
      "image 1202/1340 c:\\Users\\user\\Downloads\\yolov10-main\\Fire-Detection-1\\test\\images\\other_-481-_jpg.rf.caa787b1c6fe23b8a6f948538cbee58e.jpg: 416x416 (no detections), 17.0ms\n",
      "image 1203/1340 c:\\Users\\user\\Downloads\\yolov10-main\\Fire-Detection-1\\test\\images\\other_-483-_jpg.rf.233cdde4ec82e929d041c02f00060462.jpg: 416x416 (no detections), 18.0ms\n",
      "image 1204/1340 c:\\Users\\user\\Downloads\\yolov10-main\\Fire-Detection-1\\test\\images\\other_-494-_jpg.rf.d409826f7a63ac602fb6ef20a76896aa.jpg: 416x416 (no detections), 17.0ms\n",
      "image 1205/1340 c:\\Users\\user\\Downloads\\yolov10-main\\Fire-Detection-1\\test\\images\\other_-498-_jpg.rf.2727215c956d8289fcba4fa481c53df0.jpg: 416x416 1 fire, 13.0ms\n",
      "image 1206/1340 c:\\Users\\user\\Downloads\\yolov10-main\\Fire-Detection-1\\test\\images\\other_-499-_jpg.rf.3fe5281e7c64a2e4db14d6a3a10a424b.jpg: 416x416 (no detections), 13.0ms\n",
      "image 1207/1340 c:\\Users\\user\\Downloads\\yolov10-main\\Fire-Detection-1\\test\\images\\other_-509-_jpg.rf.8403da7bb9032d3cd99c30c038e3b70e.jpg: 416x416 3 fires, 14.0ms\n",
      "image 1208/1340 c:\\Users\\user\\Downloads\\yolov10-main\\Fire-Detection-1\\test\\images\\other_-512-_jpg.rf.0fedfcf98ab4c8eab40fec1f87ffcbed.jpg: 416x416 (no detections), 13.0ms\n",
      "image 1209/1340 c:\\Users\\user\\Downloads\\yolov10-main\\Fire-Detection-1\\test\\images\\other_-515-_jpg.rf.51edafda08f6066c20794abd7fee4776.jpg: 416x416 (no detections), 12.0ms\n",
      "image 1210/1340 c:\\Users\\user\\Downloads\\yolov10-main\\Fire-Detection-1\\test\\images\\other_-516-_jpg.rf.38243f608e164889928fe7ccfe95ab68.jpg: 416x416 (no detections), 17.0ms\n",
      "image 1211/1340 c:\\Users\\user\\Downloads\\yolov10-main\\Fire-Detection-1\\test\\images\\other_-522-_jpg.rf.5558527e3910a4f02e4060f05c67df92.jpg: 416x416 (no detections), 15.0ms\n",
      "image 1212/1340 c:\\Users\\user\\Downloads\\yolov10-main\\Fire-Detection-1\\test\\images\\other_-527-_jpg.rf.cff19cf41146fa37783c2363b6cec4f1.jpg: 416x416 (no detections), 15.0ms\n",
      "image 1213/1340 c:\\Users\\user\\Downloads\\yolov10-main\\Fire-Detection-1\\test\\images\\other_-542-_jpg.rf.e8a7d2b967dc107f2726e0c2e29f26a5.jpg: 416x416 1 fire, 15.0ms\n",
      "image 1214/1340 c:\\Users\\user\\Downloads\\yolov10-main\\Fire-Detection-1\\test\\images\\other_-55-_jpg.rf.60373d5e08d41fc544bcabf071a60178.jpg: 416x416 (no detections), 13.0ms\n",
      "image 1215/1340 c:\\Users\\user\\Downloads\\yolov10-main\\Fire-Detection-1\\test\\images\\other_-559-_jpg.rf.d0cbd0e229fba4398c6eaa54aa1cce69.jpg: 416x416 (no detections), 15.0ms\n",
      "image 1216/1340 c:\\Users\\user\\Downloads\\yolov10-main\\Fire-Detection-1\\test\\images\\other_-56-_jpg.rf.1dc5946d3402da7c8e87de6a519fd12d.jpg: 416x416 (no detections), 12.0ms\n",
      "image 1217/1340 c:\\Users\\user\\Downloads\\yolov10-main\\Fire-Detection-1\\test\\images\\other_-560-_jpg.rf.c2852f2108f9ceebd2c8d9d4ce32cd9f.jpg: 416x416 (no detections), 16.0ms\n",
      "image 1218/1340 c:\\Users\\user\\Downloads\\yolov10-main\\Fire-Detection-1\\test\\images\\other_-561-_jpg.rf.7899c291531de70b6613abb0ce0d38f7.jpg: 416x416 (no detections), 21.0ms\n",
      "image 1219/1340 c:\\Users\\user\\Downloads\\yolov10-main\\Fire-Detection-1\\test\\images\\other_-567-_jpg.rf.a71ec675560d5dec4d85e9b3ca036244.jpg: 416x416 (no detections), 12.0ms\n",
      "image 1220/1340 c:\\Users\\user\\Downloads\\yolov10-main\\Fire-Detection-1\\test\\images\\other_-57-_jpg.rf.f28847bd6f48a522309f18f0d8c8bf13.jpg: 416x416 (no detections), 16.0ms\n",
      "image 1221/1340 c:\\Users\\user\\Downloads\\yolov10-main\\Fire-Detection-1\\test\\images\\other_-572-_jpg.rf.a220630dd1b0d987fc5e14bd6e8a69f5.jpg: 416x416 (no detections), 17.0ms\n",
      "image 1222/1340 c:\\Users\\user\\Downloads\\yolov10-main\\Fire-Detection-1\\test\\images\\other_-573-_jpg.rf.aff5f6e6364352f87428a2b84deb3811.jpg: 416x416 (no detections), 15.0ms\n",
      "image 1223/1340 c:\\Users\\user\\Downloads\\yolov10-main\\Fire-Detection-1\\test\\images\\other_-577-_jpg.rf.2938575ee8a840f68819ef9681ccf76f.jpg: 416x416 (no detections), 17.0ms\n",
      "image 1224/1340 c:\\Users\\user\\Downloads\\yolov10-main\\Fire-Detection-1\\test\\images\\other_-581-_jpg.rf.88923ae9c204dec6d91542f76e34b9a8.jpg: 416x416 2 fires, 15.0ms\n",
      "image 1225/1340 c:\\Users\\user\\Downloads\\yolov10-main\\Fire-Detection-1\\test\\images\\other_-589-_jpg.rf.2989b1fea478ad62c35762e515883cb5.jpg: 416x416 (no detections), 11.0ms\n",
      "image 1226/1340 c:\\Users\\user\\Downloads\\yolov10-main\\Fire-Detection-1\\test\\images\\other_-59-_jpg.rf.3a4df86414145037c345049e3e692ed4.jpg: 416x416 (no detections), 15.0ms\n",
      "image 1227/1340 c:\\Users\\user\\Downloads\\yolov10-main\\Fire-Detection-1\\test\\images\\other_-596-_jpg.rf.15eca2122144cbf5499ca3017a851ed7.jpg: 416x416 (no detections), 18.0ms\n",
      "image 1228/1340 c:\\Users\\user\\Downloads\\yolov10-main\\Fire-Detection-1\\test\\images\\other_-597-_jpg.rf.ea4dcd3e897d673caa110d740ddacb43.jpg: 416x416 (no detections), 17.0ms\n",
      "image 1229/1340 c:\\Users\\user\\Downloads\\yolov10-main\\Fire-Detection-1\\test\\images\\other_-615-_jpg.rf.85f8d9b08b804a3ba09458628f2c06fc.jpg: 416x416 (no detections), 12.0ms\n",
      "image 1230/1340 c:\\Users\\user\\Downloads\\yolov10-main\\Fire-Detection-1\\test\\images\\other_-624-_jpg.rf.4835be4edd25f7b51f6c727a171a4725.jpg: 416x416 1 fire, 13.0ms\n",
      "image 1231/1340 c:\\Users\\user\\Downloads\\yolov10-main\\Fire-Detection-1\\test\\images\\other_-627-_jpg.rf.388f1397f32fa6b238380f80dc819007.jpg: 416x416 (no detections), 13.0ms\n",
      "image 1232/1340 c:\\Users\\user\\Downloads\\yolov10-main\\Fire-Detection-1\\test\\images\\other_-629-_jpg.rf.aa4819c5d8264da8ddf422a29c0166de.jpg: 416x416 (no detections), 14.0ms\n",
      "image 1233/1340 c:\\Users\\user\\Downloads\\yolov10-main\\Fire-Detection-1\\test\\images\\other_-632-_jpg.rf.aa15839a48af480e351ac21b30e19e2e.jpg: 416x416 (no detections), 16.0ms\n",
      "image 1234/1340 c:\\Users\\user\\Downloads\\yolov10-main\\Fire-Detection-1\\test\\images\\other_-633-_jpg.rf.cb2e9908b21720742225381fd8dedafd.jpg: 416x416 (no detections), 12.0ms\n",
      "image 1235/1340 c:\\Users\\user\\Downloads\\yolov10-main\\Fire-Detection-1\\test\\images\\other_-637-_jpg.rf.bce8a0f935a71e8597056838b565cdd4.jpg: 416x416 (no detections), 13.0ms\n",
      "image 1236/1340 c:\\Users\\user\\Downloads\\yolov10-main\\Fire-Detection-1\\test\\images\\other_-654-_jpg.rf.3e71edb6abd769f8f44f47d15ebb3cd9.jpg: 416x416 (no detections), 13.0ms\n",
      "image 1237/1340 c:\\Users\\user\\Downloads\\yolov10-main\\Fire-Detection-1\\test\\images\\other_-659-_jpg.rf.e5833b7d74606eeba86114599d1560f7.jpg: 416x416 (no detections), 17.0ms\n",
      "image 1238/1340 c:\\Users\\user\\Downloads\\yolov10-main\\Fire-Detection-1\\test\\images\\other_-660-_jpg.rf.90594e4efe2276814a0ea6d6e28175bc.jpg: 416x416 (no detections), 18.0ms\n",
      "image 1239/1340 c:\\Users\\user\\Downloads\\yolov10-main\\Fire-Detection-1\\test\\images\\other_-664-_jpg.rf.14e94c8d58d7014ede8d86aac2c387e8.jpg: 416x416 (no detections), 18.0ms\n",
      "image 1240/1340 c:\\Users\\user\\Downloads\\yolov10-main\\Fire-Detection-1\\test\\images\\other_-668-_jpg.rf.0619c9ce01a3bac090963d92f0f9cda1.jpg: 416x416 (no detections), 13.0ms\n",
      "image 1241/1340 c:\\Users\\user\\Downloads\\yolov10-main\\Fire-Detection-1\\test\\images\\other_-674-_jpg.rf.43a6459b42a7ec5958a347bfd49e78e1.jpg: 416x416 1 fire, 13.0ms\n",
      "image 1242/1340 c:\\Users\\user\\Downloads\\yolov10-main\\Fire-Detection-1\\test\\images\\other_-687-_jpg.rf.4f29ad25da4ed2f09d095d57cc5a3e2d.jpg: 416x416 (no detections), 17.0ms\n",
      "image 1243/1340 c:\\Users\\user\\Downloads\\yolov10-main\\Fire-Detection-1\\test\\images\\other_-694-_jpg.rf.780f1f2f8ee701a92a401c0ac8c84080.jpg: 416x416 (no detections), 16.0ms\n",
      "image 1244/1340 c:\\Users\\user\\Downloads\\yolov10-main\\Fire-Detection-1\\test\\images\\other_-7-_jpg.rf.76676b6bf2329ae207b4ce03c5f9f3f7.jpg: 416x416 1 fire, 17.0ms\n",
      "image 1245/1340 c:\\Users\\user\\Downloads\\yolov10-main\\Fire-Detection-1\\test\\images\\other_-712-_jpg.rf.1191bbc33b05a858305e2926a1044f47.jpg: 416x416 (no detections), 13.0ms\n",
      "image 1246/1340 c:\\Users\\user\\Downloads\\yolov10-main\\Fire-Detection-1\\test\\images\\other_-714-_jpg.rf.ceb3ad8e48453697ee51dc0b63c816a5.jpg: 416x416 (no detections), 14.0ms\n",
      "image 1247/1340 c:\\Users\\user\\Downloads\\yolov10-main\\Fire-Detection-1\\test\\images\\other_-717-_jpg.rf.5dad7ae03cc88ba7025695eb68ef9f86.jpg: 416x416 (no detections), 17.0ms\n",
      "image 1248/1340 c:\\Users\\user\\Downloads\\yolov10-main\\Fire-Detection-1\\test\\images\\other_-720-_jpg.rf.925e1b101875542dc2c7908fd3a992fb.jpg: 416x416 (no detections), 14.0ms\n",
      "image 1249/1340 c:\\Users\\user\\Downloads\\yolov10-main\\Fire-Detection-1\\test\\images\\other_-732-_jpg.rf.5a0594576f51b5b32321408a79facbdc.jpg: 416x416 (no detections), 16.0ms\n",
      "image 1250/1340 c:\\Users\\user\\Downloads\\yolov10-main\\Fire-Detection-1\\test\\images\\other_-748-_jpg.rf.1d9c00336cfe573f59e099cb6b08b4a7.jpg: 416x416 1 fire, 11.0ms\n",
      "image 1251/1340 c:\\Users\\user\\Downloads\\yolov10-main\\Fire-Detection-1\\test\\images\\other_-75-_jpg.rf.aa3572e81d38c5d7f1c61c53923de724.jpg: 416x416 (no detections), 19.0ms\n",
      "image 1252/1340 c:\\Users\\user\\Downloads\\yolov10-main\\Fire-Detection-1\\test\\images\\other_-754-_jpg.rf.66209e155800537883f2825e013a3907.jpg: 416x416 (no detections), 14.0ms\n",
      "image 1253/1340 c:\\Users\\user\\Downloads\\yolov10-main\\Fire-Detection-1\\test\\images\\other_-773-_jpg.rf.3eb61943509cc753df2df3d10acca484.jpg: 416x416 (no detections), 14.0ms\n",
      "image 1254/1340 c:\\Users\\user\\Downloads\\yolov10-main\\Fire-Detection-1\\test\\images\\other_-774-_jpg.rf.8bdfe0c4bdc5ed4b806b8a7676f388a0.jpg: 416x416 (no detections), 16.0ms\n",
      "image 1255/1340 c:\\Users\\user\\Downloads\\yolov10-main\\Fire-Detection-1\\test\\images\\other_-775-_jpg.rf.297c00bd667beba0cb87dee47e961d46.jpg: 416x416 (no detections), 11.0ms\n",
      "image 1256/1340 c:\\Users\\user\\Downloads\\yolov10-main\\Fire-Detection-1\\test\\images\\other_-799-_jpg.rf.ead5b47377fbf14c5b912b7914b551ac.jpg: 416x416 (no detections), 16.0ms\n",
      "image 1257/1340 c:\\Users\\user\\Downloads\\yolov10-main\\Fire-Detection-1\\test\\images\\other_-80-_jpg.rf.cd90949dd1a1c0d8d993bde21fd0e28d.jpg: 416x416 (no detections), 13.0ms\n",
      "image 1258/1340 c:\\Users\\user\\Downloads\\yolov10-main\\Fire-Detection-1\\test\\images\\other_-811-_jpg.rf.daa2f1e7f91067f135e47ccf0651c8cf.jpg: 416x416 (no detections), 16.0ms\n",
      "image 1259/1340 c:\\Users\\user\\Downloads\\yolov10-main\\Fire-Detection-1\\test\\images\\other_-813-_jpg.rf.132f0daa855220b9b8e7ba1f0289a252.jpg: 416x416 (no detections), 17.0ms\n",
      "image 1260/1340 c:\\Users\\user\\Downloads\\yolov10-main\\Fire-Detection-1\\test\\images\\other_-826-_jpg.rf.d507bbedf6ae1beb816b7f9a9e37ebfe.jpg: 416x416 1 fire, 12.0ms\n",
      "image 1261/1340 c:\\Users\\user\\Downloads\\yolov10-main\\Fire-Detection-1\\test\\images\\other_-830-_jpg.rf.4f0b52ae850d28644ed1c9c1371fbb83.jpg: 416x416 1 fire, 14.0ms\n",
      "image 1262/1340 c:\\Users\\user\\Downloads\\yolov10-main\\Fire-Detection-1\\test\\images\\other_-831-_jpg.rf.316494645380c3d2b520292c7f9067a3.jpg: 416x416 (no detections), 14.0ms\n",
      "image 1263/1340 c:\\Users\\user\\Downloads\\yolov10-main\\Fire-Detection-1\\test\\images\\other_-837-_jpg.rf.e40507e4f613d6be5e469607b2fa7174.jpg: 416x416 (no detections), 14.0ms\n",
      "image 1264/1340 c:\\Users\\user\\Downloads\\yolov10-main\\Fire-Detection-1\\test\\images\\other_-840-_jpg.rf.8a9e157488ec31cfcb5e0de62c761907.jpg: 416x416 (no detections), 15.0ms\n",
      "image 1265/1340 c:\\Users\\user\\Downloads\\yolov10-main\\Fire-Detection-1\\test\\images\\other_-842-_jpg.rf.ca066d3b3413b1b6b8b5375a62335d6f.jpg: 416x416 (no detections), 20.0ms\n",
      "image 1266/1340 c:\\Users\\user\\Downloads\\yolov10-main\\Fire-Detection-1\\test\\images\\other_-846-_jpg.rf.97b9c4344f1f2e1843eebf26198337ff.jpg: 416x416 (no detections), 17.0ms\n",
      "image 1267/1340 c:\\Users\\user\\Downloads\\yolov10-main\\Fire-Detection-1\\test\\images\\other_-856-_jpg.rf.d495769e9030880604b4d7be1d125671.jpg: 416x416 (no detections), 13.0ms\n",
      "image 1268/1340 c:\\Users\\user\\Downloads\\yolov10-main\\Fire-Detection-1\\test\\images\\other_-867-_jpg.rf.967075e5e53ca0cfb71070b08a4751e4.jpg: 416x416 (no detections), 17.0ms\n",
      "image 1269/1340 c:\\Users\\user\\Downloads\\yolov10-main\\Fire-Detection-1\\test\\images\\other_-876-_jpg.rf.ee5e2334343c2b75ce3d63a4c1031efd.jpg: 416x416 (no detections), 13.0ms\n",
      "image 1270/1340 c:\\Users\\user\\Downloads\\yolov10-main\\Fire-Detection-1\\test\\images\\other_-888-_jpg.rf.ed19549500e8a51ef1406c46ff78fd8e.jpg: 416x416 1 fire, 13.0ms\n",
      "image 1271/1340 c:\\Users\\user\\Downloads\\yolov10-main\\Fire-Detection-1\\test\\images\\other_-889-_jpg.rf.5c18236d6a14a2f46c355437bff7f953.jpg: 416x416 (no detections), 14.0ms\n",
      "image 1272/1340 c:\\Users\\user\\Downloads\\yolov10-main\\Fire-Detection-1\\test\\images\\other_-89-_jpg.rf.62edd293283215110d3c2564594f5456.jpg: 416x416 (no detections), 12.0ms\n",
      "image 1273/1340 c:\\Users\\user\\Downloads\\yolov10-main\\Fire-Detection-1\\test\\images\\other_-891-_jpg.rf.6a889cbca8aea4d073d2cbdded60f83c.jpg: 416x416 (no detections), 14.0ms\n",
      "image 1274/1340 c:\\Users\\user\\Downloads\\yolov10-main\\Fire-Detection-1\\test\\images\\other_-892-_jpg.rf.e2eaf52fab980e0bb8f04095008bd4b2.jpg: 416x416 (no detections), 12.0ms\n",
      "image 1275/1340 c:\\Users\\user\\Downloads\\yolov10-main\\Fire-Detection-1\\test\\images\\other_-9-_jpg.rf.9a284fd8fb65bb910e2f9aaae43993d3.jpg: 416x416 (no detections), 15.0ms\n",
      "image 1276/1340 c:\\Users\\user\\Downloads\\yolov10-main\\Fire-Detection-1\\test\\images\\other_-911-_jpg.rf.b6e44fd3a6e7bd77e87926d0cacf3591.jpg: 416x416 1 fire, 12.0ms\n",
      "image 1277/1340 c:\\Users\\user\\Downloads\\yolov10-main\\Fire-Detection-1\\test\\images\\other_-912-_jpg.rf.8747074909c86d695b8a660360c3ddfd.jpg: 416x416 (no detections), 18.0ms\n",
      "image 1278/1340 c:\\Users\\user\\Downloads\\yolov10-main\\Fire-Detection-1\\test\\images\\other_-924-_jpg.rf.3623ff3068a68b1adbe9f0a5467b7339.jpg: 416x416 (no detections), 18.0ms\n",
      "image 1279/1340 c:\\Users\\user\\Downloads\\yolov10-main\\Fire-Detection-1\\test\\images\\other_-937-_jpg.rf.bd6fb393026a1323b18c9e674ddae421.jpg: 416x416 (no detections), 17.0ms\n",
      "image 1280/1340 c:\\Users\\user\\Downloads\\yolov10-main\\Fire-Detection-1\\test\\images\\other_-942-_jpg.rf.ac631c10fd6e45a00ea024a93c29a6cd.jpg: 416x416 (no detections), 18.0ms\n",
      "image 1281/1340 c:\\Users\\user\\Downloads\\yolov10-main\\Fire-Detection-1\\test\\images\\other_-962-_jpg.rf.5d0d785a839568b1fe8793a7cb45756a.jpg: 416x416 (no detections), 18.0ms\n",
      "image 1282/1340 c:\\Users\\user\\Downloads\\yolov10-main\\Fire-Detection-1\\test\\images\\other_-968-_jpg.rf.0b10659ae7d1ef4659e85078e36925bf.jpg: 416x416 (no detections), 12.0ms\n",
      "image 1283/1340 c:\\Users\\user\\Downloads\\yolov10-main\\Fire-Detection-1\\test\\images\\other_-979-_jpg.rf.5de9dbdf995ba7924a4fb5d8fceb6303.jpg: 416x416 (no detections), 13.0ms\n",
      "image 1284/1340 c:\\Users\\user\\Downloads\\yolov10-main\\Fire-Detection-1\\test\\images\\other_-982-_jpg.rf.0efdc07a0a9c43b4e9f0cc1cf9ce5fc2.jpg: 416x416 (no detections), 11.0ms\n",
      "image 1285/1340 c:\\Users\\user\\Downloads\\yolov10-main\\Fire-Detection-1\\test\\images\\other_-996-_jpg.rf.cf286afb7b7616c91a216a382355561a.jpg: 416x416 (no detections), 14.0ms\n",
      "image 1286/1340 c:\\Users\\user\\Downloads\\yolov10-main\\Fire-Detection-1\\test\\images\\small_-108-_jpg.rf.f6f12261a5af6abf39060a4dc955a1d7.jpg: 416x416 2 fires, 19.0ms\n",
      "image 1287/1340 c:\\Users\\user\\Downloads\\yolov10-main\\Fire-Detection-1\\test\\images\\small_-112-_jpg.rf.e85fede0eac85f11d6fbaa2099c704f9.jpg: 416x416 (no detections), 16.0ms\n",
      "image 1288/1340 c:\\Users\\user\\Downloads\\yolov10-main\\Fire-Detection-1\\test\\images\\small_-125-_jpg.rf.99f336700fa5b50b23980facafff2bf3.jpg: 416x416 1 fire, 12.0ms\n",
      "image 1289/1340 c:\\Users\\user\\Downloads\\yolov10-main\\Fire-Detection-1\\test\\images\\small_-134-_jpg.rf.c61757be41bd35ebda5b36cb0cbc8600.jpg: 416x416 1 fire, 13.0ms\n",
      "image 1290/1340 c:\\Users\\user\\Downloads\\yolov10-main\\Fire-Detection-1\\test\\images\\small_-137-_jpg.rf.0ef7121f08002524269f13ecad1d9fa7.jpg: 416x416 1 fire, 12.0ms\n",
      "image 1291/1340 c:\\Users\\user\\Downloads\\yolov10-main\\Fire-Detection-1\\test\\images\\small_-14-_jpg.rf.16b287677fd92154ec187b23f41d4201.jpg: 416x416 5 fires, 18.0ms\n",
      "image 1292/1340 c:\\Users\\user\\Downloads\\yolov10-main\\Fire-Detection-1\\test\\images\\small_-140-_jpg.rf.8ef10b5d78063144554d3ba959339c89.jpg: 416x416 1 fire, 15.0ms\n",
      "image 1293/1340 c:\\Users\\user\\Downloads\\yolov10-main\\Fire-Detection-1\\test\\images\\small_-141-_jpg.rf.ef8f479f63d454a48f075f27eb44c312.jpg: 416x416 1 fire, 13.7ms\n",
      "image 1294/1340 c:\\Users\\user\\Downloads\\yolov10-main\\Fire-Detection-1\\test\\images\\small_-148-_jpg.rf.43c10ace2a99ceb2d3a0a325336debe5.jpg: 416x416 (no detections), 13.3ms\n",
      "image 1295/1340 c:\\Users\\user\\Downloads\\yolov10-main\\Fire-Detection-1\\test\\images\\small_-155-_jpg.rf.6d38470a6ee33a37495167007736c319.jpg: 416x416 2 fires, 12.8ms\n",
      "image 1296/1340 c:\\Users\\user\\Downloads\\yolov10-main\\Fire-Detection-1\\test\\images\\small_-173-_jpg.rf.b10e336812ad21017f0a5f1b19085cb1.jpg: 416x416 2 fires, 14.6ms\n",
      "image 1297/1340 c:\\Users\\user\\Downloads\\yolov10-main\\Fire-Detection-1\\test\\images\\small_-196-_jpg.rf.d5b3a215c0cf86378cadb1f93ef0791c.jpg: 416x416 (no detections), 14.7ms\n",
      "image 1298/1340 c:\\Users\\user\\Downloads\\yolov10-main\\Fire-Detection-1\\test\\images\\small_-2-_jpg.rf.7f163e85cc1d18d94ac907e4025ccfe5.jpg: 416x416 3 fires, 16.7ms\n",
      "image 1299/1340 c:\\Users\\user\\Downloads\\yolov10-main\\Fire-Detection-1\\test\\images\\small_-204-_jpg.rf.bd02e9a1d4e4fcab8f64bf41bd364442.jpg: 416x416 1 fire, 17.0ms\n",
      "image 1300/1340 c:\\Users\\user\\Downloads\\yolov10-main\\Fire-Detection-1\\test\\images\\small_-208-_jpg.rf.c947da657677d873b6154ea892e612fc.jpg: 416x416 1 fire, 15.0ms\n",
      "image 1301/1340 c:\\Users\\user\\Downloads\\yolov10-main\\Fire-Detection-1\\test\\images\\small_-209-_jpg.rf.9d34cbf99265691466545c6f01f84c57.jpg: 416x416 1 fire, 12.0ms\n",
      "image 1302/1340 c:\\Users\\user\\Downloads\\yolov10-main\\Fire-Detection-1\\test\\images\\small_-21-_jpg.rf.0f2a075b64e69901032bd3292956d09a.jpg: 416x416 1 fire, 11.0ms\n",
      "image 1303/1340 c:\\Users\\user\\Downloads\\yolov10-main\\Fire-Detection-1\\test\\images\\small_-212-_jpg.rf.b3c2323d8e26ee3bf789cbeb991a5f36.jpg: 416x416 6 fires, 46.0ms\n",
      "image 1304/1340 c:\\Users\\user\\Downloads\\yolov10-main\\Fire-Detection-1\\test\\images\\small_-220-_jpg.rf.31cda615d21abd35d6ccc4704861ffba.jpg: 416x416 1 fire, 13.0ms\n",
      "image 1305/1340 c:\\Users\\user\\Downloads\\yolov10-main\\Fire-Detection-1\\test\\images\\small_-239-_jpg.rf.ffb11835dcd66ff89d066352d766717d.jpg: 416x416 1 fire, 16.0ms\n",
      "image 1306/1340 c:\\Users\\user\\Downloads\\yolov10-main\\Fire-Detection-1\\test\\images\\small_-241-_jpg.rf.79b9e5392b4c623c4ef4483b0fb3334e.jpg: 416x416 (no detections), 13.0ms\n",
      "image 1307/1340 c:\\Users\\user\\Downloads\\yolov10-main\\Fire-Detection-1\\test\\images\\small_-254-_jpg.rf.3961c2846292fcc8c4cb69db232eefcf.jpg: 416x416 1 fire, 13.0ms\n",
      "image 1308/1340 c:\\Users\\user\\Downloads\\yolov10-main\\Fire-Detection-1\\test\\images\\small_-258-_jpg.rf.6dd08f78697ebf3eff6d67e481706cb5.jpg: 416x416 1 fire, 13.0ms\n",
      "image 1309/1340 c:\\Users\\user\\Downloads\\yolov10-main\\Fire-Detection-1\\test\\images\\small_-264-_jpg.rf.7154143aad43388a250ce5abe3ea1811.jpg: 416x416 1 fire, 13.0ms\n",
      "image 1310/1340 c:\\Users\\user\\Downloads\\yolov10-main\\Fire-Detection-1\\test\\images\\small_-281-_jpg.rf.5fcd102221daf7fbae65ce58a12547da.jpg: 416x416 1 fire, 1 smoke, 15.0ms\n",
      "image 1311/1340 c:\\Users\\user\\Downloads\\yolov10-main\\Fire-Detection-1\\test\\images\\small_-286-_jpg.rf.8a74814c372864c28f39fa49edc4f71e.jpg: 416x416 1 fire, 12.0ms\n",
      "image 1312/1340 c:\\Users\\user\\Downloads\\yolov10-main\\Fire-Detection-1\\test\\images\\small_-289-_jpg.rf.ae29eb9123dbcb2e6a51ae1fc9cea766.jpg: 416x416 1 fire, 12.0ms\n",
      "image 1313/1340 c:\\Users\\user\\Downloads\\yolov10-main\\Fire-Detection-1\\test\\images\\small_-291-_jpg.rf.cb5db7166b495d8a3bb69fab5ba35608.jpg: 416x416 4 fires, 16.0ms\n",
      "image 1314/1340 c:\\Users\\user\\Downloads\\yolov10-main\\Fire-Detection-1\\test\\images\\small_-298-_jpg.rf.bf3e071881ada7cbdcc1753772e09700.jpg: 416x416 3 fires, 15.0ms\n",
      "image 1315/1340 c:\\Users\\user\\Downloads\\yolov10-main\\Fire-Detection-1\\test\\images\\small_-301-_jpg.rf.ec6b872cdd4144ca3c69e4062d0613b4.jpg: 416x416 1 fire, 13.0ms\n",
      "image 1316/1340 c:\\Users\\user\\Downloads\\yolov10-main\\Fire-Detection-1\\test\\images\\small_-303-_jpg.rf.cb7f484891d26b934f8487322fd9ad5c.jpg: 416x416 (no detections), 12.0ms\n",
      "image 1317/1340 c:\\Users\\user\\Downloads\\yolov10-main\\Fire-Detection-1\\test\\images\\small_-305-_jpg.rf.c2ca939380c08400c86db3d45069eff1.jpg: 416x416 1 fire, 17.0ms\n",
      "image 1318/1340 c:\\Users\\user\\Downloads\\yolov10-main\\Fire-Detection-1\\test\\images\\small_-315-_jpg.rf.ee6f88afb74d47bb7b19bf42a4c0964a.jpg: 416x416 1 fire, 15.0ms\n",
      "image 1319/1340 c:\\Users\\user\\Downloads\\yolov10-main\\Fire-Detection-1\\test\\images\\small_-318-_jpg.rf.07fb1d571a112456598869a6d945603e.jpg: 416x416 1 fire, 12.0ms\n",
      "image 1320/1340 c:\\Users\\user\\Downloads\\yolov10-main\\Fire-Detection-1\\test\\images\\small_-321-_jpg.rf.f485d8d67389c19d0c55dd435251292a.jpg: 416x416 1 fire, 15.0ms\n",
      "image 1321/1340 c:\\Users\\user\\Downloads\\yolov10-main\\Fire-Detection-1\\test\\images\\small_-324-_jpg.rf.0f6d2807125390dec62d721f3aefc7b8.jpg: 416x416 11 fires, 12.0ms\n",
      "image 1322/1340 c:\\Users\\user\\Downloads\\yolov10-main\\Fire-Detection-1\\test\\images\\small_-329-_jpg.rf.dfa954295ab64a3e58f7e446332c5743.jpg: 416x416 2 fires, 19.0ms\n",
      "image 1323/1340 c:\\Users\\user\\Downloads\\yolov10-main\\Fire-Detection-1\\test\\images\\small_-331-_jpg.rf.28766333eaa4c7dfd8acc2b201f2c2ce.jpg: 416x416 1 fire, 12.0ms\n",
      "image 1324/1340 c:\\Users\\user\\Downloads\\yolov10-main\\Fire-Detection-1\\test\\images\\small_-336-_jpg.rf.61430a6767270c6dbc9373f323d8ae21.jpg: 416x416 3 fires, 14.0ms\n",
      "image 1325/1340 c:\\Users\\user\\Downloads\\yolov10-main\\Fire-Detection-1\\test\\images\\small_-341-_jpg.rf.1cb5eb33cfddd1736f0d7b86ffb8878f.jpg: 416x416 1 fire, 13.0ms\n",
      "image 1326/1340 c:\\Users\\user\\Downloads\\yolov10-main\\Fire-Detection-1\\test\\images\\small_-343-_jpg.rf.6c67db6fb6ffab5128cbc7e650b5aac3.jpg: 416x416 (no detections), 12.0ms\n",
      "image 1327/1340 c:\\Users\\user\\Downloads\\yolov10-main\\Fire-Detection-1\\test\\images\\small_-344-_jpg.rf.d173db10b0b8308b74936ded9725bbd6.jpg: 416x416 1 fire, 12.0ms\n",
      "image 1328/1340 c:\\Users\\user\\Downloads\\yolov10-main\\Fire-Detection-1\\test\\images\\small_-348-_jpg.rf.e82471c07b47846a500750dde5178985.jpg: 416x416 4 fires, 12.0ms\n",
      "image 1329/1340 c:\\Users\\user\\Downloads\\yolov10-main\\Fire-Detection-1\\test\\images\\small_-40-_jpg.rf.2d6c091c9250da53fcd19cb86f1ae32c.jpg: 416x416 (no detections), 11.0ms\n",
      "image 1330/1340 c:\\Users\\user\\Downloads\\yolov10-main\\Fire-Detection-1\\test\\images\\small_-41-_jpg.rf.57f116b75c2708ea4a57f805bc72759f.jpg: 416x416 1 fire, 12.0ms\n",
      "image 1331/1340 c:\\Users\\user\\Downloads\\yolov10-main\\Fire-Detection-1\\test\\images\\small_-42-_jpg.rf.afc9d75e7040de609428095016dbebb7.jpg: 416x416 1 fire, 12.0ms\n",
      "image 1332/1340 c:\\Users\\user\\Downloads\\yolov10-main\\Fire-Detection-1\\test\\images\\small_-52-_jpg.rf.e719ff26f2084787b96e229980e18bd6.jpg: 416x416 (no detections), 16.0ms\n",
      "image 1333/1340 c:\\Users\\user\\Downloads\\yolov10-main\\Fire-Detection-1\\test\\images\\small_-53-_jpg.rf.e80bf1bf38b3f3303fe37da9ee13ea76.jpg: 416x416 1 fire, 1 smoke, 18.0ms\n",
      "image 1334/1340 c:\\Users\\user\\Downloads\\yolov10-main\\Fire-Detection-1\\test\\images\\small_-60-_jpg.rf.2a4937c5689d46c9cce4b881d3c576e8.jpg: 416x416 1 fire, 13.0ms\n",
      "image 1335/1340 c:\\Users\\user\\Downloads\\yolov10-main\\Fire-Detection-1\\test\\images\\small_-61-_jpg.rf.c24ffc3703ccec5c8698dcfa84c9d300.jpg: 416x416 (no detections), 15.0ms\n",
      "image 1336/1340 c:\\Users\\user\\Downloads\\yolov10-main\\Fire-Detection-1\\test\\images\\small_-62-_jpg.rf.07fc0268ec81a78571cd80d744a932df.jpg: 416x416 1 fire, 13.0ms\n",
      "image 1337/1340 c:\\Users\\user\\Downloads\\yolov10-main\\Fire-Detection-1\\test\\images\\small_-76-_jpg.rf.ae48a173be2b34d58e0dd4c83c65b5a0.jpg: 416x416 1 fire, 19.0ms\n",
      "image 1338/1340 c:\\Users\\user\\Downloads\\yolov10-main\\Fire-Detection-1\\test\\images\\small_-78-_jpg.rf.da9389843610b5bf8f707cc3dc92baf6.jpg: 416x416 1 fire, 17.0ms\n",
      "image 1339/1340 c:\\Users\\user\\Downloads\\yolov10-main\\Fire-Detection-1\\test\\images\\small_-85-_jpg.rf.67384f11d03b9bffa90e829d4a01ad75.jpg: 416x416 1 fire, 16.0ms\n",
      "image 1340/1340 c:\\Users\\user\\Downloads\\yolov10-main\\Fire-Detection-1\\test\\images\\small_-9-_jpg.rf.ea19bcae7f34dfb50dadf98698b73cd9.jpg: 416x416 1 fire, 15.0ms\n",
      "Speed: 1.1ms preprocess, 14.7ms inference, 1.2ms postprocess per image at shape (1, 3, 416, 416)\n"
     ]
    }
   ],
   "source": [
    "model = YOLOv10(\"runs/detect/train2/weights/best.pt\")\n",
    "\n",
    "images_directory = \"Fire-Detection-1/test/images\"\n",
    "labels_directory = \"Fire-Detection-1/test/labels\"\n",
    "labels = os.listdir(labels_directory)\n",
    "\n",
    "results = model(source=images_directory, conf=0.25)"
   ]
  },
  {
   "cell_type": "code",
   "execution_count": 38,
   "metadata": {},
   "outputs": [],
   "source": [
    "def convert_from_yolo(annotations_file, image_width, image_height):\n",
    "    \"\"\"\n",
    "    Convert annotations from YOLO format to a single bounding box.\n",
    "    Args:\n",
    "        annotation (list): A list of annotations in YOLO format [class_id, x_center, y_center, width, height].\n",
    "    Returns:\n",
    "        list: A list of annotations in the format [class_id, x_min, y_min, x_max, y_max].\n",
    "    \"\"\"\n",
    "    with open(annotations_file, 'r') as f:\n",
    "        annotations = [[float(item) for item in line.strip().split()]\n",
    "                       for line in f.readlines()]\n",
    "\n",
    "    # Convert annotations from YOLO format to a single bounding box\n",
    "    for i in range(len(annotations)):\n",
    "        class_id, x_center, y_center, width, height = annotations[i]\n",
    "        x_center *= image_width\n",
    "        y_center *= image_height\n",
    "        width *= image_width\n",
    "        height *= image_height\n",
    "        x_min = int(x_center - width / 2)\n",
    "        y_min = int(y_center - height / 2)\n",
    "        x_max = int(x_center + width / 2)\n",
    "        y_max = int(y_center + height / 2)\n",
    "\n",
    "        annotations[i] = [class_id, x_min, y_min, x_max, y_max]\n",
    "    return annotations"
   ]
  },
  {
   "cell_type": "code",
   "execution_count": 37,
   "metadata": {},
   "outputs": [],
   "source": [
    "# Here, we will plot the detections and the ground truth to the images to check if the models works well.\n",
    "\n",
    "boundingbox_annotator = sv.BoundingBoxAnnotator()\n",
    "label_annotator = sv.LabelAnnotator()\n",
    "\n",
    "for result in results:\n",
    "    image = result.orig_img\n",
    "    detections = sv.Detections.from_ultralytics(result)\n",
    "    image = boundingbox_annotator.annotate(image, detections)\n",
    "    image = label_annotator.annotate(image, detections)\n",
    "\n",
    "    annotations_file = result.path.replace(\".jpg\", \".txt\").replace(\"images\", \"labels\")\n",
    "    image_name = result.path.split(\"\\\\\")[-1]\n",
    "    ground_truth = convert_from_yolo(annotations_file, *result.orig_shape)\n",
    "\n",
    "    for box in ground_truth:\n",
    "        box_color = (0, 255, 255) if box[0] == 0 else (0, 0, 0)\n",
    "        cv2.rectangle(image, tuple(box[1:3]), tuple(box[3:]), box_color, 2)\n",
    "    cv2.imwrite(f\"runs/detect/train2/test_results/{image_name}\", image)"
   ]
  },
  {
   "cell_type": "code",
   "execution_count": 40,
   "metadata": {},
   "outputs": [
    {
     "name": "stdout",
     "output_type": "stream",
     "text": [
      "\n",
      "\n",
      "WARNING ⚠️ inference results will accumulate in RAM unless `stream=True` is passed, causing potential out-of-memory\n",
      "errors for large sources or long-running streams and videos. See https://docs.ultralytics.com/modes/predict/ for help.\n",
      "\n",
      "Example:\n",
      "    results = model(source=..., stream=True)  # generator of Results objects\n",
      "    for r in results:\n",
      "        boxes = r.boxes  # Boxes object for bbox outputs\n",
      "        masks = r.masks  # Masks object for segment masks outputs\n",
      "        probs = r.probs  # Class probabilities for classification outputs\n",
      "\n",
      "video 1/1 (frame 1/918) c:\\Users\\user\\Downloads\\yolov10-main\\videoplayback.mp4: 256x416 1 fire, 1 smoke, 115.0ms\n",
      "video 1/1 (frame 2/918) c:\\Users\\user\\Downloads\\yolov10-main\\videoplayback.mp4: 256x416 1 fire, 1 smoke, 84.0ms\n",
      "video 1/1 (frame 3/918) c:\\Users\\user\\Downloads\\yolov10-main\\videoplayback.mp4: 256x416 1 fire, 1 smoke, 91.0ms\n",
      "video 1/1 (frame 4/918) c:\\Users\\user\\Downloads\\yolov10-main\\videoplayback.mp4: 256x416 1 fire, 1 smoke, 34.0ms\n",
      "video 1/1 (frame 5/918) c:\\Users\\user\\Downloads\\yolov10-main\\videoplayback.mp4: 256x416 1 fire, 1 smoke, 12.0ms\n",
      "video 1/1 (frame 6/918) c:\\Users\\user\\Downloads\\yolov10-main\\videoplayback.mp4: 256x416 1 fire, 1 smoke, 17.0ms\n",
      "video 1/1 (frame 7/918) c:\\Users\\user\\Downloads\\yolov10-main\\videoplayback.mp4: 256x416 1 fire, 1 smoke, 14.0ms\n",
      "video 1/1 (frame 8/918) c:\\Users\\user\\Downloads\\yolov10-main\\videoplayback.mp4: 256x416 1 fire, 1 smoke, 13.0ms\n",
      "video 1/1 (frame 9/918) c:\\Users\\user\\Downloads\\yolov10-main\\videoplayback.mp4: 256x416 2 fires, 1 smoke, 13.0ms\n",
      "video 1/1 (frame 10/918) c:\\Users\\user\\Downloads\\yolov10-main\\videoplayback.mp4: 256x416 2 fires, 2 smokes, 13.0ms\n",
      "video 1/1 (frame 11/918) c:\\Users\\user\\Downloads\\yolov10-main\\videoplayback.mp4: 256x416 1 fire, 1 smoke, 17.0ms\n",
      "video 1/1 (frame 12/918) c:\\Users\\user\\Downloads\\yolov10-main\\videoplayback.mp4: 256x416 2 fires, 1 smoke, 16.0ms\n",
      "video 1/1 (frame 13/918) c:\\Users\\user\\Downloads\\yolov10-main\\videoplayback.mp4: 256x416 3 fires, 1 smoke, 14.0ms\n",
      "video 1/1 (frame 14/918) c:\\Users\\user\\Downloads\\yolov10-main\\videoplayback.mp4: 256x416 1 smoke, 16.0ms\n",
      "video 1/1 (frame 15/918) c:\\Users\\user\\Downloads\\yolov10-main\\videoplayback.mp4: 256x416 1 smoke, 16.0ms\n",
      "video 1/1 (frame 16/918) c:\\Users\\user\\Downloads\\yolov10-main\\videoplayback.mp4: 256x416 1 smoke, 17.0ms\n",
      "video 1/1 (frame 17/918) c:\\Users\\user\\Downloads\\yolov10-main\\videoplayback.mp4: 256x416 1 smoke, 13.0ms\n",
      "video 1/1 (frame 18/918) c:\\Users\\user\\Downloads\\yolov10-main\\videoplayback.mp4: 256x416 1 smoke, 15.0ms\n",
      "video 1/1 (frame 19/918) c:\\Users\\user\\Downloads\\yolov10-main\\videoplayback.mp4: 256x416 1 fire, 1 smoke, 17.0ms\n",
      "video 1/1 (frame 20/918) c:\\Users\\user\\Downloads\\yolov10-main\\videoplayback.mp4: 256x416 1 fire, 1 smoke, 15.0ms\n",
      "video 1/1 (frame 21/918) c:\\Users\\user\\Downloads\\yolov10-main\\videoplayback.mp4: 256x416 1 fire, 1 smoke, 14.0ms\n",
      "video 1/1 (frame 22/918) c:\\Users\\user\\Downloads\\yolov10-main\\videoplayback.mp4: 256x416 1 fire, 1 smoke, 12.0ms\n",
      "video 1/1 (frame 23/918) c:\\Users\\user\\Downloads\\yolov10-main\\videoplayback.mp4: 256x416 1 fire, 1 smoke, 11.0ms\n",
      "video 1/1 (frame 24/918) c:\\Users\\user\\Downloads\\yolov10-main\\videoplayback.mp4: 256x416 1 smoke, 15.0ms\n",
      "video 1/1 (frame 25/918) c:\\Users\\user\\Downloads\\yolov10-main\\videoplayback.mp4: 256x416 1 smoke, 17.0ms\n",
      "video 1/1 (frame 26/918) c:\\Users\\user\\Downloads\\yolov10-main\\videoplayback.mp4: 256x416 1 smoke, 15.0ms\n",
      "video 1/1 (frame 27/918) c:\\Users\\user\\Downloads\\yolov10-main\\videoplayback.mp4: 256x416 1 smoke, 17.4ms\n",
      "video 1/1 (frame 28/918) c:\\Users\\user\\Downloads\\yolov10-main\\videoplayback.mp4: 256x416 1 smoke, 12.5ms\n",
      "video 1/1 (frame 29/918) c:\\Users\\user\\Downloads\\yolov10-main\\videoplayback.mp4: 256x416 1 smoke, 16.0ms\n",
      "video 1/1 (frame 30/918) c:\\Users\\user\\Downloads\\yolov10-main\\videoplayback.mp4: 256x416 1 smoke, 12.4ms\n",
      "video 1/1 (frame 31/918) c:\\Users\\user\\Downloads\\yolov10-main\\videoplayback.mp4: 256x416 1 smoke, 13.6ms\n",
      "video 1/1 (frame 32/918) c:\\Users\\user\\Downloads\\yolov10-main\\videoplayback.mp4: 256x416 1 smoke, 17.0ms\n",
      "video 1/1 (frame 33/918) c:\\Users\\user\\Downloads\\yolov10-main\\videoplayback.mp4: 256x416 1 smoke, 16.0ms\n",
      "video 1/1 (frame 34/918) c:\\Users\\user\\Downloads\\yolov10-main\\videoplayback.mp4: 256x416 1 smoke, 13.0ms\n",
      "video 1/1 (frame 35/918) c:\\Users\\user\\Downloads\\yolov10-main\\videoplayback.mp4: 256x416 1 smoke, 11.0ms\n",
      "video 1/1 (frame 36/918) c:\\Users\\user\\Downloads\\yolov10-main\\videoplayback.mp4: 256x416 1 smoke, 17.0ms\n",
      "video 1/1 (frame 37/918) c:\\Users\\user\\Downloads\\yolov10-main\\videoplayback.mp4: 256x416 1 smoke, 15.0ms\n",
      "video 1/1 (frame 38/918) c:\\Users\\user\\Downloads\\yolov10-main\\videoplayback.mp4: 256x416 1 smoke, 14.0ms\n",
      "video 1/1 (frame 39/918) c:\\Users\\user\\Downloads\\yolov10-main\\videoplayback.mp4: 256x416 1 smoke, 14.0ms\n",
      "video 1/1 (frame 40/918) c:\\Users\\user\\Downloads\\yolov10-main\\videoplayback.mp4: 256x416 1 smoke, 17.0ms\n",
      "video 1/1 (frame 41/918) c:\\Users\\user\\Downloads\\yolov10-main\\videoplayback.mp4: 256x416 1 smoke, 13.0ms\n",
      "video 1/1 (frame 42/918) c:\\Users\\user\\Downloads\\yolov10-main\\videoplayback.mp4: 256x416 1 fire, 1 smoke, 12.0ms\n",
      "video 1/1 (frame 43/918) c:\\Users\\user\\Downloads\\yolov10-main\\videoplayback.mp4: 256x416 1 fire, 1 smoke, 15.0ms\n",
      "video 1/1 (frame 44/918) c:\\Users\\user\\Downloads\\yolov10-main\\videoplayback.mp4: 256x416 1 fire, 1 smoke, 12.0ms\n",
      "video 1/1 (frame 45/918) c:\\Users\\user\\Downloads\\yolov10-main\\videoplayback.mp4: 256x416 1 fire, 1 smoke, 14.0ms\n",
      "video 1/1 (frame 46/918) c:\\Users\\user\\Downloads\\yolov10-main\\videoplayback.mp4: 256x416 1 fire, 1 smoke, 16.0ms\n",
      "video 1/1 (frame 47/918) c:\\Users\\user\\Downloads\\yolov10-main\\videoplayback.mp4: 256x416 1 fire, 1 smoke, 13.0ms\n",
      "video 1/1 (frame 48/918) c:\\Users\\user\\Downloads\\yolov10-main\\videoplayback.mp4: 256x416 1 fire, 1 smoke, 13.0ms\n",
      "video 1/1 (frame 49/918) c:\\Users\\user\\Downloads\\yolov10-main\\videoplayback.mp4: 256x416 1 smoke, 15.0ms\n",
      "video 1/1 (frame 50/918) c:\\Users\\user\\Downloads\\yolov10-main\\videoplayback.mp4: 256x416 1 smoke, 12.0ms\n",
      "video 1/1 (frame 51/918) c:\\Users\\user\\Downloads\\yolov10-main\\videoplayback.mp4: 256x416 1 smoke, 13.0ms\n",
      "video 1/1 (frame 52/918) c:\\Users\\user\\Downloads\\yolov10-main\\videoplayback.mp4: 256x416 1 smoke, 17.0ms\n",
      "video 1/1 (frame 53/918) c:\\Users\\user\\Downloads\\yolov10-main\\videoplayback.mp4: 256x416 1 smoke, 16.0ms\n",
      "video 1/1 (frame 54/918) c:\\Users\\user\\Downloads\\yolov10-main\\videoplayback.mp4: 256x416 1 smoke, 13.0ms\n",
      "video 1/1 (frame 55/918) c:\\Users\\user\\Downloads\\yolov10-main\\videoplayback.mp4: 256x416 1 smoke, 16.0ms\n",
      "video 1/1 (frame 56/918) c:\\Users\\user\\Downloads\\yolov10-main\\videoplayback.mp4: 256x416 1 smoke, 15.0ms\n",
      "video 1/1 (frame 57/918) c:\\Users\\user\\Downloads\\yolov10-main\\videoplayback.mp4: 256x416 1 smoke, 18.0ms\n",
      "video 1/1 (frame 58/918) c:\\Users\\user\\Downloads\\yolov10-main\\videoplayback.mp4: 256x416 1 smoke, 13.0ms\n",
      "video 1/1 (frame 59/918) c:\\Users\\user\\Downloads\\yolov10-main\\videoplayback.mp4: 256x416 1 smoke, 14.0ms\n",
      "video 1/1 (frame 60/918) c:\\Users\\user\\Downloads\\yolov10-main\\videoplayback.mp4: 256x416 1 smoke, 13.0ms\n",
      "video 1/1 (frame 61/918) c:\\Users\\user\\Downloads\\yolov10-main\\videoplayback.mp4: 256x416 1 smoke, 17.0ms\n",
      "video 1/1 (frame 62/918) c:\\Users\\user\\Downloads\\yolov10-main\\videoplayback.mp4: 256x416 1 smoke, 12.0ms\n",
      "video 1/1 (frame 63/918) c:\\Users\\user\\Downloads\\yolov10-main\\videoplayback.mp4: 256x416 2 fires, 1 smoke, 19.0ms\n",
      "video 1/1 (frame 64/918) c:\\Users\\user\\Downloads\\yolov10-main\\videoplayback.mp4: 256x416 1 fire, 1 smoke, 13.0ms\n",
      "video 1/1 (frame 65/918) c:\\Users\\user\\Downloads\\yolov10-main\\videoplayback.mp4: 256x416 1 fire, 14.0ms\n",
      "video 1/1 (frame 66/918) c:\\Users\\user\\Downloads\\yolov10-main\\videoplayback.mp4: 256x416 1 fire, 1 smoke, 14.0ms\n",
      "video 1/1 (frame 67/918) c:\\Users\\user\\Downloads\\yolov10-main\\videoplayback.mp4: 256x416 1 fire, 1 smoke, 15.0ms\n",
      "video 1/1 (frame 68/918) c:\\Users\\user\\Downloads\\yolov10-main\\videoplayback.mp4: 256x416 1 fire, 1 smoke, 18.0ms\n",
      "video 1/1 (frame 69/918) c:\\Users\\user\\Downloads\\yolov10-main\\videoplayback.mp4: 256x416 1 fire, 1 smoke, 17.0ms\n",
      "video 1/1 (frame 70/918) c:\\Users\\user\\Downloads\\yolov10-main\\videoplayback.mp4: 256x416 1 fire, 1 smoke, 12.0ms\n",
      "video 1/1 (frame 71/918) c:\\Users\\user\\Downloads\\yolov10-main\\videoplayback.mp4: 256x416 1 fire, 1 smoke, 13.0ms\n",
      "video 1/1 (frame 72/918) c:\\Users\\user\\Downloads\\yolov10-main\\videoplayback.mp4: 256x416 1 fire, 1 smoke, 11.0ms\n",
      "video 1/1 (frame 73/918) c:\\Users\\user\\Downloads\\yolov10-main\\videoplayback.mp4: 256x416 1 fire, 1 smoke, 17.0ms\n",
      "video 1/1 (frame 74/918) c:\\Users\\user\\Downloads\\yolov10-main\\videoplayback.mp4: 256x416 1 fire, 1 smoke, 14.0ms\n",
      "video 1/1 (frame 75/918) c:\\Users\\user\\Downloads\\yolov10-main\\videoplayback.mp4: 256x416 1 fire, 1 smoke, 14.0ms\n",
      "video 1/1 (frame 76/918) c:\\Users\\user\\Downloads\\yolov10-main\\videoplayback.mp4: 256x416 1 fire, 1 smoke, 14.0ms\n",
      "video 1/1 (frame 77/918) c:\\Users\\user\\Downloads\\yolov10-main\\videoplayback.mp4: 256x416 1 fire, 1 smoke, 12.0ms\n",
      "video 1/1 (frame 78/918) c:\\Users\\user\\Downloads\\yolov10-main\\videoplayback.mp4: 256x416 1 fire, 1 smoke, 15.0ms\n",
      "video 1/1 (frame 79/918) c:\\Users\\user\\Downloads\\yolov10-main\\videoplayback.mp4: 256x416 1 fire, 1 smoke, 14.0ms\n",
      "video 1/1 (frame 80/918) c:\\Users\\user\\Downloads\\yolov10-main\\videoplayback.mp4: 256x416 1 fire, 1 smoke, 18.0ms\n",
      "video 1/1 (frame 81/918) c:\\Users\\user\\Downloads\\yolov10-main\\videoplayback.mp4: 256x416 2 fires, 1 smoke, 14.0ms\n",
      "video 1/1 (frame 82/918) c:\\Users\\user\\Downloads\\yolov10-main\\videoplayback.mp4: 256x416 1 fire, 1 smoke, 12.0ms\n",
      "video 1/1 (frame 83/918) c:\\Users\\user\\Downloads\\yolov10-main\\videoplayback.mp4: 256x416 1 fire, 1 smoke, 11.0ms\n",
      "video 1/1 (frame 84/918) c:\\Users\\user\\Downloads\\yolov10-main\\videoplayback.mp4: 256x416 1 fire, 1 smoke, 15.0ms\n",
      "video 1/1 (frame 85/918) c:\\Users\\user\\Downloads\\yolov10-main\\videoplayback.mp4: 256x416 1 fire, 1 smoke, 15.0ms\n",
      "video 1/1 (frame 86/918) c:\\Users\\user\\Downloads\\yolov10-main\\videoplayback.mp4: 256x416 1 fire, 1 smoke, 13.0ms\n",
      "video 1/1 (frame 87/918) c:\\Users\\user\\Downloads\\yolov10-main\\videoplayback.mp4: 256x416 1 fire, 1 smoke, 14.0ms\n",
      "video 1/1 (frame 88/918) c:\\Users\\user\\Downloads\\yolov10-main\\videoplayback.mp4: 256x416 1 fire, 1 smoke, 12.0ms\n",
      "video 1/1 (frame 89/918) c:\\Users\\user\\Downloads\\yolov10-main\\videoplayback.mp4: 256x416 1 fire, 1 smoke, 12.0ms\n",
      "video 1/1 (frame 90/918) c:\\Users\\user\\Downloads\\yolov10-main\\videoplayback.mp4: 256x416 1 smoke, 16.0ms\n",
      "video 1/1 (frame 91/918) c:\\Users\\user\\Downloads\\yolov10-main\\videoplayback.mp4: 256x416 1 smoke, 15.0ms\n",
      "video 1/1 (frame 92/918) c:\\Users\\user\\Downloads\\yolov10-main\\videoplayback.mp4: 256x416 1 smoke, 11.0ms\n",
      "video 1/1 (frame 93/918) c:\\Users\\user\\Downloads\\yolov10-main\\videoplayback.mp4: 256x416 1 smoke, 17.0ms\n",
      "video 1/1 (frame 94/918) c:\\Users\\user\\Downloads\\yolov10-main\\videoplayback.mp4: 256x416 1 smoke, 13.0ms\n",
      "video 1/1 (frame 95/918) c:\\Users\\user\\Downloads\\yolov10-main\\videoplayback.mp4: 256x416 1 smoke, 11.0ms\n",
      "video 1/1 (frame 96/918) c:\\Users\\user\\Downloads\\yolov10-main\\videoplayback.mp4: 256x416 1 smoke, 14.0ms\n",
      "video 1/1 (frame 97/918) c:\\Users\\user\\Downloads\\yolov10-main\\videoplayback.mp4: 256x416 1 smoke, 16.0ms\n",
      "video 1/1 (frame 98/918) c:\\Users\\user\\Downloads\\yolov10-main\\videoplayback.mp4: 256x416 1 smoke, 17.0ms\n",
      "video 1/1 (frame 99/918) c:\\Users\\user\\Downloads\\yolov10-main\\videoplayback.mp4: 256x416 1 smoke, 12.0ms\n",
      "video 1/1 (frame 100/918) c:\\Users\\user\\Downloads\\yolov10-main\\videoplayback.mp4: 256x416 1 fire, 1 smoke, 13.0ms\n",
      "video 1/1 (frame 101/918) c:\\Users\\user\\Downloads\\yolov10-main\\videoplayback.mp4: 256x416 1 fire, 1 smoke, 14.0ms\n",
      "video 1/1 (frame 102/918) c:\\Users\\user\\Downloads\\yolov10-main\\videoplayback.mp4: 256x416 1 fire, 1 smoke, 13.0ms\n",
      "video 1/1 (frame 103/918) c:\\Users\\user\\Downloads\\yolov10-main\\videoplayback.mp4: 256x416 1 fire, 1 smoke, 13.0ms\n",
      "video 1/1 (frame 104/918) c:\\Users\\user\\Downloads\\yolov10-main\\videoplayback.mp4: 256x416 1 fire, 1 smoke, 18.0ms\n",
      "video 1/1 (frame 105/918) c:\\Users\\user\\Downloads\\yolov10-main\\videoplayback.mp4: 256x416 1 fire, 1 smoke, 13.0ms\n",
      "video 1/1 (frame 106/918) c:\\Users\\user\\Downloads\\yolov10-main\\videoplayback.mp4: 256x416 1 fire, 1 smoke, 18.0ms\n",
      "video 1/1 (frame 107/918) c:\\Users\\user\\Downloads\\yolov10-main\\videoplayback.mp4: 256x416 1 fire, 1 smoke, 18.0ms\n",
      "video 1/1 (frame 108/918) c:\\Users\\user\\Downloads\\yolov10-main\\videoplayback.mp4: 256x416 1 fire, 1 smoke, 11.0ms\n",
      "video 1/1 (frame 109/918) c:\\Users\\user\\Downloads\\yolov10-main\\videoplayback.mp4: 256x416 1 fire, 1 smoke, 17.0ms\n",
      "video 1/1 (frame 110/918) c:\\Users\\user\\Downloads\\yolov10-main\\videoplayback.mp4: 256x416 1 fire, 1 smoke, 17.0ms\n",
      "video 1/1 (frame 111/918) c:\\Users\\user\\Downloads\\yolov10-main\\videoplayback.mp4: 256x416 1 fire, 1 smoke, 15.0ms\n",
      "video 1/1 (frame 112/918) c:\\Users\\user\\Downloads\\yolov10-main\\videoplayback.mp4: 256x416 1 fire, 1 smoke, 18.0ms\n",
      "video 1/1 (frame 113/918) c:\\Users\\user\\Downloads\\yolov10-main\\videoplayback.mp4: 256x416 1 fire, 1 smoke, 14.0ms\n",
      "video 1/1 (frame 114/918) c:\\Users\\user\\Downloads\\yolov10-main\\videoplayback.mp4: 256x416 1 fire, 1 smoke, 13.0ms\n",
      "video 1/1 (frame 115/918) c:\\Users\\user\\Downloads\\yolov10-main\\videoplayback.mp4: 256x416 1 fire, 1 smoke, 18.0ms\n",
      "video 1/1 (frame 116/918) c:\\Users\\user\\Downloads\\yolov10-main\\videoplayback.mp4: 256x416 1 smoke, 12.0ms\n",
      "video 1/1 (frame 117/918) c:\\Users\\user\\Downloads\\yolov10-main\\videoplayback.mp4: 256x416 1 fire, 1 smoke, 18.0ms\n",
      "video 1/1 (frame 118/918) c:\\Users\\user\\Downloads\\yolov10-main\\videoplayback.mp4: 256x416 1 fire, 1 smoke, 16.0ms\n",
      "video 1/1 (frame 119/918) c:\\Users\\user\\Downloads\\yolov10-main\\videoplayback.mp4: 256x416 1 fire, 1 smoke, 16.0ms\n",
      "video 1/1 (frame 120/918) c:\\Users\\user\\Downloads\\yolov10-main\\videoplayback.mp4: 256x416 1 fire, 1 smoke, 12.0ms\n",
      "video 1/1 (frame 121/918) c:\\Users\\user\\Downloads\\yolov10-main\\videoplayback.mp4: 256x416 1 fire, 1 smoke, 14.0ms\n",
      "video 1/1 (frame 122/918) c:\\Users\\user\\Downloads\\yolov10-main\\videoplayback.mp4: 256x416 1 fire, 1 smoke, 15.0ms\n",
      "video 1/1 (frame 123/918) c:\\Users\\user\\Downloads\\yolov10-main\\videoplayback.mp4: 256x416 1 fire, 1 smoke, 13.0ms\n",
      "video 1/1 (frame 124/918) c:\\Users\\user\\Downloads\\yolov10-main\\videoplayback.mp4: 256x416 1 fire, 1 smoke, 11.0ms\n",
      "video 1/1 (frame 125/918) c:\\Users\\user\\Downloads\\yolov10-main\\videoplayback.mp4: 256x416 1 fire, 1 smoke, 15.0ms\n",
      "video 1/1 (frame 126/918) c:\\Users\\user\\Downloads\\yolov10-main\\videoplayback.mp4: 256x416 1 fire, 1 smoke, 15.2ms\n",
      "video 1/1 (frame 127/918) c:\\Users\\user\\Downloads\\yolov10-main\\videoplayback.mp4: 256x416 1 fire, 1 smoke, 17.1ms\n",
      "video 1/1 (frame 128/918) c:\\Users\\user\\Downloads\\yolov10-main\\videoplayback.mp4: 256x416 1 fire, 1 smoke, 13.7ms\n",
      "video 1/1 (frame 129/918) c:\\Users\\user\\Downloads\\yolov10-main\\videoplayback.mp4: 256x416 1 fire, 1 smoke, 16.8ms\n",
      "video 1/1 (frame 130/918) c:\\Users\\user\\Downloads\\yolov10-main\\videoplayback.mp4: 256x416 1 fire, 1 smoke, 18.2ms\n",
      "video 1/1 (frame 131/918) c:\\Users\\user\\Downloads\\yolov10-main\\videoplayback.mp4: 256x416 1 fire, 2 smokes, 14.1ms\n",
      "video 1/1 (frame 132/918) c:\\Users\\user\\Downloads\\yolov10-main\\videoplayback.mp4: 256x416 1 fire, 1 smoke, 12.2ms\n",
      "video 1/1 (frame 133/918) c:\\Users\\user\\Downloads\\yolov10-main\\videoplayback.mp4: 256x416 1 fire, 1 smoke, 13.0ms\n",
      "video 1/1 (frame 134/918) c:\\Users\\user\\Downloads\\yolov10-main\\videoplayback.mp4: 256x416 1 fire, 1 smoke, 15.0ms\n",
      "video 1/1 (frame 135/918) c:\\Users\\user\\Downloads\\yolov10-main\\videoplayback.mp4: 256x416 1 smoke, 14.0ms\n",
      "video 1/1 (frame 136/918) c:\\Users\\user\\Downloads\\yolov10-main\\videoplayback.mp4: 256x416 1 smoke, 15.0ms\n",
      "video 1/1 (frame 137/918) c:\\Users\\user\\Downloads\\yolov10-main\\videoplayback.mp4: 256x416 1 smoke, 15.0ms\n",
      "video 1/1 (frame 138/918) c:\\Users\\user\\Downloads\\yolov10-main\\videoplayback.mp4: 256x416 1 smoke, 16.0ms\n",
      "video 1/1 (frame 139/918) c:\\Users\\user\\Downloads\\yolov10-main\\videoplayback.mp4: 256x416 1 smoke, 14.0ms\n",
      "video 1/1 (frame 140/918) c:\\Users\\user\\Downloads\\yolov10-main\\videoplayback.mp4: 256x416 1 smoke, 13.0ms\n",
      "video 1/1 (frame 141/918) c:\\Users\\user\\Downloads\\yolov10-main\\videoplayback.mp4: 256x416 1 fire, 1 smoke, 16.0ms\n",
      "video 1/1 (frame 142/918) c:\\Users\\user\\Downloads\\yolov10-main\\videoplayback.mp4: 256x416 1 smoke, 14.0ms\n",
      "video 1/1 (frame 143/918) c:\\Users\\user\\Downloads\\yolov10-main\\videoplayback.mp4: 256x416 1 fire, 1 smoke, 14.0ms\n",
      "video 1/1 (frame 144/918) c:\\Users\\user\\Downloads\\yolov10-main\\videoplayback.mp4: 256x416 1 smoke, 14.0ms\n",
      "video 1/1 (frame 145/918) c:\\Users\\user\\Downloads\\yolov10-main\\videoplayback.mp4: 256x416 1 smoke, 13.0ms\n",
      "video 1/1 (frame 146/918) c:\\Users\\user\\Downloads\\yolov10-main\\videoplayback.mp4: 256x416 1 smoke, 12.0ms\n",
      "video 1/1 (frame 147/918) c:\\Users\\user\\Downloads\\yolov10-main\\videoplayback.mp4: 256x416 1 smoke, 13.0ms\n",
      "video 1/1 (frame 148/918) c:\\Users\\user\\Downloads\\yolov10-main\\videoplayback.mp4: 256x416 1 smoke, 12.0ms\n",
      "video 1/1 (frame 149/918) c:\\Users\\user\\Downloads\\yolov10-main\\videoplayback.mp4: 256x416 1 smoke, 15.0ms\n",
      "video 1/1 (frame 150/918) c:\\Users\\user\\Downloads\\yolov10-main\\videoplayback.mp4: 256x416 1 fire, 1 smoke, 15.0ms\n",
      "video 1/1 (frame 151/918) c:\\Users\\user\\Downloads\\yolov10-main\\videoplayback.mp4: 256x416 1 fire, 1 smoke, 12.0ms\n",
      "video 1/1 (frame 152/918) c:\\Users\\user\\Downloads\\yolov10-main\\videoplayback.mp4: 256x416 1 fire, 1 smoke, 17.0ms\n",
      "video 1/1 (frame 153/918) c:\\Users\\user\\Downloads\\yolov10-main\\videoplayback.mp4: 256x416 1 fire, 1 smoke, 13.0ms\n",
      "video 1/1 (frame 154/918) c:\\Users\\user\\Downloads\\yolov10-main\\videoplayback.mp4: 256x416 1 fire, 1 smoke, 16.0ms\n",
      "video 1/1 (frame 155/918) c:\\Users\\user\\Downloads\\yolov10-main\\videoplayback.mp4: 256x416 1 fire, 1 smoke, 18.0ms\n",
      "video 1/1 (frame 156/918) c:\\Users\\user\\Downloads\\yolov10-main\\videoplayback.mp4: 256x416 1 fire, 1 smoke, 16.0ms\n",
      "video 1/1 (frame 157/918) c:\\Users\\user\\Downloads\\yolov10-main\\videoplayback.mp4: 256x416 1 fire, 1 smoke, 13.0ms\n",
      "video 1/1 (frame 158/918) c:\\Users\\user\\Downloads\\yolov10-main\\videoplayback.mp4: 256x416 1 fire, 1 smoke, 14.0ms\n",
      "video 1/1 (frame 159/918) c:\\Users\\user\\Downloads\\yolov10-main\\videoplayback.mp4: 256x416 1 fire, 1 smoke, 13.0ms\n",
      "video 1/1 (frame 160/918) c:\\Users\\user\\Downloads\\yolov10-main\\videoplayback.mp4: 256x416 1 fire, 1 smoke, 19.0ms\n",
      "video 1/1 (frame 161/918) c:\\Users\\user\\Downloads\\yolov10-main\\videoplayback.mp4: 256x416 1 fire, 1 smoke, 17.0ms\n",
      "video 1/1 (frame 162/918) c:\\Users\\user\\Downloads\\yolov10-main\\videoplayback.mp4: 256x416 1 fire, 1 smoke, 16.0ms\n",
      "video 1/1 (frame 163/918) c:\\Users\\user\\Downloads\\yolov10-main\\videoplayback.mp4: 256x416 1 fire, 1 smoke, 11.0ms\n",
      "video 1/1 (frame 164/918) c:\\Users\\user\\Downloads\\yolov10-main\\videoplayback.mp4: 256x416 1 fire, 1 smoke, 13.0ms\n",
      "video 1/1 (frame 165/918) c:\\Users\\user\\Downloads\\yolov10-main\\videoplayback.mp4: 256x416 1 fire, 1 smoke, 13.0ms\n",
      "video 1/1 (frame 166/918) c:\\Users\\user\\Downloads\\yolov10-main\\videoplayback.mp4: 256x416 1 fire, 1 smoke, 12.0ms\n",
      "video 1/1 (frame 167/918) c:\\Users\\user\\Downloads\\yolov10-main\\videoplayback.mp4: 256x416 1 fire, 1 smoke, 12.0ms\n",
      "video 1/1 (frame 168/918) c:\\Users\\user\\Downloads\\yolov10-main\\videoplayback.mp4: 256x416 1 fire, 1 smoke, 13.0ms\n",
      "video 1/1 (frame 169/918) c:\\Users\\user\\Downloads\\yolov10-main\\videoplayback.mp4: 256x416 1 fire, 1 smoke, 16.0ms\n",
      "video 1/1 (frame 170/918) c:\\Users\\user\\Downloads\\yolov10-main\\videoplayback.mp4: 256x416 1 fire, 1 smoke, 12.0ms\n",
      "video 1/1 (frame 171/918) c:\\Users\\user\\Downloads\\yolov10-main\\videoplayback.mp4: 256x416 1 fire, 1 smoke, 14.0ms\n",
      "video 1/1 (frame 172/918) c:\\Users\\user\\Downloads\\yolov10-main\\videoplayback.mp4: 256x416 1 fire, 1 smoke, 14.0ms\n",
      "video 1/1 (frame 173/918) c:\\Users\\user\\Downloads\\yolov10-main\\videoplayback.mp4: 256x416 1 fire, 1 smoke, 12.0ms\n",
      "video 1/1 (frame 174/918) c:\\Users\\user\\Downloads\\yolov10-main\\videoplayback.mp4: 256x416 1 fire, 1 smoke, 16.0ms\n",
      "video 1/1 (frame 175/918) c:\\Users\\user\\Downloads\\yolov10-main\\videoplayback.mp4: 256x416 1 fire, 1 smoke, 11.0ms\n",
      "video 1/1 (frame 176/918) c:\\Users\\user\\Downloads\\yolov10-main\\videoplayback.mp4: 256x416 1 fire, 1 smoke, 13.0ms\n",
      "video 1/1 (frame 177/918) c:\\Users\\user\\Downloads\\yolov10-main\\videoplayback.mp4: 256x416 1 fire, 1 smoke, 15.0ms\n",
      "video 1/1 (frame 178/918) c:\\Users\\user\\Downloads\\yolov10-main\\videoplayback.mp4: 256x416 1 smoke, 15.0ms\n",
      "video 1/1 (frame 179/918) c:\\Users\\user\\Downloads\\yolov10-main\\videoplayback.mp4: 256x416 1 smoke, 13.0ms\n",
      "video 1/1 (frame 180/918) c:\\Users\\user\\Downloads\\yolov10-main\\videoplayback.mp4: 256x416 1 smoke, 14.0ms\n",
      "video 1/1 (frame 181/918) c:\\Users\\user\\Downloads\\yolov10-main\\videoplayback.mp4: 256x416 1 smoke, 13.0ms\n",
      "video 1/1 (frame 182/918) c:\\Users\\user\\Downloads\\yolov10-main\\videoplayback.mp4: 256x416 1 smoke, 12.0ms\n",
      "video 1/1 (frame 183/918) c:\\Users\\user\\Downloads\\yolov10-main\\videoplayback.mp4: 256x416 1 smoke, 12.0ms\n",
      "video 1/1 (frame 184/918) c:\\Users\\user\\Downloads\\yolov10-main\\videoplayback.mp4: 256x416 1 smoke, 13.0ms\n",
      "video 1/1 (frame 185/918) c:\\Users\\user\\Downloads\\yolov10-main\\videoplayback.mp4: 256x416 1 smoke, 11.0ms\n",
      "video 1/1 (frame 186/918) c:\\Users\\user\\Downloads\\yolov10-main\\videoplayback.mp4: 256x416 1 smoke, 14.0ms\n",
      "video 1/1 (frame 187/918) c:\\Users\\user\\Downloads\\yolov10-main\\videoplayback.mp4: 256x416 1 smoke, 17.0ms\n",
      "video 1/1 (frame 188/918) c:\\Users\\user\\Downloads\\yolov10-main\\videoplayback.mp4: 256x416 1 smoke, 12.0ms\n",
      "video 1/1 (frame 189/918) c:\\Users\\user\\Downloads\\yolov10-main\\videoplayback.mp4: 256x416 1 smoke, 13.0ms\n",
      "video 1/1 (frame 190/918) c:\\Users\\user\\Downloads\\yolov10-main\\videoplayback.mp4: 256x416 1 smoke, 12.0ms\n",
      "video 1/1 (frame 191/918) c:\\Users\\user\\Downloads\\yolov10-main\\videoplayback.mp4: 256x416 1 smoke, 13.0ms\n",
      "video 1/1 (frame 192/918) c:\\Users\\user\\Downloads\\yolov10-main\\videoplayback.mp4: 256x416 1 fire, 1 smoke, 12.0ms\n",
      "video 1/1 (frame 193/918) c:\\Users\\user\\Downloads\\yolov10-main\\videoplayback.mp4: 256x416 1 fire, 1 smoke, 13.0ms\n",
      "video 1/1 (frame 194/918) c:\\Users\\user\\Downloads\\yolov10-main\\videoplayback.mp4: 256x416 1 fire, 1 smoke, 12.0ms\n",
      "video 1/1 (frame 195/918) c:\\Users\\user\\Downloads\\yolov10-main\\videoplayback.mp4: 256x416 1 fire, 1 smoke, 13.0ms\n",
      "video 1/1 (frame 196/918) c:\\Users\\user\\Downloads\\yolov10-main\\videoplayback.mp4: 256x416 1 fire, 1 smoke, 17.0ms\n",
      "video 1/1 (frame 197/918) c:\\Users\\user\\Downloads\\yolov10-main\\videoplayback.mp4: 256x416 1 smoke, 16.0ms\n",
      "video 1/1 (frame 198/918) c:\\Users\\user\\Downloads\\yolov10-main\\videoplayback.mp4: 256x416 1 fire, 1 smoke, 12.0ms\n",
      "video 1/1 (frame 199/918) c:\\Users\\user\\Downloads\\yolov10-main\\videoplayback.mp4: 256x416 1 fire, 1 smoke, 12.0ms\n",
      "video 1/1 (frame 200/918) c:\\Users\\user\\Downloads\\yolov10-main\\videoplayback.mp4: 256x416 1 fire, 1 smoke, 14.0ms\n",
      "video 1/1 (frame 201/918) c:\\Users\\user\\Downloads\\yolov10-main\\videoplayback.mp4: 256x416 1 fire, 1 smoke, 12.0ms\n",
      "video 1/1 (frame 202/918) c:\\Users\\user\\Downloads\\yolov10-main\\videoplayback.mp4: 256x416 1 fire, 1 smoke, 14.0ms\n",
      "video 1/1 (frame 203/918) c:\\Users\\user\\Downloads\\yolov10-main\\videoplayback.mp4: 256x416 2 fires, 12.0ms\n",
      "video 1/1 (frame 204/918) c:\\Users\\user\\Downloads\\yolov10-main\\videoplayback.mp4: 256x416 2 fires, 15.0ms\n",
      "video 1/1 (frame 205/918) c:\\Users\\user\\Downloads\\yolov10-main\\videoplayback.mp4: 256x416 (no detections), 14.0ms\n",
      "video 1/1 (frame 206/918) c:\\Users\\user\\Downloads\\yolov10-main\\videoplayback.mp4: 256x416 (no detections), 18.0ms\n",
      "video 1/1 (frame 207/918) c:\\Users\\user\\Downloads\\yolov10-main\\videoplayback.mp4: 256x416 1 fire, 13.0ms\n",
      "video 1/1 (frame 208/918) c:\\Users\\user\\Downloads\\yolov10-main\\videoplayback.mp4: 256x416 1 fire, 12.0ms\n",
      "video 1/1 (frame 209/918) c:\\Users\\user\\Downloads\\yolov10-main\\videoplayback.mp4: 256x416 1 fire, 13.0ms\n",
      "video 1/1 (frame 210/918) c:\\Users\\user\\Downloads\\yolov10-main\\videoplayback.mp4: 256x416 1 fire, 14.0ms\n",
      "video 1/1 (frame 211/918) c:\\Users\\user\\Downloads\\yolov10-main\\videoplayback.mp4: 256x416 (no detections), 13.0ms\n",
      "video 1/1 (frame 212/918) c:\\Users\\user\\Downloads\\yolov10-main\\videoplayback.mp4: 256x416 (no detections), 12.0ms\n",
      "video 1/1 (frame 213/918) c:\\Users\\user\\Downloads\\yolov10-main\\videoplayback.mp4: 256x416 (no detections), 11.0ms\n",
      "video 1/1 (frame 214/918) c:\\Users\\user\\Downloads\\yolov10-main\\videoplayback.mp4: 256x416 (no detections), 13.0ms\n",
      "video 1/1 (frame 215/918) c:\\Users\\user\\Downloads\\yolov10-main\\videoplayback.mp4: 256x416 (no detections), 17.0ms\n",
      "video 1/1 (frame 216/918) c:\\Users\\user\\Downloads\\yolov10-main\\videoplayback.mp4: 256x416 (no detections), 14.0ms\n",
      "video 1/1 (frame 217/918) c:\\Users\\user\\Downloads\\yolov10-main\\videoplayback.mp4: 256x416 1 smoke, 19.0ms\n",
      "video 1/1 (frame 218/918) c:\\Users\\user\\Downloads\\yolov10-main\\videoplayback.mp4: 256x416 1 fire, 13.0ms\n",
      "video 1/1 (frame 219/918) c:\\Users\\user\\Downloads\\yolov10-main\\videoplayback.mp4: 256x416 1 fire, 13.0ms\n",
      "video 1/1 (frame 220/918) c:\\Users\\user\\Downloads\\yolov10-main\\videoplayback.mp4: 256x416 1 fire, 12.0ms\n",
      "video 1/1 (frame 221/918) c:\\Users\\user\\Downloads\\yolov10-main\\videoplayback.mp4: 256x416 1 fire, 20.0ms\n",
      "video 1/1 (frame 222/918) c:\\Users\\user\\Downloads\\yolov10-main\\videoplayback.mp4: 256x416 1 fire, 12.0ms\n",
      "video 1/1 (frame 223/918) c:\\Users\\user\\Downloads\\yolov10-main\\videoplayback.mp4: 256x416 1 fire, 13.0ms\n",
      "video 1/1 (frame 224/918) c:\\Users\\user\\Downloads\\yolov10-main\\videoplayback.mp4: 256x416 1 fire, 12.0ms\n",
      "video 1/1 (frame 225/918) c:\\Users\\user\\Downloads\\yolov10-main\\videoplayback.mp4: 256x416 1 fire, 12.0ms\n",
      "video 1/1 (frame 226/918) c:\\Users\\user\\Downloads\\yolov10-main\\videoplayback.mp4: 256x416 1 fire, 1 smoke, 13.0ms\n",
      "video 1/1 (frame 227/918) c:\\Users\\user\\Downloads\\yolov10-main\\videoplayback.mp4: 256x416 1 fire, 16.0ms\n",
      "video 1/1 (frame 228/918) c:\\Users\\user\\Downloads\\yolov10-main\\videoplayback.mp4: 256x416 1 fire, 15.0ms\n",
      "video 1/1 (frame 229/918) c:\\Users\\user\\Downloads\\yolov10-main\\videoplayback.mp4: 256x416 2 fires, 15.0ms\n",
      "video 1/1 (frame 230/918) c:\\Users\\user\\Downloads\\yolov10-main\\videoplayback.mp4: 256x416 2 fires, 19.1ms\n",
      "video 1/1 (frame 231/918) c:\\Users\\user\\Downloads\\yolov10-main\\videoplayback.mp4: 256x416 2 fires, 1 smoke, 14.6ms\n",
      "video 1/1 (frame 232/918) c:\\Users\\user\\Downloads\\yolov10-main\\videoplayback.mp4: 256x416 2 fires, 15.6ms\n",
      "video 1/1 (frame 233/918) c:\\Users\\user\\Downloads\\yolov10-main\\videoplayback.mp4: 256x416 2 fires, 14.3ms\n",
      "video 1/1 (frame 234/918) c:\\Users\\user\\Downloads\\yolov10-main\\videoplayback.mp4: 256x416 2 fires, 12.6ms\n",
      "video 1/1 (frame 235/918) c:\\Users\\user\\Downloads\\yolov10-main\\videoplayback.mp4: 256x416 2 fires, 13.0ms\n",
      "video 1/1 (frame 236/918) c:\\Users\\user\\Downloads\\yolov10-main\\videoplayback.mp4: 256x416 2 fires, 12.0ms\n",
      "video 1/1 (frame 237/918) c:\\Users\\user\\Downloads\\yolov10-main\\videoplayback.mp4: 256x416 1 fire, 16.0ms\n",
      "video 1/1 (frame 238/918) c:\\Users\\user\\Downloads\\yolov10-main\\videoplayback.mp4: 256x416 (no detections), 15.0ms\n",
      "video 1/1 (frame 239/918) c:\\Users\\user\\Downloads\\yolov10-main\\videoplayback.mp4: 256x416 (no detections), 15.0ms\n",
      "video 1/1 (frame 240/918) c:\\Users\\user\\Downloads\\yolov10-main\\videoplayback.mp4: 256x416 1 fire, 13.0ms\n",
      "video 1/1 (frame 241/918) c:\\Users\\user\\Downloads\\yolov10-main\\videoplayback.mp4: 256x416 (no detections), 16.0ms\n",
      "video 1/1 (frame 242/918) c:\\Users\\user\\Downloads\\yolov10-main\\videoplayback.mp4: 256x416 (no detections), 16.0ms\n",
      "video 1/1 (frame 243/918) c:\\Users\\user\\Downloads\\yolov10-main\\videoplayback.mp4: 256x416 (no detections), 17.0ms\n",
      "video 1/1 (frame 244/918) c:\\Users\\user\\Downloads\\yolov10-main\\videoplayback.mp4: 256x416 (no detections), 13.0ms\n",
      "video 1/1 (frame 245/918) c:\\Users\\user\\Downloads\\yolov10-main\\videoplayback.mp4: 256x416 (no detections), 18.0ms\n",
      "video 1/1 (frame 246/918) c:\\Users\\user\\Downloads\\yolov10-main\\videoplayback.mp4: 256x416 (no detections), 13.0ms\n",
      "video 1/1 (frame 247/918) c:\\Users\\user\\Downloads\\yolov10-main\\videoplayback.mp4: 256x416 (no detections), 15.0ms\n",
      "video 1/1 (frame 248/918) c:\\Users\\user\\Downloads\\yolov10-main\\videoplayback.mp4: 256x416 (no detections), 13.0ms\n",
      "video 1/1 (frame 249/918) c:\\Users\\user\\Downloads\\yolov10-main\\videoplayback.mp4: 256x416 1 smoke, 11.0ms\n",
      "video 1/1 (frame 250/918) c:\\Users\\user\\Downloads\\yolov10-main\\videoplayback.mp4: 256x416 1 smoke, 17.0ms\n",
      "video 1/1 (frame 251/918) c:\\Users\\user\\Downloads\\yolov10-main\\videoplayback.mp4: 256x416 (no detections), 18.0ms\n",
      "video 1/1 (frame 252/918) c:\\Users\\user\\Downloads\\yolov10-main\\videoplayback.mp4: 256x416 1 fire, 1 smoke, 14.0ms\n",
      "video 1/1 (frame 253/918) c:\\Users\\user\\Downloads\\yolov10-main\\videoplayback.mp4: 256x416 1 fire, 1 smoke, 13.0ms\n",
      "video 1/1 (frame 254/918) c:\\Users\\user\\Downloads\\yolov10-main\\videoplayback.mp4: 256x416 1 fire, 1 smoke, 17.0ms\n",
      "video 1/1 (frame 255/918) c:\\Users\\user\\Downloads\\yolov10-main\\videoplayback.mp4: 256x416 1 fire, 1 smoke, 13.0ms\n",
      "video 1/1 (frame 256/918) c:\\Users\\user\\Downloads\\yolov10-main\\videoplayback.mp4: 256x416 1 fire, 1 smoke, 16.0ms\n",
      "video 1/1 (frame 257/918) c:\\Users\\user\\Downloads\\yolov10-main\\videoplayback.mp4: 256x416 1 fire, 1 smoke, 12.0ms\n",
      "video 1/1 (frame 258/918) c:\\Users\\user\\Downloads\\yolov10-main\\videoplayback.mp4: 256x416 1 fire, 1 smoke, 16.0ms\n",
      "video 1/1 (frame 259/918) c:\\Users\\user\\Downloads\\yolov10-main\\videoplayback.mp4: 256x416 1 fire, 1 smoke, 12.0ms\n",
      "video 1/1 (frame 260/918) c:\\Users\\user\\Downloads\\yolov10-main\\videoplayback.mp4: 256x416 1 fire, 15.0ms\n",
      "video 1/1 (frame 261/918) c:\\Users\\user\\Downloads\\yolov10-main\\videoplayback.mp4: 256x416 1 fire, 14.0ms\n",
      "video 1/1 (frame 262/918) c:\\Users\\user\\Downloads\\yolov10-main\\videoplayback.mp4: 256x416 1 fire, 1 smoke, 13.0ms\n",
      "video 1/1 (frame 263/918) c:\\Users\\user\\Downloads\\yolov10-main\\videoplayback.mp4: 256x416 1 fire, 1 smoke, 12.0ms\n",
      "video 1/1 (frame 264/918) c:\\Users\\user\\Downloads\\yolov10-main\\videoplayback.mp4: 256x416 1 fire, 13.0ms\n",
      "video 1/1 (frame 265/918) c:\\Users\\user\\Downloads\\yolov10-main\\videoplayback.mp4: 256x416 1 fire, 12.0ms\n",
      "video 1/1 (frame 266/918) c:\\Users\\user\\Downloads\\yolov10-main\\videoplayback.mp4: 256x416 1 fire, 12.0ms\n",
      "video 1/1 (frame 267/918) c:\\Users\\user\\Downloads\\yolov10-main\\videoplayback.mp4: 256x416 1 fire, 12.0ms\n",
      "video 1/1 (frame 268/918) c:\\Users\\user\\Downloads\\yolov10-main\\videoplayback.mp4: 256x416 1 fire, 18.0ms\n",
      "video 1/1 (frame 269/918) c:\\Users\\user\\Downloads\\yolov10-main\\videoplayback.mp4: 256x416 1 fire, 12.0ms\n",
      "video 1/1 (frame 270/918) c:\\Users\\user\\Downloads\\yolov10-main\\videoplayback.mp4: 256x416 1 fire, 13.0ms\n",
      "video 1/1 (frame 271/918) c:\\Users\\user\\Downloads\\yolov10-main\\videoplayback.mp4: 256x416 1 fire, 1 smoke, 11.0ms\n",
      "video 1/1 (frame 272/918) c:\\Users\\user\\Downloads\\yolov10-main\\videoplayback.mp4: 256x416 1 fire, 14.0ms\n",
      "video 1/1 (frame 273/918) c:\\Users\\user\\Downloads\\yolov10-main\\videoplayback.mp4: 256x416 1 fire, 1 smoke, 15.0ms\n",
      "video 1/1 (frame 274/918) c:\\Users\\user\\Downloads\\yolov10-main\\videoplayback.mp4: 256x416 1 fire, 1 smoke, 20.0ms\n",
      "video 1/1 (frame 275/918) c:\\Users\\user\\Downloads\\yolov10-main\\videoplayback.mp4: 256x416 1 fire, 13.0ms\n",
      "video 1/1 (frame 276/918) c:\\Users\\user\\Downloads\\yolov10-main\\videoplayback.mp4: 256x416 1 fire, 14.0ms\n",
      "video 1/1 (frame 277/918) c:\\Users\\user\\Downloads\\yolov10-main\\videoplayback.mp4: 256x416 1 fire, 16.0ms\n",
      "video 1/1 (frame 278/918) c:\\Users\\user\\Downloads\\yolov10-main\\videoplayback.mp4: 256x416 1 fire, 15.0ms\n",
      "video 1/1 (frame 279/918) c:\\Users\\user\\Downloads\\yolov10-main\\videoplayback.mp4: 256x416 1 fire, 17.0ms\n",
      "video 1/1 (frame 280/918) c:\\Users\\user\\Downloads\\yolov10-main\\videoplayback.mp4: 256x416 1 fire, 1 smoke, 12.0ms\n",
      "video 1/1 (frame 281/918) c:\\Users\\user\\Downloads\\yolov10-main\\videoplayback.mp4: 256x416 1 fire, 16.0ms\n",
      "video 1/1 (frame 282/918) c:\\Users\\user\\Downloads\\yolov10-main\\videoplayback.mp4: 256x416 1 fire, 15.0ms\n",
      "video 1/1 (frame 283/918) c:\\Users\\user\\Downloads\\yolov10-main\\videoplayback.mp4: 256x416 1 fire, 11.0ms\n",
      "video 1/1 (frame 284/918) c:\\Users\\user\\Downloads\\yolov10-main\\videoplayback.mp4: 256x416 1 fire, 1 smoke, 18.0ms\n",
      "video 1/1 (frame 285/918) c:\\Users\\user\\Downloads\\yolov10-main\\videoplayback.mp4: 256x416 1 fire, 1 smoke, 13.0ms\n",
      "video 1/1 (frame 286/918) c:\\Users\\user\\Downloads\\yolov10-main\\videoplayback.mp4: 256x416 1 fire, 1 smoke, 15.0ms\n",
      "video 1/1 (frame 287/918) c:\\Users\\user\\Downloads\\yolov10-main\\videoplayback.mp4: 256x416 1 fire, 1 smoke, 15.0ms\n",
      "video 1/1 (frame 288/918) c:\\Users\\user\\Downloads\\yolov10-main\\videoplayback.mp4: 256x416 1 fire, 1 smoke, 16.0ms\n",
      "video 1/1 (frame 289/918) c:\\Users\\user\\Downloads\\yolov10-main\\videoplayback.mp4: 256x416 1 fire, 14.0ms\n",
      "video 1/1 (frame 290/918) c:\\Users\\user\\Downloads\\yolov10-main\\videoplayback.mp4: 256x416 1 fire, 1 smoke, 13.0ms\n",
      "video 1/1 (frame 291/918) c:\\Users\\user\\Downloads\\yolov10-main\\videoplayback.mp4: 256x416 1 fire, 1 smoke, 11.0ms\n",
      "video 1/1 (frame 292/918) c:\\Users\\user\\Downloads\\yolov10-main\\videoplayback.mp4: 256x416 1 fire, 12.0ms\n",
      "video 1/1 (frame 293/918) c:\\Users\\user\\Downloads\\yolov10-main\\videoplayback.mp4: 256x416 1 fire, 17.0ms\n",
      "video 1/1 (frame 294/918) c:\\Users\\user\\Downloads\\yolov10-main\\videoplayback.mp4: 256x416 1 fire, 11.0ms\n",
      "video 1/1 (frame 295/918) c:\\Users\\user\\Downloads\\yolov10-main\\videoplayback.mp4: 256x416 1 fire, 12.0ms\n",
      "video 1/1 (frame 296/918) c:\\Users\\user\\Downloads\\yolov10-main\\videoplayback.mp4: 256x416 1 fire, 13.0ms\n",
      "video 1/1 (frame 297/918) c:\\Users\\user\\Downloads\\yolov10-main\\videoplayback.mp4: 256x416 1 fire, 12.0ms\n",
      "video 1/1 (frame 298/918) c:\\Users\\user\\Downloads\\yolov10-main\\videoplayback.mp4: 256x416 1 fire, 12.0ms\n",
      "video 1/1 (frame 299/918) c:\\Users\\user\\Downloads\\yolov10-main\\videoplayback.mp4: 256x416 1 fire, 15.0ms\n",
      "video 1/1 (frame 300/918) c:\\Users\\user\\Downloads\\yolov10-main\\videoplayback.mp4: 256x416 1 fire, 14.0ms\n",
      "video 1/1 (frame 301/918) c:\\Users\\user\\Downloads\\yolov10-main\\videoplayback.mp4: 256x416 1 fire, 12.0ms\n",
      "video 1/1 (frame 302/918) c:\\Users\\user\\Downloads\\yolov10-main\\videoplayback.mp4: 256x416 1 fire, 15.0ms\n",
      "video 1/1 (frame 303/918) c:\\Users\\user\\Downloads\\yolov10-main\\videoplayback.mp4: 256x416 1 fire, 16.0ms\n",
      "video 1/1 (frame 304/918) c:\\Users\\user\\Downloads\\yolov10-main\\videoplayback.mp4: 256x416 1 fire, 11.0ms\n",
      "video 1/1 (frame 305/918) c:\\Users\\user\\Downloads\\yolov10-main\\videoplayback.mp4: 256x416 1 fire, 12.0ms\n",
      "video 1/1 (frame 306/918) c:\\Users\\user\\Downloads\\yolov10-main\\videoplayback.mp4: 256x416 1 fire, 15.0ms\n",
      "video 1/1 (frame 307/918) c:\\Users\\user\\Downloads\\yolov10-main\\videoplayback.mp4: 256x416 1 fire, 18.0ms\n",
      "video 1/1 (frame 308/918) c:\\Users\\user\\Downloads\\yolov10-main\\videoplayback.mp4: 256x416 1 fire, 16.0ms\n",
      "video 1/1 (frame 309/918) c:\\Users\\user\\Downloads\\yolov10-main\\videoplayback.mp4: 256x416 1 fire, 16.0ms\n",
      "video 1/1 (frame 310/918) c:\\Users\\user\\Downloads\\yolov10-main\\videoplayback.mp4: 256x416 1 fire, 12.0ms\n",
      "video 1/1 (frame 311/918) c:\\Users\\user\\Downloads\\yolov10-main\\videoplayback.mp4: 256x416 1 fire, 11.0ms\n",
      "video 1/1 (frame 312/918) c:\\Users\\user\\Downloads\\yolov10-main\\videoplayback.mp4: 256x416 1 fire, 16.0ms\n",
      "video 1/1 (frame 313/918) c:\\Users\\user\\Downloads\\yolov10-main\\videoplayback.mp4: 256x416 1 fire, 16.0ms\n",
      "video 1/1 (frame 314/918) c:\\Users\\user\\Downloads\\yolov10-main\\videoplayback.mp4: 256x416 1 fire, 18.0ms\n",
      "video 1/1 (frame 315/918) c:\\Users\\user\\Downloads\\yolov10-main\\videoplayback.mp4: 256x416 1 fire, 14.0ms\n",
      "video 1/1 (frame 316/918) c:\\Users\\user\\Downloads\\yolov10-main\\videoplayback.mp4: 256x416 1 fire, 14.0ms\n",
      "video 1/1 (frame 317/918) c:\\Users\\user\\Downloads\\yolov10-main\\videoplayback.mp4: 256x416 1 fire, 12.0ms\n",
      "video 1/1 (frame 318/918) c:\\Users\\user\\Downloads\\yolov10-main\\videoplayback.mp4: 256x416 1 fire, 12.0ms\n",
      "video 1/1 (frame 319/918) c:\\Users\\user\\Downloads\\yolov10-main\\videoplayback.mp4: 256x416 1 fire, 16.0ms\n",
      "video 1/1 (frame 320/918) c:\\Users\\user\\Downloads\\yolov10-main\\videoplayback.mp4: 256x416 1 fire, 15.0ms\n",
      "video 1/1 (frame 321/918) c:\\Users\\user\\Downloads\\yolov10-main\\videoplayback.mp4: 256x416 1 fire, 12.0ms\n",
      "video 1/1 (frame 322/918) c:\\Users\\user\\Downloads\\yolov10-main\\videoplayback.mp4: 256x416 1 fire, 13.0ms\n",
      "video 1/1 (frame 323/918) c:\\Users\\user\\Downloads\\yolov10-main\\videoplayback.mp4: 256x416 1 fire, 11.0ms\n",
      "video 1/1 (frame 324/918) c:\\Users\\user\\Downloads\\yolov10-main\\videoplayback.mp4: 256x416 1 fire, 12.0ms\n",
      "video 1/1 (frame 325/918) c:\\Users\\user\\Downloads\\yolov10-main\\videoplayback.mp4: 256x416 1 fire, 11.0ms\n",
      "video 1/1 (frame 326/918) c:\\Users\\user\\Downloads\\yolov10-main\\videoplayback.mp4: 256x416 1 fire, 13.0ms\n",
      "video 1/1 (frame 327/918) c:\\Users\\user\\Downloads\\yolov10-main\\videoplayback.mp4: 256x416 1 fire, 12.0ms\n",
      "video 1/1 (frame 328/918) c:\\Users\\user\\Downloads\\yolov10-main\\videoplayback.mp4: 256x416 1 fire, 1 smoke, 13.0ms\n",
      "video 1/1 (frame 329/918) c:\\Users\\user\\Downloads\\yolov10-main\\videoplayback.mp4: 256x416 1 fire, 18.0ms\n",
      "video 1/1 (frame 330/918) c:\\Users\\user\\Downloads\\yolov10-main\\videoplayback.mp4: 256x416 1 fire, 16.0ms\n",
      "video 1/1 (frame 331/918) c:\\Users\\user\\Downloads\\yolov10-main\\videoplayback.mp4: 256x416 1 fire, 1 smoke, 16.0ms\n",
      "video 1/1 (frame 332/918) c:\\Users\\user\\Downloads\\yolov10-main\\videoplayback.mp4: 256x416 1 fire, 16.4ms\n",
      "video 1/1 (frame 333/918) c:\\Users\\user\\Downloads\\yolov10-main\\videoplayback.mp4: 256x416 1 fire, 13.0ms\n",
      "video 1/1 (frame 334/918) c:\\Users\\user\\Downloads\\yolov10-main\\videoplayback.mp4: 256x416 2 fires, 1 smoke, 13.0ms\n",
      "video 1/1 (frame 335/918) c:\\Users\\user\\Downloads\\yolov10-main\\videoplayback.mp4: 256x416 2 fires, 1 smoke, 14.6ms\n",
      "video 1/1 (frame 336/918) c:\\Users\\user\\Downloads\\yolov10-main\\videoplayback.mp4: 256x416 1 smoke, 16.0ms\n",
      "video 1/1 (frame 337/918) c:\\Users\\user\\Downloads\\yolov10-main\\videoplayback.mp4: 256x416 1 smoke, 13.0ms\n",
      "video 1/1 (frame 338/918) c:\\Users\\user\\Downloads\\yolov10-main\\videoplayback.mp4: 256x416 1 fire, 1 smoke, 13.0ms\n",
      "video 1/1 (frame 339/918) c:\\Users\\user\\Downloads\\yolov10-main\\videoplayback.mp4: 256x416 1 fire, 1 smoke, 20.0ms\n",
      "video 1/1 (frame 340/918) c:\\Users\\user\\Downloads\\yolov10-main\\videoplayback.mp4: 256x416 1 smoke, 12.0ms\n",
      "video 1/1 (frame 341/918) c:\\Users\\user\\Downloads\\yolov10-main\\videoplayback.mp4: 256x416 1 smoke, 22.0ms\n",
      "video 1/1 (frame 342/918) c:\\Users\\user\\Downloads\\yolov10-main\\videoplayback.mp4: 256x416 1 smoke, 12.0ms\n",
      "video 1/1 (frame 343/918) c:\\Users\\user\\Downloads\\yolov10-main\\videoplayback.mp4: 256x416 1 smoke, 24.0ms\n",
      "video 1/1 (frame 344/918) c:\\Users\\user\\Downloads\\yolov10-main\\videoplayback.mp4: 256x416 1 fire, 1 smoke, 13.0ms\n",
      "video 1/1 (frame 345/918) c:\\Users\\user\\Downloads\\yolov10-main\\videoplayback.mp4: 256x416 1 fire, 1 smoke, 17.0ms\n",
      "video 1/1 (frame 346/918) c:\\Users\\user\\Downloads\\yolov10-main\\videoplayback.mp4: 256x416 1 fire, 1 smoke, 12.0ms\n",
      "video 1/1 (frame 347/918) c:\\Users\\user\\Downloads\\yolov10-main\\videoplayback.mp4: 256x416 1 fire, 1 smoke, 12.0ms\n",
      "video 1/1 (frame 348/918) c:\\Users\\user\\Downloads\\yolov10-main\\videoplayback.mp4: 256x416 1 fire, 12.0ms\n",
      "video 1/1 (frame 349/918) c:\\Users\\user\\Downloads\\yolov10-main\\videoplayback.mp4: 256x416 1 fire, 17.0ms\n",
      "video 1/1 (frame 350/918) c:\\Users\\user\\Downloads\\yolov10-main\\videoplayback.mp4: 256x416 1 fire, 13.0ms\n",
      "video 1/1 (frame 351/918) c:\\Users\\user\\Downloads\\yolov10-main\\videoplayback.mp4: 256x416 1 fire, 17.0ms\n",
      "video 1/1 (frame 352/918) c:\\Users\\user\\Downloads\\yolov10-main\\videoplayback.mp4: 256x416 1 fire, 12.0ms\n",
      "video 1/1 (frame 353/918) c:\\Users\\user\\Downloads\\yolov10-main\\videoplayback.mp4: 256x416 1 fire, 12.0ms\n",
      "video 1/1 (frame 354/918) c:\\Users\\user\\Downloads\\yolov10-main\\videoplayback.mp4: 256x416 1 fire, 12.0ms\n",
      "video 1/1 (frame 355/918) c:\\Users\\user\\Downloads\\yolov10-main\\videoplayback.mp4: 256x416 1 fire, 18.0ms\n",
      "video 1/1 (frame 356/918) c:\\Users\\user\\Downloads\\yolov10-main\\videoplayback.mp4: 256x416 1 fire, 12.0ms\n",
      "video 1/1 (frame 357/918) c:\\Users\\user\\Downloads\\yolov10-main\\videoplayback.mp4: 256x416 1 fire, 14.0ms\n",
      "video 1/1 (frame 358/918) c:\\Users\\user\\Downloads\\yolov10-main\\videoplayback.mp4: 256x416 1 fire, 12.0ms\n",
      "video 1/1 (frame 359/918) c:\\Users\\user\\Downloads\\yolov10-main\\videoplayback.mp4: 256x416 1 fire, 15.0ms\n",
      "video 1/1 (frame 360/918) c:\\Users\\user\\Downloads\\yolov10-main\\videoplayback.mp4: 256x416 1 fire, 17.0ms\n",
      "video 1/1 (frame 361/918) c:\\Users\\user\\Downloads\\yolov10-main\\videoplayback.mp4: 256x416 1 fire, 17.0ms\n",
      "video 1/1 (frame 362/918) c:\\Users\\user\\Downloads\\yolov10-main\\videoplayback.mp4: 256x416 1 fire, 12.0ms\n",
      "video 1/1 (frame 363/918) c:\\Users\\user\\Downloads\\yolov10-main\\videoplayback.mp4: 256x416 1 fire, 15.0ms\n",
      "video 1/1 (frame 364/918) c:\\Users\\user\\Downloads\\yolov10-main\\videoplayback.mp4: 256x416 1 fire, 12.0ms\n",
      "video 1/1 (frame 365/918) c:\\Users\\user\\Downloads\\yolov10-main\\videoplayback.mp4: 256x416 1 fire, 17.0ms\n",
      "video 1/1 (frame 366/918) c:\\Users\\user\\Downloads\\yolov10-main\\videoplayback.mp4: 256x416 1 fire, 11.0ms\n",
      "video 1/1 (frame 367/918) c:\\Users\\user\\Downloads\\yolov10-main\\videoplayback.mp4: 256x416 1 fire, 12.0ms\n",
      "video 1/1 (frame 368/918) c:\\Users\\user\\Downloads\\yolov10-main\\videoplayback.mp4: 256x416 1 fire, 13.0ms\n",
      "video 1/1 (frame 369/918) c:\\Users\\user\\Downloads\\yolov10-main\\videoplayback.mp4: 256x416 1 fire, 13.0ms\n",
      "video 1/1 (frame 370/918) c:\\Users\\user\\Downloads\\yolov10-main\\videoplayback.mp4: 256x416 1 fire, 12.0ms\n",
      "video 1/1 (frame 371/918) c:\\Users\\user\\Downloads\\yolov10-main\\videoplayback.mp4: 256x416 1 fire, 13.0ms\n",
      "video 1/1 (frame 372/918) c:\\Users\\user\\Downloads\\yolov10-main\\videoplayback.mp4: 256x416 1 fire, 14.0ms\n",
      "video 1/1 (frame 373/918) c:\\Users\\user\\Downloads\\yolov10-main\\videoplayback.mp4: 256x416 1 fire, 13.0ms\n",
      "video 1/1 (frame 374/918) c:\\Users\\user\\Downloads\\yolov10-main\\videoplayback.mp4: 256x416 1 fire, 14.0ms\n",
      "video 1/1 (frame 375/918) c:\\Users\\user\\Downloads\\yolov10-main\\videoplayback.mp4: 256x416 1 fire, 17.0ms\n",
      "video 1/1 (frame 376/918) c:\\Users\\user\\Downloads\\yolov10-main\\videoplayback.mp4: 256x416 1 fire, 14.0ms\n",
      "video 1/1 (frame 377/918) c:\\Users\\user\\Downloads\\yolov10-main\\videoplayback.mp4: 256x416 1 fire, 14.0ms\n",
      "video 1/1 (frame 378/918) c:\\Users\\user\\Downloads\\yolov10-main\\videoplayback.mp4: 256x416 1 fire, 18.0ms\n",
      "video 1/1 (frame 379/918) c:\\Users\\user\\Downloads\\yolov10-main\\videoplayback.mp4: 256x416 1 fire, 17.0ms\n",
      "video 1/1 (frame 380/918) c:\\Users\\user\\Downloads\\yolov10-main\\videoplayback.mp4: 256x416 1 fire, 15.0ms\n",
      "video 1/1 (frame 381/918) c:\\Users\\user\\Downloads\\yolov10-main\\videoplayback.mp4: 256x416 1 fire, 12.0ms\n",
      "video 1/1 (frame 382/918) c:\\Users\\user\\Downloads\\yolov10-main\\videoplayback.mp4: 256x416 (no detections), 18.0ms\n",
      "video 1/1 (frame 383/918) c:\\Users\\user\\Downloads\\yolov10-main\\videoplayback.mp4: 256x416 (no detections), 13.0ms\n",
      "video 1/1 (frame 384/918) c:\\Users\\user\\Downloads\\yolov10-main\\videoplayback.mp4: 256x416 1 fire, 14.0ms\n",
      "video 1/1 (frame 385/918) c:\\Users\\user\\Downloads\\yolov10-main\\videoplayback.mp4: 256x416 1 fire, 13.0ms\n",
      "video 1/1 (frame 386/918) c:\\Users\\user\\Downloads\\yolov10-main\\videoplayback.mp4: 256x416 1 fire, 14.0ms\n",
      "video 1/1 (frame 387/918) c:\\Users\\user\\Downloads\\yolov10-main\\videoplayback.mp4: 256x416 1 fire, 12.0ms\n",
      "video 1/1 (frame 388/918) c:\\Users\\user\\Downloads\\yolov10-main\\videoplayback.mp4: 256x416 1 fire, 13.0ms\n",
      "video 1/1 (frame 389/918) c:\\Users\\user\\Downloads\\yolov10-main\\videoplayback.mp4: 256x416 1 fire, 1 smoke, 12.0ms\n",
      "video 1/1 (frame 390/918) c:\\Users\\user\\Downloads\\yolov10-main\\videoplayback.mp4: 256x416 1 fire, 1 smoke, 15.0ms\n",
      "video 1/1 (frame 391/918) c:\\Users\\user\\Downloads\\yolov10-main\\videoplayback.mp4: 256x416 1 fire, 13.0ms\n",
      "video 1/1 (frame 392/918) c:\\Users\\user\\Downloads\\yolov10-main\\videoplayback.mp4: 256x416 1 fire, 1 smoke, 12.0ms\n",
      "video 1/1 (frame 393/918) c:\\Users\\user\\Downloads\\yolov10-main\\videoplayback.mp4: 256x416 1 fire, 1 smoke, 13.0ms\n",
      "video 1/1 (frame 394/918) c:\\Users\\user\\Downloads\\yolov10-main\\videoplayback.mp4: 256x416 1 fire, 1 smoke, 17.0ms\n",
      "video 1/1 (frame 395/918) c:\\Users\\user\\Downloads\\yolov10-main\\videoplayback.mp4: 256x416 1 fire, 1 smoke, 13.0ms\n",
      "video 1/1 (frame 396/918) c:\\Users\\user\\Downloads\\yolov10-main\\videoplayback.mp4: 256x416 1 fire, 13.0ms\n",
      "video 1/1 (frame 397/918) c:\\Users\\user\\Downloads\\yolov10-main\\videoplayback.mp4: 256x416 1 fire, 12.0ms\n",
      "video 1/1 (frame 398/918) c:\\Users\\user\\Downloads\\yolov10-main\\videoplayback.mp4: 256x416 1 fire, 16.0ms\n",
      "video 1/1 (frame 399/918) c:\\Users\\user\\Downloads\\yolov10-main\\videoplayback.mp4: 256x416 1 fire, 14.0ms\n",
      "video 1/1 (frame 400/918) c:\\Users\\user\\Downloads\\yolov10-main\\videoplayback.mp4: 256x416 1 fire, 16.0ms\n",
      "video 1/1 (frame 401/918) c:\\Users\\user\\Downloads\\yolov10-main\\videoplayback.mp4: 256x416 1 fire, 12.0ms\n",
      "video 1/1 (frame 402/918) c:\\Users\\user\\Downloads\\yolov10-main\\videoplayback.mp4: 256x416 1 fire, 18.0ms\n",
      "video 1/1 (frame 403/918) c:\\Users\\user\\Downloads\\yolov10-main\\videoplayback.mp4: 256x416 1 fire, 14.0ms\n",
      "video 1/1 (frame 404/918) c:\\Users\\user\\Downloads\\yolov10-main\\videoplayback.mp4: 256x416 (no detections), 12.0ms\n",
      "video 1/1 (frame 405/918) c:\\Users\\user\\Downloads\\yolov10-main\\videoplayback.mp4: 256x416 (no detections), 16.0ms\n",
      "video 1/1 (frame 406/918) c:\\Users\\user\\Downloads\\yolov10-main\\videoplayback.mp4: 256x416 (no detections), 13.0ms\n",
      "video 1/1 (frame 407/918) c:\\Users\\user\\Downloads\\yolov10-main\\videoplayback.mp4: 256x416 (no detections), 16.0ms\n",
      "video 1/1 (frame 408/918) c:\\Users\\user\\Downloads\\yolov10-main\\videoplayback.mp4: 256x416 (no detections), 14.0ms\n",
      "video 1/1 (frame 409/918) c:\\Users\\user\\Downloads\\yolov10-main\\videoplayback.mp4: 256x416 (no detections), 12.0ms\n",
      "video 1/1 (frame 410/918) c:\\Users\\user\\Downloads\\yolov10-main\\videoplayback.mp4: 256x416 (no detections), 12.0ms\n",
      "video 1/1 (frame 411/918) c:\\Users\\user\\Downloads\\yolov10-main\\videoplayback.mp4: 256x416 (no detections), 12.0ms\n",
      "video 1/1 (frame 412/918) c:\\Users\\user\\Downloads\\yolov10-main\\videoplayback.mp4: 256x416 (no detections), 17.0ms\n",
      "video 1/1 (frame 413/918) c:\\Users\\user\\Downloads\\yolov10-main\\videoplayback.mp4: 256x416 (no detections), 18.0ms\n",
      "video 1/1 (frame 414/918) c:\\Users\\user\\Downloads\\yolov10-main\\videoplayback.mp4: 256x416 1 fire, 12.0ms\n",
      "video 1/1 (frame 415/918) c:\\Users\\user\\Downloads\\yolov10-main\\videoplayback.mp4: 256x416 1 fire, 19.0ms\n",
      "video 1/1 (frame 416/918) c:\\Users\\user\\Downloads\\yolov10-main\\videoplayback.mp4: 256x416 1 fire, 15.0ms\n",
      "video 1/1 (frame 417/918) c:\\Users\\user\\Downloads\\yolov10-main\\videoplayback.mp4: 256x416 1 smoke, 14.0ms\n",
      "video 1/1 (frame 418/918) c:\\Users\\user\\Downloads\\yolov10-main\\videoplayback.mp4: 256x416 1 fire, 13.0ms\n",
      "video 1/1 (frame 419/918) c:\\Users\\user\\Downloads\\yolov10-main\\videoplayback.mp4: 256x416 1 fire, 14.0ms\n",
      "video 1/1 (frame 420/918) c:\\Users\\user\\Downloads\\yolov10-main\\videoplayback.mp4: 256x416 (no detections), 17.0ms\n",
      "video 1/1 (frame 421/918) c:\\Users\\user\\Downloads\\yolov10-main\\videoplayback.mp4: 256x416 (no detections), 11.0ms\n",
      "video 1/1 (frame 422/918) c:\\Users\\user\\Downloads\\yolov10-main\\videoplayback.mp4: 256x416 (no detections), 18.0ms\n",
      "video 1/1 (frame 423/918) c:\\Users\\user\\Downloads\\yolov10-main\\videoplayback.mp4: 256x416 (no detections), 17.0ms\n",
      "video 1/1 (frame 424/918) c:\\Users\\user\\Downloads\\yolov10-main\\videoplayback.mp4: 256x416 1 smoke, 18.0ms\n",
      "video 1/1 (frame 425/918) c:\\Users\\user\\Downloads\\yolov10-main\\videoplayback.mp4: 256x416 1 smoke, 14.0ms\n",
      "video 1/1 (frame 426/918) c:\\Users\\user\\Downloads\\yolov10-main\\videoplayback.mp4: 256x416 1 smoke, 14.0ms\n",
      "video 1/1 (frame 427/918) c:\\Users\\user\\Downloads\\yolov10-main\\videoplayback.mp4: 256x416 1 smoke, 12.0ms\n",
      "video 1/1 (frame 428/918) c:\\Users\\user\\Downloads\\yolov10-main\\videoplayback.mp4: 256x416 1 smoke, 12.0ms\n",
      "video 1/1 (frame 429/918) c:\\Users\\user\\Downloads\\yolov10-main\\videoplayback.mp4: 256x416 1 smoke, 13.0ms\n",
      "video 1/1 (frame 430/918) c:\\Users\\user\\Downloads\\yolov10-main\\videoplayback.mp4: 256x416 1 smoke, 13.0ms\n",
      "video 1/1 (frame 431/918) c:\\Users\\user\\Downloads\\yolov10-main\\videoplayback.mp4: 256x416 1 smoke, 16.8ms\n",
      "video 1/1 (frame 432/918) c:\\Users\\user\\Downloads\\yolov10-main\\videoplayback.mp4: 256x416 1 smoke, 15.4ms\n",
      "video 1/1 (frame 433/918) c:\\Users\\user\\Downloads\\yolov10-main\\videoplayback.mp4: 256x416 1 smoke, 14.0ms\n",
      "video 1/1 (frame 434/918) c:\\Users\\user\\Downloads\\yolov10-main\\videoplayback.mp4: 256x416 1 smoke, 15.0ms\n",
      "video 1/1 (frame 435/918) c:\\Users\\user\\Downloads\\yolov10-main\\videoplayback.mp4: 256x416 1 smoke, 11.5ms\n",
      "video 1/1 (frame 436/918) c:\\Users\\user\\Downloads\\yolov10-main\\videoplayback.mp4: 256x416 1 smoke, 11.0ms\n",
      "video 1/1 (frame 437/918) c:\\Users\\user\\Downloads\\yolov10-main\\videoplayback.mp4: 256x416 1 smoke, 12.0ms\n",
      "video 1/1 (frame 438/918) c:\\Users\\user\\Downloads\\yolov10-main\\videoplayback.mp4: 256x416 1 smoke, 12.0ms\n",
      "video 1/1 (frame 439/918) c:\\Users\\user\\Downloads\\yolov10-main\\videoplayback.mp4: 256x416 (no detections), 12.0ms\n",
      "video 1/1 (frame 440/918) c:\\Users\\user\\Downloads\\yolov10-main\\videoplayback.mp4: 256x416 1 smoke, 12.0ms\n",
      "video 1/1 (frame 441/918) c:\\Users\\user\\Downloads\\yolov10-main\\videoplayback.mp4: 256x416 1 smoke, 18.0ms\n",
      "video 1/1 (frame 442/918) c:\\Users\\user\\Downloads\\yolov10-main\\videoplayback.mp4: 256x416 1 smoke, 17.0ms\n",
      "video 1/1 (frame 443/918) c:\\Users\\user\\Downloads\\yolov10-main\\videoplayback.mp4: 256x416 1 smoke, 11.0ms\n",
      "video 1/1 (frame 444/918) c:\\Users\\user\\Downloads\\yolov10-main\\videoplayback.mp4: 256x416 (no detections), 15.0ms\n",
      "video 1/1 (frame 445/918) c:\\Users\\user\\Downloads\\yolov10-main\\videoplayback.mp4: 256x416 1 smoke, 17.0ms\n",
      "video 1/1 (frame 446/918) c:\\Users\\user\\Downloads\\yolov10-main\\videoplayback.mp4: 256x416 1 smoke, 14.0ms\n",
      "video 1/1 (frame 447/918) c:\\Users\\user\\Downloads\\yolov10-main\\videoplayback.mp4: 256x416 (no detections), 17.0ms\n",
      "video 1/1 (frame 448/918) c:\\Users\\user\\Downloads\\yolov10-main\\videoplayback.mp4: 256x416 (no detections), 14.0ms\n",
      "video 1/1 (frame 449/918) c:\\Users\\user\\Downloads\\yolov10-main\\videoplayback.mp4: 256x416 (no detections), 11.0ms\n",
      "video 1/1 (frame 450/918) c:\\Users\\user\\Downloads\\yolov10-main\\videoplayback.mp4: 256x416 1 smoke, 13.0ms\n",
      "video 1/1 (frame 451/918) c:\\Users\\user\\Downloads\\yolov10-main\\videoplayback.mp4: 256x416 (no detections), 14.0ms\n",
      "video 1/1 (frame 452/918) c:\\Users\\user\\Downloads\\yolov10-main\\videoplayback.mp4: 256x416 (no detections), 16.0ms\n",
      "video 1/1 (frame 453/918) c:\\Users\\user\\Downloads\\yolov10-main\\videoplayback.mp4: 256x416 1 smoke, 13.0ms\n",
      "video 1/1 (frame 454/918) c:\\Users\\user\\Downloads\\yolov10-main\\videoplayback.mp4: 256x416 (no detections), 16.0ms\n",
      "video 1/1 (frame 455/918) c:\\Users\\user\\Downloads\\yolov10-main\\videoplayback.mp4: 256x416 (no detections), 16.0ms\n",
      "video 1/1 (frame 456/918) c:\\Users\\user\\Downloads\\yolov10-main\\videoplayback.mp4: 256x416 (no detections), 13.0ms\n",
      "video 1/1 (frame 457/918) c:\\Users\\user\\Downloads\\yolov10-main\\videoplayback.mp4: 256x416 1 smoke, 13.0ms\n",
      "video 1/1 (frame 458/918) c:\\Users\\user\\Downloads\\yolov10-main\\videoplayback.mp4: 256x416 (no detections), 15.0ms\n",
      "video 1/1 (frame 459/918) c:\\Users\\user\\Downloads\\yolov10-main\\videoplayback.mp4: 256x416 1 fire, 13.0ms\n",
      "video 1/1 (frame 460/918) c:\\Users\\user\\Downloads\\yolov10-main\\videoplayback.mp4: 256x416 1 fire, 15.0ms\n",
      "video 1/1 (frame 461/918) c:\\Users\\user\\Downloads\\yolov10-main\\videoplayback.mp4: 256x416 (no detections), 17.0ms\n",
      "video 1/1 (frame 462/918) c:\\Users\\user\\Downloads\\yolov10-main\\videoplayback.mp4: 256x416 1 smoke, 16.0ms\n",
      "video 1/1 (frame 463/918) c:\\Users\\user\\Downloads\\yolov10-main\\videoplayback.mp4: 256x416 1 smoke, 12.0ms\n",
      "video 1/1 (frame 464/918) c:\\Users\\user\\Downloads\\yolov10-main\\videoplayback.mp4: 256x416 1 smoke, 13.0ms\n",
      "video 1/1 (frame 465/918) c:\\Users\\user\\Downloads\\yolov10-main\\videoplayback.mp4: 256x416 (no detections), 15.0ms\n",
      "video 1/1 (frame 466/918) c:\\Users\\user\\Downloads\\yolov10-main\\videoplayback.mp4: 256x416 1 fire, 12.0ms\n",
      "video 1/1 (frame 467/918) c:\\Users\\user\\Downloads\\yolov10-main\\videoplayback.mp4: 256x416 1 fire, 15.0ms\n",
      "video 1/1 (frame 468/918) c:\\Users\\user\\Downloads\\yolov10-main\\videoplayback.mp4: 256x416 (no detections), 12.0ms\n",
      "video 1/1 (frame 469/918) c:\\Users\\user\\Downloads\\yolov10-main\\videoplayback.mp4: 256x416 1 fire, 14.0ms\n",
      "video 1/1 (frame 470/918) c:\\Users\\user\\Downloads\\yolov10-main\\videoplayback.mp4: 256x416 (no detections), 12.0ms\n",
      "video 1/1 (frame 471/918) c:\\Users\\user\\Downloads\\yolov10-main\\videoplayback.mp4: 256x416 1 fire, 14.0ms\n",
      "video 1/1 (frame 472/918) c:\\Users\\user\\Downloads\\yolov10-main\\videoplayback.mp4: 256x416 1 fire, 17.0ms\n",
      "video 1/1 (frame 473/918) c:\\Users\\user\\Downloads\\yolov10-main\\videoplayback.mp4: 256x416 1 fire, 16.0ms\n",
      "video 1/1 (frame 474/918) c:\\Users\\user\\Downloads\\yolov10-main\\videoplayback.mp4: 256x416 1 fire, 16.0ms\n",
      "video 1/1 (frame 475/918) c:\\Users\\user\\Downloads\\yolov10-main\\videoplayback.mp4: 256x416 1 fire, 14.0ms\n",
      "video 1/1 (frame 476/918) c:\\Users\\user\\Downloads\\yolov10-main\\videoplayback.mp4: 256x416 1 fire, 12.0ms\n",
      "video 1/1 (frame 477/918) c:\\Users\\user\\Downloads\\yolov10-main\\videoplayback.mp4: 256x416 1 fire, 17.0ms\n",
      "video 1/1 (frame 478/918) c:\\Users\\user\\Downloads\\yolov10-main\\videoplayback.mp4: 256x416 1 fire, 18.0ms\n",
      "video 1/1 (frame 479/918) c:\\Users\\user\\Downloads\\yolov10-main\\videoplayback.mp4: 256x416 1 fire, 15.0ms\n",
      "video 1/1 (frame 480/918) c:\\Users\\user\\Downloads\\yolov10-main\\videoplayback.mp4: 256x416 1 fire, 16.0ms\n",
      "video 1/1 (frame 481/918) c:\\Users\\user\\Downloads\\yolov10-main\\videoplayback.mp4: 256x416 1 fire, 1 smoke, 17.0ms\n",
      "video 1/1 (frame 482/918) c:\\Users\\user\\Downloads\\yolov10-main\\videoplayback.mp4: 256x416 1 fire, 1 smoke, 11.0ms\n",
      "video 1/1 (frame 483/918) c:\\Users\\user\\Downloads\\yolov10-main\\videoplayback.mp4: 256x416 1 fire, 1 smoke, 16.0ms\n",
      "video 1/1 (frame 484/918) c:\\Users\\user\\Downloads\\yolov10-main\\videoplayback.mp4: 256x416 1 fire, 1 smoke, 11.0ms\n",
      "video 1/1 (frame 485/918) c:\\Users\\user\\Downloads\\yolov10-main\\videoplayback.mp4: 256x416 1 fire, 1 smoke, 15.0ms\n",
      "video 1/1 (frame 486/918) c:\\Users\\user\\Downloads\\yolov10-main\\videoplayback.mp4: 256x416 2 fires, 1 smoke, 17.0ms\n",
      "video 1/1 (frame 487/918) c:\\Users\\user\\Downloads\\yolov10-main\\videoplayback.mp4: 256x416 1 fire, 1 smoke, 15.0ms\n",
      "video 1/1 (frame 488/918) c:\\Users\\user\\Downloads\\yolov10-main\\videoplayback.mp4: 256x416 1 fire, 1 smoke, 12.0ms\n",
      "video 1/1 (frame 489/918) c:\\Users\\user\\Downloads\\yolov10-main\\videoplayback.mp4: 256x416 1 fire, 1 smoke, 12.0ms\n",
      "video 1/1 (frame 490/918) c:\\Users\\user\\Downloads\\yolov10-main\\videoplayback.mp4: 256x416 1 fire, 1 smoke, 17.0ms\n",
      "video 1/1 (frame 491/918) c:\\Users\\user\\Downloads\\yolov10-main\\videoplayback.mp4: 256x416 1 fire, 1 smoke, 18.0ms\n",
      "video 1/1 (frame 492/918) c:\\Users\\user\\Downloads\\yolov10-main\\videoplayback.mp4: 256x416 1 fire, 1 smoke, 12.0ms\n",
      "video 1/1 (frame 493/918) c:\\Users\\user\\Downloads\\yolov10-main\\videoplayback.mp4: 256x416 1 fire, 1 smoke, 14.0ms\n",
      "video 1/1 (frame 494/918) c:\\Users\\user\\Downloads\\yolov10-main\\videoplayback.mp4: 256x416 1 fire, 1 smoke, 11.0ms\n",
      "video 1/1 (frame 495/918) c:\\Users\\user\\Downloads\\yolov10-main\\videoplayback.mp4: 256x416 1 fire, 1 smoke, 17.0ms\n",
      "video 1/1 (frame 496/918) c:\\Users\\user\\Downloads\\yolov10-main\\videoplayback.mp4: 256x416 1 smoke, 12.0ms\n",
      "video 1/1 (frame 497/918) c:\\Users\\user\\Downloads\\yolov10-main\\videoplayback.mp4: 256x416 1 fire, 1 smoke, 17.0ms\n",
      "video 1/1 (frame 498/918) c:\\Users\\user\\Downloads\\yolov10-main\\videoplayback.mp4: 256x416 1 fire, 1 smoke, 15.0ms\n",
      "video 1/1 (frame 499/918) c:\\Users\\user\\Downloads\\yolov10-main\\videoplayback.mp4: 256x416 1 fire, 1 smoke, 13.0ms\n",
      "video 1/1 (frame 500/918) c:\\Users\\user\\Downloads\\yolov10-main\\videoplayback.mp4: 256x416 1 fire, 1 smoke, 17.0ms\n",
      "video 1/1 (frame 501/918) c:\\Users\\user\\Downloads\\yolov10-main\\videoplayback.mp4: 256x416 1 fire, 1 smoke, 17.0ms\n",
      "video 1/1 (frame 502/918) c:\\Users\\user\\Downloads\\yolov10-main\\videoplayback.mp4: 256x416 1 fire, 1 smoke, 15.0ms\n",
      "video 1/1 (frame 503/918) c:\\Users\\user\\Downloads\\yolov10-main\\videoplayback.mp4: 256x416 1 fire, 1 smoke, 13.0ms\n",
      "video 1/1 (frame 504/918) c:\\Users\\user\\Downloads\\yolov10-main\\videoplayback.mp4: 256x416 1 fire, 1 smoke, 13.0ms\n",
      "video 1/1 (frame 505/918) c:\\Users\\user\\Downloads\\yolov10-main\\videoplayback.mp4: 256x416 1 fire, 1 smoke, 16.0ms\n",
      "video 1/1 (frame 506/918) c:\\Users\\user\\Downloads\\yolov10-main\\videoplayback.mp4: 256x416 1 fire, 1 smoke, 16.0ms\n",
      "video 1/1 (frame 507/918) c:\\Users\\user\\Downloads\\yolov10-main\\videoplayback.mp4: 256x416 1 fire, 1 smoke, 12.0ms\n",
      "video 1/1 (frame 508/918) c:\\Users\\user\\Downloads\\yolov10-main\\videoplayback.mp4: 256x416 1 fire, 1 smoke, 12.0ms\n",
      "video 1/1 (frame 509/918) c:\\Users\\user\\Downloads\\yolov10-main\\videoplayback.mp4: 256x416 1 fire, 1 smoke, 13.0ms\n",
      "video 1/1 (frame 510/918) c:\\Users\\user\\Downloads\\yolov10-main\\videoplayback.mp4: 256x416 1 fire, 1 smoke, 13.0ms\n",
      "video 1/1 (frame 511/918) c:\\Users\\user\\Downloads\\yolov10-main\\videoplayback.mp4: 256x416 1 fire, 1 smoke, 12.0ms\n",
      "video 1/1 (frame 512/918) c:\\Users\\user\\Downloads\\yolov10-main\\videoplayback.mp4: 256x416 1 smoke, 16.0ms\n",
      "video 1/1 (frame 513/918) c:\\Users\\user\\Downloads\\yolov10-main\\videoplayback.mp4: 256x416 1 smoke, 13.0ms\n",
      "video 1/1 (frame 514/918) c:\\Users\\user\\Downloads\\yolov10-main\\videoplayback.mp4: 256x416 1 smoke, 17.0ms\n",
      "video 1/1 (frame 515/918) c:\\Users\\user\\Downloads\\yolov10-main\\videoplayback.mp4: 256x416 1 fire, 1 smoke, 13.0ms\n",
      "video 1/1 (frame 516/918) c:\\Users\\user\\Downloads\\yolov10-main\\videoplayback.mp4: 256x416 1 fire, 1 smoke, 16.0ms\n",
      "video 1/1 (frame 517/918) c:\\Users\\user\\Downloads\\yolov10-main\\videoplayback.mp4: 256x416 1 fire, 1 smoke, 14.0ms\n",
      "video 1/1 (frame 518/918) c:\\Users\\user\\Downloads\\yolov10-main\\videoplayback.mp4: 256x416 1 fire, 1 smoke, 12.0ms\n",
      "video 1/1 (frame 519/918) c:\\Users\\user\\Downloads\\yolov10-main\\videoplayback.mp4: 256x416 1 fire, 1 smoke, 15.0ms\n",
      "video 1/1 (frame 520/918) c:\\Users\\user\\Downloads\\yolov10-main\\videoplayback.mp4: 256x416 1 fire, 1 smoke, 17.0ms\n",
      "video 1/1 (frame 521/918) c:\\Users\\user\\Downloads\\yolov10-main\\videoplayback.mp4: 256x416 1 fire, 1 smoke, 15.0ms\n",
      "video 1/1 (frame 522/918) c:\\Users\\user\\Downloads\\yolov10-main\\videoplayback.mp4: 256x416 1 fire, 1 smoke, 14.0ms\n",
      "video 1/1 (frame 523/918) c:\\Users\\user\\Downloads\\yolov10-main\\videoplayback.mp4: 256x416 1 fire, 1 smoke, 15.0ms\n",
      "video 1/1 (frame 524/918) c:\\Users\\user\\Downloads\\yolov10-main\\videoplayback.mp4: 256x416 1 fire, 1 smoke, 14.0ms\n",
      "video 1/1 (frame 525/918) c:\\Users\\user\\Downloads\\yolov10-main\\videoplayback.mp4: 256x416 1 fire, 1 smoke, 17.0ms\n",
      "video 1/1 (frame 526/918) c:\\Users\\user\\Downloads\\yolov10-main\\videoplayback.mp4: 256x416 1 fire, 1 smoke, 15.0ms\n",
      "video 1/1 (frame 527/918) c:\\Users\\user\\Downloads\\yolov10-main\\videoplayback.mp4: 256x416 1 fire, 1 smoke, 13.0ms\n",
      "video 1/1 (frame 528/918) c:\\Users\\user\\Downloads\\yolov10-main\\videoplayback.mp4: 256x416 1 fire, 1 smoke, 13.0ms\n",
      "video 1/1 (frame 529/918) c:\\Users\\user\\Downloads\\yolov10-main\\videoplayback.mp4: 256x416 1 fire, 1 smoke, 13.0ms\n",
      "video 1/1 (frame 530/918) c:\\Users\\user\\Downloads\\yolov10-main\\videoplayback.mp4: 256x416 1 fire, 1 smoke, 20.0ms\n",
      "video 1/1 (frame 531/918) c:\\Users\\user\\Downloads\\yolov10-main\\videoplayback.mp4: 256x416 1 fire, 1 smoke, 13.0ms\n",
      "video 1/1 (frame 532/918) c:\\Users\\user\\Downloads\\yolov10-main\\videoplayback.mp4: 256x416 1 fire, 1 smoke, 13.1ms\n",
      "video 1/1 (frame 533/918) c:\\Users\\user\\Downloads\\yolov10-main\\videoplayback.mp4: 256x416 1 fire, 1 smoke, 16.0ms\n",
      "video 1/1 (frame 534/918) c:\\Users\\user\\Downloads\\yolov10-main\\videoplayback.mp4: 256x416 1 fire, 1 smoke, 16.9ms\n",
      "video 1/1 (frame 535/918) c:\\Users\\user\\Downloads\\yolov10-main\\videoplayback.mp4: 256x416 1 fire, 1 smoke, 16.6ms\n",
      "video 1/1 (frame 536/918) c:\\Users\\user\\Downloads\\yolov10-main\\videoplayback.mp4: 256x416 2 fires, 1 smoke, 14.0ms\n",
      "video 1/1 (frame 537/918) c:\\Users\\user\\Downloads\\yolov10-main\\videoplayback.mp4: 256x416 1 fire, 1 smoke, 13.0ms\n",
      "video 1/1 (frame 538/918) c:\\Users\\user\\Downloads\\yolov10-main\\videoplayback.mp4: 256x416 2 fires, 1 smoke, 13.0ms\n",
      "video 1/1 (frame 539/918) c:\\Users\\user\\Downloads\\yolov10-main\\videoplayback.mp4: 256x416 1 fire, 1 smoke, 12.0ms\n",
      "video 1/1 (frame 540/918) c:\\Users\\user\\Downloads\\yolov10-main\\videoplayback.mp4: 256x416 2 fires, 1 smoke, 12.0ms\n",
      "video 1/1 (frame 541/918) c:\\Users\\user\\Downloads\\yolov10-main\\videoplayback.mp4: 256x416 1 fire, 1 smoke, 17.0ms\n",
      "video 1/1 (frame 542/918) c:\\Users\\user\\Downloads\\yolov10-main\\videoplayback.mp4: 256x416 1 smoke, 18.0ms\n",
      "video 1/1 (frame 543/918) c:\\Users\\user\\Downloads\\yolov10-main\\videoplayback.mp4: 256x416 1 smoke, 18.0ms\n",
      "video 1/1 (frame 544/918) c:\\Users\\user\\Downloads\\yolov10-main\\videoplayback.mp4: 256x416 1 smoke, 15.0ms\n",
      "video 1/1 (frame 545/918) c:\\Users\\user\\Downloads\\yolov10-main\\videoplayback.mp4: 256x416 1 smoke, 14.0ms\n",
      "video 1/1 (frame 546/918) c:\\Users\\user\\Downloads\\yolov10-main\\videoplayback.mp4: 256x416 1 smoke, 12.0ms\n",
      "video 1/1 (frame 547/918) c:\\Users\\user\\Downloads\\yolov10-main\\videoplayback.mp4: 256x416 1 smoke, 15.0ms\n",
      "video 1/1 (frame 548/918) c:\\Users\\user\\Downloads\\yolov10-main\\videoplayback.mp4: 256x416 1 fire, 1 smoke, 14.0ms\n",
      "video 1/1 (frame 549/918) c:\\Users\\user\\Downloads\\yolov10-main\\videoplayback.mp4: 256x416 1 smoke, 15.0ms\n",
      "video 1/1 (frame 550/918) c:\\Users\\user\\Downloads\\yolov10-main\\videoplayback.mp4: 256x416 1 fire, 1 smoke, 14.0ms\n",
      "video 1/1 (frame 551/918) c:\\Users\\user\\Downloads\\yolov10-main\\videoplayback.mp4: 256x416 1 smoke, 40.0ms\n",
      "video 1/1 (frame 552/918) c:\\Users\\user\\Downloads\\yolov10-main\\videoplayback.mp4: 256x416 1 smoke, 23.0ms\n",
      "video 1/1 (frame 553/918) c:\\Users\\user\\Downloads\\yolov10-main\\videoplayback.mp4: 256x416 1 smoke, 14.0ms\n",
      "video 1/1 (frame 554/918) c:\\Users\\user\\Downloads\\yolov10-main\\videoplayback.mp4: 256x416 1 smoke, 18.0ms\n",
      "video 1/1 (frame 555/918) c:\\Users\\user\\Downloads\\yolov10-main\\videoplayback.mp4: 256x416 1 smoke, 16.0ms\n",
      "video 1/1 (frame 556/918) c:\\Users\\user\\Downloads\\yolov10-main\\videoplayback.mp4: 256x416 1 fire, 1 smoke, 14.0ms\n",
      "video 1/1 (frame 557/918) c:\\Users\\user\\Downloads\\yolov10-main\\videoplayback.mp4: 256x416 1 fire, 1 smoke, 13.0ms\n",
      "video 1/1 (frame 558/918) c:\\Users\\user\\Downloads\\yolov10-main\\videoplayback.mp4: 256x416 1 fire, 1 smoke, 15.0ms\n",
      "video 1/1 (frame 559/918) c:\\Users\\user\\Downloads\\yolov10-main\\videoplayback.mp4: 256x416 1 fire, 1 smoke, 14.0ms\n",
      "video 1/1 (frame 560/918) c:\\Users\\user\\Downloads\\yolov10-main\\videoplayback.mp4: 256x416 1 fire, 1 smoke, 13.0ms\n",
      "video 1/1 (frame 561/918) c:\\Users\\user\\Downloads\\yolov10-main\\videoplayback.mp4: 256x416 1 fire, 1 smoke, 18.0ms\n",
      "video 1/1 (frame 562/918) c:\\Users\\user\\Downloads\\yolov10-main\\videoplayback.mp4: 256x416 1 fire, 1 smoke, 12.0ms\n",
      "video 1/1 (frame 563/918) c:\\Users\\user\\Downloads\\yolov10-main\\videoplayback.mp4: 256x416 1 fire, 1 smoke, 17.0ms\n",
      "video 1/1 (frame 564/918) c:\\Users\\user\\Downloads\\yolov10-main\\videoplayback.mp4: 256x416 1 fire, 1 smoke, 14.0ms\n",
      "video 1/1 (frame 565/918) c:\\Users\\user\\Downloads\\yolov10-main\\videoplayback.mp4: 256x416 1 fire, 1 smoke, 17.0ms\n",
      "video 1/1 (frame 566/918) c:\\Users\\user\\Downloads\\yolov10-main\\videoplayback.mp4: 256x416 1 fire, 1 smoke, 16.0ms\n",
      "video 1/1 (frame 567/918) c:\\Users\\user\\Downloads\\yolov10-main\\videoplayback.mp4: 256x416 1 fire, 1 smoke, 15.0ms\n",
      "video 1/1 (frame 568/918) c:\\Users\\user\\Downloads\\yolov10-main\\videoplayback.mp4: 256x416 1 fire, 1 smoke, 16.0ms\n",
      "video 1/1 (frame 569/918) c:\\Users\\user\\Downloads\\yolov10-main\\videoplayback.mp4: 256x416 1 fire, 1 smoke, 16.0ms\n",
      "video 1/1 (frame 570/918) c:\\Users\\user\\Downloads\\yolov10-main\\videoplayback.mp4: 256x416 1 fire, 1 smoke, 14.0ms\n",
      "video 1/1 (frame 571/918) c:\\Users\\user\\Downloads\\yolov10-main\\videoplayback.mp4: 256x416 1 fire, 1 smoke, 16.0ms\n",
      "video 1/1 (frame 572/918) c:\\Users\\user\\Downloads\\yolov10-main\\videoplayback.mp4: 256x416 1 fire, 1 smoke, 18.0ms\n",
      "video 1/1 (frame 573/918) c:\\Users\\user\\Downloads\\yolov10-main\\videoplayback.mp4: 256x416 1 fire, 1 smoke, 17.0ms\n",
      "video 1/1 (frame 574/918) c:\\Users\\user\\Downloads\\yolov10-main\\videoplayback.mp4: 256x416 1 fire, 1 smoke, 12.0ms\n",
      "video 1/1 (frame 575/918) c:\\Users\\user\\Downloads\\yolov10-main\\videoplayback.mp4: 256x416 1 fire, 1 smoke, 19.0ms\n",
      "video 1/1 (frame 576/918) c:\\Users\\user\\Downloads\\yolov10-main\\videoplayback.mp4: 256x416 1 fire, 1 smoke, 17.0ms\n",
      "video 1/1 (frame 577/918) c:\\Users\\user\\Downloads\\yolov10-main\\videoplayback.mp4: 256x416 1 fire, 1 smoke, 17.0ms\n",
      "video 1/1 (frame 578/918) c:\\Users\\user\\Downloads\\yolov10-main\\videoplayback.mp4: 256x416 1 fire, 1 smoke, 13.0ms\n",
      "video 1/1 (frame 579/918) c:\\Users\\user\\Downloads\\yolov10-main\\videoplayback.mp4: 256x416 1 fire, 1 smoke, 14.0ms\n",
      "video 1/1 (frame 580/918) c:\\Users\\user\\Downloads\\yolov10-main\\videoplayback.mp4: 256x416 1 fire, 1 smoke, 19.0ms\n",
      "video 1/1 (frame 581/918) c:\\Users\\user\\Downloads\\yolov10-main\\videoplayback.mp4: 256x416 1 fire, 1 smoke, 14.0ms\n",
      "video 1/1 (frame 582/918) c:\\Users\\user\\Downloads\\yolov10-main\\videoplayback.mp4: 256x416 1 fire, 1 smoke, 13.0ms\n",
      "video 1/1 (frame 583/918) c:\\Users\\user\\Downloads\\yolov10-main\\videoplayback.mp4: 256x416 1 fire, 1 smoke, 17.0ms\n",
      "video 1/1 (frame 584/918) c:\\Users\\user\\Downloads\\yolov10-main\\videoplayback.mp4: 256x416 1 fire, 1 smoke, 14.0ms\n",
      "video 1/1 (frame 585/918) c:\\Users\\user\\Downloads\\yolov10-main\\videoplayback.mp4: 256x416 1 fire, 1 smoke, 14.0ms\n",
      "video 1/1 (frame 586/918) c:\\Users\\user\\Downloads\\yolov10-main\\videoplayback.mp4: 256x416 1 fire, 1 smoke, 11.0ms\n",
      "video 1/1 (frame 587/918) c:\\Users\\user\\Downloads\\yolov10-main\\videoplayback.mp4: 256x416 1 fire, 1 smoke, 16.0ms\n",
      "video 1/1 (frame 588/918) c:\\Users\\user\\Downloads\\yolov10-main\\videoplayback.mp4: 256x416 1 fire, 1 smoke, 15.0ms\n",
      "video 1/1 (frame 589/918) c:\\Users\\user\\Downloads\\yolov10-main\\videoplayback.mp4: 256x416 1 fire, 1 smoke, 11.0ms\n",
      "video 1/1 (frame 590/918) c:\\Users\\user\\Downloads\\yolov10-main\\videoplayback.mp4: 256x416 1 fire, 1 smoke, 21.0ms\n",
      "video 1/1 (frame 591/918) c:\\Users\\user\\Downloads\\yolov10-main\\videoplayback.mp4: 256x416 1 fire, 1 smoke, 19.0ms\n",
      "video 1/1 (frame 592/918) c:\\Users\\user\\Downloads\\yolov10-main\\videoplayback.mp4: 256x416 1 fire, 1 smoke, 17.0ms\n",
      "video 1/1 (frame 593/918) c:\\Users\\user\\Downloads\\yolov10-main\\videoplayback.mp4: 256x416 1 fire, 1 smoke, 18.0ms\n",
      "video 1/1 (frame 594/918) c:\\Users\\user\\Downloads\\yolov10-main\\videoplayback.mp4: 256x416 1 fire, 1 smoke, 12.0ms\n",
      "video 1/1 (frame 595/918) c:\\Users\\user\\Downloads\\yolov10-main\\videoplayback.mp4: 256x416 1 fire, 1 smoke, 13.0ms\n",
      "video 1/1 (frame 596/918) c:\\Users\\user\\Downloads\\yolov10-main\\videoplayback.mp4: 256x416 1 fire, 1 smoke, 12.0ms\n",
      "video 1/1 (frame 597/918) c:\\Users\\user\\Downloads\\yolov10-main\\videoplayback.mp4: 256x416 1 fire, 1 smoke, 18.0ms\n",
      "video 1/1 (frame 598/918) c:\\Users\\user\\Downloads\\yolov10-main\\videoplayback.mp4: 256x416 1 fire, 1 smoke, 14.0ms\n",
      "video 1/1 (frame 599/918) c:\\Users\\user\\Downloads\\yolov10-main\\videoplayback.mp4: 256x416 1 fire, 1 smoke, 12.0ms\n",
      "video 1/1 (frame 600/918) c:\\Users\\user\\Downloads\\yolov10-main\\videoplayback.mp4: 256x416 1 fire, 1 smoke, 17.0ms\n",
      "video 1/1 (frame 601/918) c:\\Users\\user\\Downloads\\yolov10-main\\videoplayback.mp4: 256x416 1 fire, 1 smoke, 20.0ms\n",
      "video 1/1 (frame 602/918) c:\\Users\\user\\Downloads\\yolov10-main\\videoplayback.mp4: 256x416 1 fire, 1 smoke, 13.0ms\n",
      "video 1/1 (frame 603/918) c:\\Users\\user\\Downloads\\yolov10-main\\videoplayback.mp4: 256x416 1 fire, 1 smoke, 15.0ms\n",
      "video 1/1 (frame 604/918) c:\\Users\\user\\Downloads\\yolov10-main\\videoplayback.mp4: 256x416 1 fire, 1 smoke, 13.0ms\n",
      "video 1/1 (frame 605/918) c:\\Users\\user\\Downloads\\yolov10-main\\videoplayback.mp4: 256x416 1 fire, 1 smoke, 14.0ms\n",
      "video 1/1 (frame 606/918) c:\\Users\\user\\Downloads\\yolov10-main\\videoplayback.mp4: 256x416 1 fire, 1 smoke, 19.0ms\n",
      "video 1/1 (frame 607/918) c:\\Users\\user\\Downloads\\yolov10-main\\videoplayback.mp4: 256x416 1 fire, 1 smoke, 13.0ms\n",
      "video 1/1 (frame 608/918) c:\\Users\\user\\Downloads\\yolov10-main\\videoplayback.mp4: 256x416 1 fire, 1 smoke, 14.0ms\n",
      "video 1/1 (frame 609/918) c:\\Users\\user\\Downloads\\yolov10-main\\videoplayback.mp4: 256x416 1 fire, 2 smokes, 14.0ms\n",
      "video 1/1 (frame 610/918) c:\\Users\\user\\Downloads\\yolov10-main\\videoplayback.mp4: 256x416 1 fire, 1 smoke, 15.0ms\n",
      "video 1/1 (frame 611/918) c:\\Users\\user\\Downloads\\yolov10-main\\videoplayback.mp4: 256x416 1 fire, 1 smoke, 15.0ms\n",
      "video 1/1 (frame 612/918) c:\\Users\\user\\Downloads\\yolov10-main\\videoplayback.mp4: 256x416 1 fire, 1 smoke, 13.0ms\n",
      "video 1/1 (frame 613/918) c:\\Users\\user\\Downloads\\yolov10-main\\videoplayback.mp4: 256x416 1 fire, 1 smoke, 17.0ms\n",
      "video 1/1 (frame 614/918) c:\\Users\\user\\Downloads\\yolov10-main\\videoplayback.mp4: 256x416 1 fire, 1 smoke, 12.0ms\n",
      "video 1/1 (frame 615/918) c:\\Users\\user\\Downloads\\yolov10-main\\videoplayback.mp4: 256x416 1 fire, 1 smoke, 14.0ms\n",
      "video 1/1 (frame 616/918) c:\\Users\\user\\Downloads\\yolov10-main\\videoplayback.mp4: 256x416 1 fire, 1 smoke, 14.0ms\n",
      "video 1/1 (frame 617/918) c:\\Users\\user\\Downloads\\yolov10-main\\videoplayback.mp4: 256x416 1 fire, 2 smokes, 13.0ms\n",
      "video 1/1 (frame 618/918) c:\\Users\\user\\Downloads\\yolov10-main\\videoplayback.mp4: 256x416 1 fire, 2 smokes, 14.0ms\n",
      "video 1/1 (frame 619/918) c:\\Users\\user\\Downloads\\yolov10-main\\videoplayback.mp4: 256x416 1 fire, 1 smoke, 16.0ms\n",
      "video 1/1 (frame 620/918) c:\\Users\\user\\Downloads\\yolov10-main\\videoplayback.mp4: 256x416 1 fire, 1 smoke, 15.0ms\n",
      "video 1/1 (frame 621/918) c:\\Users\\user\\Downloads\\yolov10-main\\videoplayback.mp4: 256x416 1 fire, 1 smoke, 13.0ms\n",
      "video 1/1 (frame 622/918) c:\\Users\\user\\Downloads\\yolov10-main\\videoplayback.mp4: 256x416 1 fire, 1 smoke, 15.0ms\n",
      "video 1/1 (frame 623/918) c:\\Users\\user\\Downloads\\yolov10-main\\videoplayback.mp4: 256x416 1 fire, 1 smoke, 16.0ms\n",
      "video 1/1 (frame 624/918) c:\\Users\\user\\Downloads\\yolov10-main\\videoplayback.mp4: 256x416 1 fire, 1 smoke, 17.8ms\n",
      "video 1/1 (frame 625/918) c:\\Users\\user\\Downloads\\yolov10-main\\videoplayback.mp4: 256x416 1 fire, 1 smoke, 14.5ms\n",
      "video 1/1 (frame 626/918) c:\\Users\\user\\Downloads\\yolov10-main\\videoplayback.mp4: 256x416 1 fire, 1 smoke, 17.0ms\n",
      "video 1/1 (frame 627/918) c:\\Users\\user\\Downloads\\yolov10-main\\videoplayback.mp4: 256x416 1 fire, 1 smoke, 16.6ms\n",
      "video 1/1 (frame 628/918) c:\\Users\\user\\Downloads\\yolov10-main\\videoplayback.mp4: 256x416 1 fire, 1 smoke, 16.1ms\n",
      "video 1/1 (frame 629/918) c:\\Users\\user\\Downloads\\yolov10-main\\videoplayback.mp4: 256x416 1 fire, 12.0ms\n",
      "video 1/1 (frame 630/918) c:\\Users\\user\\Downloads\\yolov10-main\\videoplayback.mp4: 256x416 1 fire, 1 smoke, 25.0ms\n",
      "video 1/1 (frame 631/918) c:\\Users\\user\\Downloads\\yolov10-main\\videoplayback.mp4: 256x416 1 fire, 1 smoke, 16.0ms\n",
      "video 1/1 (frame 632/918) c:\\Users\\user\\Downloads\\yolov10-main\\videoplayback.mp4: 256x416 1 smoke, 16.0ms\n",
      "video 1/1 (frame 633/918) c:\\Users\\user\\Downloads\\yolov10-main\\videoplayback.mp4: 256x416 1 smoke, 13.0ms\n",
      "video 1/1 (frame 634/918) c:\\Users\\user\\Downloads\\yolov10-main\\videoplayback.mp4: 256x416 (no detections), 12.0ms\n",
      "video 1/1 (frame 635/918) c:\\Users\\user\\Downloads\\yolov10-main\\videoplayback.mp4: 256x416 1 fire, 1 smoke, 11.0ms\n",
      "video 1/1 (frame 636/918) c:\\Users\\user\\Downloads\\yolov10-main\\videoplayback.mp4: 256x416 1 fire, 1 smoke, 18.0ms\n",
      "video 1/1 (frame 637/918) c:\\Users\\user\\Downloads\\yolov10-main\\videoplayback.mp4: 256x416 1 fire, 1 smoke, 12.0ms\n",
      "video 1/1 (frame 638/918) c:\\Users\\user\\Downloads\\yolov10-main\\videoplayback.mp4: 256x416 1 fire, 14.0ms\n",
      "video 1/1 (frame 639/918) c:\\Users\\user\\Downloads\\yolov10-main\\videoplayback.mp4: 256x416 1 fire, 14.0ms\n",
      "video 1/1 (frame 640/918) c:\\Users\\user\\Downloads\\yolov10-main\\videoplayback.mp4: 256x416 1 fire, 1 smoke, 13.0ms\n",
      "video 1/1 (frame 641/918) c:\\Users\\user\\Downloads\\yolov10-main\\videoplayback.mp4: 256x416 2 fires, 1 smoke, 14.0ms\n",
      "video 1/1 (frame 642/918) c:\\Users\\user\\Downloads\\yolov10-main\\videoplayback.mp4: 256x416 1 fire, 1 smoke, 14.0ms\n",
      "video 1/1 (frame 643/918) c:\\Users\\user\\Downloads\\yolov10-main\\videoplayback.mp4: 256x416 1 fire, 1 smoke, 15.0ms\n",
      "video 1/1 (frame 644/918) c:\\Users\\user\\Downloads\\yolov10-main\\videoplayback.mp4: 256x416 1 fire, 1 smoke, 12.0ms\n",
      "video 1/1 (frame 645/918) c:\\Users\\user\\Downloads\\yolov10-main\\videoplayback.mp4: 256x416 1 fire, 1 smoke, 17.0ms\n",
      "video 1/1 (frame 646/918) c:\\Users\\user\\Downloads\\yolov10-main\\videoplayback.mp4: 256x416 2 fires, 1 smoke, 15.0ms\n",
      "video 1/1 (frame 647/918) c:\\Users\\user\\Downloads\\yolov10-main\\videoplayback.mp4: 256x416 2 fires, 1 smoke, 14.0ms\n",
      "video 1/1 (frame 648/918) c:\\Users\\user\\Downloads\\yolov10-main\\videoplayback.mp4: 256x416 2 fires, 1 smoke, 17.0ms\n",
      "video 1/1 (frame 649/918) c:\\Users\\user\\Downloads\\yolov10-main\\videoplayback.mp4: 256x416 2 fires, 1 smoke, 17.0ms\n",
      "video 1/1 (frame 650/918) c:\\Users\\user\\Downloads\\yolov10-main\\videoplayback.mp4: 256x416 2 fires, 1 smoke, 13.0ms\n",
      "video 1/1 (frame 651/918) c:\\Users\\user\\Downloads\\yolov10-main\\videoplayback.mp4: 256x416 2 fires, 1 smoke, 16.0ms\n",
      "video 1/1 (frame 652/918) c:\\Users\\user\\Downloads\\yolov10-main\\videoplayback.mp4: 256x416 2 fires, 1 smoke, 11.0ms\n",
      "video 1/1 (frame 653/918) c:\\Users\\user\\Downloads\\yolov10-main\\videoplayback.mp4: 256x416 2 fires, 1 smoke, 12.0ms\n",
      "video 1/1 (frame 654/918) c:\\Users\\user\\Downloads\\yolov10-main\\videoplayback.mp4: 256x416 2 fires, 1 smoke, 13.0ms\n",
      "video 1/1 (frame 655/918) c:\\Users\\user\\Downloads\\yolov10-main\\videoplayback.mp4: 256x416 2 fires, 1 smoke, 17.0ms\n",
      "video 1/1 (frame 656/918) c:\\Users\\user\\Downloads\\yolov10-main\\videoplayback.mp4: 256x416 2 fires, 1 smoke, 12.0ms\n",
      "video 1/1 (frame 657/918) c:\\Users\\user\\Downloads\\yolov10-main\\videoplayback.mp4: 256x416 2 fires, 1 smoke, 15.0ms\n",
      "video 1/1 (frame 658/918) c:\\Users\\user\\Downloads\\yolov10-main\\videoplayback.mp4: 256x416 2 fires, 1 smoke, 13.0ms\n",
      "video 1/1 (frame 659/918) c:\\Users\\user\\Downloads\\yolov10-main\\videoplayback.mp4: 256x416 2 fires, 1 smoke, 18.0ms\n",
      "video 1/1 (frame 660/918) c:\\Users\\user\\Downloads\\yolov10-main\\videoplayback.mp4: 256x416 2 fires, 1 smoke, 18.0ms\n",
      "video 1/1 (frame 661/918) c:\\Users\\user\\Downloads\\yolov10-main\\videoplayback.mp4: 256x416 1 fire, 1 smoke, 16.0ms\n",
      "video 1/1 (frame 662/918) c:\\Users\\user\\Downloads\\yolov10-main\\videoplayback.mp4: 256x416 1 fire, 1 smoke, 15.0ms\n",
      "video 1/1 (frame 663/918) c:\\Users\\user\\Downloads\\yolov10-main\\videoplayback.mp4: 256x416 2 fires, 1 smoke, 13.0ms\n",
      "video 1/1 (frame 664/918) c:\\Users\\user\\Downloads\\yolov10-main\\videoplayback.mp4: 256x416 2 fires, 1 smoke, 13.0ms\n",
      "video 1/1 (frame 665/918) c:\\Users\\user\\Downloads\\yolov10-main\\videoplayback.mp4: 256x416 2 fires, 1 smoke, 15.0ms\n",
      "video 1/1 (frame 666/918) c:\\Users\\user\\Downloads\\yolov10-main\\videoplayback.mp4: 256x416 2 fires, 1 smoke, 14.0ms\n",
      "video 1/1 (frame 667/918) c:\\Users\\user\\Downloads\\yolov10-main\\videoplayback.mp4: 256x416 2 fires, 1 smoke, 13.0ms\n",
      "video 1/1 (frame 668/918) c:\\Users\\user\\Downloads\\yolov10-main\\videoplayback.mp4: 256x416 2 fires, 1 smoke, 13.0ms\n",
      "video 1/1 (frame 669/918) c:\\Users\\user\\Downloads\\yolov10-main\\videoplayback.mp4: 256x416 2 fires, 1 smoke, 17.0ms\n",
      "video 1/1 (frame 670/918) c:\\Users\\user\\Downloads\\yolov10-main\\videoplayback.mp4: 256x416 2 fires, 1 smoke, 15.0ms\n",
      "video 1/1 (frame 671/918) c:\\Users\\user\\Downloads\\yolov10-main\\videoplayback.mp4: 256x416 2 fires, 1 smoke, 19.0ms\n",
      "video 1/1 (frame 672/918) c:\\Users\\user\\Downloads\\yolov10-main\\videoplayback.mp4: 256x416 2 fires, 1 smoke, 13.0ms\n",
      "video 1/1 (frame 673/918) c:\\Users\\user\\Downloads\\yolov10-main\\videoplayback.mp4: 256x416 1 fire, 1 smoke, 17.0ms\n",
      "video 1/1 (frame 674/918) c:\\Users\\user\\Downloads\\yolov10-main\\videoplayback.mp4: 256x416 1 fire, 1 smoke, 14.0ms\n",
      "video 1/1 (frame 675/918) c:\\Users\\user\\Downloads\\yolov10-main\\videoplayback.mp4: 256x416 1 smoke, 13.0ms\n",
      "video 1/1 (frame 676/918) c:\\Users\\user\\Downloads\\yolov10-main\\videoplayback.mp4: 256x416 1 fire, 1 smoke, 16.0ms\n",
      "video 1/1 (frame 677/918) c:\\Users\\user\\Downloads\\yolov10-main\\videoplayback.mp4: 256x416 1 fire, 1 smoke, 14.0ms\n",
      "video 1/1 (frame 678/918) c:\\Users\\user\\Downloads\\yolov10-main\\videoplayback.mp4: 256x416 1 fire, 1 smoke, 13.0ms\n",
      "video 1/1 (frame 679/918) c:\\Users\\user\\Downloads\\yolov10-main\\videoplayback.mp4: 256x416 1 fire, 1 smoke, 14.0ms\n",
      "video 1/1 (frame 680/918) c:\\Users\\user\\Downloads\\yolov10-main\\videoplayback.mp4: 256x416 1 fire, 1 smoke, 13.0ms\n",
      "video 1/1 (frame 681/918) c:\\Users\\user\\Downloads\\yolov10-main\\videoplayback.mp4: 256x416 1 fire, 1 smoke, 14.0ms\n",
      "video 1/1 (frame 682/918) c:\\Users\\user\\Downloads\\yolov10-main\\videoplayback.mp4: 256x416 1 fire, 1 smoke, 14.0ms\n",
      "video 1/1 (frame 683/918) c:\\Users\\user\\Downloads\\yolov10-main\\videoplayback.mp4: 256x416 1 fire, 1 smoke, 15.0ms\n",
      "video 1/1 (frame 684/918) c:\\Users\\user\\Downloads\\yolov10-main\\videoplayback.mp4: 256x416 1 fire, 1 smoke, 15.0ms\n",
      "video 1/1 (frame 685/918) c:\\Users\\user\\Downloads\\yolov10-main\\videoplayback.mp4: 256x416 1 fire, 1 smoke, 16.0ms\n",
      "video 1/1 (frame 686/918) c:\\Users\\user\\Downloads\\yolov10-main\\videoplayback.mp4: 256x416 1 fire, 1 smoke, 13.0ms\n",
      "video 1/1 (frame 687/918) c:\\Users\\user\\Downloads\\yolov10-main\\videoplayback.mp4: 256x416 1 fire, 1 smoke, 13.0ms\n",
      "video 1/1 (frame 688/918) c:\\Users\\user\\Downloads\\yolov10-main\\videoplayback.mp4: 256x416 1 fire, 1 smoke, 14.0ms\n",
      "video 1/1 (frame 689/918) c:\\Users\\user\\Downloads\\yolov10-main\\videoplayback.mp4: 256x416 1 fire, 1 smoke, 14.0ms\n",
      "video 1/1 (frame 690/918) c:\\Users\\user\\Downloads\\yolov10-main\\videoplayback.mp4: 256x416 1 fire, 1 smoke, 12.0ms\n",
      "video 1/1 (frame 691/918) c:\\Users\\user\\Downloads\\yolov10-main\\videoplayback.mp4: 256x416 1 fire, 1 smoke, 13.0ms\n",
      "video 1/1 (frame 692/918) c:\\Users\\user\\Downloads\\yolov10-main\\videoplayback.mp4: 256x416 1 fire, 1 smoke, 14.0ms\n",
      "video 1/1 (frame 693/918) c:\\Users\\user\\Downloads\\yolov10-main\\videoplayback.mp4: 256x416 1 fire, 1 smoke, 15.0ms\n",
      "video 1/1 (frame 694/918) c:\\Users\\user\\Downloads\\yolov10-main\\videoplayback.mp4: 256x416 1 fire, 1 smoke, 14.0ms\n",
      "video 1/1 (frame 695/918) c:\\Users\\user\\Downloads\\yolov10-main\\videoplayback.mp4: 256x416 1 fire, 1 smoke, 16.0ms\n",
      "video 1/1 (frame 696/918) c:\\Users\\user\\Downloads\\yolov10-main\\videoplayback.mp4: 256x416 1 fire, 1 smoke, 18.0ms\n",
      "video 1/1 (frame 697/918) c:\\Users\\user\\Downloads\\yolov10-main\\videoplayback.mp4: 256x416 1 fire, 1 smoke, 13.0ms\n",
      "video 1/1 (frame 698/918) c:\\Users\\user\\Downloads\\yolov10-main\\videoplayback.mp4: 256x416 1 fire, 1 smoke, 19.0ms\n",
      "video 1/1 (frame 699/918) c:\\Users\\user\\Downloads\\yolov10-main\\videoplayback.mp4: 256x416 1 fire, 1 smoke, 15.0ms\n",
      "video 1/1 (frame 700/918) c:\\Users\\user\\Downloads\\yolov10-main\\videoplayback.mp4: 256x416 1 fire, 1 smoke, 12.0ms\n",
      "video 1/1 (frame 701/918) c:\\Users\\user\\Downloads\\yolov10-main\\videoplayback.mp4: 256x416 1 fire, 1 smoke, 12.0ms\n",
      "video 1/1 (frame 702/918) c:\\Users\\user\\Downloads\\yolov10-main\\videoplayback.mp4: 256x416 1 fire, 1 smoke, 13.0ms\n",
      "video 1/1 (frame 703/918) c:\\Users\\user\\Downloads\\yolov10-main\\videoplayback.mp4: 256x416 1 fire, 1 smoke, 17.0ms\n",
      "video 1/1 (frame 704/918) c:\\Users\\user\\Downloads\\yolov10-main\\videoplayback.mp4: 256x416 1 fire, 1 smoke, 13.0ms\n",
      "video 1/1 (frame 705/918) c:\\Users\\user\\Downloads\\yolov10-main\\videoplayback.mp4: 256x416 1 fire, 1 smoke, 15.0ms\n",
      "video 1/1 (frame 706/918) c:\\Users\\user\\Downloads\\yolov10-main\\videoplayback.mp4: 256x416 1 fire, 1 smoke, 17.0ms\n",
      "video 1/1 (frame 707/918) c:\\Users\\user\\Downloads\\yolov10-main\\videoplayback.mp4: 256x416 1 fire, 1 smoke, 12.0ms\n",
      "video 1/1 (frame 708/918) c:\\Users\\user\\Downloads\\yolov10-main\\videoplayback.mp4: 256x416 1 fire, 1 smoke, 15.0ms\n",
      "video 1/1 (frame 709/918) c:\\Users\\user\\Downloads\\yolov10-main\\videoplayback.mp4: 256x416 1 fire, 1 smoke, 14.0ms\n",
      "video 1/1 (frame 710/918) c:\\Users\\user\\Downloads\\yolov10-main\\videoplayback.mp4: 256x416 1 fire, 1 smoke, 12.0ms\n",
      "video 1/1 (frame 711/918) c:\\Users\\user\\Downloads\\yolov10-main\\videoplayback.mp4: 256x416 1 fire, 1 smoke, 17.0ms\n",
      "video 1/1 (frame 712/918) c:\\Users\\user\\Downloads\\yolov10-main\\videoplayback.mp4: 256x416 1 fire, 1 smoke, 13.0ms\n",
      "video 1/1 (frame 713/918) c:\\Users\\user\\Downloads\\yolov10-main\\videoplayback.mp4: 256x416 1 fire, 1 smoke, 16.0ms\n",
      "video 1/1 (frame 714/918) c:\\Users\\user\\Downloads\\yolov10-main\\videoplayback.mp4: 256x416 2 fires, 1 smoke, 15.0ms\n",
      "video 1/1 (frame 715/918) c:\\Users\\user\\Downloads\\yolov10-main\\videoplayback.mp4: 256x416 2 fires, 1 smoke, 13.0ms\n",
      "video 1/1 (frame 716/918) c:\\Users\\user\\Downloads\\yolov10-main\\videoplayback.mp4: 256x416 2 fires, 1 smoke, 17.0ms\n",
      "video 1/1 (frame 717/918) c:\\Users\\user\\Downloads\\yolov10-main\\videoplayback.mp4: 256x416 1 fire, 1 smoke, 16.0ms\n",
      "video 1/1 (frame 718/918) c:\\Users\\user\\Downloads\\yolov10-main\\videoplayback.mp4: 256x416 1 fire, 1 smoke, 16.0ms\n",
      "video 1/1 (frame 719/918) c:\\Users\\user\\Downloads\\yolov10-main\\videoplayback.mp4: 256x416 1 fire, 1 smoke, 16.0ms\n",
      "video 1/1 (frame 720/918) c:\\Users\\user\\Downloads\\yolov10-main\\videoplayback.mp4: 256x416 1 fire, 1 smoke, 17.6ms\n",
      "video 1/1 (frame 721/918) c:\\Users\\user\\Downloads\\yolov10-main\\videoplayback.mp4: 256x416 1 fire, 1 smoke, 12.3ms\n",
      "video 1/1 (frame 722/918) c:\\Users\\user\\Downloads\\yolov10-main\\videoplayback.mp4: 256x416 1 fire, 2 smokes, 17.7ms\n",
      "video 1/1 (frame 723/918) c:\\Users\\user\\Downloads\\yolov10-main\\videoplayback.mp4: 256x416 1 fire, 1 smoke, 21.8ms\n",
      "video 1/1 (frame 724/918) c:\\Users\\user\\Downloads\\yolov10-main\\videoplayback.mp4: 256x416 2 fires, 2 smokes, 17.0ms\n",
      "video 1/1 (frame 725/918) c:\\Users\\user\\Downloads\\yolov10-main\\videoplayback.mp4: 256x416 1 fire, 1 smoke, 13.0ms\n",
      "video 1/1 (frame 726/918) c:\\Users\\user\\Downloads\\yolov10-main\\videoplayback.mp4: 256x416 1 fire, 1 smoke, 14.0ms\n",
      "video 1/1 (frame 727/918) c:\\Users\\user\\Downloads\\yolov10-main\\videoplayback.mp4: 256x416 1 fire, 1 smoke, 13.0ms\n",
      "video 1/1 (frame 728/918) c:\\Users\\user\\Downloads\\yolov10-main\\videoplayback.mp4: 256x416 1 fire, 1 smoke, 15.0ms\n",
      "video 1/1 (frame 729/918) c:\\Users\\user\\Downloads\\yolov10-main\\videoplayback.mp4: 256x416 1 fire, 2 smokes, 13.0ms\n",
      "video 1/1 (frame 730/918) c:\\Users\\user\\Downloads\\yolov10-main\\videoplayback.mp4: 256x416 1 fire, 1 smoke, 18.0ms\n",
      "video 1/1 (frame 731/918) c:\\Users\\user\\Downloads\\yolov10-main\\videoplayback.mp4: 256x416 1 fire, 1 smoke, 16.0ms\n",
      "video 1/1 (frame 732/918) c:\\Users\\user\\Downloads\\yolov10-main\\videoplayback.mp4: 256x416 1 fire, 1 smoke, 16.0ms\n",
      "video 1/1 (frame 733/918) c:\\Users\\user\\Downloads\\yolov10-main\\videoplayback.mp4: 256x416 1 fire, 1 smoke, 14.0ms\n",
      "video 1/1 (frame 734/918) c:\\Users\\user\\Downloads\\yolov10-main\\videoplayback.mp4: 256x416 1 fire, 1 smoke, 15.0ms\n",
      "video 1/1 (frame 735/918) c:\\Users\\user\\Downloads\\yolov10-main\\videoplayback.mp4: 256x416 1 fire, 1 smoke, 15.0ms\n",
      "video 1/1 (frame 736/918) c:\\Users\\user\\Downloads\\yolov10-main\\videoplayback.mp4: 256x416 2 fires, 1 smoke, 14.0ms\n",
      "video 1/1 (frame 737/918) c:\\Users\\user\\Downloads\\yolov10-main\\videoplayback.mp4: 256x416 2 fires, 1 smoke, 18.0ms\n",
      "video 1/1 (frame 738/918) c:\\Users\\user\\Downloads\\yolov10-main\\videoplayback.mp4: 256x416 1 fire, 1 smoke, 14.0ms\n",
      "video 1/1 (frame 739/918) c:\\Users\\user\\Downloads\\yolov10-main\\videoplayback.mp4: 256x416 1 fire, 1 smoke, 12.0ms\n",
      "video 1/1 (frame 740/918) c:\\Users\\user\\Downloads\\yolov10-main\\videoplayback.mp4: 256x416 2 fires, 1 smoke, 18.0ms\n",
      "video 1/1 (frame 741/918) c:\\Users\\user\\Downloads\\yolov10-main\\videoplayback.mp4: 256x416 2 fires, 1 smoke, 16.0ms\n",
      "video 1/1 (frame 742/918) c:\\Users\\user\\Downloads\\yolov10-main\\videoplayback.mp4: 256x416 1 fire, 1 smoke, 14.0ms\n",
      "video 1/1 (frame 743/918) c:\\Users\\user\\Downloads\\yolov10-main\\videoplayback.mp4: 256x416 1 fire, 1 smoke, 15.0ms\n",
      "video 1/1 (frame 744/918) c:\\Users\\user\\Downloads\\yolov10-main\\videoplayback.mp4: 256x416 1 fire, 1 smoke, 12.0ms\n",
      "video 1/1 (frame 745/918) c:\\Users\\user\\Downloads\\yolov10-main\\videoplayback.mp4: 256x416 1 fire, 1 smoke, 12.0ms\n",
      "video 1/1 (frame 746/918) c:\\Users\\user\\Downloads\\yolov10-main\\videoplayback.mp4: 256x416 1 fire, 1 smoke, 14.0ms\n",
      "video 1/1 (frame 747/918) c:\\Users\\user\\Downloads\\yolov10-main\\videoplayback.mp4: 256x416 1 fire, 1 smoke, 14.0ms\n",
      "video 1/1 (frame 748/918) c:\\Users\\user\\Downloads\\yolov10-main\\videoplayback.mp4: 256x416 1 fire, 1 smoke, 13.0ms\n",
      "video 1/1 (frame 749/918) c:\\Users\\user\\Downloads\\yolov10-main\\videoplayback.mp4: 256x416 1 fire, 1 smoke, 12.0ms\n",
      "video 1/1 (frame 750/918) c:\\Users\\user\\Downloads\\yolov10-main\\videoplayback.mp4: 256x416 1 fire, 1 smoke, 17.0ms\n",
      "video 1/1 (frame 751/918) c:\\Users\\user\\Downloads\\yolov10-main\\videoplayback.mp4: 256x416 2 fires, 1 smoke, 13.0ms\n",
      "video 1/1 (frame 752/918) c:\\Users\\user\\Downloads\\yolov10-main\\videoplayback.mp4: 256x416 2 fires, 1 smoke, 12.0ms\n",
      "video 1/1 (frame 753/918) c:\\Users\\user\\Downloads\\yolov10-main\\videoplayback.mp4: 256x416 2 fires, 1 smoke, 12.0ms\n",
      "video 1/1 (frame 754/918) c:\\Users\\user\\Downloads\\yolov10-main\\videoplayback.mp4: 256x416 2 fires, 1 smoke, 16.0ms\n",
      "video 1/1 (frame 755/918) c:\\Users\\user\\Downloads\\yolov10-main\\videoplayback.mp4: 256x416 2 fires, 1 smoke, 13.0ms\n",
      "video 1/1 (frame 756/918) c:\\Users\\user\\Downloads\\yolov10-main\\videoplayback.mp4: 256x416 1 fire, 1 smoke, 14.0ms\n",
      "video 1/1 (frame 757/918) c:\\Users\\user\\Downloads\\yolov10-main\\videoplayback.mp4: 256x416 1 fire, 1 smoke, 18.0ms\n",
      "video 1/1 (frame 758/918) c:\\Users\\user\\Downloads\\yolov10-main\\videoplayback.mp4: 256x416 1 fire, 1 smoke, 39.0ms\n",
      "video 1/1 (frame 759/918) c:\\Users\\user\\Downloads\\yolov10-main\\videoplayback.mp4: 256x416 1 fire, 1 smoke, 19.0ms\n",
      "video 1/1 (frame 760/918) c:\\Users\\user\\Downloads\\yolov10-main\\videoplayback.mp4: 256x416 1 fire, 1 smoke, 17.0ms\n",
      "video 1/1 (frame 761/918) c:\\Users\\user\\Downloads\\yolov10-main\\videoplayback.mp4: 256x416 1 fire, 1 smoke, 15.0ms\n",
      "video 1/1 (frame 762/918) c:\\Users\\user\\Downloads\\yolov10-main\\videoplayback.mp4: 256x416 1 fire, 1 smoke, 15.0ms\n",
      "video 1/1 (frame 763/918) c:\\Users\\user\\Downloads\\yolov10-main\\videoplayback.mp4: 256x416 1 fire, 1 smoke, 15.0ms\n",
      "video 1/1 (frame 764/918) c:\\Users\\user\\Downloads\\yolov10-main\\videoplayback.mp4: 256x416 1 fire, 1 smoke, 16.0ms\n",
      "video 1/1 (frame 765/918) c:\\Users\\user\\Downloads\\yolov10-main\\videoplayback.mp4: 256x416 1 fire, 1 smoke, 14.0ms\n",
      "video 1/1 (frame 766/918) c:\\Users\\user\\Downloads\\yolov10-main\\videoplayback.mp4: 256x416 1 fire, 1 smoke, 13.0ms\n",
      "video 1/1 (frame 767/918) c:\\Users\\user\\Downloads\\yolov10-main\\videoplayback.mp4: 256x416 1 fire, 1 smoke, 12.0ms\n",
      "video 1/1 (frame 768/918) c:\\Users\\user\\Downloads\\yolov10-main\\videoplayback.mp4: 256x416 1 fire, 1 smoke, 18.0ms\n",
      "video 1/1 (frame 769/918) c:\\Users\\user\\Downloads\\yolov10-main\\videoplayback.mp4: 256x416 1 fire, 1 smoke, 11.0ms\n",
      "video 1/1 (frame 770/918) c:\\Users\\user\\Downloads\\yolov10-main\\videoplayback.mp4: 256x416 1 fire, 1 smoke, 11.0ms\n",
      "video 1/1 (frame 771/918) c:\\Users\\user\\Downloads\\yolov10-main\\videoplayback.mp4: 256x416 1 fire, 1 smoke, 15.0ms\n",
      "video 1/1 (frame 772/918) c:\\Users\\user\\Downloads\\yolov10-main\\videoplayback.mp4: 256x416 1 fire, 1 smoke, 13.0ms\n",
      "video 1/1 (frame 773/918) c:\\Users\\user\\Downloads\\yolov10-main\\videoplayback.mp4: 256x416 1 fire, 1 smoke, 11.0ms\n",
      "video 1/1 (frame 774/918) c:\\Users\\user\\Downloads\\yolov10-main\\videoplayback.mp4: 256x416 1 fire, 1 smoke, 12.0ms\n",
      "video 1/1 (frame 775/918) c:\\Users\\user\\Downloads\\yolov10-main\\videoplayback.mp4: 256x416 1 fire, 1 smoke, 16.0ms\n",
      "video 1/1 (frame 776/918) c:\\Users\\user\\Downloads\\yolov10-main\\videoplayback.mp4: 256x416 1 fire, 1 smoke, 16.0ms\n",
      "video 1/1 (frame 777/918) c:\\Users\\user\\Downloads\\yolov10-main\\videoplayback.mp4: 256x416 1 fire, 1 smoke, 13.0ms\n",
      "video 1/1 (frame 778/918) c:\\Users\\user\\Downloads\\yolov10-main\\videoplayback.mp4: 256x416 1 fire, 1 smoke, 12.0ms\n",
      "video 1/1 (frame 779/918) c:\\Users\\user\\Downloads\\yolov10-main\\videoplayback.mp4: 256x416 1 fire, 1 smoke, 12.0ms\n",
      "video 1/1 (frame 780/918) c:\\Users\\user\\Downloads\\yolov10-main\\videoplayback.mp4: 256x416 1 fire, 15.0ms\n",
      "video 1/1 (frame 781/918) c:\\Users\\user\\Downloads\\yolov10-main\\videoplayback.mp4: 256x416 2 fires, 14.0ms\n",
      "video 1/1 (frame 782/918) c:\\Users\\user\\Downloads\\yolov10-main\\videoplayback.mp4: 256x416 1 fire, 12.0ms\n",
      "video 1/1 (frame 783/918) c:\\Users\\user\\Downloads\\yolov10-main\\videoplayback.mp4: 256x416 1 fire, 14.0ms\n",
      "video 1/1 (frame 784/918) c:\\Users\\user\\Downloads\\yolov10-main\\videoplayback.mp4: 256x416 (no detections), 18.0ms\n",
      "video 1/1 (frame 785/918) c:\\Users\\user\\Downloads\\yolov10-main\\videoplayback.mp4: 256x416 (no detections), 13.0ms\n",
      "video 1/1 (frame 786/918) c:\\Users\\user\\Downloads\\yolov10-main\\videoplayback.mp4: 256x416 1 fire, 16.0ms\n",
      "video 1/1 (frame 787/918) c:\\Users\\user\\Downloads\\yolov10-main\\videoplayback.mp4: 256x416 1 fire, 1 smoke, 13.0ms\n",
      "video 1/1 (frame 788/918) c:\\Users\\user\\Downloads\\yolov10-main\\videoplayback.mp4: 256x416 1 smoke, 14.0ms\n",
      "video 1/1 (frame 789/918) c:\\Users\\user\\Downloads\\yolov10-main\\videoplayback.mp4: 256x416 1 fire, 1 smoke, 14.0ms\n",
      "video 1/1 (frame 790/918) c:\\Users\\user\\Downloads\\yolov10-main\\videoplayback.mp4: 256x416 1 fire, 1 smoke, 15.0ms\n",
      "video 1/1 (frame 791/918) c:\\Users\\user\\Downloads\\yolov10-main\\videoplayback.mp4: 256x416 1 fire, 2 smokes, 13.0ms\n",
      "video 1/1 (frame 792/918) c:\\Users\\user\\Downloads\\yolov10-main\\videoplayback.mp4: 256x416 2 smokes, 14.0ms\n",
      "video 1/1 (frame 793/918) c:\\Users\\user\\Downloads\\yolov10-main\\videoplayback.mp4: 256x416 (no detections), 12.0ms\n",
      "video 1/1 (frame 794/918) c:\\Users\\user\\Downloads\\yolov10-main\\videoplayback.mp4: 256x416 1 smoke, 15.0ms\n",
      "video 1/1 (frame 795/918) c:\\Users\\user\\Downloads\\yolov10-main\\videoplayback.mp4: 256x416 (no detections), 16.0ms\n",
      "video 1/1 (frame 796/918) c:\\Users\\user\\Downloads\\yolov10-main\\videoplayback.mp4: 256x416 (no detections), 16.0ms\n",
      "video 1/1 (frame 797/918) c:\\Users\\user\\Downloads\\yolov10-main\\videoplayback.mp4: 256x416 1 smoke, 20.0ms\n",
      "video 1/1 (frame 798/918) c:\\Users\\user\\Downloads\\yolov10-main\\videoplayback.mp4: 256x416 1 smoke, 17.0ms\n",
      "video 1/1 (frame 799/918) c:\\Users\\user\\Downloads\\yolov10-main\\videoplayback.mp4: 256x416 2 smokes, 23.0ms\n",
      "video 1/1 (frame 800/918) c:\\Users\\user\\Downloads\\yolov10-main\\videoplayback.mp4: 256x416 1 smoke, 15.0ms\n",
      "video 1/1 (frame 801/918) c:\\Users\\user\\Downloads\\yolov10-main\\videoplayback.mp4: 256x416 1 smoke, 16.0ms\n",
      "video 1/1 (frame 802/918) c:\\Users\\user\\Downloads\\yolov10-main\\videoplayback.mp4: 256x416 (no detections), 14.0ms\n",
      "video 1/1 (frame 803/918) c:\\Users\\user\\Downloads\\yolov10-main\\videoplayback.mp4: 256x416 (no detections), 17.0ms\n",
      "video 1/1 (frame 804/918) c:\\Users\\user\\Downloads\\yolov10-main\\videoplayback.mp4: 256x416 (no detections), 13.0ms\n",
      "video 1/1 (frame 805/918) c:\\Users\\user\\Downloads\\yolov10-main\\videoplayback.mp4: 256x416 (no detections), 12.0ms\n",
      "video 1/1 (frame 806/918) c:\\Users\\user\\Downloads\\yolov10-main\\videoplayback.mp4: 256x416 (no detections), 17.0ms\n",
      "video 1/1 (frame 807/918) c:\\Users\\user\\Downloads\\yolov10-main\\videoplayback.mp4: 256x416 (no detections), 12.0ms\n",
      "video 1/1 (frame 808/918) c:\\Users\\user\\Downloads\\yolov10-main\\videoplayback.mp4: 256x416 (no detections), 30.0ms\n",
      "video 1/1 (frame 809/918) c:\\Users\\user\\Downloads\\yolov10-main\\videoplayback.mp4: 256x416 (no detections), 12.0ms\n",
      "video 1/1 (frame 810/918) c:\\Users\\user\\Downloads\\yolov10-main\\videoplayback.mp4: 256x416 (no detections), 13.0ms\n",
      "video 1/1 (frame 811/918) c:\\Users\\user\\Downloads\\yolov10-main\\videoplayback.mp4: 256x416 (no detections), 13.0ms\n",
      "video 1/1 (frame 812/918) c:\\Users\\user\\Downloads\\yolov10-main\\videoplayback.mp4: 256x416 (no detections), 14.0ms\n",
      "video 1/1 (frame 813/918) c:\\Users\\user\\Downloads\\yolov10-main\\videoplayback.mp4: 256x416 (no detections), 16.0ms\n",
      "video 1/1 (frame 814/918) c:\\Users\\user\\Downloads\\yolov10-main\\videoplayback.mp4: 256x416 (no detections), 14.7ms\n",
      "video 1/1 (frame 815/918) c:\\Users\\user\\Downloads\\yolov10-main\\videoplayback.mp4: 256x416 (no detections), 15.1ms\n",
      "video 1/1 (frame 816/918) c:\\Users\\user\\Downloads\\yolov10-main\\videoplayback.mp4: 256x416 (no detections), 13.6ms\n",
      "video 1/1 (frame 817/918) c:\\Users\\user\\Downloads\\yolov10-main\\videoplayback.mp4: 256x416 (no detections), 14.0ms\n",
      "video 1/1 (frame 818/918) c:\\Users\\user\\Downloads\\yolov10-main\\videoplayback.mp4: 256x416 (no detections), 14.0ms\n",
      "video 1/1 (frame 819/918) c:\\Users\\user\\Downloads\\yolov10-main\\videoplayback.mp4: 256x416 (no detections), 12.0ms\n",
      "video 1/1 (frame 820/918) c:\\Users\\user\\Downloads\\yolov10-main\\videoplayback.mp4: 256x416 (no detections), 13.0ms\n",
      "video 1/1 (frame 821/918) c:\\Users\\user\\Downloads\\yolov10-main\\videoplayback.mp4: 256x416 (no detections), 14.0ms\n",
      "video 1/1 (frame 822/918) c:\\Users\\user\\Downloads\\yolov10-main\\videoplayback.mp4: 256x416 (no detections), 15.0ms\n",
      "video 1/1 (frame 823/918) c:\\Users\\user\\Downloads\\yolov10-main\\videoplayback.mp4: 256x416 (no detections), 15.0ms\n",
      "video 1/1 (frame 824/918) c:\\Users\\user\\Downloads\\yolov10-main\\videoplayback.mp4: 256x416 (no detections), 13.0ms\n",
      "video 1/1 (frame 825/918) c:\\Users\\user\\Downloads\\yolov10-main\\videoplayback.mp4: 256x416 (no detections), 12.0ms\n",
      "video 1/1 (frame 826/918) c:\\Users\\user\\Downloads\\yolov10-main\\videoplayback.mp4: 256x416 (no detections), 16.0ms\n",
      "video 1/1 (frame 827/918) c:\\Users\\user\\Downloads\\yolov10-main\\videoplayback.mp4: 256x416 (no detections), 18.0ms\n",
      "video 1/1 (frame 828/918) c:\\Users\\user\\Downloads\\yolov10-main\\videoplayback.mp4: 256x416 (no detections), 16.0ms\n",
      "video 1/1 (frame 829/918) c:\\Users\\user\\Downloads\\yolov10-main\\videoplayback.mp4: 256x416 (no detections), 16.0ms\n",
      "video 1/1 (frame 830/918) c:\\Users\\user\\Downloads\\yolov10-main\\videoplayback.mp4: 256x416 (no detections), 15.0ms\n",
      "video 1/1 (frame 831/918) c:\\Users\\user\\Downloads\\yolov10-main\\videoplayback.mp4: 256x416 (no detections), 22.0ms\n",
      "video 1/1 (frame 832/918) c:\\Users\\user\\Downloads\\yolov10-main\\videoplayback.mp4: 256x416 (no detections), 13.0ms\n",
      "video 1/1 (frame 833/918) c:\\Users\\user\\Downloads\\yolov10-main\\videoplayback.mp4: 256x416 (no detections), 16.0ms\n",
      "video 1/1 (frame 834/918) c:\\Users\\user\\Downloads\\yolov10-main\\videoplayback.mp4: 256x416 (no detections), 16.0ms\n",
      "video 1/1 (frame 835/918) c:\\Users\\user\\Downloads\\yolov10-main\\videoplayback.mp4: 256x416 (no detections), 19.0ms\n",
      "video 1/1 (frame 836/918) c:\\Users\\user\\Downloads\\yolov10-main\\videoplayback.mp4: 256x416 (no detections), 13.0ms\n",
      "video 1/1 (frame 837/918) c:\\Users\\user\\Downloads\\yolov10-main\\videoplayback.mp4: 256x416 (no detections), 15.0ms\n",
      "video 1/1 (frame 838/918) c:\\Users\\user\\Downloads\\yolov10-main\\videoplayback.mp4: 256x416 (no detections), 14.0ms\n",
      "video 1/1 (frame 839/918) c:\\Users\\user\\Downloads\\yolov10-main\\videoplayback.mp4: 256x416 (no detections), 15.0ms\n",
      "video 1/1 (frame 840/918) c:\\Users\\user\\Downloads\\yolov10-main\\videoplayback.mp4: 256x416 (no detections), 17.0ms\n",
      "video 1/1 (frame 841/918) c:\\Users\\user\\Downloads\\yolov10-main\\videoplayback.mp4: 256x416 (no detections), 17.0ms\n",
      "video 1/1 (frame 842/918) c:\\Users\\user\\Downloads\\yolov10-main\\videoplayback.mp4: 256x416 (no detections), 14.0ms\n",
      "video 1/1 (frame 843/918) c:\\Users\\user\\Downloads\\yolov10-main\\videoplayback.mp4: 256x416 (no detections), 15.0ms\n",
      "video 1/1 (frame 844/918) c:\\Users\\user\\Downloads\\yolov10-main\\videoplayback.mp4: 256x416 (no detections), 16.0ms\n",
      "video 1/1 (frame 845/918) c:\\Users\\user\\Downloads\\yolov10-main\\videoplayback.mp4: 256x416 (no detections), 12.0ms\n",
      "video 1/1 (frame 846/918) c:\\Users\\user\\Downloads\\yolov10-main\\videoplayback.mp4: 256x416 (no detections), 16.0ms\n",
      "video 1/1 (frame 847/918) c:\\Users\\user\\Downloads\\yolov10-main\\videoplayback.mp4: 256x416 (no detections), 15.0ms\n",
      "video 1/1 (frame 848/918) c:\\Users\\user\\Downloads\\yolov10-main\\videoplayback.mp4: 256x416 (no detections), 15.0ms\n",
      "video 1/1 (frame 849/918) c:\\Users\\user\\Downloads\\yolov10-main\\videoplayback.mp4: 256x416 (no detections), 17.0ms\n",
      "video 1/1 (frame 850/918) c:\\Users\\user\\Downloads\\yolov10-main\\videoplayback.mp4: 256x416 (no detections), 15.0ms\n",
      "video 1/1 (frame 851/918) c:\\Users\\user\\Downloads\\yolov10-main\\videoplayback.mp4: 256x416 (no detections), 15.0ms\n",
      "video 1/1 (frame 852/918) c:\\Users\\user\\Downloads\\yolov10-main\\videoplayback.mp4: 256x416 (no detections), 17.0ms\n",
      "video 1/1 (frame 853/918) c:\\Users\\user\\Downloads\\yolov10-main\\videoplayback.mp4: 256x416 (no detections), 19.0ms\n",
      "video 1/1 (frame 854/918) c:\\Users\\user\\Downloads\\yolov10-main\\videoplayback.mp4: 256x416 (no detections), 13.0ms\n",
      "video 1/1 (frame 855/918) c:\\Users\\user\\Downloads\\yolov10-main\\videoplayback.mp4: 256x416 (no detections), 16.0ms\n",
      "video 1/1 (frame 856/918) c:\\Users\\user\\Downloads\\yolov10-main\\videoplayback.mp4: 256x416 (no detections), 12.0ms\n",
      "video 1/1 (frame 857/918) c:\\Users\\user\\Downloads\\yolov10-main\\videoplayback.mp4: 256x416 (no detections), 16.0ms\n",
      "video 1/1 (frame 858/918) c:\\Users\\user\\Downloads\\yolov10-main\\videoplayback.mp4: 256x416 (no detections), 14.0ms\n",
      "video 1/1 (frame 859/918) c:\\Users\\user\\Downloads\\yolov10-main\\videoplayback.mp4: 256x416 (no detections), 11.0ms\n",
      "video 1/1 (frame 860/918) c:\\Users\\user\\Downloads\\yolov10-main\\videoplayback.mp4: 256x416 (no detections), 14.0ms\n",
      "video 1/1 (frame 861/918) c:\\Users\\user\\Downloads\\yolov10-main\\videoplayback.mp4: 256x416 (no detections), 15.0ms\n",
      "video 1/1 (frame 862/918) c:\\Users\\user\\Downloads\\yolov10-main\\videoplayback.mp4: 256x416 (no detections), 14.0ms\n",
      "video 1/1 (frame 863/918) c:\\Users\\user\\Downloads\\yolov10-main\\videoplayback.mp4: 256x416 (no detections), 12.0ms\n",
      "video 1/1 (frame 864/918) c:\\Users\\user\\Downloads\\yolov10-main\\videoplayback.mp4: 256x416 (no detections), 16.0ms\n",
      "video 1/1 (frame 865/918) c:\\Users\\user\\Downloads\\yolov10-main\\videoplayback.mp4: 256x416 (no detections), 15.0ms\n",
      "video 1/1 (frame 866/918) c:\\Users\\user\\Downloads\\yolov10-main\\videoplayback.mp4: 256x416 (no detections), 17.0ms\n",
      "video 1/1 (frame 867/918) c:\\Users\\user\\Downloads\\yolov10-main\\videoplayback.mp4: 256x416 (no detections), 15.0ms\n",
      "video 1/1 (frame 868/918) c:\\Users\\user\\Downloads\\yolov10-main\\videoplayback.mp4: 256x416 (no detections), 12.0ms\n",
      "video 1/1 (frame 869/918) c:\\Users\\user\\Downloads\\yolov10-main\\videoplayback.mp4: 256x416 (no detections), 14.0ms\n",
      "video 1/1 (frame 870/918) c:\\Users\\user\\Downloads\\yolov10-main\\videoplayback.mp4: 256x416 (no detections), 12.0ms\n",
      "video 1/1 (frame 871/918) c:\\Users\\user\\Downloads\\yolov10-main\\videoplayback.mp4: 256x416 (no detections), 14.0ms\n",
      "video 1/1 (frame 872/918) c:\\Users\\user\\Downloads\\yolov10-main\\videoplayback.mp4: 256x416 (no detections), 17.0ms\n",
      "video 1/1 (frame 873/918) c:\\Users\\user\\Downloads\\yolov10-main\\videoplayback.mp4: 256x416 (no detections), 15.0ms\n",
      "video 1/1 (frame 874/918) c:\\Users\\user\\Downloads\\yolov10-main\\videoplayback.mp4: 256x416 (no detections), 13.0ms\n",
      "video 1/1 (frame 875/918) c:\\Users\\user\\Downloads\\yolov10-main\\videoplayback.mp4: 256x416 (no detections), 14.0ms\n",
      "video 1/1 (frame 876/918) c:\\Users\\user\\Downloads\\yolov10-main\\videoplayback.mp4: 256x416 (no detections), 13.0ms\n",
      "video 1/1 (frame 877/918) c:\\Users\\user\\Downloads\\yolov10-main\\videoplayback.mp4: 256x416 (no detections), 12.0ms\n",
      "video 1/1 (frame 878/918) c:\\Users\\user\\Downloads\\yolov10-main\\videoplayback.mp4: 256x416 (no detections), 11.0ms\n",
      "video 1/1 (frame 879/918) c:\\Users\\user\\Downloads\\yolov10-main\\videoplayback.mp4: 256x416 (no detections), 13.0ms\n",
      "video 1/1 (frame 880/918) c:\\Users\\user\\Downloads\\yolov10-main\\videoplayback.mp4: 256x416 (no detections), 13.0ms\n",
      "video 1/1 (frame 881/918) c:\\Users\\user\\Downloads\\yolov10-main\\videoplayback.mp4: 256x416 (no detections), 12.0ms\n",
      "video 1/1 (frame 882/918) c:\\Users\\user\\Downloads\\yolov10-main\\videoplayback.mp4: 256x416 (no detections), 12.0ms\n",
      "video 1/1 (frame 883/918) c:\\Users\\user\\Downloads\\yolov10-main\\videoplayback.mp4: 256x416 (no detections), 12.0ms\n",
      "video 1/1 (frame 884/918) c:\\Users\\user\\Downloads\\yolov10-main\\videoplayback.mp4: 256x416 (no detections), 13.0ms\n",
      "video 1/1 (frame 885/918) c:\\Users\\user\\Downloads\\yolov10-main\\videoplayback.mp4: 256x416 (no detections), 13.0ms\n",
      "video 1/1 (frame 886/918) c:\\Users\\user\\Downloads\\yolov10-main\\videoplayback.mp4: 256x416 (no detections), 16.0ms\n",
      "video 1/1 (frame 887/918) c:\\Users\\user\\Downloads\\yolov10-main\\videoplayback.mp4: 256x416 (no detections), 12.0ms\n",
      "video 1/1 (frame 888/918) c:\\Users\\user\\Downloads\\yolov10-main\\videoplayback.mp4: 256x416 (no detections), 12.0ms\n",
      "video 1/1 (frame 889/918) c:\\Users\\user\\Downloads\\yolov10-main\\videoplayback.mp4: 256x416 (no detections), 12.0ms\n",
      "video 1/1 (frame 890/918) c:\\Users\\user\\Downloads\\yolov10-main\\videoplayback.mp4: 256x416 (no detections), 12.0ms\n",
      "video 1/1 (frame 891/918) c:\\Users\\user\\Downloads\\yolov10-main\\videoplayback.mp4: 256x416 (no detections), 12.0ms\n",
      "video 1/1 (frame 892/918) c:\\Users\\user\\Downloads\\yolov10-main\\videoplayback.mp4: 256x416 (no detections), 15.0ms\n",
      "video 1/1 (frame 893/918) c:\\Users\\user\\Downloads\\yolov10-main\\videoplayback.mp4: 256x416 (no detections), 14.0ms\n",
      "video 1/1 (frame 894/918) c:\\Users\\user\\Downloads\\yolov10-main\\videoplayback.mp4: 256x416 (no detections), 14.0ms\n",
      "video 1/1 (frame 895/918) c:\\Users\\user\\Downloads\\yolov10-main\\videoplayback.mp4: 256x416 (no detections), 12.0ms\n",
      "video 1/1 (frame 896/918) c:\\Users\\user\\Downloads\\yolov10-main\\videoplayback.mp4: 256x416 (no detections), 16.0ms\n",
      "video 1/1 (frame 897/918) c:\\Users\\user\\Downloads\\yolov10-main\\videoplayback.mp4: 256x416 (no detections), 14.0ms\n",
      "video 1/1 (frame 898/918) c:\\Users\\user\\Downloads\\yolov10-main\\videoplayback.mp4: 256x416 (no detections), 12.0ms\n",
      "video 1/1 (frame 899/918) c:\\Users\\user\\Downloads\\yolov10-main\\videoplayback.mp4: 256x416 (no detections), 13.0ms\n",
      "video 1/1 (frame 900/918) c:\\Users\\user\\Downloads\\yolov10-main\\videoplayback.mp4: 256x416 (no detections), 24.0ms\n",
      "video 1/1 (frame 901/918) c:\\Users\\user\\Downloads\\yolov10-main\\videoplayback.mp4: 256x416 (no detections), 12.0ms\n",
      "video 1/1 (frame 902/918) c:\\Users\\user\\Downloads\\yolov10-main\\videoplayback.mp4: 256x416 (no detections), 16.0ms\n",
      "video 1/1 (frame 903/918) c:\\Users\\user\\Downloads\\yolov10-main\\videoplayback.mp4: 256x416 (no detections), 12.0ms\n",
      "video 1/1 (frame 904/918) c:\\Users\\user\\Downloads\\yolov10-main\\videoplayback.mp4: 256x416 (no detections), 17.0ms\n",
      "video 1/1 (frame 905/918) c:\\Users\\user\\Downloads\\yolov10-main\\videoplayback.mp4: 256x416 (no detections), 18.0ms\n",
      "video 1/1 (frame 906/918) c:\\Users\\user\\Downloads\\yolov10-main\\videoplayback.mp4: 256x416 (no detections), 18.0ms\n",
      "video 1/1 (frame 907/918) c:\\Users\\user\\Downloads\\yolov10-main\\videoplayback.mp4: 256x416 (no detections), 12.0ms\n",
      "video 1/1 (frame 908/918) c:\\Users\\user\\Downloads\\yolov10-main\\videoplayback.mp4: 256x416 (no detections), 13.0ms\n",
      "video 1/1 (frame 909/918) c:\\Users\\user\\Downloads\\yolov10-main\\videoplayback.mp4: 256x416 (no detections), 14.0ms\n",
      "video 1/1 (frame 910/918) c:\\Users\\user\\Downloads\\yolov10-main\\videoplayback.mp4: 256x416 (no detections), 12.0ms\n",
      "video 1/1 (frame 911/918) c:\\Users\\user\\Downloads\\yolov10-main\\videoplayback.mp4: 256x416 (no detections), 14.0ms\n",
      "video 1/1 (frame 912/918) c:\\Users\\user\\Downloads\\yolov10-main\\videoplayback.mp4: 256x416 (no detections), 14.0ms\n",
      "video 1/1 (frame 913/918) c:\\Users\\user\\Downloads\\yolov10-main\\videoplayback.mp4: 256x416 (no detections), 15.0ms\n",
      "video 1/1 (frame 914/918) c:\\Users\\user\\Downloads\\yolov10-main\\videoplayback.mp4: 256x416 (no detections), 14.0ms\n",
      "video 1/1 (frame 915/918) c:\\Users\\user\\Downloads\\yolov10-main\\videoplayback.mp4: 256x416 (no detections), 12.0ms\n",
      "video 1/1 (frame 916/918) c:\\Users\\user\\Downloads\\yolov10-main\\videoplayback.mp4: 256x416 (no detections), 12.0ms\n",
      "video 1/1 (frame 917/918) c:\\Users\\user\\Downloads\\yolov10-main\\videoplayback.mp4: 256x416 (no detections), 14.0ms\n",
      "video 1/1 (frame 918/918) c:\\Users\\user\\Downloads\\yolov10-main\\videoplayback.mp4: 256x416 (no detections), 12.0ms\n",
      "Speed: 1.1ms preprocess, 14.8ms inference, 1.2ms postprocess per image at shape (1, 3, 256, 416)\n",
      "Results saved to \u001b[1mruns\\detect\\predict\u001b[0m\n"
     ]
    }
   ],
   "source": [
    "results = model(source=\"videoplayback.mp4\", conf=0.25, save=True, imgsz=416)"
   ]
  }
 ],
 "metadata": {
  "kernelspec": {
   "display_name": "base",
   "language": "python",
   "name": "python3"
  },
  "language_info": {
   "codemirror_mode": {
    "name": "ipython",
    "version": 3
   },
   "file_extension": ".py",
   "mimetype": "text/x-python",
   "name": "python",
   "nbconvert_exporter": "python",
   "pygments_lexer": "ipython3",
   "version": "3.9.19"
  }
 },
 "nbformat": 4,
 "nbformat_minor": 2
}
